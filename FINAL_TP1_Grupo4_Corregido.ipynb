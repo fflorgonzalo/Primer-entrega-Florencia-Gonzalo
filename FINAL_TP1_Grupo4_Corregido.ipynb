{
 "cells": [
  {
   "cell_type": "markdown",
   "id": "a8400ba3",
   "metadata": {},
   "source": [
    "<p style=\"color:#FF0000\";> Seria buena una introducción a la notebook, comentando qué grupo son, quienes lo integran, el objetivo del desafio, la presentación del dataset y un índice"
   ]
  },
  {
   "cell_type": "code",
   "execution_count": 4,
   "id": "a13486d5",
   "metadata": {},
   "outputs": [],
   "source": [
    "import pandas as pd\n",
    "import numpy as np\n",
    "import matplotlib.pyplot as plt\n",
    "import seaborn as sns\n",
    "import math\n",
    "from unidecode import unidecode\n",
    "import re"
   ]
  },
  {
   "cell_type": "code",
   "execution_count": 7,
   "id": "f73cbd42",
   "metadata": {},
   "outputs": [
    {
     "data": {
      "text/plain": [
       "(121220, 26)"
      ]
     },
     "execution_count": 7,
     "metadata": {},
     "output_type": "execute_result"
    }
   ],
   "source": [
    "df_raw = pd.read_csv(\"properatti.csv\")\n",
    "df_raw.shape"
   ]
  },
  {
   "cell_type": "markdown",
   "id": "0507ea33",
   "metadata": {},
   "source": [
    "# Exploracion inicial"
   ]
  },
  {
   "cell_type": "code",
   "execution_count": 8,
   "id": "28963c21",
   "metadata": {},
   "outputs": [],
   "source": [
    "# Eliminamos las columnas que no nos interesan para el analisis\n",
    "df = df_raw.drop([\"Unnamed: 0\", \"geonames_id\", \"floor\",\n",
    "                  \"country_name\",\"properati_url\",\"image_thumbnail\",\"place_with_parent_names\"], axis= 1).copy()"
   ]
  },
  {
   "cell_type": "code",
   "execution_count": 9,
   "id": "2ad3f9c0",
   "metadata": {},
   "outputs": [
    {
     "name": "stdout",
     "output_type": "stream",
     "text": [
      "19\n"
     ]
    },
    {
     "data": {
      "text/plain": [
       "Index(['operation', 'property_type', 'place_name', 'state_name', 'lat-lon',\n",
       "       'lat', 'lon', 'price', 'currency', 'price_aprox_local_currency',\n",
       "       'price_aprox_usd', 'surface_total_in_m2', 'surface_covered_in_m2',\n",
       "       'price_usd_per_m2', 'price_per_m2', 'rooms', 'expenses', 'description',\n",
       "       'title'],\n",
       "      dtype='object')"
      ]
     },
     "execution_count": 9,
     "metadata": {},
     "output_type": "execute_result"
    }
   ],
   "source": [
    "print(len(df.columns))\n",
    "regiones = (len(df[\"state_name\"].unique()))\n",
    "df.columns"
   ]
  },
  {
   "cell_type": "code",
   "execution_count": 10,
   "id": "810db556",
   "metadata": {},
   "outputs": [],
   "source": [
    "# Convertimos la columna Descripcion con unicode para evitar mayusculas y acentos.\n",
    "desc_unicode = df['description'].apply(lambda x: x if x is np.NaN else unidecode(x)).str.lower()"
   ]
  },
  {
   "cell_type": "code",
   "execution_count": 11,
   "id": "5dc03a96",
   "metadata": {},
   "outputs": [],
   "source": [
    "# Convertimos la columna titulo con unicode para evitar mayusculas y acentos.\n",
    "title_unicode = df['title'].apply(lambda x: x if x is np.NaN else unidecode(x)).str.lower()"
   ]
  },
  {
   "cell_type": "markdown",
   "id": "b3cff671",
   "metadata": {},
   "source": [
    "<p style=\"color:#FF0000\";> Muy bien hacer esto desde el inicio para evitarse problemas en el cualquier momento del procesamiento"
   ]
  },
  {
   "cell_type": "code",
   "execution_count": 12,
   "id": "70d7abb8",
   "metadata": {},
   "outputs": [],
   "source": [
    "df[\"description\"] = desc_unicode\n",
    "df['title'] = title_unicode"
   ]
  },
  {
   "cell_type": "code",
   "execution_count": 199,
   "id": "b063a2d0",
   "metadata": {},
   "outputs": [
    {
     "name": "stdout",
     "output_type": "stream",
     "text": [
      "Hay una cantidad de : 5284 duplicados\n",
      "El tamaño del dataset original es: 2303180\n"
     ]
    },
    {
     "data": {
      "text/plain": [
       "2303180"
      ]
     },
     "execution_count": 199,
     "metadata": {},
     "output_type": "execute_result"
    }
   ],
   "source": [
    "# Buscamos filas completamente duplicadas para eliminar sobrecarga de datos\n",
    "cantidad_duplicados = df.duplicated().sum()\n",
    "dataset_size = df.size\n",
    "\n",
    "print(f\"Hay una cantidad de : {cantidad_duplicados} duplicados\")\n",
    "print(f\"El tamaño del dataset original es: {dataset_size}\")\n",
    "dataset_size"
   ]
  },
  {
   "cell_type": "code",
   "execution_count": 14,
   "id": "b22972d0",
   "metadata": {},
   "outputs": [
    {
     "name": "stdout",
     "output_type": "stream",
     "text": [
      "la cantidad de registros unicos : 2202784 registros\n"
     ]
    }
   ],
   "source": [
    "# Por lo tanto, la cantidad de registros no duplicados es dataset_size - cantidad_duplicados*(cantidad de columnas)\n",
    "q_dataset_sin_duplicados = dataset_size - cantidad_duplicados*len(df.columns)\n",
    "print(f\"la cantidad de registros unicos : {q_dataset_sin_duplicados} registros\")"
   ]
  },
  {
   "cell_type": "markdown",
   "id": "0aa970bf",
   "metadata": {},
   "source": [
    "<p style=\"color:#FF0000\";>  Los requistos se miden por las filas, no por las celdas. Los 5284 duplicados corresponden a filas, por lo que habría 115000 aprox filas únicas. Por otro lado, dado que las columnas de descripción y título son de texto libre, sería oportuno  no incluirlas al momento de detectar duplicados ya que es muy probable que si se carga una propiedad 2 veces, estos campos sean distintos"
   ]
  },
  {
   "cell_type": "code",
   "execution_count": 15,
   "id": "6b682c20",
   "metadata": {},
   "outputs": [],
   "source": [
    "# df_disint es el DataFrame sin las columnas eliminadas al inicio, sin los duplicados y con descripcion transformado con unicode y lowercase\n",
    "df_distint = df.drop_duplicates().copy()\n",
    "df_distint[\"description\"] = desc_unicode"
   ]
  },
  {
   "cell_type": "code",
   "execution_count": 16,
   "id": "38bfa697",
   "metadata": {},
   "outputs": [
    {
     "data": {
      "text/plain": [
       "0"
      ]
     },
     "execution_count": 16,
     "metadata": {},
     "output_type": "execute_result"
    }
   ],
   "source": [
    "df_distint.duplicated().sum()"
   ]
  },
  {
   "cell_type": "code",
   "execution_count": 17,
   "id": "795a7e35",
   "metadata": {},
   "outputs": [
    {
     "data": {
      "text/plain": [
       "True"
      ]
     },
     "execution_count": 17,
     "metadata": {},
     "output_type": "execute_result"
    }
   ],
   "source": [
    "# Check de quita de duplicados\n",
    "df_distint.size == q_dataset_sin_duplicados"
   ]
  },
  {
   "cell_type": "code",
   "execution_count": 18,
   "id": "9d46c805",
   "metadata": {},
   "outputs": [],
   "source": [
    "cant_prop = df_distint[\"property_type\"].value_counts()"
   ]
  },
  {
   "cell_type": "code",
   "execution_count": 19,
   "id": "4b9ede64",
   "metadata": {},
   "outputs": [
    {
     "name": "stdout",
     "output_type": "stream",
     "text": [
      "Total de registros: 115936 propiedades\n",
      "---------------------------------------\n",
      "Desglose del Dataset:\n",
      "apartment    66490\n",
      "house        39756\n",
      "PH            5618\n",
      "store         4072\n",
      "Name: property_type, dtype: int64\n"
     ]
    }
   ],
   "source": [
    "# Desglose del Dataset | Valores y graficos con subplot\n",
    "print(f\"Total de registros: {cant_prop.sum()} propiedades\")\n",
    "print(\"---------------------------------------\")\n",
    "print(\"Desglose del Dataset:\")\n",
    "print(cant_prop)"
   ]
  },
  {
   "cell_type": "code",
   "execution_count": 20,
   "id": "b7ca62df",
   "metadata": {},
   "outputs": [
    {
     "data": {
      "text/plain": [
       "Text(0.5, 1.0, 'Grupo 4 | Properatti')"
      ]
     },
     "execution_count": 20,
     "metadata": {},
     "output_type": "execute_result"
    },
    {
     "data": {
      "image/png": "[encoded data removed]",
      "text/plain": [
       "<Figure size 1080x432 with 2 Axes>"
      ]
     },
     "metadata": {
      "needs_background": "light"
     },
     "output_type": "display_data"
    }
   ],
   "source": [
    "fig, ax = plt.subplots(1,2)\n",
    "fig.set_size_inches(15,6)\n",
    "\n",
    "plt.subplot(2,2,2)\n",
    "df_distint.groupby(\"state_name\")[\"state_name\"].count().sort_values(ascending = False).plot(kind=\"bar\")\n",
    "plt.xlabel(f\"Regiones: {regiones}\")\n",
    "plt.ylabel(\"Cantidad\")\n",
    "plt.title(\"Grupo 4 | Properatti\")\n",
    "\n",
    "plt.subplot(2,2,1)\n",
    "df_distint.groupby(\"property_type\")[\"property_type\"].count().sort_values(ascending = False).plot(kind=\"bar\")\n",
    "plt.xlabel(f\"Tipos de Propiedades : Total: {cant_prop.sum()}\")\n",
    "plt.ylabel(\"Cantidad\")\n",
    "plt.title(\"Grupo 4 | Properatti\")\n"
   ]
  },
  {
   "cell_type": "markdown",
   "id": "93577ccb",
   "metadata": {},
   "source": [
    "<p style=\"color:#FF0000\";> Tal vez sea mejor idea presentar los gráficos uno abajo del otro, asi se puede leer el segundo con mayor facilidad"
   ]
  },
  {
   "cell_type": "code",
   "execution_count": 21,
   "id": "a54667b3",
   "metadata": {},
   "outputs": [],
   "source": [
    "# Este cuando lo ordenas para que quede bien , te mueve los numeros, tendriamos q preguntar como hacerlo de otra manera.\n",
    "# eliminamos esto en el compilado\n",
    "\n",
    "# fig, ax = plt.subplots(1,2)\n",
    "# fig.set_size_inches(15,6)\n",
    "\n",
    "# plt.subplot(2,2,1)\n",
    "# x11 = df_distint[\"property_type\"].unique()\n",
    "# y11 = df_distint.groupby(\"property_type\")[\"property_type\"].count()\n",
    "# plt.xticks(rotation=90)\n",
    "# plt.bar(x11,y11,  0.8)\n",
    "# plt.ylim([0,max(y11)+25000])\n",
    "# # plt.xlabel(\"Tipos de propiedades\")\n",
    "# plt.ylabel(\"Cantidad\")\n",
    "# plt.title(f\"TP | Grupo 4 - Cantidad de propiedades: {cant_prop.sum()}\")\n",
    "\n",
    "\n",
    "# for i in range(len(x11)):    \n",
    "#     plt.text(i,y11[i],f\"  {y11[i]}\", ha=\"center\",va=\"bottom\", rotation = 90)\n",
    "\n",
    "\n",
    "# plt.subplot(2,2,2)\n",
    "# x1 = df_distint[\"state_name\"].unique()\n",
    "# y1 = df_distint.groupby(\"state_name\")[\"state_name\"].count()\n",
    "# plt.xticks(rotation=90)\n",
    "# plt.bar(x1,y1,0.8)\n",
    "# plt.ylim([0,max(y1)+15000])\n",
    "# # plt.xlabel(\"Regiones\")\n",
    "# plt.ylabel(\"Cantidad de Propiedades\")\n",
    "# plt.title(\"TP | Grupo 4 - Propiedades por Region\")\n",
    "\n",
    "# for i in range(len(x1)):    \n",
    "#     plt.text(i,y1[i],f\"  {y1[i]}\", ha=\"center\",va=\"bottom\" , rotation = 90)\n"
   ]
  },
  {
   "cell_type": "code",
   "execution_count": 22,
   "id": "e617e68b",
   "metadata": {},
   "outputs": [
    {
     "data": {
      "text/plain": [
       "0"
      ]
     },
     "execution_count": 22,
     "metadata": {},
     "output_type": "execute_result"
    }
   ],
   "source": [
    "df_distint.duplicated().sum()"
   ]
  },
  {
   "cell_type": "code",
   "execution_count": 23,
   "id": "45bf1d1d",
   "metadata": {},
   "outputs": [],
   "source": [
    "data = df_distint.copy()"
   ]
  },
  {
   "cell_type": "code",
   "execution_count": 24,
   "id": "ff91ca3c",
   "metadata": {},
   "outputs": [
    {
     "data": {
      "text/plain": [
       "0"
      ]
     },
     "execution_count": 24,
     "metadata": {},
     "output_type": "execute_result"
    }
   ],
   "source": [
    "# Chequeo de duplicados en el nuevo DataFrame\n",
    "data.duplicated().sum()"
   ]
  },
  {
   "cell_type": "code",
   "execution_count": 25,
   "id": "1b25ac9a",
   "metadata": {},
   "outputs": [
    {
     "data": {
      "text/plain": [
       "operation                     100.000000\n",
       "property_type                 100.000000\n",
       "place_name                     99.980161\n",
       "state_name                    100.000000\n",
       "lat-lon                        58.441726\n",
       "lat                            58.441726\n",
       "lon                            58.441726\n",
       "price                          84.973606\n",
       "currency                       84.972744\n",
       "price_aprox_local_currency     84.973606\n",
       "price_aprox_usd                84.973606\n",
       "surface_total_in_m2            66.909329\n",
       "surface_covered_in_m2          83.792782\n",
       "price_usd_per_m2               57.612821\n",
       "price_per_m2                   73.870929\n",
       "rooms                          39.742617\n",
       "expenses                       12.138594\n",
       "description                    99.998275\n",
       "title                         100.000000\n",
       "dtype: float64"
      ]
     },
     "execution_count": 25,
     "metadata": {},
     "output_type": "execute_result"
    }
   ],
   "source": [
    "# Porcentaje total de datos completos por campo.\n",
    "(data.notnull().mean())*100"
   ]
  },
  {
   "cell_type": "code",
   "execution_count": 26,
   "id": "8949b671",
   "metadata": {},
   "outputs": [
    {
     "data": {
      "text/plain": [
       "(115936, 19)"
      ]
     },
     "execution_count": 26,
     "metadata": {},
     "output_type": "execute_result"
    }
   ],
   "source": [
    "#Datos iniciales\n",
    "data.shape"
   ]
  },
  {
   "cell_type": "code",
   "execution_count": 27,
   "id": "20401c95",
   "metadata": {},
   "outputs": [],
   "source": [
    "Proporcion = data[\"state_name\"].value_counts()"
   ]
  },
  {
   "cell_type": "code",
   "execution_count": 28,
   "id": "78521649",
   "metadata": {},
   "outputs": [
    {
     "name": "stdout",
     "output_type": "stream",
     "text": [
      "Capital Federal                 30731\n",
      "Bs.As. G.B.A. Zona Norte        24745\n",
      "Bs.As. G.B.A. Zona Sur          13550\n",
      "Córdoba                         11515\n",
      "Buenos Aires Costa Atlántica     9914\n",
      "Bs.As. G.B.A. Zona Oeste         9033\n",
      "Name: state_name, dtype: int64\n"
     ]
    }
   ],
   "source": [
    "Proporcion[0:6].sum()\n",
    "print(Proporcion[0:6])\n",
    "# print(\"-----------------------------------------------------------------------------------\")\n",
    "# print(f\"Estas regiones representan el {round(Proporcion[0:6].sum(),2)*100} % de los datos\")"
   ]
  },
  {
   "cell_type": "code",
   "execution_count": 29,
   "id": "fc8fc0e6",
   "metadata": {},
   "outputs": [
    {
     "data": {
      "text/html": [
       "<div>\n",
       "<style scoped>\n",
       "    .dataframe tbody tr th:only-of-type {\n",
       "        vertical-align: middle;\n",
       "    }\n",
       "\n",
       "    .dataframe tbody tr th {\n",
       "        vertical-align: top;\n",
       "    }\n",
       "\n",
       "    .dataframe thead tr th {\n",
       "        text-align: left;\n",
       "    }\n",
       "\n",
       "    .dataframe thead tr:last-of-type th {\n",
       "        text-align: right;\n",
       "    }\n",
       "</style>\n",
       "<table border=\"1\" class=\"dataframe\">\n",
       "  <thead>\n",
       "    <tr>\n",
       "      <th></th>\n",
       "      <th colspan=\"5\" halign=\"left\">operation</th>\n",
       "    </tr>\n",
       "    <tr>\n",
       "      <th>property_type</th>\n",
       "      <th>PH</th>\n",
       "      <th>apartment</th>\n",
       "      <th>house</th>\n",
       "      <th>store</th>\n",
       "      <th>All</th>\n",
       "    </tr>\n",
       "    <tr>\n",
       "      <th>state_name</th>\n",
       "      <th></th>\n",
       "      <th></th>\n",
       "      <th></th>\n",
       "      <th></th>\n",
       "      <th></th>\n",
       "    </tr>\n",
       "  </thead>\n",
       "  <tbody>\n",
       "    <tr>\n",
       "      <th>Bs.As. G.B.A. Zona Norte</th>\n",
       "      <td>979</td>\n",
       "      <td>10067</td>\n",
       "      <td>13113</td>\n",
       "      <td>586</td>\n",
       "      <td>24745</td>\n",
       "    </tr>\n",
       "    <tr>\n",
       "      <th>Bs.As. G.B.A. Zona Oeste</th>\n",
       "      <td>788</td>\n",
       "      <td>3348</td>\n",
       "      <td>4645</td>\n",
       "      <td>252</td>\n",
       "      <td>9033</td>\n",
       "    </tr>\n",
       "    <tr>\n",
       "      <th>Bs.As. G.B.A. Zona Sur</th>\n",
       "      <td>820</td>\n",
       "      <td>5139</td>\n",
       "      <td>6959</td>\n",
       "      <td>632</td>\n",
       "      <td>13550</td>\n",
       "    </tr>\n",
       "    <tr>\n",
       "      <th>Buenos Aires Costa Atlántica</th>\n",
       "      <td>574</td>\n",
       "      <td>6391</td>\n",
       "      <td>2665</td>\n",
       "      <td>284</td>\n",
       "      <td>9914</td>\n",
       "    </tr>\n",
       "    <tr>\n",
       "      <th>Buenos Aires Interior</th>\n",
       "      <td>47</td>\n",
       "      <td>815</td>\n",
       "      <td>1316</td>\n",
       "      <td>73</td>\n",
       "      <td>2251</td>\n",
       "    </tr>\n",
       "    <tr>\n",
       "      <th>Capital Federal</th>\n",
       "      <td>1807</td>\n",
       "      <td>25548</td>\n",
       "      <td>2057</td>\n",
       "      <td>1319</td>\n",
       "      <td>30731</td>\n",
       "    </tr>\n",
       "    <tr>\n",
       "      <th>Catamarca</th>\n",
       "      <td>0</td>\n",
       "      <td>12</td>\n",
       "      <td>15</td>\n",
       "      <td>0</td>\n",
       "      <td>27</td>\n",
       "    </tr>\n",
       "    <tr>\n",
       "      <th>Chaco</th>\n",
       "      <td>0</td>\n",
       "      <td>19</td>\n",
       "      <td>35</td>\n",
       "      <td>3</td>\n",
       "      <td>57</td>\n",
       "    </tr>\n",
       "    <tr>\n",
       "      <th>Chubut</th>\n",
       "      <td>6</td>\n",
       "      <td>39</td>\n",
       "      <td>173</td>\n",
       "      <td>41</td>\n",
       "      <td>259</td>\n",
       "    </tr>\n",
       "    <tr>\n",
       "      <th>Corrientes</th>\n",
       "      <td>57</td>\n",
       "      <td>139</td>\n",
       "      <td>357</td>\n",
       "      <td>21</td>\n",
       "      <td>574</td>\n",
       "    </tr>\n",
       "    <tr>\n",
       "      <th>Córdoba</th>\n",
       "      <td>324</td>\n",
       "      <td>6347</td>\n",
       "      <td>4381</td>\n",
       "      <td>463</td>\n",
       "      <td>11515</td>\n",
       "    </tr>\n",
       "    <tr>\n",
       "      <th>Entre Ríos</th>\n",
       "      <td>5</td>\n",
       "      <td>131</td>\n",
       "      <td>210</td>\n",
       "      <td>10</td>\n",
       "      <td>356</td>\n",
       "    </tr>\n",
       "    <tr>\n",
       "      <th>Formosa</th>\n",
       "      <td>0</td>\n",
       "      <td>21</td>\n",
       "      <td>11</td>\n",
       "      <td>0</td>\n",
       "      <td>32</td>\n",
       "    </tr>\n",
       "    <tr>\n",
       "      <th>Jujuy</th>\n",
       "      <td>0</td>\n",
       "      <td>10</td>\n",
       "      <td>15</td>\n",
       "      <td>1</td>\n",
       "      <td>26</td>\n",
       "    </tr>\n",
       "    <tr>\n",
       "      <th>La Pampa</th>\n",
       "      <td>0</td>\n",
       "      <td>45</td>\n",
       "      <td>98</td>\n",
       "      <td>10</td>\n",
       "      <td>153</td>\n",
       "    </tr>\n",
       "    <tr>\n",
       "      <th>La Rioja</th>\n",
       "      <td>0</td>\n",
       "      <td>2</td>\n",
       "      <td>2</td>\n",
       "      <td>0</td>\n",
       "      <td>4</td>\n",
       "    </tr>\n",
       "    <tr>\n",
       "      <th>Mendoza</th>\n",
       "      <td>6</td>\n",
       "      <td>304</td>\n",
       "      <td>321</td>\n",
       "      <td>25</td>\n",
       "      <td>656</td>\n",
       "    </tr>\n",
       "    <tr>\n",
       "      <th>Misiones</th>\n",
       "      <td>8</td>\n",
       "      <td>130</td>\n",
       "      <td>261</td>\n",
       "      <td>7</td>\n",
       "      <td>406</td>\n",
       "    </tr>\n",
       "    <tr>\n",
       "      <th>Neuquén</th>\n",
       "      <td>84</td>\n",
       "      <td>272</td>\n",
       "      <td>219</td>\n",
       "      <td>11</td>\n",
       "      <td>586</td>\n",
       "    </tr>\n",
       "    <tr>\n",
       "      <th>Río Negro</th>\n",
       "      <td>26</td>\n",
       "      <td>310</td>\n",
       "      <td>374</td>\n",
       "      <td>82</td>\n",
       "      <td>792</td>\n",
       "    </tr>\n",
       "    <tr>\n",
       "      <th>Salta</th>\n",
       "      <td>5</td>\n",
       "      <td>127</td>\n",
       "      <td>142</td>\n",
       "      <td>2</td>\n",
       "      <td>276</td>\n",
       "    </tr>\n",
       "    <tr>\n",
       "      <th>San Juan</th>\n",
       "      <td>0</td>\n",
       "      <td>16</td>\n",
       "      <td>23</td>\n",
       "      <td>1</td>\n",
       "      <td>40</td>\n",
       "    </tr>\n",
       "    <tr>\n",
       "      <th>San Luis</th>\n",
       "      <td>2</td>\n",
       "      <td>31</td>\n",
       "      <td>198</td>\n",
       "      <td>14</td>\n",
       "      <td>245</td>\n",
       "    </tr>\n",
       "    <tr>\n",
       "      <th>Santa Cruz</th>\n",
       "      <td>0</td>\n",
       "      <td>1</td>\n",
       "      <td>18</td>\n",
       "      <td>1</td>\n",
       "      <td>20</td>\n",
       "    </tr>\n",
       "    <tr>\n",
       "      <th>Santa Fe</th>\n",
       "      <td>76</td>\n",
       "      <td>6826</td>\n",
       "      <td>1917</td>\n",
       "      <td>200</td>\n",
       "      <td>9019</td>\n",
       "    </tr>\n",
       "    <tr>\n",
       "      <th>Santiago Del Estero</th>\n",
       "      <td>0</td>\n",
       "      <td>1</td>\n",
       "      <td>3</td>\n",
       "      <td>0</td>\n",
       "      <td>4</td>\n",
       "    </tr>\n",
       "    <tr>\n",
       "      <th>Tierra Del Fuego</th>\n",
       "      <td>0</td>\n",
       "      <td>12</td>\n",
       "      <td>16</td>\n",
       "      <td>3</td>\n",
       "      <td>31</td>\n",
       "    </tr>\n",
       "    <tr>\n",
       "      <th>Tucumán</th>\n",
       "      <td>4</td>\n",
       "      <td>387</td>\n",
       "      <td>212</td>\n",
       "      <td>31</td>\n",
       "      <td>634</td>\n",
       "    </tr>\n",
       "    <tr>\n",
       "      <th>All</th>\n",
       "      <td>5618</td>\n",
       "      <td>66490</td>\n",
       "      <td>39756</td>\n",
       "      <td>4072</td>\n",
       "      <td>115936</td>\n",
       "    </tr>\n",
       "  </tbody>\n",
       "</table>\n",
       "</div>"
      ],
      "text/plain": [
       "                             operation                               \n",
       "property_type                       PH apartment  house store     All\n",
       "state_name                                                           \n",
       "Bs.As. G.B.A. Zona Norte           979     10067  13113   586   24745\n",
       "Bs.As. G.B.A. Zona Oeste           788      3348   4645   252    9033\n",
       "Bs.As. G.B.A. Zona Sur             820      5139   6959   632   13550\n",
       "Buenos Aires Costa Atlántica       574      6391   2665   284    9914\n",
       "Buenos Aires Interior               47       815   1316    73    2251\n",
       "Capital Federal                   1807     25548   2057  1319   30731\n",
       "Catamarca                            0        12     15     0      27\n",
       "Chaco                                0        19     35     3      57\n",
       "Chubut                               6        39    173    41     259\n",
       "Corrientes                          57       139    357    21     574\n",
       "Córdoba                            324      6347   4381   463   11515\n",
       "Entre Ríos                           5       131    210    10     356\n",
       "Formosa                              0        21     11     0      32\n",
       "Jujuy                                0        10     15     1      26\n",
       "La Pampa                             0        45     98    10     153\n",
       "La Rioja                             0         2      2     0       4\n",
       "Mendoza                              6       304    321    25     656\n",
       "Misiones                             8       130    261     7     406\n",
       "Neuquén                             84       272    219    11     586\n",
       "Río Negro                           26       310    374    82     792\n",
       "Salta                                5       127    142     2     276\n",
       "San Juan                             0        16     23     1      40\n",
       "San Luis                             2        31    198    14     245\n",
       "Santa Cruz                           0         1     18     1      20\n",
       "Santa Fe                            76      6826   1917   200    9019\n",
       "Santiago Del Estero                  0         1      3     0       4\n",
       "Tierra Del Fuego                     0        12     16     3      31\n",
       "Tucumán                              4       387    212    31     634\n",
       "All                               5618     66490  39756  4072  115936"
      ]
     },
     "execution_count": 29,
     "metadata": {},
     "output_type": "execute_result"
    }
   ],
   "source": [
    "# Chequeo de la cantidad de propiedades por region con pivot table\n",
    "data.pivot_table(index = \"state_name\", columns = \"property_type\", values =[\"operation\"],aggfunc = np.size , margins = True,fill_value=0)"
   ]
  },
  {
   "cell_type": "markdown",
   "id": "5744a803",
   "metadata": {},
   "source": [
    "<p style=\"color:#FF0000\";>  Muy buen uso de la tabla pivot para explorar la información ! "
   ]
  },
  {
   "cell_type": "code",
   "execution_count": 30,
   "id": "12aa9273",
   "metadata": {},
   "outputs": [],
   "source": [
    "data_pivot = data.pivot_table(index = \"state_name\", columns = \"property_type\", values =[\"operation\"],aggfunc = np.size , margins = True,fill_value=0)"
   ]
  },
  {
   "cell_type": "code",
   "execution_count": 31,
   "id": "48c8faed",
   "metadata": {},
   "outputs": [],
   "source": [
    "d_pivot = data_pivot[\"operation\"].copy()"
   ]
  },
  {
   "cell_type": "code",
   "execution_count": 202,
   "id": "38454e52",
   "metadata": {},
   "outputs": [
    {
     "ename": "KeyError",
     "evalue": "\"['All'] not found in axis\"",
     "output_type": "error",
     "traceback": [
      "\u001b[0;31m---------------------------------------------------------------------------\u001b[0m",
      "\u001b[0;31mKeyError\u001b[0m                                  Traceback (most recent call last)",
      "\u001b[0;32m<ipython-input-202-8dbfbe14f651>\u001b[0m in \u001b[0;36m<module>\u001b[0;34m\u001b[0m\n\u001b[1;32m      1\u001b[0m \u001b[0;31m# d_pivot.drop(\"All\",axis=0 , inplace = True)\u001b[0m\u001b[0;34m\u001b[0m\u001b[0;34m\u001b[0m\u001b[0;34m\u001b[0m\u001b[0m\n\u001b[0;32m----> 2\u001b[0;31m \u001b[0md_pivot\u001b[0m \u001b[0;34m=\u001b[0m \u001b[0md_pivot\u001b[0m\u001b[0;34m.\u001b[0m\u001b[0mdrop\u001b[0m\u001b[0;34m(\u001b[0m\u001b[0;34m\"All\"\u001b[0m\u001b[0;34m,\u001b[0m\u001b[0maxis\u001b[0m\u001b[0;34m=\u001b[0m\u001b[0;36m1\u001b[0m\u001b[0;34m)\u001b[0m\u001b[0;34m\u001b[0m\u001b[0;34m\u001b[0m\u001b[0m\n\u001b[0m",
      "\u001b[0;32m~/opt/anaconda3/envs/dhdsblend2021/lib/python3.8/site-packages/pandas/core/frame.py\u001b[0m in \u001b[0;36mdrop\u001b[0;34m(self, labels, axis, index, columns, level, inplace, errors)\u001b[0m\n\u001b[1;32m   4165\u001b[0m                 \u001b[0mweight\u001b[0m  \u001b[0;36m1.0\u001b[0m     \u001b[0;36m0.8\u001b[0m\u001b[0;34m\u001b[0m\u001b[0;34m\u001b[0m\u001b[0m\n\u001b[1;32m   4166\u001b[0m         \"\"\"\n\u001b[0;32m-> 4167\u001b[0;31m         return super().drop(\n\u001b[0m\u001b[1;32m   4168\u001b[0m             \u001b[0mlabels\u001b[0m\u001b[0;34m=\u001b[0m\u001b[0mlabels\u001b[0m\u001b[0;34m,\u001b[0m\u001b[0;34m\u001b[0m\u001b[0;34m\u001b[0m\u001b[0m\n\u001b[1;32m   4169\u001b[0m             \u001b[0maxis\u001b[0m\u001b[0;34m=\u001b[0m\u001b[0maxis\u001b[0m\u001b[0;34m,\u001b[0m\u001b[0;34m\u001b[0m\u001b[0;34m\u001b[0m\u001b[0m\n",
      "\u001b[0;32m~/opt/anaconda3/envs/dhdsblend2021/lib/python3.8/site-packages/pandas/core/generic.py\u001b[0m in \u001b[0;36mdrop\u001b[0;34m(self, labels, axis, index, columns, level, inplace, errors)\u001b[0m\n\u001b[1;32m   3887\u001b[0m         \u001b[0;32mfor\u001b[0m \u001b[0maxis\u001b[0m\u001b[0;34m,\u001b[0m \u001b[0mlabels\u001b[0m \u001b[0;32min\u001b[0m \u001b[0maxes\u001b[0m\u001b[0;34m.\u001b[0m\u001b[0mitems\u001b[0m\u001b[0;34m(\u001b[0m\u001b[0;34m)\u001b[0m\u001b[0;34m:\u001b[0m\u001b[0;34m\u001b[0m\u001b[0;34m\u001b[0m\u001b[0m\n\u001b[1;32m   3888\u001b[0m             \u001b[0;32mif\u001b[0m \u001b[0mlabels\u001b[0m \u001b[0;32mis\u001b[0m \u001b[0;32mnot\u001b[0m \u001b[0;32mNone\u001b[0m\u001b[0;34m:\u001b[0m\u001b[0;34m\u001b[0m\u001b[0;34m\u001b[0m\u001b[0m\n\u001b[0;32m-> 3889\u001b[0;31m                 \u001b[0mobj\u001b[0m \u001b[0;34m=\u001b[0m \u001b[0mobj\u001b[0m\u001b[0;34m.\u001b[0m\u001b[0m_drop_axis\u001b[0m\u001b[0;34m(\u001b[0m\u001b[0mlabels\u001b[0m\u001b[0;34m,\u001b[0m \u001b[0maxis\u001b[0m\u001b[0;34m,\u001b[0m \u001b[0mlevel\u001b[0m\u001b[0;34m=\u001b[0m\u001b[0mlevel\u001b[0m\u001b[0;34m,\u001b[0m \u001b[0merrors\u001b[0m\u001b[0;34m=\u001b[0m\u001b[0merrors\u001b[0m\u001b[0;34m)\u001b[0m\u001b[0;34m\u001b[0m\u001b[0;34m\u001b[0m\u001b[0m\n\u001b[0m\u001b[1;32m   3890\u001b[0m \u001b[0;34m\u001b[0m\u001b[0m\n\u001b[1;32m   3891\u001b[0m         \u001b[0;32mif\u001b[0m \u001b[0minplace\u001b[0m\u001b[0;34m:\u001b[0m\u001b[0;34m\u001b[0m\u001b[0;34m\u001b[0m\u001b[0m\n",
      "\u001b[0;32m~/opt/anaconda3/envs/dhdsblend2021/lib/python3.8/site-packages/pandas/core/generic.py\u001b[0m in \u001b[0;36m_drop_axis\u001b[0;34m(self, labels, axis, level, errors)\u001b[0m\n\u001b[1;32m   3921\u001b[0m                 \u001b[0mnew_axis\u001b[0m \u001b[0;34m=\u001b[0m \u001b[0maxis\u001b[0m\u001b[0;34m.\u001b[0m\u001b[0mdrop\u001b[0m\u001b[0;34m(\u001b[0m\u001b[0mlabels\u001b[0m\u001b[0;34m,\u001b[0m \u001b[0mlevel\u001b[0m\u001b[0;34m=\u001b[0m\u001b[0mlevel\u001b[0m\u001b[0;34m,\u001b[0m \u001b[0merrors\u001b[0m\u001b[0;34m=\u001b[0m\u001b[0merrors\u001b[0m\u001b[0;34m)\u001b[0m\u001b[0;34m\u001b[0m\u001b[0;34m\u001b[0m\u001b[0m\n\u001b[1;32m   3922\u001b[0m             \u001b[0;32melse\u001b[0m\u001b[0;34m:\u001b[0m\u001b[0;34m\u001b[0m\u001b[0;34m\u001b[0m\u001b[0m\n\u001b[0;32m-> 3923\u001b[0;31m                 \u001b[0mnew_axis\u001b[0m \u001b[0;34m=\u001b[0m \u001b[0maxis\u001b[0m\u001b[0;34m.\u001b[0m\u001b[0mdrop\u001b[0m\u001b[0;34m(\u001b[0m\u001b[0mlabels\u001b[0m\u001b[0;34m,\u001b[0m \u001b[0merrors\u001b[0m\u001b[0;34m=\u001b[0m\u001b[0merrors\u001b[0m\u001b[0;34m)\u001b[0m\u001b[0;34m\u001b[0m\u001b[0;34m\u001b[0m\u001b[0m\n\u001b[0m\u001b[1;32m   3924\u001b[0m             \u001b[0mresult\u001b[0m \u001b[0;34m=\u001b[0m \u001b[0mself\u001b[0m\u001b[0;34m.\u001b[0m\u001b[0mreindex\u001b[0m\u001b[0;34m(\u001b[0m\u001b[0;34m**\u001b[0m\u001b[0;34m{\u001b[0m\u001b[0maxis_name\u001b[0m\u001b[0;34m:\u001b[0m \u001b[0mnew_axis\u001b[0m\u001b[0;34m}\u001b[0m\u001b[0;34m)\u001b[0m\u001b[0;34m\u001b[0m\u001b[0;34m\u001b[0m\u001b[0m\n\u001b[1;32m   3925\u001b[0m \u001b[0;34m\u001b[0m\u001b[0m\n",
      "\u001b[0;32m~/opt/anaconda3/envs/dhdsblend2021/lib/python3.8/site-packages/pandas/core/indexes/base.py\u001b[0m in \u001b[0;36mdrop\u001b[0;34m(self, labels, errors)\u001b[0m\n\u001b[1;32m   5285\u001b[0m         \u001b[0;32mif\u001b[0m \u001b[0mmask\u001b[0m\u001b[0;34m.\u001b[0m\u001b[0many\u001b[0m\u001b[0;34m(\u001b[0m\u001b[0;34m)\u001b[0m\u001b[0;34m:\u001b[0m\u001b[0;34m\u001b[0m\u001b[0;34m\u001b[0m\u001b[0m\n\u001b[1;32m   5286\u001b[0m             \u001b[0;32mif\u001b[0m \u001b[0merrors\u001b[0m \u001b[0;34m!=\u001b[0m \u001b[0;34m\"ignore\"\u001b[0m\u001b[0;34m:\u001b[0m\u001b[0;34m\u001b[0m\u001b[0;34m\u001b[0m\u001b[0m\n\u001b[0;32m-> 5287\u001b[0;31m                 \u001b[0;32mraise\u001b[0m \u001b[0mKeyError\u001b[0m\u001b[0;34m(\u001b[0m\u001b[0;34mf\"{labels[mask]} not found in axis\"\u001b[0m\u001b[0;34m)\u001b[0m\u001b[0;34m\u001b[0m\u001b[0;34m\u001b[0m\u001b[0m\n\u001b[0m\u001b[1;32m   5288\u001b[0m             \u001b[0mindexer\u001b[0m \u001b[0;34m=\u001b[0m \u001b[0mindexer\u001b[0m\u001b[0;34m[\u001b[0m\u001b[0;34m~\u001b[0m\u001b[0mmask\u001b[0m\u001b[0;34m]\u001b[0m\u001b[0;34m\u001b[0m\u001b[0;34m\u001b[0m\u001b[0m\n\u001b[1;32m   5289\u001b[0m         \u001b[0;32mreturn\u001b[0m \u001b[0mself\u001b[0m\u001b[0;34m.\u001b[0m\u001b[0mdelete\u001b[0m\u001b[0;34m(\u001b[0m\u001b[0mindexer\u001b[0m\u001b[0;34m)\u001b[0m\u001b[0;34m\u001b[0m\u001b[0;34m\u001b[0m\u001b[0m\n",
      "\u001b[0;31mKeyError\u001b[0m: \"['All'] not found in axis\""
     ]
    }
   ],
   "source": [
    "# d_pivot.drop(\"All\",axis=0 , inplace = True)\n",
    "d_pivot = d_pivot.drop(\"All\",axis=1)"
   ]
  },
  {
   "cell_type": "code",
   "execution_count": 203,
   "id": "7c882243",
   "metadata": {},
   "outputs": [
    {
     "data": {
      "text/plain": [
       "<AxesSubplot:xlabel='state_name'>"
      ]
     },
     "execution_count": 203,
     "metadata": {},
     "output_type": "execute_result"
    },
    {
     "data": {
      "image/png": "[encoded data removed]",
      "text/plain": [
       "<Figure size 432x288 with 1 Axes>"
      ]
     },
     "metadata": {
      "needs_background": "light"
     },
     "output_type": "display_data"
    }
   ],
   "source": [
    "d_pivot.sort_values([\"apartment\",\"house\"], inplace = True , ascending = False)\n",
    "d_pivot.plot.bar(stacked = True)"
   ]
  },
  {
   "cell_type": "markdown",
   "id": "f37d36e3",
   "metadata": {},
   "source": [
    "<p style=\"color:#FF0000\";> Habría que excluir la columna 'All' porque distorisiona la escala  y no se puede observar el resto de las categorías"
   ]
  },
  {
   "cell_type": "code",
   "execution_count": 34,
   "id": "d713e271",
   "metadata": {},
   "outputs": [
    {
     "data": {
      "text/plain": [
       "array([ 5618, 66490, 39756,  4072])"
      ]
     },
     "execution_count": 34,
     "metadata": {},
     "output_type": "execute_result"
    }
   ],
   "source": [
    "d_pivot_columns = d_pivot.columns\n",
    "d_pivot_values = d_pivot.values\n",
    "# print(d_pivot_values,d_pivot_columns)\n",
    "d_pivot_values[0]"
   ]
  },
  {
   "cell_type": "code",
   "execution_count": 35,
   "id": "9fe20983",
   "metadata": {},
   "outputs": [
    {
     "data": {
      "text/plain": [
       "array(['USD', nan, 'ARS', 'PEN', 'UYU'], dtype=object)"
      ]
     },
     "execution_count": 35,
     "metadata": {},
     "output_type": "execute_result"
    }
   ],
   "source": [
    "# Tipos de moneda\n",
    "data[\"currency\"].unique()"
   ]
  },
  {
   "cell_type": "code",
   "execution_count": 36,
   "id": "0d1a2907",
   "metadata": {},
   "outputs": [
    {
     "data": {
      "text/plain": [
       "USD    85871\n",
       "ARS    12640\n",
       "PEN        2\n",
       "UYU        1\n",
       "Name: currency, dtype: int64"
      ]
     },
     "execution_count": 36,
     "metadata": {},
     "output_type": "execute_result"
    }
   ],
   "source": [
    "data[\"currency\"].value_counts()"
   ]
  },
  {
   "cell_type": "code",
   "execution_count": 37,
   "id": "c4a27295",
   "metadata": {},
   "outputs": [
    {
     "data": {
      "text/plain": [
       "107390    casa con calefaccion central, mendoza, san roq...\n",
       "Name: description, dtype: object"
      ]
     },
     "execution_count": 37,
     "metadata": {},
     "output_type": "execute_result"
    }
   ],
   "source": [
    "# Quizas estos primero los tenemos que convertir a pesos y luego a USD , la conversion a USD la esta haciendo al tipo de cambio\n",
    "# de Argentina.\n",
    "data.loc[data[\"currency\"]==\"UYU\",:][\"description\"]\n"
   ]
  },
  {
   "cell_type": "markdown",
   "id": "22f6c014",
   "metadata": {},
   "source": [
    "# Limpieza y ordenamiento del data set"
   ]
  },
  {
   "cell_type": "markdown",
   "id": "ae53366a",
   "metadata": {},
   "source": [
    "Completar datos faltantes"
   ]
  },
  {
   "cell_type": "code",
   "execution_count": 38,
   "id": "cfe4bec8",
   "metadata": {},
   "outputs": [
    {
     "data": {
      "text/plain": [
       "operation                     100.000000\n",
       "property_type                 100.000000\n",
       "place_name                     99.980161\n",
       "state_name                    100.000000\n",
       "lat-lon                        58.441726\n",
       "lat                            58.441726\n",
       "lon                            58.441726\n",
       "price                          84.973606\n",
       "currency                       84.972744\n",
       "price_aprox_local_currency     84.973606\n",
       "price_aprox_usd                84.973606\n",
       "surface_total_in_m2            66.909329\n",
       "surface_covered_in_m2          83.792782\n",
       "price_usd_per_m2               57.612821\n",
       "price_per_m2                   73.870929\n",
       "rooms                          39.742617\n",
       "expenses                       12.138594\n",
       "description                    99.998275\n",
       "title                         100.000000\n",
       "dtype: float64"
      ]
     },
     "execution_count": 38,
     "metadata": {},
     "output_type": "execute_result"
    }
   ],
   "source": [
    "# Estado inicial, datos completos por campo\n",
    "(data.notnull().mean())*100"
   ]
  },
  {
   "cell_type": "markdown",
   "id": "6f20bd8a",
   "metadata": {},
   "source": [
    "Primera pasada para completar price_usd_m2"
   ]
  },
  {
   "cell_type": "code",
   "execution_count": 39,
   "id": "1a1bceb8",
   "metadata": {},
   "outputs": [
    {
     "data": {
      "text/html": [
       "<div>\n",
       "<style scoped>\n",
       "    .dataframe tbody tr th:only-of-type {\n",
       "        vertical-align: middle;\n",
       "    }\n",
       "\n",
       "    .dataframe tbody tr th {\n",
       "        vertical-align: top;\n",
       "    }\n",
       "\n",
       "    .dataframe thead th {\n",
       "        text-align: right;\n",
       "    }\n",
       "</style>\n",
       "<table border=\"1\" class=\"dataframe\">\n",
       "  <thead>\n",
       "    <tr style=\"text-align: right;\">\n",
       "      <th></th>\n",
       "      <th>operation</th>\n",
       "      <th>property_type</th>\n",
       "      <th>place_name</th>\n",
       "      <th>state_name</th>\n",
       "      <th>lat-lon</th>\n",
       "      <th>lat</th>\n",
       "      <th>lon</th>\n",
       "      <th>price</th>\n",
       "      <th>currency</th>\n",
       "      <th>price_aprox_local_currency</th>\n",
       "      <th>price_aprox_usd</th>\n",
       "      <th>surface_total_in_m2</th>\n",
       "      <th>surface_covered_in_m2</th>\n",
       "      <th>price_usd_per_m2</th>\n",
       "      <th>price_per_m2</th>\n",
       "      <th>rooms</th>\n",
       "      <th>expenses</th>\n",
       "      <th>description</th>\n",
       "      <th>title</th>\n",
       "    </tr>\n",
       "  </thead>\n",
       "  <tbody>\n",
       "    <tr>\n",
       "      <th>29936</th>\n",
       "      <td>sell</td>\n",
       "      <td>house</td>\n",
       "      <td>Córdoba</td>\n",
       "      <td>Córdoba</td>\n",
       "      <td>NaN</td>\n",
       "      <td>NaN</td>\n",
       "      <td>NaN</td>\n",
       "      <td>NaN</td>\n",
       "      <td>NaN</td>\n",
       "      <td>NaN</td>\n",
       "      <td>NaN</td>\n",
       "      <td>1720.0</td>\n",
       "      <td>245.0</td>\n",
       "      <td>NaN</td>\n",
       "      <td>NaN</td>\n",
       "      <td>4.0</td>\n",
       "      <td>NaN</td>\n",
       "      <td>venta - casa - 3 dormitorios - villa belgrano ...</td>\n",
       "      <td>casa en venta</td>\n",
       "    </tr>\n",
       "    <tr>\n",
       "      <th>95271</th>\n",
       "      <td>sell</td>\n",
       "      <td>house</td>\n",
       "      <td>Florida</td>\n",
       "      <td>Bs.As. G.B.A. Zona Norte</td>\n",
       "      <td>NaN</td>\n",
       "      <td>NaN</td>\n",
       "      <td>NaN</td>\n",
       "      <td>550000.0</td>\n",
       "      <td>USD</td>\n",
       "      <td>9704475.00</td>\n",
       "      <td>550000.00</td>\n",
       "      <td>NaN</td>\n",
       "      <td>255.0</td>\n",
       "      <td>NaN</td>\n",
       "      <td>2156.862745</td>\n",
       "      <td>NaN</td>\n",
       "      <td>NaN</td>\n",
       "      <td>hermoso chalet en dos plantas proximo al coleg...</td>\n",
       "      <td>libertad  al 2600 - florida mitre/este</td>\n",
       "    </tr>\n",
       "    <tr>\n",
       "      <th>30410</th>\n",
       "      <td>sell</td>\n",
       "      <td>PH</td>\n",
       "      <td>Quilmes</td>\n",
       "      <td>Bs.As. G.B.A. Zona Sur</td>\n",
       "      <td>-34.73906,-58.28836</td>\n",
       "      <td>-34.739060</td>\n",
       "      <td>-58.288360</td>\n",
       "      <td>110000.0</td>\n",
       "      <td>USD</td>\n",
       "      <td>1940895.00</td>\n",
       "      <td>110000.00</td>\n",
       "      <td>NaN</td>\n",
       "      <td>20.0</td>\n",
       "      <td>NaN</td>\n",
       "      <td>5500.000000</td>\n",
       "      <td>3.0</td>\n",
       "      <td>NaN</td>\n",
       "      <td>corredor responsable: martin veltri - cmq 805c...</td>\n",
       "      <td>venta ph tipo casa en planta alta quilmes</td>\n",
       "    </tr>\n",
       "    <tr>\n",
       "      <th>66125</th>\n",
       "      <td>sell</td>\n",
       "      <td>apartment</td>\n",
       "      <td>Palermo</td>\n",
       "      <td>Capital Federal</td>\n",
       "      <td>NaN</td>\n",
       "      <td>NaN</td>\n",
       "      <td>NaN</td>\n",
       "      <td>NaN</td>\n",
       "      <td>NaN</td>\n",
       "      <td>NaN</td>\n",
       "      <td>NaN</td>\n",
       "      <td>54.0</td>\n",
       "      <td>48.0</td>\n",
       "      <td>NaN</td>\n",
       "      <td>NaN</td>\n",
       "      <td>NaN</td>\n",
       "      <td>NaN</td>\n",
       "      <td>unidades de 1, 2 y 3 ambientes. el edificio se...</td>\n",
       "      <td>departamento en palermo</td>\n",
       "    </tr>\n",
       "    <tr>\n",
       "      <th>37140</th>\n",
       "      <td>sell</td>\n",
       "      <td>apartment</td>\n",
       "      <td>Punilla</td>\n",
       "      <td>Córdoba</td>\n",
       "      <td>-31.4207828,-64.4992141</td>\n",
       "      <td>-31.420783</td>\n",
       "      <td>-64.499214</td>\n",
       "      <td>1600000.0</td>\n",
       "      <td>ARS</td>\n",
       "      <td>1583309.44</td>\n",
       "      <td>89733.88</td>\n",
       "      <td>NaN</td>\n",
       "      <td>50.0</td>\n",
       "      <td>NaN</td>\n",
       "      <td>32000.000000</td>\n",
       "      <td>NaN</td>\n",
       "      <td>NaN</td>\n",
       "      <td>codigo: 2347-495 ubicado en: villa carlos paz ...</td>\n",
       "      <td>muy lindo departamento en venta, edif. village...</td>\n",
       "    </tr>\n",
       "    <tr>\n",
       "      <th>23514</th>\n",
       "      <td>sell</td>\n",
       "      <td>apartment</td>\n",
       "      <td>Rosario</td>\n",
       "      <td>Santa Fe</td>\n",
       "      <td>-32.9518006,-60.6307056</td>\n",
       "      <td>-32.951801</td>\n",
       "      <td>-60.630706</td>\n",
       "      <td>60000.0</td>\n",
       "      <td>USD</td>\n",
       "      <td>1058670.00</td>\n",
       "      <td>60000.00</td>\n",
       "      <td>NaN</td>\n",
       "      <td>NaN</td>\n",
       "      <td>NaN</td>\n",
       "      <td>NaN</td>\n",
       "      <td>NaN</td>\n",
       "      <td>NaN</td>\n",
       "      <td>codigo: 2062-650 ubicado en: 1 de mayo 1100 - ...</td>\n",
       "      <td>venta depto monoambiente ., totalmente equipad...</td>\n",
       "    </tr>\n",
       "    <tr>\n",
       "      <th>37461</th>\n",
       "      <td>sell</td>\n",
       "      <td>house</td>\n",
       "      <td>Tristán Suárez</td>\n",
       "      <td>Bs.As. G.B.A. Zona Sur</td>\n",
       "      <td>-34.908986,-58.551679</td>\n",
       "      <td>-34.908986</td>\n",
       "      <td>-58.551679</td>\n",
       "      <td>495000.0</td>\n",
       "      <td>USD</td>\n",
       "      <td>8734027.50</td>\n",
       "      <td>495000.00</td>\n",
       "      <td>NaN</td>\n",
       "      <td>330.0</td>\n",
       "      <td>NaN</td>\n",
       "      <td>1500.000000</td>\n",
       "      <td>6.0</td>\n",
       "      <td>NaN</td>\n",
       "      <td>corredor responsable: maximiliano vazquez - c....</td>\n",
       "      <td>casa 3 dorm. playroom quincho piscina</td>\n",
       "    </tr>\n",
       "    <tr>\n",
       "      <th>86562</th>\n",
       "      <td>sell</td>\n",
       "      <td>house</td>\n",
       "      <td>Escobar</td>\n",
       "      <td>Bs.As. G.B.A. Zona Norte</td>\n",
       "      <td>-34.3677484,-58.7647862</td>\n",
       "      <td>-34.367748</td>\n",
       "      <td>-58.764786</td>\n",
       "      <td>165000.0</td>\n",
       "      <td>USD</td>\n",
       "      <td>2911342.50</td>\n",
       "      <td>165000.00</td>\n",
       "      <td>NaN</td>\n",
       "      <td>165.0</td>\n",
       "      <td>NaN</td>\n",
       "      <td>1000.000000</td>\n",
       "      <td>NaN</td>\n",
       "      <td>NaN</td>\n",
       "      <td>casa en dos plantas, ambientes muy amplios, co...</td>\n",
       "      <td>moderna casa de ambientes amplisimos en maschwitz</td>\n",
       "    </tr>\n",
       "    <tr>\n",
       "      <th>56868</th>\n",
       "      <td>sell</td>\n",
       "      <td>apartment</td>\n",
       "      <td>Villa Luro</td>\n",
       "      <td>Capital Federal</td>\n",
       "      <td>-34.637834,-58.503098</td>\n",
       "      <td>-34.637834</td>\n",
       "      <td>-58.503098</td>\n",
       "      <td>172000.0</td>\n",
       "      <td>USD</td>\n",
       "      <td>3034854.00</td>\n",
       "      <td>172000.00</td>\n",
       "      <td>NaN</td>\n",
       "      <td>86.0</td>\n",
       "      <td>NaN</td>\n",
       "      <td>2000.000000</td>\n",
       "      <td>3.0</td>\n",
       "      <td>NaN</td>\n",
       "      <td>corredor responsable: marcelo trujillo - cucic...</td>\n",
       "      <td>nuevo desarrollo, edificio solar de villa luro.</td>\n",
       "    </tr>\n",
       "    <tr>\n",
       "      <th>25040</th>\n",
       "      <td>sell</td>\n",
       "      <td>house</td>\n",
       "      <td>Buenos Aires Interior</td>\n",
       "      <td>Buenos Aires Interior</td>\n",
       "      <td>NaN</td>\n",
       "      <td>NaN</td>\n",
       "      <td>NaN</td>\n",
       "      <td>3000000.0</td>\n",
       "      <td>USD</td>\n",
       "      <td>52933500.00</td>\n",
       "      <td>3000000.00</td>\n",
       "      <td>NaN</td>\n",
       "      <td>125.0</td>\n",
       "      <td>NaN</td>\n",
       "      <td>24000.000000</td>\n",
       "      <td>2.0</td>\n",
       "      <td>NaN</td>\n",
       "      <td>excelente fraccion de campo agricola, con casa...</td>\n",
       "      <td>vendo campo pequeos inversores</td>\n",
       "    </tr>\n",
       "  </tbody>\n",
       "</table>\n",
       "</div>"
      ],
      "text/plain": [
       "      operation property_type             place_name  \\\n",
       "29936      sell         house                Córdoba   \n",
       "95271      sell         house                Florida   \n",
       "30410      sell            PH                Quilmes   \n",
       "66125      sell     apartment                Palermo   \n",
       "37140      sell     apartment                Punilla   \n",
       "23514      sell     apartment                Rosario   \n",
       "37461      sell         house         Tristán Suárez   \n",
       "86562      sell         house                Escobar   \n",
       "56868      sell     apartment             Villa Luro   \n",
       "25040      sell         house  Buenos Aires Interior   \n",
       "\n",
       "                     state_name                  lat-lon        lat  \\\n",
       "29936                   Córdoba                      NaN        NaN   \n",
       "95271  Bs.As. G.B.A. Zona Norte                      NaN        NaN   \n",
       "30410    Bs.As. G.B.A. Zona Sur      -34.73906,-58.28836 -34.739060   \n",
       "66125           Capital Federal                      NaN        NaN   \n",
       "37140                   Córdoba  -31.4207828,-64.4992141 -31.420783   \n",
       "23514                  Santa Fe  -32.9518006,-60.6307056 -32.951801   \n",
       "37461    Bs.As. G.B.A. Zona Sur    -34.908986,-58.551679 -34.908986   \n",
       "86562  Bs.As. G.B.A. Zona Norte  -34.3677484,-58.7647862 -34.367748   \n",
       "56868           Capital Federal    -34.637834,-58.503098 -34.637834   \n",
       "25040     Buenos Aires Interior                      NaN        NaN   \n",
       "\n",
       "             lon      price currency  price_aprox_local_currency  \\\n",
       "29936        NaN        NaN      NaN                         NaN   \n",
       "95271        NaN   550000.0      USD                  9704475.00   \n",
       "30410 -58.288360   110000.0      USD                  1940895.00   \n",
       "66125        NaN        NaN      NaN                         NaN   \n",
       "37140 -64.499214  1600000.0      ARS                  1583309.44   \n",
       "23514 -60.630706    60000.0      USD                  1058670.00   \n",
       "37461 -58.551679   495000.0      USD                  8734027.50   \n",
       "86562 -58.764786   165000.0      USD                  2911342.50   \n",
       "56868 -58.503098   172000.0      USD                  3034854.00   \n",
       "25040        NaN  3000000.0      USD                 52933500.00   \n",
       "\n",
       "       price_aprox_usd  surface_total_in_m2  surface_covered_in_m2  \\\n",
       "29936              NaN               1720.0                  245.0   \n",
       "95271        550000.00                  NaN                  255.0   \n",
       "30410        110000.00                  NaN                   20.0   \n",
       "66125              NaN                 54.0                   48.0   \n",
       "37140         89733.88                  NaN                   50.0   \n",
       "23514         60000.00                  NaN                    NaN   \n",
       "37461        495000.00                  NaN                  330.0   \n",
       "86562        165000.00                  NaN                  165.0   \n",
       "56868        172000.00                  NaN                   86.0   \n",
       "25040       3000000.00                  NaN                  125.0   \n",
       "\n",
       "       price_usd_per_m2  price_per_m2  rooms  expenses  \\\n",
       "29936               NaN           NaN    4.0       NaN   \n",
       "95271               NaN   2156.862745    NaN       NaN   \n",
       "30410               NaN   5500.000000    3.0       NaN   \n",
       "66125               NaN           NaN    NaN       NaN   \n",
       "37140               NaN  32000.000000    NaN       NaN   \n",
       "23514               NaN           NaN    NaN       NaN   \n",
       "37461               NaN   1500.000000    6.0       NaN   \n",
       "86562               NaN   1000.000000    NaN       NaN   \n",
       "56868               NaN   2000.000000    3.0       NaN   \n",
       "25040               NaN  24000.000000    2.0       NaN   \n",
       "\n",
       "                                             description  \\\n",
       "29936  venta - casa - 3 dormitorios - villa belgrano ...   \n",
       "95271  hermoso chalet en dos plantas proximo al coleg...   \n",
       "30410  corredor responsable: martin veltri - cmq 805c...   \n",
       "66125  unidades de 1, 2 y 3 ambientes. el edificio se...   \n",
       "37140  codigo: 2347-495 ubicado en: villa carlos paz ...   \n",
       "23514  codigo: 2062-650 ubicado en: 1 de mayo 1100 - ...   \n",
       "37461  corredor responsable: maximiliano vazquez - c....   \n",
       "86562  casa en dos plantas, ambientes muy amplios, co...   \n",
       "56868  corredor responsable: marcelo trujillo - cucic...   \n",
       "25040  excelente fraccion de campo agricola, con casa...   \n",
       "\n",
       "                                                   title  \n",
       "29936                                      casa en venta  \n",
       "95271             libertad  al 2600 - florida mitre/este  \n",
       "30410          venta ph tipo casa en planta alta quilmes  \n",
       "66125                            departamento en palermo  \n",
       "37140  muy lindo departamento en venta, edif. village...  \n",
       "23514  venta depto monoambiente ., totalmente equipad...  \n",
       "37461              casa 3 dorm. playroom quincho piscina  \n",
       "86562  moderna casa de ambientes amplisimos en maschwitz  \n",
       "56868    nuevo desarrollo, edificio solar de villa luro.  \n",
       "25040                     vendo campo pequeos inversores  "
      ]
     },
     "execution_count": 39,
     "metadata": {},
     "output_type": "execute_result"
    }
   ],
   "source": [
    "# Registros sin el precio/m2\n",
    "mask_price_usd_m2 = data['price_usd_per_m2'].isnull()\n",
    "data[mask_price_usd_m2].sample(10)"
   ]
  },
  {
   "cell_type": "code",
   "execution_count": 40,
   "id": "1ebbfd68",
   "metadata": {},
   "outputs": [
    {
     "name": "stdout",
     "output_type": "stream",
     "text": [
      "Dato price_usd_per_m2_clean cargado inicialmente:  57.61282086668507\n"
     ]
    }
   ],
   "source": [
    "#Crear copia para limpiar\n",
    "price_usd_per_m2_clean = data['price_usd_per_m2'].copy()\n",
    "(price_usd_per_m2_clean.isnull().sum()) / price_usd_per_m2_clean.shape[0] * 100\n",
    "print('Dato price_usd_per_m2_clean cargado inicialmente: ', 100 - ((price_usd_per_m2_clean.isnull().sum()) / price_usd_per_m2_clean.shape[0] * 100))"
   ]
  },
  {
   "cell_type": "code",
   "execution_count": 41,
   "id": "4bdef884",
   "metadata": {},
   "outputs": [],
   "source": [
    "# Funcion para primera completada de precio/m2\n",
    "def price_per_m2_clean (price_aprox_usd, surface_covered_in_m2, surface_total_in_m2, price_usd_per_m2):\n",
    "    #hago una lista para cargar superficies, si son todos null, queda solo 1\n",
    "    surfaces = [1, 1]\n",
    "    if math.isnan(price_usd_per_m2):  #Si precio/m 2 es nulo ver de calcularlo\n",
    "        #valido si las superficies y el precio estan cargadas, tomo la superficie máxima para calcular el precio\n",
    "        if not (math.isnan(surface_total_in_m2)):\n",
    "            surfaces[0] = surface_total_in_m2\n",
    "        if not (math.isnan(surface_covered_in_m2)):\n",
    "            surfaces[1] = surface_covered_in_m2\n",
    "        #Si tengo el precio y alguna de las superficies, calculo el nuevo precio/m2\n",
    "        if not (math.isnan(price_aprox_usd)) and (surfaces[0] > 1 or surfaces[1] > 1): \n",
    "            return price_aprox_usd / max(surfaces)\n",
    "    return price_usd_per_m2"
   ]
  },
  {
   "cell_type": "code",
   "execution_count": 42,
   "id": "5e6e715f",
   "metadata": {},
   "outputs": [],
   "source": [
    "price_usd_per_m2_clean = data.apply(lambda x: price_per_m2_clean(x['price_aprox_usd'], x['surface_covered_in_m2'], \n",
    "                                                                 x['surface_total_in_m2'], x['price_usd_per_m2']), axis = 1)"
   ]
  },
  {
   "cell_type": "code",
   "execution_count": 43,
   "id": "43946aa5",
   "metadata": {},
   "outputs": [
    {
     "name": "stdout",
     "output_type": "stream",
     "text": [
      "price_usd_per_m2_clean cargado:  78.11982473088601\n"
     ]
    }
   ],
   "source": [
    "print('price_usd_per_m2_clean cargado: ', 100 - ((price_usd_per_m2_clean.isnull().sum()) / price_usd_per_m2_clean.shape[0] * 100))"
   ]
  },
  {
   "cell_type": "markdown",
   "id": "089b1f46",
   "metadata": {},
   "source": [
    "\n",
    "Segunda pasada, completando datos de superficie y de precio"
   ]
  },
  {
   "cell_type": "markdown",
   "id": "d7c51524",
   "metadata": {},
   "source": [
    "Primero completar datos de superficie faltante, van a superficie total"
   ]
  },
  {
   "cell_type": "code",
   "execution_count": 44,
   "id": "dbc9ad74",
   "metadata": {},
   "outputs": [
    {
     "data": {
      "text/plain": [
       "0              []\n",
       "1              []\n",
       "2              []\n",
       "3              []\n",
       "4              []\n",
       "           ...   \n",
       "121215         []\n",
       "121216      [572]\n",
       "121217    [43,00]\n",
       "121218         []\n",
       "121219       [77]\n",
       "Name: description, Length: 115936, dtype: object"
      ]
     },
     "execution_count": 44,
     "metadata": {},
     "output_type": "execute_result"
    }
   ],
   "source": [
    "# Buscar los registros con numeros de superficie\n",
    "\n",
    "patron_sup = '(?P<nsup>\\d+[\\,]?[\\.]?\\d*)\\s*(?:m2|metros|sup)'\n",
    "regex_sup = re.compile(patron_sup)\n",
    "\n",
    "superficies_reg = data['description'].apply(lambda x: x if x is np.NaN else regex_sup.findall(x))\n",
    "superficies_reg"
   ]
  },
  {
   "cell_type": "code",
   "execution_count": 45,
   "id": "3331dbe3",
   "metadata": {},
   "outputs": [],
   "source": [
    "# Funcion para convertir las listas que da findall a numero, tomar solo el maximo\n",
    "\n",
    "def convert_float(x):\n",
    "    if len(x)>0:\n",
    "        x = [i.replace(',','.') for i in x]\n",
    "        x = [i.replace('..','.') for i in x]\n",
    "        return np.array(x, dtype=float).max()\n",
    "    else:\n",
    "        return np.NaN"
   ]
  },
  {
   "cell_type": "code",
   "execution_count": 46,
   "id": "4c2244a2",
   "metadata": {},
   "outputs": [
    {
     "data": {
      "text/plain": [
       "array([nan, nan, nan, ..., 43., nan, 77.])"
      ]
     },
     "execution_count": 46,
     "metadata": {},
     "output_type": "execute_result"
    }
   ],
   "source": [
    "surface_regex = superficies_reg.apply(lambda x: x if x is np.NaN else convert_float(x))\n",
    "surface_regex.values"
   ]
  },
  {
   "cell_type": "code",
   "execution_count": 47,
   "id": "de21b305",
   "metadata": {},
   "outputs": [
    {
     "data": {
      "text/plain": [
       "True     82423\n",
       "False    33513\n",
       "Name: description, dtype: int64"
      ]
     },
     "execution_count": 47,
     "metadata": {},
     "output_type": "execute_result"
    }
   ],
   "source": [
    "surface_regex.isnull().value_counts()"
   ]
  },
  {
   "cell_type": "code",
   "execution_count": 48,
   "id": "cf623e31",
   "metadata": {},
   "outputs": [
    {
     "data": {
      "text/plain": [
       "False    111384\n",
       "True       4552\n",
       "dtype: int64"
      ]
     },
     "execution_count": 48,
     "metadata": {},
     "output_type": "execute_result"
    }
   ],
   "source": [
    "# Máscara para ver que valores estaría completando, que no tenian la superficie de antes\n",
    "\n",
    "np.logical_and(data['surface_covered_in_m2'].isnull(), surface_regex.notnull()).value_counts()"
   ]
  },
  {
   "cell_type": "code",
   "execution_count": 49,
   "id": "10903c3c",
   "metadata": {},
   "outputs": [],
   "source": [
    "# Combinar la superficie extraida del regex con la existente\n",
    "\n",
    "surface_covered_in_m2_clean_2 = data['surface_covered_in_m2'].copy()\n",
    "surface_covered_in_m2_clean_2.loc[np.logical_and(data['surface_covered_in_m2'].isnull(), surface_regex.notnull())] = surface_regex"
   ]
  },
  {
   "cell_type": "markdown",
   "id": "80ccac25",
   "metadata": {},
   "source": [
    "A continuación intentaremos completar la mayor cantidad posible de precios en USD faltantes"
   ]
  },
  {
   "cell_type": "code",
   "execution_count": 50,
   "id": "274fa431",
   "metadata": {},
   "outputs": [
    {
     "data": {
      "text/plain": [
       "17421"
      ]
     },
     "execution_count": 50,
     "metadata": {},
     "output_type": "execute_result"
    }
   ],
   "source": [
    "data['price_aprox_usd'].isnull().sum()"
   ]
  },
  {
   "cell_type": "code",
   "execution_count": 51,
   "id": "92640054",
   "metadata": {},
   "outputs": [
    {
     "data": {
      "text/plain": [
       "84.97360612751864"
      ]
     },
     "execution_count": 51,
     "metadata": {},
     "output_type": "execute_result"
    }
   ],
   "source": [
    "#% de no nulos:\n",
    "perc_notnull_precios_inicial = data['price_aprox_usd'].notnull().sum()*100 / data.shape[0]\n",
    "perc_notnull_precios_inicial"
   ]
  },
  {
   "cell_type": "markdown",
   "id": "9e98bb06",
   "metadata": {},
   "source": [
    "Busqueda de precios en Title para registros con precios nulos (luego se realizará sobre Description) Se comienza sobre Title ya que la información de precios es más accesible que en Description."
   ]
  },
  {
   "cell_type": "code",
   "execution_count": 52,
   "id": "511120be",
   "metadata": {},
   "outputs": [],
   "source": [
    "title_serie = data['title']"
   ]
  },
  {
   "cell_type": "code",
   "execution_count": 53,
   "id": "472d17f2",
   "metadata": {},
   "outputs": [
    {
     "data": {
      "text/plain": [
       "4866                                 excelente ph en venta\n",
       "80911                      excelente casa de corte antiguo\n",
       "35939                      local en el centro de la ciudad\n",
       "20423    departamento 23m2 con cochera, san fernando, v...\n",
       "93230                                departamento en venta\n",
       "91615        venta departamento 4 ambientes - barrio norte\n",
       "28512                                   departamento venta\n",
       "34361    dpt122- departamento de 1 dormitorio en miguel...\n",
       "84826                         departamento - nueva cordoba\n",
       "72609                                casa - banfield oeste\n",
       "86565                           departamento - general paz\n",
       "18649               departamento de 4 ambientes a la calle\n",
       "22602    excelente monoambiente 1era categoria/palermo ...\n",
       "79906                         departamento en los castanos\n",
       "52702                           casa en millamapu en venta\n",
       "Name: title, dtype: object"
      ]
     },
     "execution_count": 53,
     "metadata": {},
     "output_type": "execute_result"
    }
   ],
   "source": [
    "title_serie.sample(15)"
   ]
  },
  {
   "cell_type": "code",
   "execution_count": 54,
   "id": "e040777e",
   "metadata": {},
   "outputs": [],
   "source": [
    "usd_pattern_title = \"(?:usd|us\\$|u\\$s|us|u\\$d|dolares)(?:\\s)(?P<Price_usd>\\d+[\\.]?[\\,]?\\d*)\"\n",
    "usd_title_regex = re.compile(usd_pattern_title)"
   ]
  },
  {
   "cell_type": "code",
   "execution_count": 55,
   "id": "03ed7759",
   "metadata": {},
   "outputs": [],
   "source": [
    "title_uni_lower_match = title_serie.apply(lambda x:  x if x is np.NaN else usd_title_regex.search(x))"
   ]
  },
  {
   "cell_type": "code",
   "execution_count": 56,
   "id": "ed93165b",
   "metadata": {},
   "outputs": [
    {
     "data": {
      "text/plain": [
       "0         None\n",
       "1         None\n",
       "2         None\n",
       "3         None\n",
       "4         None\n",
       "          ... \n",
       "121215    None\n",
       "121216    None\n",
       "121217    None\n",
       "121218    None\n",
       "121219    None\n",
       "Name: title, Length: 115936, dtype: object"
      ]
     },
     "execution_count": 56,
     "metadata": {},
     "output_type": "execute_result"
    }
   ],
   "source": [
    "title_uni_lower_match"
   ]
  },
  {
   "cell_type": "code",
   "execution_count": 57,
   "id": "e0649b40",
   "metadata": {},
   "outputs": [],
   "source": [
    "mask_title_usd_match_notnull = title_uni_lower_match.notnull()"
   ]
  },
  {
   "cell_type": "code",
   "execution_count": 58,
   "id": "90e0328a",
   "metadata": {},
   "outputs": [],
   "source": [
    "mask_null_precios = data['price_aprox_usd'].isnull()"
   ]
  },
  {
   "cell_type": "code",
   "execution_count": 59,
   "id": "78be3796",
   "metadata": {},
   "outputs": [],
   "source": [
    "mask_title_usd = np.logical_and(mask_title_usd_match_notnull, mask_null_precios)\n",
    "#Aplicamos ambas máscaras, ya que solo nos interesa completar los registros nulos de price_aprox_usd"
   ]
  },
  {
   "cell_type": "code",
   "execution_count": 60,
   "id": "c5525faf",
   "metadata": {},
   "outputs": [
    {
     "data": {
      "text/plain": [
       "1665      <re.Match object; span=(0, 11), match='u$d 260...\n",
       "1666      <re.Match object; span=(0, 11), match='u$d 115...\n",
       "1667      <re.Match object; span=(0, 11), match='u$d 740...\n",
       "1669      <re.Match object; span=(0, 11), match='u$d 740...\n",
       "1677      <re.Match object; span=(0, 11), match='u$d 115...\n",
       "                                ...                        \n",
       "50055     <re.Match object; span=(57, 67), match='u$s 10...\n",
       "50056     <re.Match object; span=(57, 67), match='u$s 23...\n",
       "50057     <re.Match object; span=(49, 59), match='u$s 18...\n",
       "79472     <re.Match object; span=(38, 49), match='u$s 30...\n",
       "103676    <re.Match object; span=(71, 81), match='u$s 55...\n",
       "Name: title, Length: 2167, dtype: object"
      ]
     },
     "execution_count": 60,
     "metadata": {},
     "output_type": "execute_result"
    }
   ],
   "source": [
    "title_uni_lower_match[mask_title_usd] "
   ]
  },
  {
   "cell_type": "code",
   "execution_count": 61,
   "id": "8a7be7c6",
   "metadata": {},
   "outputs": [],
   "source": [
    "data.loc[mask_title_usd, \"PriceUSD_Clean\"] = title_uni_lower_match[mask_title_usd].apply(lambda x: x.group(\"Price_usd\"))"
   ]
  },
  {
   "cell_type": "code",
   "execution_count": 62,
   "id": "fd3a4ce6",
   "metadata": {},
   "outputs": [
    {
     "data": {
      "text/html": [
       "<div>\n",
       "<style scoped>\n",
       "    .dataframe tbody tr th:only-of-type {\n",
       "        vertical-align: middle;\n",
       "    }\n",
       "\n",
       "    .dataframe tbody tr th {\n",
       "        vertical-align: top;\n",
       "    }\n",
       "\n",
       "    .dataframe thead th {\n",
       "        text-align: right;\n",
       "    }\n",
       "</style>\n",
       "<table border=\"1\" class=\"dataframe\">\n",
       "  <thead>\n",
       "    <tr style=\"text-align: right;\">\n",
       "      <th></th>\n",
       "      <th>price_aprox_usd</th>\n",
       "      <th>PriceUSD_Clean</th>\n",
       "    </tr>\n",
       "  </thead>\n",
       "  <tbody>\n",
       "    <tr>\n",
       "      <th>1665</th>\n",
       "      <td>NaN</td>\n",
       "      <td>260.000</td>\n",
       "    </tr>\n",
       "    <tr>\n",
       "      <th>1666</th>\n",
       "      <td>NaN</td>\n",
       "      <td>115.000</td>\n",
       "    </tr>\n",
       "    <tr>\n",
       "      <th>1667</th>\n",
       "      <td>NaN</td>\n",
       "      <td>740.000</td>\n",
       "    </tr>\n",
       "    <tr>\n",
       "      <th>1669</th>\n",
       "      <td>NaN</td>\n",
       "      <td>740.000</td>\n",
       "    </tr>\n",
       "    <tr>\n",
       "      <th>1677</th>\n",
       "      <td>NaN</td>\n",
       "      <td>115.000</td>\n",
       "    </tr>\n",
       "    <tr>\n",
       "      <th>...</th>\n",
       "      <td>...</td>\n",
       "      <td>...</td>\n",
       "    </tr>\n",
       "    <tr>\n",
       "      <th>50055</th>\n",
       "      <td>NaN</td>\n",
       "      <td>101000</td>\n",
       "    </tr>\n",
       "    <tr>\n",
       "      <th>50056</th>\n",
       "      <td>NaN</td>\n",
       "      <td>235000</td>\n",
       "    </tr>\n",
       "    <tr>\n",
       "      <th>50057</th>\n",
       "      <td>NaN</td>\n",
       "      <td>180000</td>\n",
       "    </tr>\n",
       "    <tr>\n",
       "      <th>79472</th>\n",
       "      <td>NaN</td>\n",
       "      <td>300.000</td>\n",
       "    </tr>\n",
       "    <tr>\n",
       "      <th>103676</th>\n",
       "      <td>NaN</td>\n",
       "      <td>55.000</td>\n",
       "    </tr>\n",
       "  </tbody>\n",
       "</table>\n",
       "<p>2167 rows × 2 columns</p>\n",
       "</div>"
      ],
      "text/plain": [
       "        price_aprox_usd PriceUSD_Clean\n",
       "1665                NaN        260.000\n",
       "1666                NaN        115.000\n",
       "1667                NaN        740.000\n",
       "1669                NaN        740.000\n",
       "1677                NaN        115.000\n",
       "...                 ...            ...\n",
       "50055               NaN         101000\n",
       "50056               NaN         235000\n",
       "50057               NaN         180000\n",
       "79472               NaN        300.000\n",
       "103676              NaN         55.000\n",
       "\n",
       "[2167 rows x 2 columns]"
      ]
     },
     "execution_count": 62,
     "metadata": {},
     "output_type": "execute_result"
    }
   ],
   "source": [
    "data.loc[mask_title_usd, [\"price_aprox_usd\", \"PriceUSD_Clean\"]]"
   ]
  },
  {
   "cell_type": "code",
   "execution_count": 63,
   "id": "02fb60f4",
   "metadata": {},
   "outputs": [
    {
     "data": {
      "text/plain": [
       "PriceUSD_Clean    0\n",
       "dtype: int64"
      ]
     },
     "execution_count": 63,
     "metadata": {},
     "output_type": "execute_result"
    }
   ],
   "source": [
    "data.loc[mask_title_usd, [\"PriceUSD_Clean\"]].isnull().sum()"
   ]
  },
  {
   "cell_type": "markdown",
   "id": "a1740623",
   "metadata": {},
   "source": [
    "Pasamos el tipo de dato a Float"
   ]
  },
  {
   "cell_type": "code",
   "execution_count": 64,
   "id": "aff56757",
   "metadata": {},
   "outputs": [
    {
     "data": {
      "text/html": [
       "<div>\n",
       "<style scoped>\n",
       "    .dataframe tbody tr th:only-of-type {\n",
       "        vertical-align: middle;\n",
       "    }\n",
       "\n",
       "    .dataframe tbody tr th {\n",
       "        vertical-align: top;\n",
       "    }\n",
       "\n",
       "    .dataframe thead th {\n",
       "        text-align: right;\n",
       "    }\n",
       "</style>\n",
       "<table border=\"1\" class=\"dataframe\">\n",
       "  <thead>\n",
       "    <tr style=\"text-align: right;\">\n",
       "      <th></th>\n",
       "      <th>PriceUSD_Clean</th>\n",
       "    </tr>\n",
       "  </thead>\n",
       "  <tbody>\n",
       "    <tr>\n",
       "      <th>1665</th>\n",
       "      <td>260.0</td>\n",
       "    </tr>\n",
       "    <tr>\n",
       "      <th>1666</th>\n",
       "      <td>115.0</td>\n",
       "    </tr>\n",
       "    <tr>\n",
       "      <th>1667</th>\n",
       "      <td>740.0</td>\n",
       "    </tr>\n",
       "    <tr>\n",
       "      <th>1669</th>\n",
       "      <td>740.0</td>\n",
       "    </tr>\n",
       "    <tr>\n",
       "      <th>1677</th>\n",
       "      <td>115.0</td>\n",
       "    </tr>\n",
       "    <tr>\n",
       "      <th>...</th>\n",
       "      <td>...</td>\n",
       "    </tr>\n",
       "    <tr>\n",
       "      <th>50055</th>\n",
       "      <td>101000.0</td>\n",
       "    </tr>\n",
       "    <tr>\n",
       "      <th>50056</th>\n",
       "      <td>235000.0</td>\n",
       "    </tr>\n",
       "    <tr>\n",
       "      <th>50057</th>\n",
       "      <td>180000.0</td>\n",
       "    </tr>\n",
       "    <tr>\n",
       "      <th>79472</th>\n",
       "      <td>300.0</td>\n",
       "    </tr>\n",
       "    <tr>\n",
       "      <th>103676</th>\n",
       "      <td>55.0</td>\n",
       "    </tr>\n",
       "  </tbody>\n",
       "</table>\n",
       "<p>2167 rows × 1 columns</p>\n",
       "</div>"
      ],
      "text/plain": [
       "        PriceUSD_Clean\n",
       "1665             260.0\n",
       "1666             115.0\n",
       "1667             740.0\n",
       "1669             740.0\n",
       "1677             115.0\n",
       "...                ...\n",
       "50055         101000.0\n",
       "50056         235000.0\n",
       "50057         180000.0\n",
       "79472            300.0\n",
       "103676            55.0\n",
       "\n",
       "[2167 rows x 1 columns]"
      ]
     },
     "execution_count": 64,
     "metadata": {},
     "output_type": "execute_result"
    }
   ],
   "source": [
    "PriceUSD_Clean_float = data.loc[mask_title_usd, [\"PriceUSD_Clean\"]].astype('float')\n",
    "PriceUSD_Clean_float"
   ]
  },
  {
   "cell_type": "markdown",
   "id": "d94f519c",
   "metadata": {},
   "source": [
    "Aplicamos máscara booleana para encontrar los registros que figuran con valores menor a mil usd"
   ]
  },
  {
   "cell_type": "code",
   "execution_count": 65,
   "id": "09bc927c",
   "metadata": {},
   "outputs": [
    {
     "data": {
      "text/html": [
       "<div>\n",
       "<style scoped>\n",
       "    .dataframe tbody tr th:only-of-type {\n",
       "        vertical-align: middle;\n",
       "    }\n",
       "\n",
       "    .dataframe tbody tr th {\n",
       "        vertical-align: top;\n",
       "    }\n",
       "\n",
       "    .dataframe thead th {\n",
       "        text-align: right;\n",
       "    }\n",
       "</style>\n",
       "<table border=\"1\" class=\"dataframe\">\n",
       "  <thead>\n",
       "    <tr style=\"text-align: right;\">\n",
       "      <th></th>\n",
       "      <th>PriceUSD_Clean</th>\n",
       "    </tr>\n",
       "  </thead>\n",
       "  <tbody>\n",
       "    <tr>\n",
       "      <th>1665</th>\n",
       "      <td>260.0</td>\n",
       "    </tr>\n",
       "    <tr>\n",
       "      <th>1666</th>\n",
       "      <td>115.0</td>\n",
       "    </tr>\n",
       "    <tr>\n",
       "      <th>1667</th>\n",
       "      <td>740.0</td>\n",
       "    </tr>\n",
       "    <tr>\n",
       "      <th>1669</th>\n",
       "      <td>740.0</td>\n",
       "    </tr>\n",
       "    <tr>\n",
       "      <th>1677</th>\n",
       "      <td>115.0</td>\n",
       "    </tr>\n",
       "    <tr>\n",
       "      <th>...</th>\n",
       "      <td>...</td>\n",
       "    </tr>\n",
       "    <tr>\n",
       "      <th>50055</th>\n",
       "      <td>NaN</td>\n",
       "    </tr>\n",
       "    <tr>\n",
       "      <th>50056</th>\n",
       "      <td>NaN</td>\n",
       "    </tr>\n",
       "    <tr>\n",
       "      <th>50057</th>\n",
       "      <td>NaN</td>\n",
       "    </tr>\n",
       "    <tr>\n",
       "      <th>79472</th>\n",
       "      <td>300.0</td>\n",
       "    </tr>\n",
       "    <tr>\n",
       "      <th>103676</th>\n",
       "      <td>55.0</td>\n",
       "    </tr>\n",
       "  </tbody>\n",
       "</table>\n",
       "<p>2167 rows × 1 columns</p>\n",
       "</div>"
      ],
      "text/plain": [
       "        PriceUSD_Clean\n",
       "1665             260.0\n",
       "1666             115.0\n",
       "1667             740.0\n",
       "1669             740.0\n",
       "1677             115.0\n",
       "...                ...\n",
       "50055              NaN\n",
       "50056              NaN\n",
       "50057              NaN\n",
       "79472            300.0\n",
       "103676            55.0\n",
       "\n",
       "[2167 rows x 1 columns]"
      ]
     },
     "execution_count": 65,
     "metadata": {},
     "output_type": "execute_result"
    }
   ],
   "source": [
    "mask_Price_float = (PriceUSD_Clean_float<1000)\n",
    "PriceUSD_Clean_float[mask_Price_float]"
   ]
  },
  {
   "cell_type": "markdown",
   "id": "39a64e52",
   "metadata": {},
   "source": [
    "Multiplicamos los valores por mil para que sean numeros coherentes"
   ]
  },
  {
   "cell_type": "markdown",
   "id": "2a7c6458",
   "metadata": {},
   "source": [
    "<p style=\"color:#FF0000\";> Polémica decisión. ¿Cuáles son los argumentos? Siempre es preferible resignar observaciones que meter ruido. Más si estamos hablando de la variable target o variables auxiliares que podrían utilizarse para reconstruir a la target."
   ]
  },
  {
   "cell_type": "code",
   "execution_count": 66,
   "id": "687f9f34",
   "metadata": {},
   "outputs": [
    {
     "data": {
      "text/html": [
       "<div>\n",
       "<style scoped>\n",
       "    .dataframe tbody tr th:only-of-type {\n",
       "        vertical-align: middle;\n",
       "    }\n",
       "\n",
       "    .dataframe tbody tr th {\n",
       "        vertical-align: top;\n",
       "    }\n",
       "\n",
       "    .dataframe thead th {\n",
       "        text-align: right;\n",
       "    }\n",
       "</style>\n",
       "<table border=\"1\" class=\"dataframe\">\n",
       "  <thead>\n",
       "    <tr style=\"text-align: right;\">\n",
       "      <th></th>\n",
       "      <th>PriceUSD_Clean</th>\n",
       "    </tr>\n",
       "  </thead>\n",
       "  <tbody>\n",
       "    <tr>\n",
       "      <th>1665</th>\n",
       "      <td>260000.0</td>\n",
       "    </tr>\n",
       "    <tr>\n",
       "      <th>1666</th>\n",
       "      <td>115000.0</td>\n",
       "    </tr>\n",
       "    <tr>\n",
       "      <th>1667</th>\n",
       "      <td>740000.0</td>\n",
       "    </tr>\n",
       "    <tr>\n",
       "      <th>1669</th>\n",
       "      <td>740000.0</td>\n",
       "    </tr>\n",
       "    <tr>\n",
       "      <th>1677</th>\n",
       "      <td>115000.0</td>\n",
       "    </tr>\n",
       "    <tr>\n",
       "      <th>...</th>\n",
       "      <td>...</td>\n",
       "    </tr>\n",
       "    <tr>\n",
       "      <th>50055</th>\n",
       "      <td>NaN</td>\n",
       "    </tr>\n",
       "    <tr>\n",
       "      <th>50056</th>\n",
       "      <td>NaN</td>\n",
       "    </tr>\n",
       "    <tr>\n",
       "      <th>50057</th>\n",
       "      <td>NaN</td>\n",
       "    </tr>\n",
       "    <tr>\n",
       "      <th>79472</th>\n",
       "      <td>300000.0</td>\n",
       "    </tr>\n",
       "    <tr>\n",
       "      <th>103676</th>\n",
       "      <td>55000.0</td>\n",
       "    </tr>\n",
       "  </tbody>\n",
       "</table>\n",
       "<p>2167 rows × 1 columns</p>\n",
       "</div>"
      ],
      "text/plain": [
       "        PriceUSD_Clean\n",
       "1665          260000.0\n",
       "1666          115000.0\n",
       "1667          740000.0\n",
       "1669          740000.0\n",
       "1677          115000.0\n",
       "...                ...\n",
       "50055              NaN\n",
       "50056              NaN\n",
       "50057              NaN\n",
       "79472         300000.0\n",
       "103676         55000.0\n",
       "\n",
       "[2167 rows x 1 columns]"
      ]
     },
     "execution_count": 66,
     "metadata": {},
     "output_type": "execute_result"
    }
   ],
   "source": [
    "PriceUSD_Clean_float_product = PriceUSD_Clean_float[mask_Price_float]* 1000\n",
    "PriceUSD_Clean_float_product"
   ]
  },
  {
   "cell_type": "markdown",
   "id": "521ab662",
   "metadata": {},
   "source": [
    "Eliminamos los NaN, ya que lo que buscamos es reescribir los valores de la columna con precios coherentes."
   ]
  },
  {
   "cell_type": "code",
   "execution_count": 67,
   "id": "ed1a8694",
   "metadata": {},
   "outputs": [
    {
     "data": {
      "text/html": [
       "<div>\n",
       "<style scoped>\n",
       "    .dataframe tbody tr th:only-of-type {\n",
       "        vertical-align: middle;\n",
       "    }\n",
       "\n",
       "    .dataframe tbody tr th {\n",
       "        vertical-align: top;\n",
       "    }\n",
       "\n",
       "    .dataframe thead th {\n",
       "        text-align: right;\n",
       "    }\n",
       "</style>\n",
       "<table border=\"1\" class=\"dataframe\">\n",
       "  <thead>\n",
       "    <tr style=\"text-align: right;\">\n",
       "      <th></th>\n",
       "      <th>PriceUSD_Clean</th>\n",
       "    </tr>\n",
       "  </thead>\n",
       "  <tbody>\n",
       "    <tr>\n",
       "      <th>1665</th>\n",
       "      <td>260000.0</td>\n",
       "    </tr>\n",
       "    <tr>\n",
       "      <th>1666</th>\n",
       "      <td>115000.0</td>\n",
       "    </tr>\n",
       "    <tr>\n",
       "      <th>1667</th>\n",
       "      <td>740000.0</td>\n",
       "    </tr>\n",
       "    <tr>\n",
       "      <th>1669</th>\n",
       "      <td>740000.0</td>\n",
       "    </tr>\n",
       "    <tr>\n",
       "      <th>1677</th>\n",
       "      <td>115000.0</td>\n",
       "    </tr>\n",
       "    <tr>\n",
       "      <th>...</th>\n",
       "      <td>...</td>\n",
       "    </tr>\n",
       "    <tr>\n",
       "      <th>22370</th>\n",
       "      <td>125000.0</td>\n",
       "    </tr>\n",
       "    <tr>\n",
       "      <th>25757</th>\n",
       "      <td>35080.0</td>\n",
       "    </tr>\n",
       "    <tr>\n",
       "      <th>48651</th>\n",
       "      <td>68000.0</td>\n",
       "    </tr>\n",
       "    <tr>\n",
       "      <th>79472</th>\n",
       "      <td>300000.0</td>\n",
       "    </tr>\n",
       "    <tr>\n",
       "      <th>103676</th>\n",
       "      <td>55000.0</td>\n",
       "    </tr>\n",
       "  </tbody>\n",
       "</table>\n",
       "<p>2162 rows × 1 columns</p>\n",
       "</div>"
      ],
      "text/plain": [
       "        PriceUSD_Clean\n",
       "1665          260000.0\n",
       "1666          115000.0\n",
       "1667          740000.0\n",
       "1669          740000.0\n",
       "1677          115000.0\n",
       "...                ...\n",
       "22370         125000.0\n",
       "25757          35080.0\n",
       "48651          68000.0\n",
       "79472         300000.0\n",
       "103676         55000.0\n",
       "\n",
       "[2162 rows x 1 columns]"
      ]
     },
     "execution_count": 67,
     "metadata": {},
     "output_type": "execute_result"
    }
   ],
   "source": [
    "PriceUSD_Clean_float_product = PriceUSD_Clean_float_product.dropna()\n",
    "PriceUSD_Clean_float_product"
   ]
  },
  {
   "cell_type": "code",
   "execution_count": 68,
   "id": "99eba5a3",
   "metadata": {},
   "outputs": [
    {
     "data": {
      "text/html": [
       "<div>\n",
       "<style scoped>\n",
       "    .dataframe tbody tr th:only-of-type {\n",
       "        vertical-align: middle;\n",
       "    }\n",
       "\n",
       "    .dataframe tbody tr th {\n",
       "        vertical-align: top;\n",
       "    }\n",
       "\n",
       "    .dataframe thead th {\n",
       "        text-align: right;\n",
       "    }\n",
       "</style>\n",
       "<table border=\"1\" class=\"dataframe\">\n",
       "  <thead>\n",
       "    <tr style=\"text-align: right;\">\n",
       "      <th></th>\n",
       "      <th>PriceUSD_Clean</th>\n",
       "    </tr>\n",
       "  </thead>\n",
       "  <tbody>\n",
       "    <tr>\n",
       "      <th>count</th>\n",
       "      <td>2162.000000</td>\n",
       "    </tr>\n",
       "    <tr>\n",
       "      <th>mean</th>\n",
       "      <td>191274.279833</td>\n",
       "    </tr>\n",
       "    <tr>\n",
       "      <th>std</th>\n",
       "      <td>153040.466345</td>\n",
       "    </tr>\n",
       "    <tr>\n",
       "      <th>min</th>\n",
       "      <td>1000.000000</td>\n",
       "    </tr>\n",
       "    <tr>\n",
       "      <th>25%</th>\n",
       "      <td>90000.000000</td>\n",
       "    </tr>\n",
       "    <tr>\n",
       "      <th>50%</th>\n",
       "      <td>140000.000000</td>\n",
       "    </tr>\n",
       "    <tr>\n",
       "      <th>75%</th>\n",
       "      <td>250000.000000</td>\n",
       "    </tr>\n",
       "    <tr>\n",
       "      <th>max</th>\n",
       "      <td>980000.000000</td>\n",
       "    </tr>\n",
       "  </tbody>\n",
       "</table>\n",
       "</div>"
      ],
      "text/plain": [
       "       PriceUSD_Clean\n",
       "count     2162.000000\n",
       "mean    191274.279833\n",
       "std     153040.466345\n",
       "min       1000.000000\n",
       "25%      90000.000000\n",
       "50%     140000.000000\n",
       "75%     250000.000000\n",
       "max     980000.000000"
      ]
     },
     "execution_count": 68,
     "metadata": {},
     "output_type": "execute_result"
    }
   ],
   "source": [
    "PriceUSD_Clean_float_product.describe() #Vemos que hay registros con valor 1000 usd (es decir que originalmente figuraban como 1 usd)"
   ]
  },
  {
   "cell_type": "code",
   "execution_count": 69,
   "id": "6d04e4a8",
   "metadata": {},
   "outputs": [],
   "source": [
    "PriceUSD_Clean_float_product_copy=PriceUSD_Clean_float_product.copy()"
   ]
  },
  {
   "cell_type": "markdown",
   "id": "347489b8",
   "metadata": {},
   "source": [
    "Multiplicaremos los valores menores a usd 10000 por 100 para que sean numeros coherentes"
   ]
  },
  {
   "cell_type": "markdown",
   "id": "0de67589",
   "metadata": {},
   "source": [
    "<p style=\"color:#FF0000\";> Demasiado forzado estas multiplicaciones. No hay sustento claro de por qué se hace. Si hubiesen observaciones que dijeran \"100 mil\" o algo por el estilo, habría quebuscarlo con regex. Hay que sacar esta parte del procesamiento para el deasfio 2 porque sino les va a traer mucho ruido"
   ]
  },
  {
   "cell_type": "code",
   "execution_count": 70,
   "id": "2570ca30",
   "metadata": {},
   "outputs": [],
   "source": [
    "mask_under_10000_title = PriceUSD_Clean_float_product < 10000"
   ]
  },
  {
   "cell_type": "code",
   "execution_count": 205,
   "id": "1ef4acac",
   "metadata": {},
   "outputs": [
    {
     "data": {
      "text/html": [
       "<div>\n",
       "<style scoped>\n",
       "    .dataframe tbody tr th:only-of-type {\n",
       "        vertical-align: middle;\n",
       "    }\n",
       "\n",
       "    .dataframe tbody tr th {\n",
       "        vertical-align: top;\n",
       "    }\n",
       "\n",
       "    .dataframe thead th {\n",
       "        text-align: right;\n",
       "    }\n",
       "</style>\n",
       "<table border=\"1\" class=\"dataframe\">\n",
       "  <thead>\n",
       "    <tr style=\"text-align: right;\">\n",
       "      <th></th>\n",
       "      <th>PriceUSD_Clean</th>\n",
       "    </tr>\n",
       "  </thead>\n",
       "  <tbody>\n",
       "    <tr>\n",
       "      <th>2603</th>\n",
       "      <td>100000.0</td>\n",
       "    </tr>\n",
       "    <tr>\n",
       "      <th>2414</th>\n",
       "      <td>110000.0</td>\n",
       "    </tr>\n",
       "    <tr>\n",
       "      <th>2669</th>\n",
       "      <td>100000.0</td>\n",
       "    </tr>\n",
       "    <tr>\n",
       "      <th>2630</th>\n",
       "      <td>100000.0</td>\n",
       "    </tr>\n",
       "    <tr>\n",
       "      <th>2635</th>\n",
       "      <td>100000.0</td>\n",
       "    </tr>\n",
       "    <tr>\n",
       "      <th>2530</th>\n",
       "      <td>100000.0</td>\n",
       "    </tr>\n",
       "    <tr>\n",
       "      <th>2006</th>\n",
       "      <td>100000.0</td>\n",
       "    </tr>\n",
       "    <tr>\n",
       "      <th>1936</th>\n",
       "      <td>123400.0</td>\n",
       "    </tr>\n",
       "    <tr>\n",
       "      <th>2631</th>\n",
       "      <td>100000.0</td>\n",
       "    </tr>\n",
       "    <tr>\n",
       "      <th>2619</th>\n",
       "      <td>100000.0</td>\n",
       "    </tr>\n",
       "  </tbody>\n",
       "</table>\n",
       "</div>"
      ],
      "text/plain": [
       "      PriceUSD_Clean\n",
       "2603        100000.0\n",
       "2414        110000.0\n",
       "2669        100000.0\n",
       "2630        100000.0\n",
       "2635        100000.0\n",
       "2530        100000.0\n",
       "2006        100000.0\n",
       "1936        123400.0\n",
       "2631        100000.0\n",
       "2619        100000.0"
      ]
     },
     "execution_count": 205,
     "metadata": {},
     "output_type": "execute_result"
    }
   ],
   "source": [
    "corected_values = PriceUSD_Clean_float_product.loc[mask_under_10000_title.values] * 100\n",
    "corected_values.sample(10)"
   ]
  },
  {
   "cell_type": "code",
   "execution_count": 72,
   "id": "6f84038e",
   "metadata": {},
   "outputs": [
    {
     "data": {
      "text/html": [
       "<div>\n",
       "<style scoped>\n",
       "    .dataframe tbody tr th:only-of-type {\n",
       "        vertical-align: middle;\n",
       "    }\n",
       "\n",
       "    .dataframe tbody tr th {\n",
       "        vertical-align: top;\n",
       "    }\n",
       "\n",
       "    .dataframe thead th {\n",
       "        text-align: right;\n",
       "    }\n",
       "</style>\n",
       "<table border=\"1\" class=\"dataframe\">\n",
       "  <thead>\n",
       "    <tr style=\"text-align: right;\">\n",
       "      <th></th>\n",
       "      <th>PriceUSD_Clean</th>\n",
       "    </tr>\n",
       "  </thead>\n",
       "  <tbody>\n",
       "    <tr>\n",
       "      <th>1665</th>\n",
       "      <td>260000.0</td>\n",
       "    </tr>\n",
       "    <tr>\n",
       "      <th>1666</th>\n",
       "      <td>115000.0</td>\n",
       "    </tr>\n",
       "    <tr>\n",
       "      <th>1667</th>\n",
       "      <td>740000.0</td>\n",
       "    </tr>\n",
       "    <tr>\n",
       "      <th>1669</th>\n",
       "      <td>740000.0</td>\n",
       "    </tr>\n",
       "    <tr>\n",
       "      <th>1677</th>\n",
       "      <td>115000.0</td>\n",
       "    </tr>\n",
       "    <tr>\n",
       "      <th>...</th>\n",
       "      <td>...</td>\n",
       "    </tr>\n",
       "    <tr>\n",
       "      <th>22370</th>\n",
       "      <td>125000.0</td>\n",
       "    </tr>\n",
       "    <tr>\n",
       "      <th>25757</th>\n",
       "      <td>35080.0</td>\n",
       "    </tr>\n",
       "    <tr>\n",
       "      <th>48651</th>\n",
       "      <td>68000.0</td>\n",
       "    </tr>\n",
       "    <tr>\n",
       "      <th>79472</th>\n",
       "      <td>300000.0</td>\n",
       "    </tr>\n",
       "    <tr>\n",
       "      <th>103676</th>\n",
       "      <td>55000.0</td>\n",
       "    </tr>\n",
       "  </tbody>\n",
       "</table>\n",
       "<p>2162 rows × 1 columns</p>\n",
       "</div>"
      ],
      "text/plain": [
       "        PriceUSD_Clean\n",
       "1665          260000.0\n",
       "1666          115000.0\n",
       "1667          740000.0\n",
       "1669          740000.0\n",
       "1677          115000.0\n",
       "...                ...\n",
       "22370         125000.0\n",
       "25757          35080.0\n",
       "48651          68000.0\n",
       "79472         300000.0\n",
       "103676         55000.0\n",
       "\n",
       "[2162 rows x 1 columns]"
      ]
     },
     "execution_count": 72,
     "metadata": {},
     "output_type": "execute_result"
    }
   ],
   "source": [
    "mask_index_corected_values = corected_values.index\n",
    "PriceUSD_Clean_float_product_copy.loc[mask_index_corected_values] = corected_values\n",
    "PriceUSD_Clean_float_product_copy"
   ]
  },
  {
   "cell_type": "code",
   "execution_count": 73,
   "id": "9a6db5f1",
   "metadata": {},
   "outputs": [
    {
     "data": {
      "text/html": [
       "<div>\n",
       "<style scoped>\n",
       "    .dataframe tbody tr th:only-of-type {\n",
       "        vertical-align: middle;\n",
       "    }\n",
       "\n",
       "    .dataframe tbody tr th {\n",
       "        vertical-align: top;\n",
       "    }\n",
       "\n",
       "    .dataframe thead th {\n",
       "        text-align: right;\n",
       "    }\n",
       "</style>\n",
       "<table border=\"1\" class=\"dataframe\">\n",
       "  <thead>\n",
       "    <tr style=\"text-align: right;\">\n",
       "      <th></th>\n",
       "      <th>PriceUSD_Clean</th>\n",
       "    </tr>\n",
       "  </thead>\n",
       "  <tbody>\n",
       "    <tr>\n",
       "      <th>count</th>\n",
       "      <td>2162.000000</td>\n",
       "    </tr>\n",
       "    <tr>\n",
       "      <th>mean</th>\n",
       "      <td>194034.923682</td>\n",
       "    </tr>\n",
       "    <tr>\n",
       "      <th>std</th>\n",
       "      <td>151123.847989</td>\n",
       "    </tr>\n",
       "    <tr>\n",
       "      <th>min</th>\n",
       "      <td>11800.000000</td>\n",
       "    </tr>\n",
       "    <tr>\n",
       "      <th>25%</th>\n",
       "      <td>95000.000000</td>\n",
       "    </tr>\n",
       "    <tr>\n",
       "      <th>50%</th>\n",
       "      <td>144000.000000</td>\n",
       "    </tr>\n",
       "    <tr>\n",
       "      <th>75%</th>\n",
       "      <td>250000.000000</td>\n",
       "    </tr>\n",
       "    <tr>\n",
       "      <th>max</th>\n",
       "      <td>980000.000000</td>\n",
       "    </tr>\n",
       "  </tbody>\n",
       "</table>\n",
       "</div>"
      ],
      "text/plain": [
       "       PriceUSD_Clean\n",
       "count     2162.000000\n",
       "mean    194034.923682\n",
       "std     151123.847989\n",
       "min      11800.000000\n",
       "25%      95000.000000\n",
       "50%     144000.000000\n",
       "75%     250000.000000\n",
       "max     980000.000000"
      ]
     },
     "execution_count": 73,
     "metadata": {},
     "output_type": "execute_result"
    }
   ],
   "source": [
    "PriceUSD_Clean_float_product_copy.describe()"
   ]
  },
  {
   "cell_type": "markdown",
   "id": "bfb68219",
   "metadata": {},
   "source": [
    "Reescribimos los valores en la columna PriceUSD_Clean"
   ]
  },
  {
   "cell_type": "code",
   "execution_count": 74,
   "id": "bd353089",
   "metadata": {},
   "outputs": [
    {
     "data": {
      "text/html": [
       "<div>\n",
       "<style scoped>\n",
       "    .dataframe tbody tr th:only-of-type {\n",
       "        vertical-align: middle;\n",
       "    }\n",
       "\n",
       "    .dataframe tbody tr th {\n",
       "        vertical-align: top;\n",
       "    }\n",
       "\n",
       "    .dataframe thead th {\n",
       "        text-align: right;\n",
       "    }\n",
       "</style>\n",
       "<table border=\"1\" class=\"dataframe\">\n",
       "  <thead>\n",
       "    <tr style=\"text-align: right;\">\n",
       "      <th></th>\n",
       "      <th>PriceUSD_Clean</th>\n",
       "    </tr>\n",
       "  </thead>\n",
       "  <tbody>\n",
       "    <tr>\n",
       "      <th>1665</th>\n",
       "      <td>260000</td>\n",
       "    </tr>\n",
       "    <tr>\n",
       "      <th>1666</th>\n",
       "      <td>115000</td>\n",
       "    </tr>\n",
       "    <tr>\n",
       "      <th>1667</th>\n",
       "      <td>740000</td>\n",
       "    </tr>\n",
       "    <tr>\n",
       "      <th>1669</th>\n",
       "      <td>740000</td>\n",
       "    </tr>\n",
       "    <tr>\n",
       "      <th>1677</th>\n",
       "      <td>115000</td>\n",
       "    </tr>\n",
       "    <tr>\n",
       "      <th>...</th>\n",
       "      <td>...</td>\n",
       "    </tr>\n",
       "    <tr>\n",
       "      <th>50055</th>\n",
       "      <td>101000</td>\n",
       "    </tr>\n",
       "    <tr>\n",
       "      <th>50056</th>\n",
       "      <td>235000</td>\n",
       "    </tr>\n",
       "    <tr>\n",
       "      <th>50057</th>\n",
       "      <td>180000</td>\n",
       "    </tr>\n",
       "    <tr>\n",
       "      <th>79472</th>\n",
       "      <td>300000</td>\n",
       "    </tr>\n",
       "    <tr>\n",
       "      <th>103676</th>\n",
       "      <td>55000</td>\n",
       "    </tr>\n",
       "  </tbody>\n",
       "</table>\n",
       "<p>2167 rows × 1 columns</p>\n",
       "</div>"
      ],
      "text/plain": [
       "       PriceUSD_Clean\n",
       "1665           260000\n",
       "1666           115000\n",
       "1667           740000\n",
       "1669           740000\n",
       "1677           115000\n",
       "...               ...\n",
       "50055          101000\n",
       "50056          235000\n",
       "50057          180000\n",
       "79472          300000\n",
       "103676          55000\n",
       "\n",
       "[2167 rows x 1 columns]"
      ]
     },
     "execution_count": 74,
     "metadata": {},
     "output_type": "execute_result"
    }
   ],
   "source": [
    "data.loc[PriceUSD_Clean_float_product.index, [\"PriceUSD_Clean\"]] = PriceUSD_Clean_float_product_copy\n",
    "data.loc[mask_title_usd, [\"PriceUSD_Clean\"]]"
   ]
  },
  {
   "cell_type": "code",
   "execution_count": 75,
   "id": "d6128154",
   "metadata": {},
   "outputs": [
    {
     "data": {
      "text/plain": [
       "113769"
      ]
     },
     "execution_count": 75,
     "metadata": {},
     "output_type": "execute_result"
    }
   ],
   "source": [
    "data[\"PriceUSD_Clean\"].isnull().sum()"
   ]
  },
  {
   "cell_type": "code",
   "execution_count": 76,
   "id": "dcca959b",
   "metadata": {},
   "outputs": [
    {
     "data": {
      "text/plain": [
       "2167"
      ]
     },
     "execution_count": 76,
     "metadata": {},
     "output_type": "execute_result"
    }
   ],
   "source": [
    "data[\"PriceUSD_Clean\"].notnull().sum()"
   ]
  },
  {
   "cell_type": "markdown",
   "id": "5fafa518",
   "metadata": {},
   "source": [
    "Rellenamos PriceUSD_Clean con los valores no nulos originales que tenemos de la columna price_aprox_usd"
   ]
  },
  {
   "cell_type": "code",
   "execution_count": 77,
   "id": "596a8885",
   "metadata": {},
   "outputs": [
    {
     "data": {
      "text/plain": [
       "0          62000\n",
       "1         150000\n",
       "2          72000\n",
       "3          95000\n",
       "4          64000\n",
       "           ...  \n",
       "121215    870000\n",
       "121216    498000\n",
       "121217    131500\n",
       "121218     95900\n",
       "121219    129000\n",
       "Name: PriceUSD_Clean, Length: 115936, dtype: object"
      ]
     },
     "execution_count": 77,
     "metadata": {},
     "output_type": "execute_result"
    }
   ],
   "source": [
    "data.loc[data.loc[data[\"price_aprox_usd\"].notnull(), [\"price_aprox_usd\"]].index, [\"PriceUSD_Clean\"]]= \\\n",
    "        data.loc[data[\"price_aprox_usd\"].notnull(), [\"price_aprox_usd\"]].values\n",
    "data[\"PriceUSD_Clean\"]"
   ]
  },
  {
   "cell_type": "code",
   "execution_count": 78,
   "id": "35caecb5",
   "metadata": {},
   "outputs": [
    {
     "data": {
      "text/plain": [
       "15254"
      ]
     },
     "execution_count": 78,
     "metadata": {},
     "output_type": "execute_result"
    }
   ],
   "source": [
    "data[\"PriceUSD_Clean\"].isnull().sum()"
   ]
  },
  {
   "cell_type": "markdown",
   "id": "74e32c3e",
   "metadata": {},
   "source": [
    "Verificación de que la cantidad de nulos en PriceUSD_Clean es la cantidad de nulos en price_aprox_usd menos los registros rellenados:"
   ]
  },
  {
   "cell_type": "code",
   "execution_count": 79,
   "id": "62917a21",
   "metadata": {},
   "outputs": [
    {
     "data": {
      "text/plain": [
       "15254"
      ]
     },
     "execution_count": 79,
     "metadata": {},
     "output_type": "execute_result"
    }
   ],
   "source": [
    "data[\"price_aprox_usd\"].isnull().sum() - 2167"
   ]
  },
  {
   "cell_type": "markdown",
   "id": "576fedba",
   "metadata": {},
   "source": [
    "<p style=\"color:#FF0000\";> Hay que evitar escribir números absolutos en la notebook porque si cambiamos algo dle procesamiento anterior ese \"2167\" podría variar y no se veria reflejado en esta celda"
   ]
  },
  {
   "cell_type": "code",
   "execution_count": 80,
   "id": "c1279234",
   "metadata": {},
   "outputs": [
    {
     "name": "stdout",
     "output_type": "stream",
     "text": [
      "Porcentaje de no nulos inicial: 84.97\n",
      "Nuevo porcentaje de no nulos: 86.84\n"
     ]
    }
   ],
   "source": [
    "print('Porcentaje de no nulos inicial:', round(perc_notnull_precios_inicial,2))\n",
    "print('Nuevo porcentaje de no nulos:', round(data[\"PriceUSD_Clean\"].notnull().sum()*100/data.shape[0],2))"
   ]
  },
  {
   "cell_type": "markdown",
   "id": "bdf1f632",
   "metadata": {},
   "source": [
    "Ahora se intentará rellenar la mayor cantidad posibles de precios nulos con la columna Description."
   ]
  },
  {
   "cell_type": "code",
   "execution_count": 81,
   "id": "ce1bb536",
   "metadata": {},
   "outputs": [
    {
     "data": {
      "text/plain": [
       "0         2 ambientes tipo casa planta baja por pasillo,...\n",
       "1         venta de departamento en decimo piso al frente...\n",
       "2         2 ambientes 3er piso lateral living comedor am...\n",
       "3         ph 3 ambientes con patio. hay 3 deptos en lote...\n",
       "4         departamento con fantastica iluminacion natura...\n",
       "                                ...                        \n",
       "121215    torre forum alcorta - maxima categoria.impecab...\n",
       "121216    excelente e impecable casa en venta en las lom...\n",
       "121217    venta departamento ambiente divisible a estren...\n",
       "121218    2 amb al contrafrente,  luminoso. el departame...\n",
       "121219    departamento de 77 m2 apto profesional. edific...\n",
       "Name: description, Length: 115936, dtype: object"
      ]
     },
     "execution_count": 81,
     "metadata": {},
     "output_type": "execute_result"
    }
   ],
   "source": [
    "description_uni_lower = data['description']\n",
    "description_uni_lower"
   ]
  },
  {
   "cell_type": "code",
   "execution_count": 82,
   "id": "04e86af9",
   "metadata": {},
   "outputs": [],
   "source": [
    "usd_pattern_description = \"(?:usd|us\\$|u\\$s|u\\$d|dolares)(?:\\s?\\s?)(?P<Price_usd>\\d+[\\.]?[\\,]?\\d*)\"\n",
    "usd_description_regex = re.compile(usd_pattern_description)"
   ]
  },
  {
   "cell_type": "code",
   "execution_count": 83,
   "id": "34e52eca",
   "metadata": {},
   "outputs": [
    {
     "data": {
      "text/plain": [
       "0               []\n",
       "1         [20.000]\n",
       "2               []\n",
       "3               []\n",
       "4               []\n",
       "            ...   \n",
       "121215          []\n",
       "121216          []\n",
       "121217    [20.000]\n",
       "121218    [95.900]\n",
       "121219          []\n",
       "Name: description, Length: 115936, dtype: object"
      ]
     },
     "execution_count": 83,
     "metadata": {},
     "output_type": "execute_result"
    }
   ],
   "source": [
    "description_match = description_uni_lower.apply(lambda x: x if x is np.NaN else usd_description_regex.findall(x))\n",
    "description_match"
   ]
  },
  {
   "cell_type": "code",
   "execution_count": 84,
   "id": "7ccf4975",
   "metadata": {},
   "outputs": [
    {
     "data": {
      "text/plain": [
       "0          NaN\n",
       "1         20.0\n",
       "2          NaN\n",
       "3          NaN\n",
       "4          NaN\n",
       "          ... \n",
       "121215     NaN\n",
       "121216     NaN\n",
       "121217    20.0\n",
       "121218    95.9\n",
       "121219     NaN\n",
       "Name: description, Length: 115936, dtype: float64"
      ]
     },
     "execution_count": 84,
     "metadata": {},
     "output_type": "execute_result"
    }
   ],
   "source": [
    "description_match_float = description_match.apply(lambda x: x if x is np.NaN else convert_float(x))\n",
    "description_match_float"
   ]
  },
  {
   "cell_type": "code",
   "execution_count": 85,
   "id": "a026ed73",
   "metadata": {},
   "outputs": [
    {
     "data": {
      "text/plain": [
       "12319"
      ]
     },
     "execution_count": 85,
     "metadata": {},
     "output_type": "execute_result"
    }
   ],
   "source": [
    "description_match_float.notnull().sum()"
   ]
  },
  {
   "cell_type": "code",
   "execution_count": 86,
   "id": "1a7303a1",
   "metadata": {},
   "outputs": [],
   "source": [
    "mask_PriceUSD_Clean_null = data[\"PriceUSD_Clean\"].isnull()"
   ]
  },
  {
   "cell_type": "code",
   "execution_count": 87,
   "id": "b62bd57a",
   "metadata": {},
   "outputs": [
    {
     "data": {
      "text/plain": [
       "5           NaN\n",
       "20          NaN\n",
       "41          NaN\n",
       "62          NaN\n",
       "67          NaN\n",
       "          ...  \n",
       "121210      NaN\n",
       "121211      NaN\n",
       "121212      NaN\n",
       "121213      NaN\n",
       "121214    1.619\n",
       "Name: description, Length: 15254, dtype: float64"
      ]
     },
     "execution_count": 87,
     "metadata": {},
     "output_type": "execute_result"
    }
   ],
   "source": [
    "description_match_float[mask_PriceUSD_Clean_null]"
   ]
  },
  {
   "cell_type": "code",
   "execution_count": 88,
   "id": "6ba78912",
   "metadata": {},
   "outputs": [],
   "source": [
    "mask_description_match_notnull = description_match_float.notnull()"
   ]
  },
  {
   "cell_type": "code",
   "execution_count": 89,
   "id": "d26ebcc0",
   "metadata": {},
   "outputs": [
    {
     "data": {
      "text/plain": [
       "1          20.000\n",
       "15        250.000\n",
       "24        380.940\n",
       "25        385.640\n",
       "28        390.700\n",
       "           ...   \n",
       "121139      2.589\n",
       "121143    305.000\n",
       "121214      1.619\n",
       "121217     20.000\n",
       "121218     95.900\n",
       "Name: description, Length: 12319, dtype: float64"
      ]
     },
     "execution_count": 89,
     "metadata": {},
     "output_type": "execute_result"
    }
   ],
   "source": [
    "description_match_float[mask_description_match_notnull]"
   ]
  },
  {
   "cell_type": "code",
   "execution_count": 90,
   "id": "67db0672",
   "metadata": {},
   "outputs": [],
   "source": [
    "mask_PriceUSD_Clean_null = data[\"PriceUSD_Clean\"].isnull()"
   ]
  },
  {
   "cell_type": "code",
   "execution_count": 91,
   "id": "f712f6c7",
   "metadata": {},
   "outputs": [
    {
     "data": {
      "text/plain": [
       "126         1.000\n",
       "263       240.000\n",
       "264       220.000\n",
       "273         1.000\n",
       "275         1.000\n",
       "           ...   \n",
       "120895     20.000\n",
       "120897     20.000\n",
       "120908     20.000\n",
       "120912     20.000\n",
       "121214      1.619\n",
       "Name: description, Length: 656, dtype: float64"
      ]
     },
     "execution_count": 91,
     "metadata": {},
     "output_type": "execute_result"
    }
   ],
   "source": [
    "description_match_float[mask_description_match_notnull & mask_PriceUSD_Clean_null]"
   ]
  },
  {
   "cell_type": "code",
   "execution_count": 92,
   "id": "42275bc9",
   "metadata": {},
   "outputs": [
    {
     "data": {
      "text/plain": [
       "count       656.000000\n",
       "mean        708.372691\n",
       "std        7230.408848\n",
       "min           0.000000\n",
       "25%           1.000000\n",
       "50%           4.100000\n",
       "75%          57.000000\n",
       "max      150000.000000\n",
       "Name: description, dtype: float64"
      ]
     },
     "execution_count": 92,
     "metadata": {},
     "output_type": "execute_result"
    }
   ],
   "source": [
    "description_match_float[mask_description_match_notnull & mask_PriceUSD_Clean_null].describe()"
   ]
  },
  {
   "cell_type": "code",
   "execution_count": 93,
   "id": "dae92044",
   "metadata": {},
   "outputs": [
    {
     "data": {
      "text/plain": [
       "656"
      ]
     },
     "execution_count": 93,
     "metadata": {},
     "output_type": "execute_result"
    }
   ],
   "source": [
    "description_match_float[mask_description_match_notnull & mask_PriceUSD_Clean_null].notnull().sum()"
   ]
  },
  {
   "cell_type": "code",
   "execution_count": 94,
   "id": "bad7388d",
   "metadata": {},
   "outputs": [],
   "source": [
    "description_values_available=description_match_float[mask_description_match_notnull & mask_PriceUSD_Clean_null]"
   ]
  },
  {
   "cell_type": "markdown",
   "id": "9560d727",
   "metadata": {},
   "source": [
    "Se realiza el mismo tratamiento que se efectuó en Title, con los valores menores a 1000 y 10000:"
   ]
  },
  {
   "cell_type": "markdown",
   "id": "708a364d",
   "metadata": {},
   "source": [
    "<p style=\"color:#FF0000\";> Mal"
   ]
  },
  {
   "cell_type": "code",
   "execution_count": 95,
   "id": "1fe6c0e6",
   "metadata": {},
   "outputs": [],
   "source": [
    "mask_values_under_1000_description=description_values_available<1000"
   ]
  },
  {
   "cell_type": "code",
   "execution_count": 96,
   "id": "efd63ce6",
   "metadata": {},
   "outputs": [
    {
     "data": {
      "text/plain": [
       "126         1.000\n",
       "263       240.000\n",
       "264       220.000\n",
       "273         1.000\n",
       "275         1.000\n",
       "           ...   \n",
       "120895     20.000\n",
       "120897     20.000\n",
       "120908     20.000\n",
       "120912     20.000\n",
       "121214      1.619\n",
       "Name: description, Length: 623, dtype: float64"
      ]
     },
     "execution_count": 96,
     "metadata": {},
     "output_type": "execute_result"
    }
   ],
   "source": [
    "description_values_available[mask_values_under_1000_description]"
   ]
  },
  {
   "cell_type": "code",
   "execution_count": 97,
   "id": "50bd7330",
   "metadata": {},
   "outputs": [
    {
     "data": {
      "text/plain": [
       "126         1000.0\n",
       "263       240000.0\n",
       "264       220000.0\n",
       "273         1000.0\n",
       "275         1000.0\n",
       "            ...   \n",
       "120895     20000.0\n",
       "120897     20000.0\n",
       "120908     20000.0\n",
       "120912     20000.0\n",
       "121214      1619.0\n",
       "Name: description, Length: 656, dtype: float64"
      ]
     },
     "execution_count": 97,
     "metadata": {},
     "output_type": "execute_result"
    }
   ],
   "source": [
    "descriptrion_product=description_values_available*1000\n",
    "descriptrion_product"
   ]
  },
  {
   "cell_type": "code",
   "execution_count": 98,
   "id": "30cafa00",
   "metadata": {},
   "outputs": [
    {
     "data": {
      "text/plain": [
       "126         1000.0\n",
       "263       240000.0\n",
       "264       220000.0\n",
       "273         1000.0\n",
       "275         1000.0\n",
       "            ...   \n",
       "120895     20000.0\n",
       "120897     20000.0\n",
       "120908     20000.0\n",
       "120912     20000.0\n",
       "121214      1619.0\n",
       "Name: description, Length: 623, dtype: float64"
      ]
     },
     "execution_count": 98,
     "metadata": {},
     "output_type": "execute_result"
    }
   ],
   "source": [
    "description_values_available[mask_values_under_1000_description]=descriptrion_product\n",
    "description_values_available[mask_values_under_1000_description]"
   ]
  },
  {
   "cell_type": "code",
   "execution_count": 99,
   "id": "5c67426d",
   "metadata": {},
   "outputs": [],
   "source": [
    "mask_values_under_10000_description = description_values_available<10000"
   ]
  },
  {
   "cell_type": "code",
   "execution_count": 100,
   "id": "1a2aa010",
   "metadata": {},
   "outputs": [
    {
     "data": {
      "text/plain": [
       "126       1000.0\n",
       "273       1000.0\n",
       "275       1000.0\n",
       "661       1000.0\n",
       "1412      1000.0\n",
       "           ...  \n",
       "119840    1000.0\n",
       "120031    1000.0\n",
       "120042    1000.0\n",
       "120312    1990.0\n",
       "121214    1619.0\n",
       "Name: description, Length: 360, dtype: float64"
      ]
     },
     "execution_count": 100,
     "metadata": {},
     "output_type": "execute_result"
    }
   ],
   "source": [
    "description_values_available[mask_values_under_10000_description]"
   ]
  },
  {
   "cell_type": "code",
   "execution_count": 101,
   "id": "3370135b",
   "metadata": {},
   "outputs": [
    {
     "data": {
      "text/plain": [
       "126       100000.0\n",
       "273       100000.0\n",
       "275       100000.0\n",
       "661       100000.0\n",
       "1412      100000.0\n",
       "            ...   \n",
       "119840    100000.0\n",
       "120031    100000.0\n",
       "120042    100000.0\n",
       "120312    199000.0\n",
       "121214    161900.0\n",
       "Name: description, Length: 360, dtype: float64"
      ]
     },
     "execution_count": 101,
     "metadata": {},
     "output_type": "execute_result"
    }
   ],
   "source": [
    "descriptrion_product2 = description_values_available[mask_values_under_10000_description]*100\n",
    "descriptrion_product2"
   ]
  },
  {
   "cell_type": "code",
   "execution_count": 102,
   "id": "cbe11074",
   "metadata": {},
   "outputs": [
    {
     "data": {
      "text/plain": [
       "126       100000.0\n",
       "273       100000.0\n",
       "275       100000.0\n",
       "661       100000.0\n",
       "1412      100000.0\n",
       "            ...   \n",
       "119840    100000.0\n",
       "120031    100000.0\n",
       "120042    100000.0\n",
       "120312    199000.0\n",
       "121214    161900.0\n",
       "Name: description, Length: 360, dtype: float64"
      ]
     },
     "execution_count": 102,
     "metadata": {},
     "output_type": "execute_result"
    }
   ],
   "source": [
    "description_values_available[mask_values_under_10000_description] = descriptrion_product2\n",
    "description_values_available[mask_values_under_10000_description]"
   ]
  },
  {
   "cell_type": "code",
   "execution_count": 103,
   "id": "21a1edfb",
   "metadata": {},
   "outputs": [
    {
     "data": {
      "text/plain": [
       "count       656.000000\n",
       "mean     115849.198476\n",
       "std      119712.606494\n",
       "min           0.000000\n",
       "25%       59250.000000\n",
       "50%      100000.000000\n",
       "75%      100000.000000\n",
       "max      900000.000000\n",
       "Name: description, dtype: float64"
      ]
     },
     "execution_count": 103,
     "metadata": {},
     "output_type": "execute_result"
    }
   ],
   "source": [
    "description_values_available.describe()"
   ]
  },
  {
   "cell_type": "code",
   "execution_count": 104,
   "id": "a079bcd8",
   "metadata": {},
   "outputs": [
    {
     "data": {
      "text/html": [
       "<div>\n",
       "<style scoped>\n",
       "    .dataframe tbody tr th:only-of-type {\n",
       "        vertical-align: middle;\n",
       "    }\n",
       "\n",
       "    .dataframe tbody tr th {\n",
       "        vertical-align: top;\n",
       "    }\n",
       "\n",
       "    .dataframe thead th {\n",
       "        text-align: right;\n",
       "    }\n",
       "</style>\n",
       "<table border=\"1\" class=\"dataframe\">\n",
       "  <thead>\n",
       "    <tr style=\"text-align: right;\">\n",
       "      <th></th>\n",
       "      <th>PriceUSD_Clean</th>\n",
       "    </tr>\n",
       "  </thead>\n",
       "  <tbody>\n",
       "    <tr>\n",
       "      <th>126</th>\n",
       "      <td>100000</td>\n",
       "    </tr>\n",
       "    <tr>\n",
       "      <th>263</th>\n",
       "      <td>240000</td>\n",
       "    </tr>\n",
       "    <tr>\n",
       "      <th>264</th>\n",
       "      <td>220000</td>\n",
       "    </tr>\n",
       "    <tr>\n",
       "      <th>273</th>\n",
       "      <td>100000</td>\n",
       "    </tr>\n",
       "    <tr>\n",
       "      <th>275</th>\n",
       "      <td>100000</td>\n",
       "    </tr>\n",
       "    <tr>\n",
       "      <th>...</th>\n",
       "      <td>...</td>\n",
       "    </tr>\n",
       "    <tr>\n",
       "      <th>120895</th>\n",
       "      <td>20000</td>\n",
       "    </tr>\n",
       "    <tr>\n",
       "      <th>120897</th>\n",
       "      <td>20000</td>\n",
       "    </tr>\n",
       "    <tr>\n",
       "      <th>120908</th>\n",
       "      <td>20000</td>\n",
       "    </tr>\n",
       "    <tr>\n",
       "      <th>120912</th>\n",
       "      <td>20000</td>\n",
       "    </tr>\n",
       "    <tr>\n",
       "      <th>121214</th>\n",
       "      <td>161900</td>\n",
       "    </tr>\n",
       "  </tbody>\n",
       "</table>\n",
       "<p>656 rows × 1 columns</p>\n",
       "</div>"
      ],
      "text/plain": [
       "       PriceUSD_Clean\n",
       "126            100000\n",
       "263            240000\n",
       "264            220000\n",
       "273            100000\n",
       "275            100000\n",
       "...               ...\n",
       "120895          20000\n",
       "120897          20000\n",
       "120908          20000\n",
       "120912          20000\n",
       "121214         161900\n",
       "\n",
       "[656 rows x 1 columns]"
      ]
     },
     "execution_count": 104,
     "metadata": {},
     "output_type": "execute_result"
    }
   ],
   "source": [
    "data.loc[description_values_available.index, [\"PriceUSD_Clean\"]] = description_values_available.values\n",
    "data.loc[description_values_available.index, [\"PriceUSD_Clean\"]]"
   ]
  },
  {
   "cell_type": "code",
   "execution_count": 105,
   "id": "75f9d9f3",
   "metadata": {},
   "outputs": [
    {
     "data": {
      "text/plain": [
       "14598"
      ]
     },
     "execution_count": 105,
     "metadata": {},
     "output_type": "execute_result"
    }
   ],
   "source": [
    "data[\"PriceUSD_Clean\"].isnull().sum()"
   ]
  },
  {
   "cell_type": "code",
   "execution_count": 106,
   "id": "4bd2049a",
   "metadata": {},
   "outputs": [
    {
     "name": "stdout",
     "output_type": "stream",
     "text": [
      "Porcentaje de no nulos inicial: 84.97360612751864\n",
      "Nuevo porcentaje de no nulos: 87.40857024565277\n",
      "Cantidad de precios encontrados: 2823\n"
     ]
    }
   ],
   "source": [
    "print('Porcentaje de no nulos inicial:', perc_notnull_precios_inicial)\n",
    "print('Nuevo porcentaje de no nulos:', data[\"PriceUSD_Clean\"].notnull().sum()*100/data.shape[0])\n",
    "print('Cantidad de precios encontrados:', data['PriceUSD_Clean'].notnull().sum() - data['price_aprox_usd'].notnull().sum())"
   ]
  },
  {
   "cell_type": "code",
   "execution_count": 107,
   "id": "23c0a2b2",
   "metadata": {},
   "outputs": [],
   "source": [
    "pd.options.display.max_colwidth = 1000000"
   ]
  },
  {
   "cell_type": "markdown",
   "id": "e13f9afd",
   "metadata": {},
   "source": [
    "Se visualiza que en los campos donde no encontró ningun valor la regex, no se explicita un valor en dolares de la propiedad:"
   ]
  },
  {
   "cell_type": "code",
   "execution_count": 108,
   "id": "5b565eda",
   "metadata": {},
   "outputs": [
    {
     "data": {
      "text/html": [
       "<div>\n",
       "<style scoped>\n",
       "    .dataframe tbody tr th:only-of-type {\n",
       "        vertical-align: middle;\n",
       "    }\n",
       "\n",
       "    .dataframe tbody tr th {\n",
       "        vertical-align: top;\n",
       "    }\n",
       "\n",
       "    .dataframe thead th {\n",
       "        text-align: right;\n",
       "    }\n",
       "</style>\n",
       "<table border=\"1\" class=\"dataframe\">\n",
       "  <thead>\n",
       "    <tr style=\"text-align: right;\">\n",
       "      <th></th>\n",
       "      <th>description</th>\n",
       "    </tr>\n",
       "  </thead>\n",
       "  <tbody>\n",
       "    <tr>\n",
       "      <th>5</th>\n",
       "      <td>casa en el perimetro del barrio 338, ubicada en el extremo sur este del barrio, sobre calle 3 de caballeria casi nagera. vista libre a terreno en frente.consta de dos dormitorios, bano, living cocina comedor integrado de buen tamano, lavadero con despensero en aluminio.patio privado con churrasquera, tapiales y puerta de acceso de servicio. frente con rejas y pequeno patio con verde, porch de acceso.gas natural en la puerta. aire acondicionado frio/calor. baulera para guardado sobre pasillo. muy buen estado en general de pisos, revestimientos, pintura, etc.apto credito. aviso publicado por pixel inmobiliario (servicio de paginas web para inmobiliarias).</td>\n",
       "    </tr>\n",
       "    <tr>\n",
       "      <th>20</th>\n",
       "      <td>consta de: comedor-cocina, cuatro dormitorios (uno con bano en suite), un bano, otro bano para terminar, cuarto de herramientas y amplio parque.</td>\n",
       "    </tr>\n",
       "    <tr>\n",
       "      <th>41</th>\n",
       "      <td>\"arecas\" es un complejo de duplex y departamentos de primera calidad constructiva ubicado en el mejor barrio residencial de villa carlos paz. pensamos en brindarles una opcion acorde a cada necesidad: para la persona o familia que busca su vivienda, el ahorrista que elige una vivienda en construccion para capitalizarse y el inversionista que apuesta a la excelente renta que ofrece la villa en alquileres temporarios. * financiacion: financiacion propia | max. rentabilidad 100% pesos | cuotas convenidas * ubicacion privilegiada a metros de la costanera del lago san roque . * departamentos de 1, 2 y 3 dorm. * barrio con zona comercial propia * calidad constructiva * entrega pactada* desarrollo: mp innovacion &amp; desarrollo * comercializadora: mam inmobiliariabonificacion por pago de contado- consulte:- 351-7061857 (maria)- 86 (noelia)</td>\n",
       "    </tr>\n",
       "    <tr>\n",
       "      <th>62</th>\n",
       "      <td>casa moderna en dos plantas.pb : living con hogar, cocina-comedor diario,  toilette de recepcion, lavadero y estudio, todos los pisos de ceramicos, carpinteria exterior en aluminio blanco con doble vidrio.pa: hall de distribucion, con pequeno espacio para escritorio y placard. dos dormitorios, bano compartido y suite con vestidor. todos los pisos flotantes.</td>\n",
       "    </tr>\n",
       "    <tr>\n",
       "      <th>67</th>\n",
       "      <td>planta alta: dormitorio en suite - balconplanta baja: 2 dormitorios - bano - cocina - living/comedor - lavadero - patio- fondo libre- entrada de auto - local con banoconsulte valor</td>\n",
       "    </tr>\n",
       "    <tr>\n",
       "      <th>...</th>\n",
       "      <td>...</td>\n",
       "    </tr>\n",
       "    <tr>\n",
       "      <th>121207</th>\n",
       "      <td>puertos- barrio vistas - l. 88casa en venta sobre lote interno puertos, barrio vistas .planta baja , living comedor , cocina con isla movible , escritorio , cuarto de servicio , bano completo , lavadero con parrilla .planta alta , 3 dormitorios , 2 banos completos , cuarto principal con vestidor y salida a la terraza con vista al lago. toda la casa cuenta con doble vidrio ( dvh) y contramarcos , losa radiante , tratamiento plastico fino de tarquini tanto en exterior como interior , pisos de porcelanato, exterior 210 m2 de pisos en porfido , todas las mesadas de marmol , artefactos de iluminacion exterior e interior de led .</td>\n",
       "    </tr>\n",
       "    <tr>\n",
       "      <th>121210</th>\n",
       "      <td>dos viviendas en block en excelente ubicacion a 50 mts de dardo rocha y 2 cuadras de av. fleming apto vivienda, oficina, comercio, profesional, una al fte en 1 planta living comedor, cocina 2 dormitorios, bano. cochera, lavadero, jdin al fdo, atras otra vivienda en 2 plantas liv com coc bano y en la pa (no esta en plano) 2 dorm c/vestidor bano.</td>\n",
       "    </tr>\n",
       "    <tr>\n",
       "      <th>121211</th>\n",
       "      <td>excelente departamento de categoria con vistas parciales al rio en exclusivo barrio cerrado \"barrancas al rio\". pallier privado, hall, toilette y guarda ropa. living y comedor con salida a balcon terraza. amplia cocina con comedor diario, dependencia de servicio, lavadero, 3 dormitorios, 2 banos, 1 en suite,gran baulera, doble cochera fija cubierta, splits frio-calor en todos los ambientes, calefaccion por piso electrico. el condominio cuenta con pileta climatizada, jardines, cocheras de cortesia, sum y seguridad 24 hs.</td>\n",
       "    </tr>\n",
       "    <tr>\n",
       "      <th>121212</th>\n",
       "      <td>espectacular casa estilo racionalista en calle cortada!!! tiene una renta activa hasta octubre de 2017p.b: espectacular hall de entrada con triple altura - toilette - gran living apaisado con chimenea - comedor separado (5 x 4) - escritorio - (todo con pisos de pinotea) - buena cocina con comedor diario - 1 dormitorio con bano completo - dependencias de servicio con bano p.a.: espectacular family - 4 dormitorios (todos con pisos de madera grapia misionera): ppal en suite (7 x 4) con vestidor y bano completo balcon terraza con vista al jardin + otra suite + otro bano.excelente jardin con pileta - parrilla - galeria - calefaccion central por radiadores</td>\n",
       "    </tr>\n",
       "    <tr>\n",
       "      <th>121213</th>\n",
       "      <td>excelente casa en martinez. inmejorable ubicaicon!! de av. libertador al rio.excelente calidad!!!pb: hall de entrada, toilette compartimentado, gran living con salida al jardin, comedor por separado, escritorio, cocina comedor diario, family. galeria y jardin con pileta climatizada. pa: amplio hall de distribucion. 3 dormitorios en suite. gran suite principal con doble vestidor, jacuzzi, sauna y gym con salida a balcon terraza. 2da planta: muy buen playroom, posibilidad de 4to dormitorio o cuarto de huespedes. un bano completo.subsuelo: garaje para dos autos, departamento de caseros con bano y cocina, amplio lavadero y bano de pileta. caracteristicas sobresalientes: calefaccion central por radiadores, aire acondicionado central frio/calor, pisos de marmol en hall de entrada, pileta climatizada, excelentes terminaciones y detalles de categoria, playroom todo acustizado, etc.</td>\n",
       "    </tr>\n",
       "  </tbody>\n",
       "</table>\n",
       "<p>14598 rows × 1 columns</p>\n",
       "</div>"
      ],
      "text/plain": [
       "                                                                                                                                                                                                                                                                                                                                                                                                                                                                                                                                                                                                                                                                                                                                                                                                                                                                                                                   description\n",
       "5                                                                                                                                                                                                                                        casa en el perimetro del barrio 338, ubicada en el extremo sur este del barrio, sobre calle 3 de caballeria casi nagera. vista libre a terreno en frente.consta de dos dormitorios, bano, living cocina comedor integrado de buen tamano, lavadero con despensero en aluminio.patio privado con churrasquera, tapiales y puerta de acceso de servicio. frente con rejas y pequeno patio con verde, porch de acceso.gas natural en la puerta. aire acondicionado frio/calor. baulera para guardado sobre pasillo. muy buen estado en general de pisos, revestimientos, pintura, etc.apto credito. aviso publicado por pixel inmobiliario (servicio de paginas web para inmobiliarias).\n",
       "20                                                                                                                                                                                                                                                                                                                                                                                                                                                                                                                                                                                                                                                                                                                                                                            consta de: comedor-cocina, cuatro dormitorios (uno con bano en suite), un bano, otro bano para terminar, cuarto de herramientas y amplio parque.\n",
       "41                                                   \"arecas\" es un complejo de duplex y departamentos de primera calidad constructiva ubicado en el mejor barrio residencial de villa carlos paz. pensamos en brindarles una opcion acorde a cada necesidad: para la persona o familia que busca su vivienda, el ahorrista que elige una vivienda en construccion para capitalizarse y el inversionista que apuesta a la excelente renta que ofrece la villa en alquileres temporarios. * financiacion: financiacion propia | max. rentabilidad 100% pesos | cuotas convenidas * ubicacion privilegiada a metros de la costanera del lago san roque . * departamentos de 1, 2 y 3 dorm. * barrio con zona comercial propia * calidad constructiva * entrega pactada* desarrollo: mp innovacion & desarrollo * comercializadora: mam inmobiliariabonificacion por pago de contado- consulte:- 351-7061857 (maria)- 86 (noelia)\n",
       "62                                                                                                                                                                                                                                                                                                                                                                                                                                                                                                                                                     casa moderna en dos plantas.pb : living con hogar, cocina-comedor diario,  toilette de recepcion, lavadero y estudio, todos los pisos de ceramicos, carpinteria exterior en aluminio blanco con doble vidrio.pa: hall de distribucion, con pequeno espacio para escritorio y placard. dos dormitorios, bano compartido y suite con vestidor. todos los pisos flotantes.\n",
       "67                                                                                                                                                                                                                                                                                                                                                                                                                                                                                                                                                                                                                                                                                                                                        planta alta: dormitorio en suite - balconplanta baja: 2 dormitorios - bano - cocina - living/comedor - lavadero - patio- fondo libre- entrada de auto - local con banoconsulte valor\n",
       "...                                                                                                                                                                                                                                                                                                                                                                                                                                                                                                                                                                                                                                                                                                                                                                                                                                                                                                                        ...\n",
       "121207                                                                                                                                                                                                                                                                puertos- barrio vistas - l. 88casa en venta sobre lote interno puertos, barrio vistas .planta baja , living comedor , cocina con isla movible , escritorio , cuarto de servicio , bano completo , lavadero con parrilla .planta alta , 3 dormitorios , 2 banos completos , cuarto principal con vestidor y salida a la terraza con vista al lago. toda la casa cuenta con doble vidrio ( dvh) y contramarcos , losa radiante , tratamiento plastico fino de tarquini tanto en exterior como interior , pisos de porcelanato, exterior 210 m2 de pisos en porfido , todas las mesadas de marmol , artefactos de iluminacion exterior e interior de led . \n",
       "121210                                                                                                                                                                                                                                                                                                                                                                                                                                                                                                                                                              dos viviendas en block en excelente ubicacion a 50 mts de dardo rocha y 2 cuadras de av. fleming apto vivienda, oficina, comercio, profesional, una al fte en 1 planta living comedor, cocina 2 dormitorios, bano. cochera, lavadero, jdin al fdo, atras otra vivienda en 2 plantas liv com coc bano y en la pa (no esta en plano) 2 dorm c/vestidor bano.\n",
       "121211                                                                                                                                                                                                                                                                                                                                                                           excelente departamento de categoria con vistas parciales al rio en exclusivo barrio cerrado \"barrancas al rio\". pallier privado, hall, toilette y guarda ropa. living y comedor con salida a balcon terraza. amplia cocina con comedor diario, dependencia de servicio, lavadero, 3 dormitorios, 2 banos, 1 en suite,gran baulera, doble cochera fija cubierta, splits frio-calor en todos los ambientes, calefaccion por piso electrico. el condominio cuenta con pileta climatizada, jardines, cocheras de cortesia, sum y seguridad 24 hs.\n",
       "121212                                                                                                                                                                                                                                      espectacular casa estilo racionalista en calle cortada!!! tiene una renta activa hasta octubre de 2017p.b: espectacular hall de entrada con triple altura - toilette - gran living apaisado con chimenea - comedor separado (5 x 4) - escritorio - (todo con pisos de pinotea) - buena cocina con comedor diario - 1 dormitorio con bano completo - dependencias de servicio con bano p.a.: espectacular family - 4 dormitorios (todos con pisos de madera grapia misionera): ppal en suite (7 x 4) con vestidor y bano completo balcon terraza con vista al jardin + otra suite + otro bano.excelente jardin con pileta - parrilla - galeria - calefaccion central por radiadores\n",
       "121213  excelente casa en martinez. inmejorable ubicaicon!! de av. libertador al rio.excelente calidad!!!pb: hall de entrada, toilette compartimentado, gran living con salida al jardin, comedor por separado, escritorio, cocina comedor diario, family. galeria y jardin con pileta climatizada. pa: amplio hall de distribucion. 3 dormitorios en suite. gran suite principal con doble vestidor, jacuzzi, sauna y gym con salida a balcon terraza. 2da planta: muy buen playroom, posibilidad de 4to dormitorio o cuarto de huespedes. un bano completo.subsuelo: garaje para dos autos, departamento de caseros con bano y cocina, amplio lavadero y bano de pileta. caracteristicas sobresalientes: calefaccion central por radiadores, aire acondicionado central frio/calor, pisos de marmol en hall de entrada, pileta climatizada, excelentes terminaciones y detalles de categoria, playroom todo acustizado, etc.\n",
       "\n",
       "[14598 rows x 1 columns]"
      ]
     },
     "execution_count": 108,
     "metadata": {},
     "output_type": "execute_result"
    }
   ],
   "source": [
    "data.loc[data[\"PriceUSD_Clean\"].isnull(),  ['description']]"
   ]
  },
  {
   "cell_type": "code",
   "execution_count": 109,
   "id": "7490c13a",
   "metadata": {},
   "outputs": [],
   "source": [
    "data['PriceUSD_Clean'] = data['PriceUSD_Clean'].astype('float')"
   ]
  },
  {
   "cell_type": "code",
   "execution_count": 110,
   "id": "4d051232",
   "metadata": {},
   "outputs": [],
   "source": [
    "#Fin de relleno de valores nulos de precios."
   ]
  },
  {
   "cell_type": "code",
   "execution_count": null,
   "id": "399ff0e2",
   "metadata": {},
   "outputs": [],
   "source": []
  },
  {
   "cell_type": "code",
   "execution_count": 111,
   "id": "72d26582",
   "metadata": {},
   "outputs": [
    {
     "data": {
      "text/plain": [
       "Index(['operation', 'property_type', 'place_name', 'state_name', 'lat-lon',\n",
       "       'lat', 'lon', 'price', 'currency', 'price_aprox_local_currency',\n",
       "       'price_aprox_usd', 'surface_total_in_m2', 'surface_covered_in_m2',\n",
       "       'price_usd_per_m2', 'price_per_m2', 'rooms', 'expenses', 'description',\n",
       "       'title', 'PriceUSD_Clean'],\n",
       "      dtype='object')"
      ]
     },
     "execution_count": 111,
     "metadata": {},
     "output_type": "execute_result"
    }
   ],
   "source": [
    "data.columns"
   ]
  },
  {
   "cell_type": "code",
   "execution_count": 112,
   "id": "e1c1fd68",
   "metadata": {},
   "outputs": [],
   "source": [
    "# Funcion para segunda completada de precio/m2\n",
    "def price_per_m2_clean_2 (price_aprox_usd, PriceUSD_Clean, surface_covered_in_m2_clean, price_usd_per_m2):\n",
    "    if math.isnan(price_usd_per_m2):  #Si precio/m 2 es nulo ver de calcularlo\n",
    "        #valido si las superficies y el precio estan cargadas, tomo la superficie máxima para calcular el precio\n",
    "        #Si tengo el precio y la superficie via regex calculo el nuevo precio/m2\n",
    "        if not (math.isnan(price_aprox_usd)) and not (math.isnan(surface_covered_in_m2_clean)): \n",
    "            return (price_aprox_usd / surface_covered_in_m2_clean)\n",
    "        elif not (math.isnan(PriceUSD_Clean)) and not (math.isnan(surface_covered_in_m2_clean)):\n",
    "            return (PriceUSD_Clean / surface_covered_in_m2_clean)    \n",
    "    return price_usd_per_m2"
   ]
  },
  {
   "cell_type": "markdown",
   "id": "6a659d6d",
   "metadata": {},
   "source": [
    "<p style=\"color:#FF0000\";> Acá es cuando metemos todo el ruido recolectado en la variable target del modelo"
   ]
  },
  {
   "cell_type": "code",
   "execution_count": 113,
   "id": "23e46c1e",
   "metadata": {},
   "outputs": [],
   "source": [
    "# Cargar las nuevas columnas a data para correr la segunda pasada de la funcion\n",
    "\n",
    "data['surface_covered_in_m2_clean'] = surface_covered_in_m2_clean_2\n",
    "data['price_usd_per_m2_clean'] = price_usd_per_m2_clean\n",
    "price_usd_per_m2_clean_2 = data.apply(lambda x: price_per_m2_clean_2( x['price_aprox_usd'], x['PriceUSD_Clean'],\n",
    "                                                                     x['surface_covered_in_m2_clean'], x['price_usd_per_m2_clean']), axis = 1)"
   ]
  },
  {
   "cell_type": "code",
   "execution_count": 114,
   "id": "770d8d8a",
   "metadata": {},
   "outputs": [
    {
     "name": "stdout",
     "output_type": "stream",
     "text": [
      "price_usd_per_m2_clean cargado:  81.59933066519459\n"
     ]
    }
   ],
   "source": [
    "# Ver cuando mejoró con la segunda pasada\n",
    "\n",
    "print('price_usd_per_m2_clean cargado: ', 100 - ((price_usd_per_m2_clean_2.isnull().sum()) / price_usd_per_m2_clean_2.shape[0] * 100))"
   ]
  },
  {
   "cell_type": "code",
   "execution_count": 115,
   "id": "02e086bc",
   "metadata": {},
   "outputs": [
    {
     "data": {
      "text/plain": [
       "115936"
      ]
     },
     "execution_count": 115,
     "metadata": {},
     "output_type": "execute_result"
    }
   ],
   "source": [
    "price_usd_per_m2_clean_2.shape[0]"
   ]
  },
  {
   "cell_type": "code",
   "execution_count": 116,
   "id": "bb568d00",
   "metadata": {},
   "outputs": [
    {
     "data": {
      "text/plain": [
       "21333"
      ]
     },
     "execution_count": 116,
     "metadata": {},
     "output_type": "execute_result"
    }
   ],
   "source": [
    "price_usd_per_m2_clean_2.isnull().sum()"
   ]
  },
  {
   "cell_type": "code",
   "execution_count": 117,
   "id": "3d2db7da",
   "metadata": {},
   "outputs": [
    {
     "data": {
      "text/plain": [
       "52232     1105.769231\n",
       "119745     341.549296\n",
       "91035      555.555556\n",
       "80958             NaN\n",
       "14252             NaN\n",
       "36808      240.000000\n",
       "28955     3250.000000\n",
       "101049    1504.719298\n",
       "53065     1666.666667\n",
       "14265     2141.818182\n",
       "dtype: float64"
      ]
     },
     "execution_count": 117,
     "metadata": {},
     "output_type": "execute_result"
    }
   ],
   "source": [
    "price_usd_per_m2_clean_2.sample(10)"
   ]
  },
  {
   "cell_type": "code",
   "execution_count": 118,
   "id": "7466fdcb",
   "metadata": {},
   "outputs": [
    {
     "data": {
      "text/plain": [
       "count    9.460300e+04\n",
       "mean     2.885165e+03\n",
       "std      1.845555e+04\n",
       "min      0.000000e+00\n",
       "25%      1.205810e+03\n",
       "50%      1.780000e+03\n",
       "75%      2.460000e+03\n",
       "max      2.600000e+06\n",
       "dtype: float64"
      ]
     },
     "execution_count": 118,
     "metadata": {},
     "output_type": "execute_result"
    }
   ],
   "source": [
    "price_usd_per_m2_clean_2.describe()"
   ]
  },
  {
   "cell_type": "code",
   "execution_count": null,
   "id": "c9462951",
   "metadata": {},
   "outputs": [],
   "source": []
  },
  {
   "cell_type": "code",
   "execution_count": 119,
   "id": "ec4c328b",
   "metadata": {},
   "outputs": [
    {
     "data": {
      "text/plain": [
       "99420     amplio departamento ubicado en calle tablada 1850, con acceso sobre la costanera de barrio alberdi, a pasos del centro de la ciudad de cordoba. estrategica ubicacion en una de las zonas de mayor desarrollo de la ciudad y en el entorno del rio suquia. el rapido acceso a la centro de la ciudad y las privilegiadas vistas al rio y las sierras, lo convierten en un lugar unico. un aspecto caracteristico es el paseo comercial y las zonas de esparcimientos con que contara el emprendimientos. contara con un salon de usos multiples, piscina, solarium y un museo con sala de exposicion de obras. a la belleza arquitectonica del lugar se le suma la comodidad de las amenities y la tranquilidad de tener seguridad las 24 horas. esta torre , conservan en su fachada la arquitectura de la antigua fabrica de cerveza construida a principios del siglo pasado. entrega septiembre 2017unidades en piso 2deg y 19deg consultas al 3517672841indice inmobiliario ofrece o encontra tu propiedad 72841\n",
       "30037                                                                                                                                                                                                                                                                                                                                                                                                                     corredor responsable: marcos provvidenti - cci santa fe mat n 0198contacto: estefania giuliano - mls id # 420811016-11 la propiedad se encuentra ubicada sobre la ruta nacional no11 km 449 en la localidad de sauce viejo, barrio villa emilia  consta de: living cocina comedor, un dormitorio, bano y un entrepiso que puede ser utilizado como un segundo dormitorio (94 m2 construidos) el terreno donde se encuentra desarrollada la vivienda  posee una superficie de  737 m2. (33 de largo x22,5 de frente) gas natural, electricidad, agua corriente, asfalto, iluminacion, zona tranquila. \n",
       "41450                                                                                                                                                                                                                                                                                                                                                                                                                                                                                                                                                                                                                                                                                                                                                                                                                                                       chalet en lote propio. pb: living-comedor, 2 dormitorios, bano, cocina comedor, garage, quincho. pa: sala de juegos con bano. con jardin y parque. no apto credito.\n",
       "20700                                                                                                                                                                                                                                                                                                                                                                                                                                                                                                                                                                                                                                                                                                                                                                                                                                   corrientes- urquiza: gran vista ciudad, amplio living comedor, cocina tipo americana con lavadero independiente, 2 dormitorios con placares, bano con antebano. 2 balcones. 70 m2 exc. \n",
       "111362                                                                                                                                                                                                                                                                                                                                              hermosa casa, estilo country. en la zona mas alta del barrio, con excelentes visuales.hermosa casa, estilo country. en la zona mas alta del barrio, con excelentes visuales. (manzana 91). terreno 2100 m2 // cubierto 275 m2. dispone: amplios ambientes. planta baja: living-comedor con salida a gran galeria con asador, cocina con excelente amoblamiento, lavadero. cuatro dormitorios, el principal con vestidor y bano en suite. planta alta: estar diario. cuarto de invitados. total 4 banos. cochera para dos autos. pileta de natacion. gran parque. a 10 min de cordoba capital. se aceptan inmuebles en cba capitalcomunicate y visitala: 3515051312 whatsapp\n",
       "Name: description, dtype: object"
      ]
     },
     "execution_count": 119,
     "metadata": {},
     "output_type": "execute_result"
    }
   ],
   "source": [
    "#mascara para ver los precios/m2 que quedan por calcular\n",
    "mask_price_usd_m2_2 = price_usd_per_m2_clean_2.isnull()\n",
    "data.loc[mask_price_usd_m2_2]['description'].sample(5)"
   ]
  },
  {
   "cell_type": "code",
   "execution_count": null,
   "id": "07471975",
   "metadata": {},
   "outputs": [],
   "source": []
  },
  {
   "cell_type": "code",
   "execution_count": null,
   "id": "caf69644",
   "metadata": {},
   "outputs": [],
   "source": []
  },
  {
   "cell_type": "code",
   "execution_count": 120,
   "id": "c008b8fd",
   "metadata": {},
   "outputs": [],
   "source": [
    "data['price_usd_per_m2_clean_2'] = (price_usd_per_m2_clean_2)"
   ]
  },
  {
   "cell_type": "code",
   "execution_count": 121,
   "id": "d599bebe",
   "metadata": {},
   "outputs": [],
   "source": [
    "description_unidecode_lower = data['description']\n",
    "title_unidecode_lower = data['title']"
   ]
  },
  {
   "cell_type": "code",
   "execution_count": 122,
   "id": "45e3beb3",
   "metadata": {},
   "outputs": [],
   "source": [
    "#BUSQUEDA DE CANTIDAD DE AMBIENTES"
   ]
  },
  {
   "cell_type": "markdown",
   "id": "2a7e7004",
   "metadata": {},
   "source": [
    "<p style=\"color:#FF0000\";>  Sería bueno utilizar markdowns para títulos o texto que separe etapas del procesamiento "
   ]
  },
  {
   "cell_type": "code",
   "execution_count": 123,
   "id": "278e999d",
   "metadata": {},
   "outputs": [
    {
     "data": {
      "text/plain": [
       "0             []\n",
       "1             []\n",
       "2             []\n",
       "3             []\n",
       "4             []\n",
       "           ...  \n",
       "121215        []\n",
       "121216        []\n",
       "121217    [mono]\n",
       "121218        []\n",
       "121219        []\n",
       "Name: description, Length: 115936, dtype: object"
      ]
     },
     "execution_count": 123,
     "metadata": {},
     "output_type": "execute_result"
    }
   ],
   "source": [
    "#busqueda de ambientes por numeros escritos en descripcion\n",
    "pattern_ambientes_escritos = \"(?P<cant_escrito>mono|un|uno|dos|tres|cuatro|cinco|seis|siete|ocho|nueve|diez)\\s*(?:amb)\"\n",
    "regex_ambientes_escritos = re.compile(pattern_ambientes_escritos)\n",
    "resultado_descripcion_escritos = description_unidecode_lower.apply(lambda x: x if x is np.NaN else regex_ambientes_escritos.findall(x))\n",
    "resultado_descripcion_escritos"
   ]
  },
  {
   "cell_type": "code",
   "execution_count": 124,
   "id": "3f2e8a38",
   "metadata": {},
   "outputs": [
    {
     "data": {
      "text/plain": [
       "0         NaN\n",
       "1         NaN\n",
       "2         NaN\n",
       "3         NaN\n",
       "4         NaN\n",
       "         ... \n",
       "121215    NaN\n",
       "121216    NaN\n",
       "121217    1.0\n",
       "121218    NaN\n",
       "121219    NaN\n",
       "Name: description, Length: 115936, dtype: float64"
      ]
     },
     "execution_count": 124,
     "metadata": {},
     "output_type": "execute_result"
    }
   ],
   "source": [
    "#pasaje de numeros escritos a no escritos\n",
    "dic_num_escrito = {1:1,2:2,3:3,4:4,5:5,6:6,7:7,9:9,10:10,'mono':1, 'un': 1, 'uno': 1, 'dos': 2, 'tres': 3, 'cuatro': 4, 'cinco': 5, 'seis': 6, 'siete': 7, 'ocho': 8, 'nueve': 9, 'diez': 10}    \n",
    "def convert_numero_escrito(x):\n",
    "    if len(x)>0:\n",
    "        for i in x:\n",
    "            x[x.index(i)] = dic_num_escrito[i]\n",
    "        resultado = max(x) \n",
    "    else:\n",
    "        resultado = np.NaN\n",
    "    return resultado    \n",
    "\n",
    "ambientes_reemplazo_numeros_descripcion = resultado_descripcion_escritos.apply(lambda x: x if x is np.NaN else convert_numero_escrito(x))\n",
    "ambientes_reemplazo_numeros_descripcion"
   ]
  },
  {
   "cell_type": "code",
   "execution_count": 125,
   "id": "d9da6449",
   "metadata": {},
   "outputs": [
    {
     "data": {
      "text/plain": [
       "0         [2]\n",
       "1          []\n",
       "2         [2]\n",
       "3         [3]\n",
       "4          []\n",
       "         ... \n",
       "121215     []\n",
       "121216     []\n",
       "121217     []\n",
       "121218    [2]\n",
       "121219     []\n",
       "Name: description, Length: 115936, dtype: object"
      ]
     },
     "execution_count": 125,
     "metadata": {},
     "output_type": "execute_result"
    }
   ],
   "source": [
    "#busqueda de ambientes por numeros no escritos en descripcion\n",
    "pattern_ambientes_num = \"(?P<cant_num>\\d+)\\s*(?:amb|monoamb)\"\n",
    "regex_ambientes_num = re.compile(pattern_ambientes_num)\n",
    "resultado_descripcion_num = description_unidecode_lower.apply(lambda x: x if x is np.NaN else regex_ambientes_num.findall(x))\n",
    "resultado_descripcion_num"
   ]
  },
  {
   "cell_type": "code",
   "execution_count": 126,
   "id": "2e51398d",
   "metadata": {},
   "outputs": [
    {
     "data": {
      "text/plain": [
       "0         2.0\n",
       "1         NaN\n",
       "2         2.0\n",
       "3         3.0\n",
       "4         NaN\n",
       "         ... \n",
       "121215    NaN\n",
       "121216    NaN\n",
       "121217    NaN\n",
       "121218    2.0\n",
       "121219    NaN\n",
       "Name: description, Length: 115936, dtype: float64"
      ]
     },
     "execution_count": 126,
     "metadata": {},
     "output_type": "execute_result"
    }
   ],
   "source": [
    "# pasaje a int  \n",
    "def convert_numero_no_escrito(x):\n",
    "    if len(x)>0:\n",
    "        for i in x:\n",
    "            x[x.index(i)] = int(i)\n",
    "        resultado = max(x) \n",
    "    else:\n",
    "        resultado = np.NaN\n",
    "    return resultado    \n",
    "\n",
    "cantidad_ambientes_descripcion_num = resultado_descripcion_num.apply(lambda x: x if x is np.NaN else convert_numero_no_escrito(x))\n",
    "cantidad_ambientes_descripcion_num"
   ]
  },
  {
   "cell_type": "code",
   "execution_count": 127,
   "id": "6c50633d",
   "metadata": {},
   "outputs": [
    {
     "data": {
      "text/plain": [
       "50586"
      ]
     },
     "execution_count": 127,
     "metadata": {},
     "output_type": "execute_result"
    }
   ],
   "source": [
    "#Cantidad total de matches\n",
    "ambientes_reemplazo_numeros_descripcion.notnull().sum()+cantidad_ambientes_descripcion_num.notnull().sum()"
   ]
  },
  {
   "cell_type": "code",
   "execution_count": 128,
   "id": "0005fd06",
   "metadata": {},
   "outputs": [
    {
     "data": {
      "text/plain": [
       "0         []\n",
       "1         []\n",
       "2         []\n",
       "3         []\n",
       "4         []\n",
       "          ..\n",
       "121215    []\n",
       "121216    []\n",
       "121217    []\n",
       "121218    []\n",
       "121219    []\n",
       "Name: title, Length: 115936, dtype: object"
      ]
     },
     "execution_count": 128,
     "metadata": {},
     "output_type": "execute_result"
    }
   ],
   "source": [
    "#busqueda de ambientes por numeros escritos en title\n",
    "pattern_ambientes_escritos = \"(?P<cant>mono|un|uno|dos|tres|cuatro|cinco|seis|siete|ocho|nueve|diez)\\s*(?:amb)\"\n",
    "regex_ambientes_escritos = re.compile(pattern_ambientes_escritos)\n",
    "resultado_title_escritos = title_unidecode_lower.apply(lambda x: x if x is np.NaN else regex_ambientes_escritos.findall(x))\n",
    "#datos_de_ambientes_en_title_escritos = resultado_title_escritos[resultado_title_escritos.notnull()]\n",
    "#cantidad_ambientes_title_escritos\n",
    "resultado_title_escritos"
   ]
  },
  {
   "cell_type": "code",
   "execution_count": 129,
   "id": "4e92d5fa",
   "metadata": {},
   "outputs": [
    {
     "data": {
      "text/plain": [
       "0        NaN\n",
       "1        NaN\n",
       "2        NaN\n",
       "3        NaN\n",
       "4        NaN\n",
       "          ..\n",
       "121215   NaN\n",
       "121216   NaN\n",
       "121217   NaN\n",
       "121218   NaN\n",
       "121219   NaN\n",
       "Name: title, Length: 115936, dtype: float64"
      ]
     },
     "execution_count": 129,
     "metadata": {},
     "output_type": "execute_result"
    }
   ],
   "source": [
    "#pasaje de numeros escritos a no escritos\n",
    "dic_num_escrito = {1:1,2:2,3:3,4:4,5:5,8:8,6:6,7:7,'mono':1, 'un': 1, 'uno': 1, 'dos': 2, 'tres': 3, 'cuatro': 4, 'cinco': 5, 'seis': 6, 'siete': 7, 'ocho': 8, 'nueve': 9, 'diez': 10}    \n",
    "def convert_numero_escrito(x):\n",
    "    if len(x)>0:\n",
    "        for i in x:\n",
    "            x[x.index(i)] = dic_num_escrito[i]\n",
    "        resultado = max(x) \n",
    "    else:\n",
    "        resultado = np.NaN\n",
    "    return resultado    \n",
    "\n",
    "ambientes_reemplazo_numeros_title = resultado_title_escritos.apply(lambda x: x if x is np.NaN else convert_numero_escrito(x))\n",
    "ambientes_reemplazo_numeros_title"
   ]
  },
  {
   "cell_type": "code",
   "execution_count": 130,
   "id": "18c9dc16",
   "metadata": {},
   "outputs": [
    {
     "data": {
      "text/plain": [
       "0         [2]\n",
       "1          []\n",
       "2         [2]\n",
       "3         [3]\n",
       "4         [2]\n",
       "         ... \n",
       "121215    [3]\n",
       "121216     []\n",
       "121217     []\n",
       "121218    [2]\n",
       "121219     []\n",
       "Name: title, Length: 115936, dtype: object"
      ]
     },
     "execution_count": 130,
     "metadata": {},
     "output_type": "execute_result"
    }
   ],
   "source": [
    "#busqueda de ambientes por numeros no escritos en title\n",
    "pattern_ambientes_num = \"(?P<cant_num>\\d+)\\s*(?:amb|monoamb)\"\n",
    "regex_ambientes_num = re.compile(pattern_ambientes_num)\n",
    "resultado_title_num = title_unidecode_lower.apply(lambda x: x if x is np.NaN else regex_ambientes_num.findall(x))\n",
    "#datos_de_ambientes_en_descripcion_num = resultado_descripcion_num[resultado_descripcion_num.notnull()]\n",
    "#cantidad_ambientes_descripcion_num\n",
    "resultado_title_num"
   ]
  },
  {
   "cell_type": "code",
   "execution_count": 131,
   "id": "d12a5eec",
   "metadata": {},
   "outputs": [
    {
     "data": {
      "text/plain": [
       "0         2.0\n",
       "1         NaN\n",
       "2         2.0\n",
       "3         3.0\n",
       "4         2.0\n",
       "         ... \n",
       "121215    3.0\n",
       "121216    NaN\n",
       "121217    NaN\n",
       "121218    2.0\n",
       "121219    NaN\n",
       "Name: title, Length: 115936, dtype: float64"
      ]
     },
     "execution_count": 131,
     "metadata": {},
     "output_type": "execute_result"
    }
   ],
   "source": [
    "# pasaje a int  \n",
    "def convert_numero_no_escrito(x):\n",
    "    if len(x)>0:\n",
    "        for i in x:\n",
    "            x[x.index(i)] = int(i)\n",
    "        resultado = max(x) \n",
    "    else:\n",
    "        resultado = np.NaN\n",
    "    return resultado    \n",
    "\n",
    "cantidad_ambientes_title_num = resultado_title_num.apply(lambda x: x if x is np.NaN else convert_numero_no_escrito(x))\n",
    "cantidad_ambientes_title_num"
   ]
  },
  {
   "cell_type": "code",
   "execution_count": 132,
   "id": "ddfd75e5",
   "metadata": {},
   "outputs": [
    {
     "data": {
      "text/plain": [
       "26856"
      ]
     },
     "execution_count": 132,
     "metadata": {},
     "output_type": "execute_result"
    }
   ],
   "source": [
    "#Cantidad total de matches\n",
    "ambientes_reemplazo_numeros_title.notnull().sum()+cantidad_ambientes_title_num.notnull().sum()"
   ]
  },
  {
   "cell_type": "code",
   "execution_count": 133,
   "id": "aa7484be",
   "metadata": {},
   "outputs": [],
   "source": [
    "data.loc[:,'amb_clean_descr_escritos'] = ambientes_reemplazo_numeros_descripcion\n",
    "data.loc[:,'amb_clean_descr_no_escritos'] = cantidad_ambientes_descripcion_num\n",
    "data.loc[:,'amb_clean_title_escritos'] = ambientes_reemplazo_numeros_title\n",
    "data.loc[:,'amb_clean_title_no_escritos'] = cantidad_ambientes_title_num"
   ]
  },
  {
   "cell_type": "code",
   "execution_count": 134,
   "id": "f5a77b98",
   "metadata": {},
   "outputs": [],
   "source": [
    "def elegir_cant_amb (rooms, escr_descr, no_escr_descr, escr_title, no_escr_title):\n",
    "    if math.isnan(rooms):  \n",
    "        if not (math.isnan(no_escr_title)):\n",
    "            rooms = no_escr_title\n",
    "            return rooms\n",
    "        if not (math.isnan(escr_title)):\n",
    "            rooms = escr_title\n",
    "            return rooms\n",
    "        if not (math.isnan(no_escr_descr)):\n",
    "            rooms = no_escr_descr\n",
    "            return rooms\n",
    "        if not (math.isnan(escr_descr)):\n",
    "            rooms = escr_descr\n",
    "            return rooms\n",
    "    return rooms\n",
    "\n",
    "\n",
    "\n",
    "ambientes_clean = data.apply(lambda x: elegir_cant_amb(x['rooms'], x['amb_clean_descr_escritos'], \n",
    "                                                                 x['amb_clean_descr_no_escritos'], x['amb_clean_title_escritos'], x['amb_clean_title_no_escritos']), axis = 1)"
   ]
  },
  {
   "cell_type": "code",
   "execution_count": 135,
   "id": "0490f566",
   "metadata": {},
   "outputs": [],
   "source": [
    "data.loc[:,'cant_ambientes_clean'] = ambientes_clean"
   ]
  },
  {
   "cell_type": "code",
   "execution_count": 136,
   "id": "6ff23e20",
   "metadata": {},
   "outputs": [
    {
     "data": {
      "text/html": [
       "<div>\n",
       "<style scoped>\n",
       "    .dataframe tbody tr th:only-of-type {\n",
       "        vertical-align: middle;\n",
       "    }\n",
       "\n",
       "    .dataframe tbody tr th {\n",
       "        vertical-align: top;\n",
       "    }\n",
       "\n",
       "    .dataframe thead th {\n",
       "        text-align: right;\n",
       "    }\n",
       "</style>\n",
       "<table border=\"1\" class=\"dataframe\">\n",
       "  <thead>\n",
       "    <tr style=\"text-align: right;\">\n",
       "      <th></th>\n",
       "      <th>operation</th>\n",
       "      <th>property_type</th>\n",
       "      <th>place_name</th>\n",
       "      <th>state_name</th>\n",
       "      <th>lat-lon</th>\n",
       "      <th>lat</th>\n",
       "      <th>lon</th>\n",
       "      <th>price</th>\n",
       "      <th>currency</th>\n",
       "      <th>price_aprox_local_currency</th>\n",
       "      <th>...</th>\n",
       "      <th>title</th>\n",
       "      <th>PriceUSD_Clean</th>\n",
       "      <th>surface_covered_in_m2_clean</th>\n",
       "      <th>price_usd_per_m2_clean</th>\n",
       "      <th>price_usd_per_m2_clean_2</th>\n",
       "      <th>amb_clean_descr_escritos</th>\n",
       "      <th>amb_clean_descr_no_escritos</th>\n",
       "      <th>amb_clean_title_escritos</th>\n",
       "      <th>amb_clean_title_no_escritos</th>\n",
       "      <th>cant_ambientes_clean</th>\n",
       "    </tr>\n",
       "  </thead>\n",
       "  <tbody>\n",
       "    <tr>\n",
       "      <th>0</th>\n",
       "      <td>sell</td>\n",
       "      <td>PH</td>\n",
       "      <td>Mataderos</td>\n",
       "      <td>Capital Federal</td>\n",
       "      <td>-34.6618237,-58.5088387</td>\n",
       "      <td>-34.661824</td>\n",
       "      <td>-58.508839</td>\n",
       "      <td>62000.0</td>\n",
       "      <td>USD</td>\n",
       "      <td>1093959.0</td>\n",
       "      <td>...</td>\n",
       "      <td>2 amb tipo casa sin expensas en pb</td>\n",
       "      <td>62000.0</td>\n",
       "      <td>40.0</td>\n",
       "      <td>1127.272727</td>\n",
       "      <td>1127.272727</td>\n",
       "      <td>NaN</td>\n",
       "      <td>2.0</td>\n",
       "      <td>NaN</td>\n",
       "      <td>2.0</td>\n",
       "      <td>2.0</td>\n",
       "    </tr>\n",
       "    <tr>\n",
       "      <th>1</th>\n",
       "      <td>sell</td>\n",
       "      <td>apartment</td>\n",
       "      <td>La Plata</td>\n",
       "      <td>Bs.As. G.B.A. Zona Sur</td>\n",
       "      <td>-34.9038831,-57.9643295</td>\n",
       "      <td>-34.903883</td>\n",
       "      <td>-57.964330</td>\n",
       "      <td>150000.0</td>\n",
       "      <td>USD</td>\n",
       "      <td>2646675.0</td>\n",
       "      <td>...</td>\n",
       "      <td>venta depto 2 dorm. a estrenar 7 e/ 36 y 37</td>\n",
       "      <td>150000.0</td>\n",
       "      <td>NaN</td>\n",
       "      <td>NaN</td>\n",
       "      <td>NaN</td>\n",
       "      <td>NaN</td>\n",
       "      <td>NaN</td>\n",
       "      <td>NaN</td>\n",
       "      <td>NaN</td>\n",
       "      <td>NaN</td>\n",
       "    </tr>\n",
       "    <tr>\n",
       "      <th>2</th>\n",
       "      <td>sell</td>\n",
       "      <td>apartment</td>\n",
       "      <td>Mataderos</td>\n",
       "      <td>Capital Federal</td>\n",
       "      <td>-34.6522615,-58.5229825</td>\n",
       "      <td>-34.652262</td>\n",
       "      <td>-58.522982</td>\n",
       "      <td>72000.0</td>\n",
       "      <td>USD</td>\n",
       "      <td>1270404.0</td>\n",
       "      <td>...</td>\n",
       "      <td>2 amb 3er piso con ascensor apto credito</td>\n",
       "      <td>72000.0</td>\n",
       "      <td>55.0</td>\n",
       "      <td>1309.090909</td>\n",
       "      <td>1309.090909</td>\n",
       "      <td>NaN</td>\n",
       "      <td>2.0</td>\n",
       "      <td>NaN</td>\n",
       "      <td>2.0</td>\n",
       "      <td>2.0</td>\n",
       "    </tr>\n",
       "    <tr>\n",
       "      <th>3</th>\n",
       "      <td>sell</td>\n",
       "      <td>PH</td>\n",
       "      <td>Liniers</td>\n",
       "      <td>Capital Federal</td>\n",
       "      <td>-34.6477969,-58.5164244</td>\n",
       "      <td>-34.647797</td>\n",
       "      <td>-58.516424</td>\n",
       "      <td>95000.0</td>\n",
       "      <td>USD</td>\n",
       "      <td>1676227.5</td>\n",
       "      <td>...</td>\n",
       "      <td>ph 3 amb. cfte. reciclado</td>\n",
       "      <td>95000.0</td>\n",
       "      <td>NaN</td>\n",
       "      <td>NaN</td>\n",
       "      <td>NaN</td>\n",
       "      <td>NaN</td>\n",
       "      <td>3.0</td>\n",
       "      <td>NaN</td>\n",
       "      <td>3.0</td>\n",
       "      <td>3.0</td>\n",
       "    </tr>\n",
       "    <tr>\n",
       "      <th>4</th>\n",
       "      <td>sell</td>\n",
       "      <td>apartment</td>\n",
       "      <td>Centro</td>\n",
       "      <td>Buenos Aires Costa Atlántica</td>\n",
       "      <td>-38.0026256,-57.5494468</td>\n",
       "      <td>-38.002626</td>\n",
       "      <td>-57.549447</td>\n",
       "      <td>64000.0</td>\n",
       "      <td>USD</td>\n",
       "      <td>1129248.0</td>\n",
       "      <td>...</td>\n",
       "      <td>depto 2 amb al contrafrente zona centro/plaza mitre</td>\n",
       "      <td>64000.0</td>\n",
       "      <td>35.0</td>\n",
       "      <td>1828.571429</td>\n",
       "      <td>1828.571429</td>\n",
       "      <td>NaN</td>\n",
       "      <td>NaN</td>\n",
       "      <td>NaN</td>\n",
       "      <td>2.0</td>\n",
       "      <td>2.0</td>\n",
       "    </tr>\n",
       "  </tbody>\n",
       "</table>\n",
       "<p>5 rows × 28 columns</p>\n",
       "</div>"
      ],
      "text/plain": [
       "  operation property_type place_name                    state_name  \\\n",
       "0      sell            PH  Mataderos               Capital Federal   \n",
       "1      sell     apartment   La Plata        Bs.As. G.B.A. Zona Sur   \n",
       "2      sell     apartment  Mataderos               Capital Federal   \n",
       "3      sell            PH    Liniers               Capital Federal   \n",
       "4      sell     apartment     Centro  Buenos Aires Costa Atlántica   \n",
       "\n",
       "                   lat-lon        lat        lon     price currency  \\\n",
       "0  -34.6618237,-58.5088387 -34.661824 -58.508839   62000.0      USD   \n",
       "1  -34.9038831,-57.9643295 -34.903883 -57.964330  150000.0      USD   \n",
       "2  -34.6522615,-58.5229825 -34.652262 -58.522982   72000.0      USD   \n",
       "3  -34.6477969,-58.5164244 -34.647797 -58.516424   95000.0      USD   \n",
       "4  -38.0026256,-57.5494468 -38.002626 -57.549447   64000.0      USD   \n",
       "\n",
       "   price_aprox_local_currency  ...  \\\n",
       "0                   1093959.0  ...   \n",
       "1                   2646675.0  ...   \n",
       "2                   1270404.0  ...   \n",
       "3                   1676227.5  ...   \n",
       "4                   1129248.0  ...   \n",
       "\n",
       "                                                        title  PriceUSD_Clean  \\\n",
       "0                          2 amb tipo casa sin expensas en pb         62000.0   \n",
       "1  venta depto 2 dorm. a estrenar 7 e/ 36 y 37                       150000.0   \n",
       "2                    2 amb 3er piso con ascensor apto credito         72000.0   \n",
       "3                                ph 3 amb. cfte. reciclado            95000.0   \n",
       "4         depto 2 amb al contrafrente zona centro/plaza mitre         64000.0   \n",
       "\n",
       "   surface_covered_in_m2_clean  price_usd_per_m2_clean  \\\n",
       "0                         40.0             1127.272727   \n",
       "1                          NaN                     NaN   \n",
       "2                         55.0             1309.090909   \n",
       "3                          NaN                     NaN   \n",
       "4                         35.0             1828.571429   \n",
       "\n",
       "   price_usd_per_m2_clean_2  amb_clean_descr_escritos  \\\n",
       "0               1127.272727                       NaN   \n",
       "1                       NaN                       NaN   \n",
       "2               1309.090909                       NaN   \n",
       "3                       NaN                       NaN   \n",
       "4               1828.571429                       NaN   \n",
       "\n",
       "   amb_clean_descr_no_escritos amb_clean_title_escritos  \\\n",
       "0                          2.0                      NaN   \n",
       "1                          NaN                      NaN   \n",
       "2                          2.0                      NaN   \n",
       "3                          3.0                      NaN   \n",
       "4                          NaN                      NaN   \n",
       "\n",
       "  amb_clean_title_no_escritos  cant_ambientes_clean  \n",
       "0                         2.0                   2.0  \n",
       "1                         NaN                   NaN  \n",
       "2                         2.0                   2.0  \n",
       "3                         3.0                   3.0  \n",
       "4                         2.0                   2.0  \n",
       "\n",
       "[5 rows x 28 columns]"
      ]
     },
     "execution_count": 136,
     "metadata": {},
     "output_type": "execute_result"
    }
   ],
   "source": [
    "data.head()"
   ]
  },
  {
   "cell_type": "code",
   "execution_count": 137,
   "id": "a92cfaa7",
   "metadata": {},
   "outputs": [
    {
     "data": {
      "text/plain": [
       "0.39742616616064036"
      ]
     },
     "execution_count": 137,
     "metadata": {},
     "output_type": "execute_result"
    }
   ],
   "source": [
    "data['rooms'].notnull().sum()/data.shape[0]"
   ]
  },
  {
   "cell_type": "code",
   "execution_count": 138,
   "id": "9c1b129b",
   "metadata": {},
   "outputs": [
    {
     "data": {
      "text/plain": [
       "0.6313138283190726"
      ]
     },
     "execution_count": 138,
     "metadata": {},
     "output_type": "execute_result"
    }
   ],
   "source": [
    "data['cant_ambientes_clean'].notnull().sum()/data.shape[0]"
   ]
  },
  {
   "cell_type": "code",
   "execution_count": 139,
   "id": "d58f6234",
   "metadata": {},
   "outputs": [],
   "source": [
    "#Fin de busqueda de cant de ambientes "
   ]
  },
  {
   "cell_type": "code",
   "execution_count": 140,
   "id": "e3405893",
   "metadata": {},
   "outputs": [
    {
     "data": {
      "text/plain": [
       "operation                      100.000000\n",
       "property_type                  100.000000\n",
       "place_name                      99.980161\n",
       "state_name                     100.000000\n",
       "description                     99.998275\n",
       "title                          100.000000\n",
       "PriceUSD_Clean                  87.408570\n",
       "surface_covered_in_m2_clean     87.719086\n",
       "price_usd_per_m2_clean_2        81.599331\n",
       "cant_ambientes_clean            63.131383\n",
       "dtype: float64"
      ]
     },
     "execution_count": 140,
     "metadata": {},
     "output_type": "execute_result"
    }
   ],
   "source": [
    "data_clean = data.copy()\n",
    "data_clean = data_clean.drop(columns = ['lat-lon', 'lon', 'lat', 'price', 'price_aprox_local_currency', 'price_per_m2', 'price_aprox_usd',\n",
    "                                        'surface_total_in_m2', 'surface_covered_in_m2', 'expenses', 'currency', 'price_usd_per_m2', \n",
    "                                        'price_usd_per_m2_clean','amb_clean_descr_escritos','amb_clean_descr_no_escritos', 'amb_clean_title_escritos',\n",
    "                                        'amb_clean_title_no_escritos', 'rooms'])\n",
    "(data_clean.notnull().sum()/data_clean.shape[0])*100"
   ]
  },
  {
   "cell_type": "code",
   "execution_count": 141,
   "id": "60b3f46b",
   "metadata": {},
   "outputs": [],
   "source": [
    "data_clean = data_clean.rename(columns = {'PriceUSD_Clean' : 'price_usd_clean', 'surface_covered_in_m2_clean' : 'surface_in_m2_clean',\n",
    "                                         'price_usd_per_m2_clean_2' : 'price_usd_per_m2_clean'})"
   ]
  },
  {
   "cell_type": "code",
   "execution_count": 142,
   "id": "e7c63932",
   "metadata": {},
   "outputs": [
    {
     "data": {
      "text/plain": [
       "operation                 100.000000\n",
       "property_type             100.000000\n",
       "place_name                 99.980161\n",
       "state_name                100.000000\n",
       "description                99.998275\n",
       "title                     100.000000\n",
       "price_usd_clean            87.408570\n",
       "surface_in_m2_clean        87.719086\n",
       "price_usd_per_m2_clean     81.599331\n",
       "cant_ambientes_clean       63.131383\n",
       "dtype: float64"
      ]
     },
     "execution_count": 142,
     "metadata": {},
     "output_type": "execute_result"
    }
   ],
   "source": [
    "(data_clean.notnull().sum()/data_clean.shape[0])*100"
   ]
  },
  {
   "cell_type": "code",
   "execution_count": 143,
   "id": "d7d243a4",
   "metadata": {},
   "outputs": [
    {
     "data": {
      "text/plain": [
       "(115936, 10)"
      ]
     },
     "execution_count": 143,
     "metadata": {},
     "output_type": "execute_result"
    }
   ],
   "source": [
    "data_clean.shape"
   ]
  },
  {
   "cell_type": "markdown",
   "id": "9f9c9c82",
   "metadata": {},
   "source": [
    "# Limpieza de outliers"
   ]
  },
  {
   "cell_type": "code",
   "execution_count": 144,
   "id": "94d78746",
   "metadata": {},
   "outputs": [
    {
     "data": {
      "image/png": "[encoded data removed]",
      "text/plain": [
       "<Figure size 432x288 with 1 Axes>"
      ]
     },
     "metadata": {
      "needs_background": "light"
     },
     "output_type": "display_data"
    }
   ],
   "source": [
    "# Ver primero distribución de valores\n",
    "\n",
    "sns.boxplot(data = data_clean, x = 'property_type', y = 'price_usd_per_m2_clean');"
   ]
  },
  {
   "cell_type": "code",
   "execution_count": 145,
   "id": "a09908ef",
   "metadata": {},
   "outputs": [],
   "source": [
    "# Calcular los máximos y mínimos de cada tipo de propiedad y variable, tomando 2 IQR\n",
    "\n",
    "def valores_limite (data, property_type, variable):\n",
    "    quantil = data.loc[data['property_type'] == property_type][variable].quantile([.25, .5, .75])\n",
    "    val_max = 2 * ( quantil[.75] - quantil[.25] ) + quantil[.75]\n",
    "    val_min = - 2 * ( quantil[.75] - quantil[.25] ) + quantil[.25]\n",
    "    return val_max, val_min"
   ]
  },
  {
   "cell_type": "code",
   "execution_count": 146,
   "id": "9c163bf0",
   "metadata": {},
   "outputs": [],
   "source": [
    "# Sacar los máximos y mínimos de precio/m2\n",
    "\n",
    "price_per_m2_max_ph, price_per_m2_min_ph = valores_limite(data_clean, 'PH', 'price_usd_per_m2_clean')\n",
    "price_per_m2_max_house, price_per_m2_min_house = valores_limite(data_clean, 'house', 'price_usd_per_m2_clean')\n",
    "price_per_m2_max_apartment, price_per_m2_min_apartment = valores_limite(data_clean, 'apartment', 'price_usd_per_m2_clean')\n",
    "price_per_m2_max_store, price_per_m2_min_store = valores_limite(data_clean, 'store', 'price_usd_per_m2_clean')\n"
   ]
  },
  {
   "cell_type": "code",
   "execution_count": 147,
   "id": "0f4f3f2b",
   "metadata": {},
   "outputs": [],
   "source": [
    "# Sacar los máximos y mínimos de precio/m2\n",
    "# Filtro altos\n",
    "# Armar máscaras por tipo de propiedad\n",
    "mask_price_ph_alto = np.logical_and( (data_clean['price_usd_per_m2_clean'] > price_per_m2_max_ph), data_clean['property_type'] == 'PH' )\n",
    "mask_price_apartment_alto = np.logical_and( (data_clean['price_usd_per_m2_clean'] > price_per_m2_max_apartment), data_clean['property_type'] == 'apartment' )\n",
    "mask_price_house_alto = np.logical_and( (data_clean['price_usd_per_m2_clean'] > price_per_m2_max_house), data_clean['property_type'] == 'house' )\n",
    "mask_price_store_alto = np.logical_and( (data_clean['price_usd_per_m2_clean'] > price_per_m2_max_store), data_clean['property_type'] == 'store' )\n",
    "\n",
    "# Combinar todo en una gran mascara y ver el resultado\n",
    "mask_price_alto1 = np.logical_or(mask_price_ph_alto, mask_price_apartment_alto)\n",
    "mask_price_alto2 = np.logical_or(mask_price_house_alto, mask_price_store_alto)\n",
    "mask_price_alto = np.logical_or(mask_price_alto2, mask_price_alto1)"
   ]
  },
  {
   "cell_type": "code",
   "execution_count": 148,
   "id": "196b1ebf",
   "metadata": {},
   "outputs": [
    {
     "name": "stdout",
     "output_type": "stream",
     "text": [
      "Datos filtrados por filtro precio/m2 alto: 4263\n"
     ]
    }
   ],
   "source": [
    "print('Datos filtrados por filtro precio/m2 alto:', data_clean.loc[mask_price_alto].shape[0])"
   ]
  },
  {
   "cell_type": "code",
   "execution_count": 149,
   "id": "cec9ccab",
   "metadata": {},
   "outputs": [],
   "source": [
    "# Sacar los máximos y mínimos de precio/m2\n",
    "# Filtro bajos\n",
    "# Armar máscaras por tipo de propiedad\n",
    "mask_price_ph_bajo = np.logical_and( (data_clean['price_usd_per_m2_clean'] < price_per_m2_min_ph), data_clean['property_type'] == 'PH' )\n",
    "mask_price_apartment_bajo = np.logical_and( (data_clean['price_usd_per_m2_clean'] < price_per_m2_min_apartment), data_clean['property_type'] == 'apartment' )\n",
    "mask_price_house_bajo = np.logical_and( (data_clean['price_usd_per_m2_clean'] < price_per_m2_min_house), data_clean['property_type'] == 'house' )\n",
    "mask_price_store_bajo = np.logical_and( (data_clean['price_usd_per_m2_clean'] < price_per_m2_min_store), data_clean['property_type'] == 'store' )\n",
    "\n",
    "# Combinar todo en una gran mascara y ver el resultado\n",
    "mask_price_bajo1 = np.logical_or(mask_price_ph_bajo, mask_price_apartment_bajo)\n",
    "mask_price_bajo2 = np.logical_or(mask_price_house_bajo, mask_price_store_bajo)\n",
    "mask_price_bajo = np.logical_or(mask_price_bajo1, mask_price_bajo2)"
   ]
  },
  {
   "cell_type": "code",
   "execution_count": 150,
   "id": "72814301",
   "metadata": {},
   "outputs": [
    {
     "name": "stdout",
     "output_type": "stream",
     "text": [
      "Datos filtrados por filtro precio/m2 bajo: 0\n"
     ]
    }
   ],
   "source": [
    "print('Datos filtrados por filtro precio/m2 bajo:', data_clean.loc[mask_price_bajo].shape[0])"
   ]
  },
  {
   "cell_type": "code",
   "execution_count": 151,
   "id": "88686c9f",
   "metadata": {},
   "outputs": [
    {
     "data": {
      "text/plain": [
       "(111673, 10)"
      ]
     },
     "execution_count": 151,
     "metadata": {},
     "output_type": "execute_result"
    }
   ],
   "source": [
    "# Filtro para quedarse solo con los indices de las filas verdaderas\n",
    "filtro_precio_alto = mask_price_alto.drop(mask_price_alto.loc[mask_price_alto == False].index, inplace = False)\n",
    "data_clean = data_clean.drop(index = filtro_precio_alto.index)\n",
    "\n",
    "filtro_precio_bajo = mask_price_bajo.drop(mask_price_bajo.loc[mask_price_bajo == False].index, inplace = False)\n",
    "data_clean = data_clean.drop(index = filtro_precio_bajo.index)\n",
    "\n",
    "data_clean.shape"
   ]
  },
  {
   "cell_type": "code",
   "execution_count": 152,
   "id": "95cf2d43",
   "metadata": {},
   "outputs": [],
   "source": [
    "# Sacar los máximos y mínimos de precio\n",
    "\n",
    "price_max_ph, price_min_ph = valores_limite(data_clean, 'PH', 'price_usd_clean')\n",
    "price_max_house, price_min_house = valores_limite(data_clean, 'house', 'price_usd_clean')\n",
    "price_max_apartment, price_min_apartment = valores_limite(data_clean, 'apartment', 'price_usd_clean')\n",
    "price_max_store, price_min_store = valores_limite(data_clean, 'store', 'price_usd_clean')"
   ]
  },
  {
   "cell_type": "code",
   "execution_count": 153,
   "id": "934cb037",
   "metadata": {},
   "outputs": [],
   "source": [
    "# Sacar los máximos y mínimos de precio\n",
    "# Filtro altos\n",
    "# Armar máscaras por tipo de propiedad\n",
    "mask_price2_ph_alto = np.logical_and( (data_clean['price_usd_clean'] > price_max_ph), data_clean['property_type'] == 'PH' )\n",
    "mask_price2_apartment_alto = np.logical_and( (data_clean['price_usd_clean'] > price_max_apartment), data_clean['property_type'] == 'apartment' )\n",
    "mask_price2_house_alto = np.logical_and( (data_clean['price_usd_clean'] > price_max_house), data_clean['property_type'] == 'house' )\n",
    "mask_price2_store_alto = np.logical_and( (data_clean['price_usd_clean'] > price_max_store), data_clean['property_type'] == 'store' )\n",
    "\n",
    "# Combinar todo en una gran mascara y ver el resultado\n",
    "mask_price2_alto1 = np.logical_or(mask_price2_ph_alto, mask_price2_apartment_alto)\n",
    "mask_price2_alto2 = np.logical_or(mask_price2_house_alto, mask_price2_store_alto)\n",
    "mask_price2_alto = np.logical_or(mask_price2_alto2, mask_price2_alto1)"
   ]
  },
  {
   "cell_type": "code",
   "execution_count": 154,
   "id": "b4b0309d",
   "metadata": {},
   "outputs": [
    {
     "name": "stdout",
     "output_type": "stream",
     "text": [
      "Datos filtrados por filtro precio alto: 5206\n"
     ]
    }
   ],
   "source": [
    "print('Datos filtrados por filtro precio alto:', data_clean.loc[mask_price2_alto].shape[0])"
   ]
  },
  {
   "cell_type": "code",
   "execution_count": 155,
   "id": "e216dc13",
   "metadata": {},
   "outputs": [],
   "source": [
    "# Sacar los máximos y mínimos de precio\n",
    "# Filtro bajos\n",
    "# Armar máscaras por tipo de propiedad\n",
    "mask_price2_ph_bajo = np.logical_and( (data_clean['price_usd_clean'] < price_min_ph), data_clean['property_type'] == 'PH' )\n",
    "mask_price2_apartment_bajo = np.logical_and( (data_clean['price_usd_clean'] < price_min_apartment), data_clean['property_type'] == 'apartment' )\n",
    "mask_price2_house_bajo = np.logical_and( (data_clean['price_usd_clean'] < price_min_house), data_clean['property_type'] == 'house' )\n",
    "mask_price2_store_bajo = np.logical_and( (data_clean['price_usd_clean'] < price_min_store), data_clean['property_type'] == 'store' )\n",
    "\n",
    "# Combinar todo en una gran mascara y ver el resultado\n",
    "mask_price2_bajo1 = np.logical_or(mask_price2_ph_bajo, mask_price2_apartment_bajo)\n",
    "mask_price2_bajo2 = np.logical_or(mask_price2_house_bajo, mask_price2_store_bajo)\n",
    "mask_price2_bajo = np.logical_or(mask_price2_bajo2, mask_price2_bajo1)"
   ]
  },
  {
   "cell_type": "code",
   "execution_count": 156,
   "id": "dd2bf4dd",
   "metadata": {},
   "outputs": [
    {
     "name": "stdout",
     "output_type": "stream",
     "text": [
      "Datos filtrados por filtro precio bajo: 0\n"
     ]
    }
   ],
   "source": [
    "print('Datos filtrados por filtro precio bajo:', data_clean.loc[mask_price2_bajo].shape[0])"
   ]
  },
  {
   "cell_type": "code",
   "execution_count": 157,
   "id": "f1cbdb6c",
   "metadata": {},
   "outputs": [
    {
     "data": {
      "text/plain": [
       "(106467, 10)"
      ]
     },
     "execution_count": 157,
     "metadata": {},
     "output_type": "execute_result"
    }
   ],
   "source": [
    "# Filtro para quedarse solo con los indices de las filas verdaderas\n",
    "filtro_precio2_alto = mask_price2_alto.drop(mask_price2_alto.loc[mask_price2_alto == False].index, inplace = False)\n",
    "data_clean = data_clean.drop(index = filtro_precio2_alto.index)\n",
    "\n",
    "filtro_precio2_bajo = mask_price2_bajo.drop(mask_price2_bajo.loc[mask_price2_bajo == False].index, inplace = False)\n",
    "data_clean = data_clean.drop(index = filtro_precio2_bajo.index)\n",
    "\n",
    "data_clean.shape"
   ]
  },
  {
   "cell_type": "code",
   "execution_count": 158,
   "id": "72e1652d",
   "metadata": {},
   "outputs": [],
   "source": [
    "# Sacar los máximos y mínimos de m2\n",
    "\n",
    "m2_max_ph, m2_min_ph = valores_limite(data_clean, 'PH', 'surface_in_m2_clean')\n",
    "m2_max_house, m2_min_house = valores_limite(data_clean, 'house', 'surface_in_m2_clean')\n",
    "m2_max_apartment, m2_min_apartment = valores_limite(data_clean, 'apartment', 'surface_in_m2_clean')\n",
    "m2_max_store, m2_min_store = valores_limite(data_clean, 'store', 'surface_in_m2_clean')"
   ]
  },
  {
   "cell_type": "code",
   "execution_count": 159,
   "id": "801bef12",
   "metadata": {},
   "outputs": [],
   "source": [
    "# Sacar los máximos y mínimos de m2\n",
    "# Filtro altos\n",
    "# Armar máscaras por tipo de propiedad\n",
    "mask_m2_ph_alto = np.logical_and( (data_clean['surface_in_m2_clean'] > m2_max_ph), data_clean['property_type'] == 'PH' )\n",
    "mask_m2_apartment_alto = np.logical_and( (data_clean['surface_in_m2_clean'] > m2_max_apartment), data_clean['property_type'] == 'apartment' )\n",
    "mask_m2_house_alto = np.logical_and( (data_clean['surface_in_m2_clean'] > m2_max_house), data_clean['property_type'] == 'house' )\n",
    "mask_m2_store_alto = np.logical_and( (data_clean['surface_in_m2_clean'] > m2_max_store), data_clean['property_type'] == 'store' )\n",
    "\n",
    "# Combinar todo en una gran mascara y ver el resultado\n",
    "mask_m2_alto1 = np.logical_or(mask_m2_ph_alto, mask_m2_apartment_alto)\n",
    "mask_m2_alto2 = np.logical_or(mask_m2_house_alto, mask_m2_store_alto)\n",
    "mask_m2_alto = np.logical_or(mask_m2_alto1, mask_m2_alto2)"
   ]
  },
  {
   "cell_type": "code",
   "execution_count": 160,
   "id": "8d4e8a7b",
   "metadata": {},
   "outputs": [
    {
     "name": "stdout",
     "output_type": "stream",
     "text": [
      "Datos filtrados por filtro m2 alto: 3143\n"
     ]
    }
   ],
   "source": [
    "print('Datos filtrados por filtro m2 alto:', data_clean.loc[mask_m2_alto].shape[0])"
   ]
  },
  {
   "cell_type": "code",
   "execution_count": 161,
   "id": "7ea44225",
   "metadata": {},
   "outputs": [],
   "source": [
    "# Sacar los máximos y mínimos de m2\n",
    "# Filtro bajos\n",
    "# Armar máscaras por tipo de propiedad\n",
    "mask_m2_ph_bajo = np.logical_and( (data_clean['surface_in_m2_clean'] < m2_min_ph), data_clean['property_type'] == 'PH' )\n",
    "mask_m2_apartment_bajo = np.logical_and( (data_clean['surface_in_m2_clean'] < m2_min_apartment), data_clean['property_type'] == 'apartment' )\n",
    "mask_m2_house_bajo = np.logical_and( (data_clean['surface_in_m2_clean'] < m2_min_house), data_clean['property_type'] == 'house' )\n",
    "mask_m2_store_bajo = np.logical_and( (data_clean['surface_in_m2_clean'] < m2_min_store), data_clean['property_type'] == 'store' )\n",
    "\n",
    "# Combinar todo en una gran mascara y ver el resultado\n",
    "mask_m2_bajo1 = np.logical_or(mask_m2_ph_bajo, mask_m2_apartment_bajo)\n",
    "mask_m2_bajo2 = np.logical_or(mask_m2_house_bajo, mask_m2_store_bajo)\n",
    "mask_m2_bajo = np.logical_or(mask_m2_bajo1, mask_m2_bajo2)"
   ]
  },
  {
   "cell_type": "code",
   "execution_count": 162,
   "id": "72f971f9",
   "metadata": {},
   "outputs": [
    {
     "name": "stdout",
     "output_type": "stream",
     "text": [
      "Datos filtrados por filtro m2 bajo: 0\n"
     ]
    }
   ],
   "source": [
    "print('Datos filtrados por filtro m2 bajo:', data_clean.loc[mask_m2_bajo].shape[0])"
   ]
  },
  {
   "cell_type": "code",
   "execution_count": 163,
   "id": "3215cc9d",
   "metadata": {},
   "outputs": [
    {
     "data": {
      "text/plain": [
       "(103324, 10)"
      ]
     },
     "execution_count": 163,
     "metadata": {},
     "output_type": "execute_result"
    }
   ],
   "source": [
    "# Filtro para quedarse solo con los indices de las filas verdaderas\n",
    "filtro_m2_alto = mask_m2_alto.drop(mask_m2_alto.loc[mask_m2_alto == False].index, inplace = False)\n",
    "data_clean = data_clean.drop(index = filtro_m2_alto.index)\n",
    "\n",
    "filtro_m2_bajo = mask_m2_bajo.drop(mask_m2_bajo.loc[mask_m2_bajo == False].index, inplace = False)\n",
    "data_clean = data_clean.drop(index = filtro_precio2_bajo.index)\n",
    "\n",
    "data_clean.shape"
   ]
  },
  {
   "cell_type": "code",
   "execution_count": null,
   "id": "3b728e05",
   "metadata": {},
   "outputs": [],
   "source": []
  },
  {
   "cell_type": "code",
   "execution_count": 164,
   "id": "91534e99",
   "metadata": {},
   "outputs": [
    {
     "name": "stdout",
     "output_type": "stream",
     "text": [
      "Datos filtrados por nulos: 23406\n"
     ]
    }
   ],
   "source": [
    "# Tirar los registros que no se pudieron completar ni con precio ni con superficie\n",
    "# Armar un df auxiliar para hacer la copia y la pisada\n",
    "\n",
    "mask_nulos = data_clean['surface_in_m2_clean'].isnull() | data_clean['price_usd_per_m2_clean'].isnull()\n",
    "filtro_nulos = data_clean.loc[mask_nulos]\n",
    "print('Datos filtrados por nulos:', filtro_nulos.shape[0])"
   ]
  },
  {
   "cell_type": "code",
   "execution_count": 165,
   "id": "f794c5ac",
   "metadata": {},
   "outputs": [
    {
     "data": {
      "text/plain": [
       "operation                 100.000000\n",
       "property_type             100.000000\n",
       "place_name                 99.976226\n",
       "state_name                100.000000\n",
       "description                99.998749\n",
       "title                     100.000000\n",
       "price_usd_clean           100.000000\n",
       "surface_in_m2_clean       100.000000\n",
       "price_usd_per_m2_clean    100.000000\n",
       "cant_ambientes_clean       66.708376\n",
       "dtype: float64"
      ]
     },
     "execution_count": 165,
     "metadata": {},
     "output_type": "execute_result"
    }
   ],
   "source": [
    "data_clean = data_clean.drop(index = filtro_nulos.index)\n",
    "data_clean.notnull().mean()*100"
   ]
  },
  {
   "cell_type": "code",
   "execution_count": 166,
   "id": "93d518c2",
   "metadata": {},
   "outputs": [
    {
     "data": {
      "text/plain": [
       "(79918, 10)"
      ]
     },
     "execution_count": 166,
     "metadata": {},
     "output_type": "execute_result"
    }
   ],
   "source": [
    "data_clean.shape"
   ]
  },
  {
   "cell_type": "code",
   "execution_count": 167,
   "id": "6e08399d",
   "metadata": {},
   "outputs": [],
   "source": [
    "# Armar nuevo indice\n",
    "nuevo_indice = range(0, data_clean.shape[0])\n",
    "data_clean.index = nuevo_indice"
   ]
  },
  {
   "cell_type": "code",
   "execution_count": 168,
   "id": "ecabd0e7",
   "metadata": {},
   "outputs": [
    {
     "data": {
      "image/png": "[encoded data removed]",
      "text/plain": [
       "<Figure size 432x288 with 1 Axes>"
      ]
     },
     "metadata": {
      "needs_background": "light"
     },
     "output_type": "display_data"
    }
   ],
   "source": [
    "sns.boxplot(data = data_clean, x = 'property_type', y = 'price_usd_per_m2_clean');"
   ]
  },
  {
   "cell_type": "markdown",
   "id": "096f31fd",
   "metadata": {},
   "source": [
    "# Conclusion de limpieza"
   ]
  },
  {
   "cell_type": "code",
   "execution_count": 169,
   "id": "542c42ac",
   "metadata": {},
   "outputs": [
    {
     "data": {
      "text/plain": [
       "operation                 100.000000\n",
       "property_type             100.000000\n",
       "place_name                 99.976226\n",
       "state_name                100.000000\n",
       "description                99.998749\n",
       "title                     100.000000\n",
       "price_usd_clean           100.000000\n",
       "surface_in_m2_clean       100.000000\n",
       "price_usd_per_m2_clean    100.000000\n",
       "cant_ambientes_clean       66.708376\n",
       "dtype: float64"
      ]
     },
     "execution_count": 169,
     "metadata": {},
     "output_type": "execute_result"
    }
   ],
   "source": [
    "# Estado final, datos completos por campo\n",
    "(data_clean.notnull().mean())*100"
   ]
  },
  {
   "cell_type": "code",
   "execution_count": 170,
   "id": "ecdf3745",
   "metadata": {},
   "outputs": [
    {
     "data": {
      "text/plain": [
       "(79918, 10)"
      ]
     },
     "execution_count": 170,
     "metadata": {},
     "output_type": "execute_result"
    }
   ],
   "source": [
    "# Numero de datos\n",
    "data_clean.shape"
   ]
  },
  {
   "cell_type": "code",
   "execution_count": 171,
   "id": "2e3479d8",
   "metadata": {},
   "outputs": [
    {
     "name": "stdout",
     "output_type": "stream",
     "text": [
      "Datos iniciales: 121220\n",
      "Datos finales: 79918\n",
      "Datos depurados: 65.93 %\n"
     ]
    }
   ],
   "source": [
    "print('Datos iniciales:', df_raw.shape[0])\n",
    "print('Datos finales:', data_clean.shape[0])\n",
    "print('Datos depurados:', round(data_clean.shape[0] / df_raw.shape[0], 4)*100, '%')"
   ]
  },
  {
   "cell_type": "code",
   "execution_count": 172,
   "id": "54f1db31",
   "metadata": {},
   "outputs": [
    {
     "data": {
      "text/plain": [
       "operation                  object\n",
       "property_type              object\n",
       "place_name                 object\n",
       "state_name                 object\n",
       "description                object\n",
       "title                      object\n",
       "price_usd_clean           float64\n",
       "surface_in_m2_clean       float64\n",
       "price_usd_per_m2_clean    float64\n",
       "cant_ambientes_clean      float64\n",
       "dtype: object"
      ]
     },
     "execution_count": 172,
     "metadata": {},
     "output_type": "execute_result"
    }
   ],
   "source": [
    "data_clean.dtypes"
   ]
  },
  {
   "cell_type": "code",
   "execution_count": null,
   "id": "702a82ab",
   "metadata": {},
   "outputs": [],
   "source": []
  },
  {
   "cell_type": "code",
   "execution_count": null,
   "id": "5aa684b4",
   "metadata": {},
   "outputs": [],
   "source": []
  },
  {
   "cell_type": "code",
   "execution_count": null,
   "id": "f84d36ad",
   "metadata": {},
   "outputs": [],
   "source": []
  },
  {
   "cell_type": "markdown",
   "id": "715363cb",
   "metadata": {},
   "source": [
    "# Nuevas variables predictivas"
   ]
  },
  {
   "cell_type": "code",
   "execution_count": 173,
   "id": "7508bebe",
   "metadata": {},
   "outputs": [],
   "source": [
    "# Mascaras de regex"
   ]
  },
  {
   "cell_type": "code",
   "execution_count": 174,
   "id": "6a185439",
   "metadata": {},
   "outputs": [],
   "source": [
    "# Buscar todas las menciones de pileta\n",
    "patron1 = 'pileta|piscina|pisina|picina'\n",
    "regex1 = re.compile(patron1, flags = re.IGNORECASE )\n",
    "\n",
    "amenities1 = data_clean['description'].apply(lambda x: x if x is np.NaN else regex1.search(x))\n",
    "# Mascara para tener los registros que saco regex\n",
    "mask_pileta = amenities1.notnull()\n",
    "\n",
    "# Sacar los store con pileta, solo considerar casas\n",
    "mask_not_store = data_clean['property_type'] != 'store'\n",
    "mask_amenities1 = np.logical_and(mask_pileta, mask_not_store)\n"
   ]
  },
  {
   "cell_type": "markdown",
   "id": "91636f39",
   "metadata": {},
   "source": [
    "<p style=\"color:#FF0000\";> Bien el filtro lógico de que los store no tienen (o no suelen tener) pileta"
   ]
  },
  {
   "cell_type": "code",
   "execution_count": 175,
   "id": "b9a08630",
   "metadata": {},
   "outputs": [
    {
     "data": {
      "text/plain": [
       "house        10759\n",
       "apartment    10477\n",
       "PH             185\n",
       "Name: property_type, dtype: int64"
      ]
     },
     "execution_count": 175,
     "metadata": {},
     "output_type": "execute_result"
    }
   ],
   "source": [
    "# para verificar que no hay negocios con pileta\n",
    "data_clean.loc[mask_amenities1]['property_type'].value_counts()"
   ]
  },
  {
   "cell_type": "code",
   "execution_count": 176,
   "id": "ccc0092b",
   "metadata": {},
   "outputs": [
    {
     "data": {
      "text/plain": [
       "house        10759\n",
       "apartment    10477\n",
       "PH             185\n",
       "store           59\n",
       "Name: property_type, dtype: int64"
      ]
     },
     "execution_count": 176,
     "metadata": {},
     "output_type": "execute_result"
    }
   ],
   "source": [
    "# versus lo que saco la regex\n",
    "data_clean.loc[mask_pileta]['property_type'].value_counts()"
   ]
  },
  {
   "cell_type": "code",
   "execution_count": 177,
   "id": "7915515e",
   "metadata": {},
   "outputs": [],
   "source": [
    "# Cargar la nueva columna al dataset\n",
    "data_clean['amenities_pileta'] = mask_amenities1"
   ]
  },
  {
   "cell_type": "code",
   "execution_count": 178,
   "id": "144fb215",
   "metadata": {},
   "outputs": [
    {
     "data": {
      "text/plain": [
       "(3051, 11)"
      ]
     },
     "execution_count": 178,
     "metadata": {},
     "output_type": "execute_result"
    }
   ],
   "source": [
    "# Buscar todas las menciones de SUM\n",
    "patron2= '\\sSUM\\s'\n",
    "regex2 = re.compile(patron2, flags = re.IGNORECASE )\n",
    "\n",
    "amenities2 = data_clean['description'].apply(lambda x: x if x is np.NaN else regex2.search(x))\n",
    "\n",
    "mask_amenities2 = amenities2.notnull()\n",
    "data_clean.loc[mask_amenities2].shape"
   ]
  },
  {
   "cell_type": "code",
   "execution_count": 179,
   "id": "6cb1f8a7",
   "metadata": {},
   "outputs": [],
   "source": [
    "# Cargar la nueva columna al dataset\n",
    "data_clean['amenities_SUM'] = mask_amenities2"
   ]
  },
  {
   "cell_type": "code",
   "execution_count": 180,
   "id": "d8c27ece",
   "metadata": {},
   "outputs": [
    {
     "data": {
      "text/plain": [
       "(25715, 12)"
      ]
     },
     "execution_count": 180,
     "metadata": {},
     "output_type": "execute_result"
    }
   ],
   "source": [
    "# Buscar todas las menciones de parrilla\n",
    "patron3 = 'parrill'\n",
    "regex3 = re.compile(patron3, flags = re.IGNORECASE )\n",
    "\n",
    "amenities3 = data_clean['description'].apply(lambda x: x if x is np.NaN else regex3.search(x))\n",
    "\n",
    "mask_amenities3 = amenities3.notnull()\n",
    "data_clean.loc[mask_amenities3].shape\n"
   ]
  },
  {
   "cell_type": "code",
   "execution_count": 181,
   "id": "3076d91a",
   "metadata": {},
   "outputs": [],
   "source": [
    "# Cargar la nueva columna al dataset\n",
    "data_clean['amenities_parrilla'] = mask_amenities3"
   ]
  },
  {
   "cell_type": "code",
   "execution_count": null,
   "id": "73181462",
   "metadata": {},
   "outputs": [],
   "source": []
  },
  {
   "cell_type": "code",
   "execution_count": 182,
   "id": "718350ab",
   "metadata": {},
   "outputs": [
    {
     "data": {
      "text/plain": [
       "(33811, 13)"
      ]
     },
     "execution_count": 182,
     "metadata": {},
     "output_type": "execute_result"
    }
   ],
   "source": [
    "# Buscar todas las menciones de garage/estacionamiento\n",
    "patron4 = 'garage|estacionamiento|cochera'\n",
    "regex4 = re.compile(patron4, flags = re.IGNORECASE )\n",
    "\n",
    "amenities4 = data_clean['description'].apply(lambda x: x if x is np.NaN else regex4.search(x))\n",
    "\n",
    "mask_amenities4 = amenities4.notnull()\n",
    "data_clean.loc[mask_amenities4].shape"
   ]
  },
  {
   "cell_type": "code",
   "execution_count": 183,
   "id": "4e173525",
   "metadata": {},
   "outputs": [],
   "source": [
    "# Cargar la nueva columna al dataset\n",
    "data_clean['amenities_garage'] = mask_amenities4"
   ]
  },
  {
   "cell_type": "markdown",
   "id": "89180d51",
   "metadata": {},
   "source": [
    "# Cierre"
   ]
  },
  {
   "cell_type": "code",
   "execution_count": 184,
   "id": "a82e1471",
   "metadata": {},
   "outputs": [],
   "source": [
    "# Data set inicial"
   ]
  },
  {
   "cell_type": "code",
   "execution_count": 185,
   "id": "174f5400",
   "metadata": {},
   "outputs": [
    {
     "data": {
      "text/plain": [
       "(121220, 26)"
      ]
     },
     "execution_count": 185,
     "metadata": {},
     "output_type": "execute_result"
    }
   ],
   "source": [
    "df_raw.shape"
   ]
  },
  {
   "cell_type": "code",
   "execution_count": 186,
   "id": "3098b5cf",
   "metadata": {},
   "outputs": [
    {
     "data": {
      "text/plain": [
       "Unnamed: 0                    100.000000\n",
       "operation                     100.000000\n",
       "property_type                 100.000000\n",
       "place_name                     99.981026\n",
       "place_with_parent_names       100.000000\n",
       "country_name                  100.000000\n",
       "state_name                    100.000000\n",
       "geonames_id                    84.559479\n",
       "lat-lon                        57.474014\n",
       "lat                            57.474014\n",
       "lon                            57.474014\n",
       "price                          83.162844\n",
       "currency                       83.162019\n",
       "price_aprox_local_currency     83.162844\n",
       "price_aprox_usd                83.162844\n",
       "surface_total_in_m2            67.556509\n",
       "surface_covered_in_m2          83.577792\n",
       "price_usd_per_m2               56.605346\n",
       "price_per_m2                   72.313150\n",
       "floor                           6.516251\n",
       "rooms                          39.094209\n",
       "expenses                       11.765385\n",
       "properati_url                 100.000000\n",
       "description                    99.998350\n",
       "title                         100.000000\n",
       "image_thumbnail                97.432767\n",
       "dtype: float64"
      ]
     },
     "execution_count": 186,
     "metadata": {},
     "output_type": "execute_result"
    }
   ],
   "source": [
    "# Datos completos\n",
    "(df_raw.notnull().mean())*100"
   ]
  },
  {
   "cell_type": "code",
   "execution_count": 187,
   "id": "5b1c27c8",
   "metadata": {},
   "outputs": [],
   "source": [
    "# Data set final"
   ]
  },
  {
   "cell_type": "code",
   "execution_count": 188,
   "id": "5a24cced",
   "metadata": {},
   "outputs": [
    {
     "data": {
      "text/plain": [
       "(79918, 14)"
      ]
     },
     "execution_count": 188,
     "metadata": {},
     "output_type": "execute_result"
    }
   ],
   "source": [
    "data_clean.shape"
   ]
  },
  {
   "cell_type": "code",
   "execution_count": 189,
   "id": "9497ee38",
   "metadata": {},
   "outputs": [
    {
     "data": {
      "text/plain": [
       "operation                 100.000000\n",
       "property_type             100.000000\n",
       "place_name                 99.976226\n",
       "state_name                100.000000\n",
       "description                99.998749\n",
       "title                     100.000000\n",
       "price_usd_clean           100.000000\n",
       "surface_in_m2_clean       100.000000\n",
       "price_usd_per_m2_clean    100.000000\n",
       "cant_ambientes_clean       66.708376\n",
       "amenities_pileta          100.000000\n",
       "amenities_SUM             100.000000\n",
       "amenities_parrilla        100.000000\n",
       "amenities_garage          100.000000\n",
       "dtype: float64"
      ]
     },
     "execution_count": 189,
     "metadata": {},
     "output_type": "execute_result"
    }
   ],
   "source": [
    "# Datos completos\n",
    "(data_clean.notnull().mean())*100"
   ]
  },
  {
   "cell_type": "code",
   "execution_count": 190,
   "id": "209388c9",
   "metadata": {},
   "outputs": [
    {
     "name": "stdout",
     "output_type": "stream",
     "text": [
      "Datos iniciales: 121220\n",
      "Datos finales: 79918\n",
      "Datos finales: 65.93 % datos iniciales\n"
     ]
    }
   ],
   "source": [
    "print('Datos iniciales:', df_raw.shape[0])\n",
    "print('Datos finales:', data_clean.shape[0])\n",
    "print('Datos finales:', round(data_clean.shape[0] / df_raw.shape[0], 4)*100, '% datos iniciales')"
   ]
  },
  {
   "cell_type": "code",
   "execution_count": 191,
   "id": "d66c241c",
   "metadata": {},
   "outputs": [
    {
     "data": {
      "text/plain": [
       "apartment    45952\n",
       "house        27599\n",
       "PH            4068\n",
       "store         2299\n",
       "Name: property_type, dtype: int64"
      ]
     },
     "execution_count": 191,
     "metadata": {},
     "output_type": "execute_result"
    }
   ],
   "source": [
    "data_clean['property_type'].value_counts()"
   ]
  },
  {
   "cell_type": "code",
   "execution_count": 192,
   "id": "d8d6af17",
   "metadata": {},
   "outputs": [],
   "source": [
    "mask_house = data_clean['property_type'] == 'house'\n",
    "mask_apartment = data_clean['property_type'] == 'apartment'\n",
    "mask_ph = data_clean['property_type'] == 'PH'\n",
    "mask_store = data_clean['property_type'] == 'store'\n"
   ]
  },
  {
   "cell_type": "code",
   "execution_count": 193,
   "id": "84992472",
   "metadata": {},
   "outputs": [],
   "source": [
    "surface_house = data_clean.loc[mask_house, ['surface_in_m2_clean']]\n",
    "price_house = data_clean.loc[mask_house, ['price_usd_clean']]\n",
    "surface_apartment = data_clean.loc[mask_apartment, ['surface_in_m2_clean']]\n",
    "price_apartment = data_clean.loc[mask_apartment, ['price_usd_clean']]\n",
    "surface_ph = data_clean.loc[mask_ph, ['surface_in_m2_clean']]\n",
    "price_ph = data_clean.loc[mask_ph, ['price_usd_clean']]\n",
    "surface_store = data_clean.loc[mask_store, ['surface_in_m2_clean']]\n",
    "price_store = data_clean.loc[mask_store, ['price_usd_clean']]"
   ]
  },
  {
   "cell_type": "code",
   "execution_count": 194,
   "id": "266a9cdd",
   "metadata": {},
   "outputs": [
    {
     "data": {
      "image/png": "[encoded data removed]",
      "text/plain": [
       "<Figure size 1152x432 with 4 Axes>"
      ]
     },
     "metadata": {
      "needs_background": "light"
     },
     "output_type": "display_data"
    }
   ],
   "source": [
    "fig, ax = plt.subplots(2,2)\n",
    "fig.set_size_inches(16,6)\n",
    "\n",
    "ax[0, 0].scatter(surface_house, price_house, marker = 'o', color = \"green\", label='House', alpha = 0.4)\n",
    "#ax[0, 0].set_xlim(0, 550)\n",
    "#ax[0, 0].set_ylim(0, 1000000)\n",
    "\n",
    "ax[0, 1].scatter(surface_apartment, price_apartment, label='Apartment', alpha = 0.7);\n",
    "#ax[0, 1].set_xlim(0, 150)\n",
    "#ax[0, 1].set_ylim(0, 400000)\n",
    "\n",
    "ax[1, 0].scatter(surface_ph, price_ph, label='PH', alpha = 1, color = \"yellow\")\n",
    "#ax[1, 0].set_xlim(0, 200)\n",
    "\n",
    "ax[1, 1].scatter(surface_store, price_store, marker = '+', color = (1.0, 0.2, 0.3), label='Store', alpha = 0.7)\n",
    "#ax[1, 1].set_xlim(0, 800)\n",
    "#ax[1, 1].set_ylim(0, 1200000)\n",
    "\n",
    "ax[0,0].legend();\n",
    "ax[0,1].legend();\n",
    "ax[1,0].legend();\n",
    "ax[1,1].legend();"
   ]
  },
  {
   "cell_type": "code",
   "execution_count": 195,
   "id": "23844a4c",
   "metadata": {},
   "outputs": [
    {
     "data": {
      "text/plain": [
       "place_name     \n",
       "Caballito          1822\n",
       "Belgrano           1775\n",
       "Palermo            1748\n",
       "Villa Urquiza      1274\n",
       "Villa Crespo       1092\n",
       "                   ... \n",
       "Velez Sarsfield      34\n",
       "Palermo Viejo        26\n",
       "Villa Soldati        13\n",
       "Villa Riachuelo       4\n",
       "Catalinas             2\n",
       "Length: 62, dtype: int64"
      ]
     },
     "execution_count": 195,
     "metadata": {},
     "output_type": "execute_result"
    }
   ],
   "source": [
    "mask_CABA = data_clean['state_name'] == \"Capital Federal\"\n",
    "data_clean.loc[mask_CABA, ['place_name']].value_counts()"
   ]
  },
  {
   "cell_type": "code",
   "execution_count": 196,
   "id": "870deec0",
   "metadata": {},
   "outputs": [],
   "source": [
    "mask_belgrano = data_clean['place_name'] == 'Belgrano'\n",
    "mask_palermo = data_clean['place_name'] == 'Palermo'\n",
    "mask_caballito = data_clean['place_name'] == 'Caballito'\n",
    "mask_villa_urquiza = data_clean['place_name'] == 'Villa Urquiza'"
   ]
  },
  {
   "cell_type": "code",
   "execution_count": 197,
   "id": "e3b0637d",
   "metadata": {},
   "outputs": [],
   "source": [
    "surface_belgrano = data_clean.loc[mask_belgrano, ['surface_in_m2_clean']]\n",
    "price_belgrano = data_clean.loc[mask_belgrano, ['price_usd_clean']]\n",
    "surface_palermo = data_clean.loc[mask_palermo, ['surface_in_m2_clean']]\n",
    "price_palermo = data_clean.loc[mask_palermo, ['price_usd_clean']]\n",
    "surface_caballito = data_clean.loc[mask_caballito, ['surface_in_m2_clean']]\n",
    "price_caballito = data_clean.loc[mask_caballito, ['price_usd_clean']]\n",
    "surface_villa_urquiza = data_clean.loc[mask_villa_urquiza, ['surface_in_m2_clean']]\n",
    "price_villa_urquiza = data_clean.loc[mask_villa_urquiza, ['price_usd_clean']]"
   ]
  },
  {
   "cell_type": "code",
   "execution_count": 198,
   "id": "ea7be9e4",
   "metadata": {},
   "outputs": [
    {
     "data": {
      "image/png": "[encoded data removed]",
      "text/plain": [
       "<Figure size 1152x432 with 4 Axes>"
      ]
     },
     "metadata": {
      "needs_background": "light"
     },
     "output_type": "display_data"
    }
   ],
   "source": [
    "fig, ax = plt.subplots(2,2)\n",
    "fig.set_size_inches(16,6)\n",
    "\n",
    "ax[0, 0].scatter(surface_belgrano, price_belgrano, marker = 'o', color = \"green\", label='Belgrano', alpha = 0.4)\n",
    "ax[0, 0].set_xlim(0, 750)\n",
    "ax[0, 0].set_ylim(0, 1000000)\n",
    "\n",
    "ax[0, 1].scatter(surface_palermo, price_palermo, label='Palermo', alpha = 0.7);\n",
    "ax[0, 1].set_xlim(0, 750)\n",
    "ax[0, 1].set_ylim(0, 1000000)\n",
    "\n",
    "ax[1, 0].scatter(surface_caballito, price_caballito, label='Caballito', alpha = 1, color = \"yellow\")\n",
    "ax[1, 0].set_xlim(0, 750)\n",
    "ax[1, 1].set_ylim(0, 1000000)\n",
    "\n",
    "ax[1, 1].scatter(surface_villa_urquiza, price_villa_urquiza, marker = '+', color = (1.0, 0.2, 0.3), label='Villa Urquiza', alpha = 0.7)\n",
    "ax[1, 1].set_xlim(0, 750)\n",
    "ax[1, 1].set_ylim(0, 1000000)\n",
    "\n",
    "ax[0,0].legend();\n",
    "ax[0,1].legend();\n",
    "ax[1,0].legend();\n",
    "ax[1,1].legend();"
   ]
  },
  {
   "cell_type": "markdown",
   "id": "499a5199",
   "metadata": {},
   "source": [
    "<p style=\"color:#FF0000\";> Buen trabajo chicos, creo que hay algunos errores que pueden repercutir en el desafio 2 que sería importante que corrijan (están señalados). Recuerden que gran parte del éxito del modelo depende de la preparación de los datos\n",
    "    \n",
    "<p style=\"color:#FF0000\";> Hay oportunidades de mejoras vinculadas al a presentación del trabajo, todo lo vinculado al uso de markdowns para guiar al lector y seperar etapas de procesamientos. También creo que pueden optimizarse los procesos de limpieza de outliers en menos lineas o al menos creando una función que haga todo el proceso y no una sola parte (calculo de umbrales)\n",
    "<p style=\"color:#FF0000\";> Por último, considero que también se podría haber hecho algo más en lo respectivo a visualización  y no abusar tanto de la presentación de estadísticas o tablas para mostrar información\n",
    "    \n",
    "<h1 style=\"color:#FF0000\";> Felicitaciones por el trabajo, a seguir !"
   ]
  },
  {
   "cell_type": "code",
   "execution_count": null,
   "id": "986f4930",
   "metadata": {},
   "outputs": [],
   "source": []
  },
  {
   "cell_type": "code",
   "execution_count": null,
   "id": "f77c2df9",
   "metadata": {},
   "outputs": [],
   "source": []
  },
  {
   "cell_type": "code",
   "execution_count": null,
   "id": "c21f4b8b",
   "metadata": {},
   "outputs": [],
   "source": []
  }
 ],
 "metadata": {
  "kernelspec": {
   "display_name": "Python 3",
   "language": "python",
   "name": "python3"
  },
  "language_info": {
   "codemirror_mode": {
    "name": "ipython",
    "version": 3
   },
   "file_extension": ".py",
   "mimetype": "text/x-python",
   "name": "python",
   "nbconvert_exporter": "python",
   "pygments_lexer": "ipython3",
   "version": "3.8.8"
  }
 },
 "nbformat": 4,
 "nbformat_minor": 5
}
