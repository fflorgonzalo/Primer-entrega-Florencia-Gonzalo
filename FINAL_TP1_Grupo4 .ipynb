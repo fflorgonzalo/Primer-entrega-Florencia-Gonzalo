{
 "cells": [
  {
   "cell_type": "code",
   "execution_count": 1,
   "id": "5fd53479",
   "metadata": {},
   "outputs": [],
   "source": [
    "import pandas as pd\n",
    "import numpy as np\n",
    "import matplotlib.pyplot as plt\n",
    "import seaborn as sns\n",
    "import math\n",
    "from unidecode import unidecode\n",
    "import re"
   ]
  },
  {
   "cell_type": "code",
   "execution_count": 3,
   "id": "6c49da04",
   "metadata": {},
   "outputs": [
    {
     "data": {
      "text/plain": [
       "(121220, 26)"
      ]
     },
     "execution_count": 3,
     "metadata": {},
     "output_type": "execute_result"
    }
   ],
   "source": [
    "df_raw = pd.read_csv(\"Data/properatti.csv\")\n",
    "df_raw.shape"
   ]
  },
  {
   "cell_type": "markdown",
   "id": "359bae2b",
   "metadata": {},
   "source": [
    "# Exploracion inicial"
   ]
  },
  {
   "cell_type": "code",
   "execution_count": 4,
   "id": "3e655719",
   "metadata": {},
   "outputs": [],
   "source": [
    "# Eliminamos las columnas que no nos interesan para el analisis\n",
    "df = df_raw.drop([\"Unnamed: 0\", \"geonames_id\", \"floor\",\n",
    "                  \"country_name\",\"properati_url\",\"image_thumbnail\",\"place_with_parent_names\"], axis= 1).copy()"
   ]
  },
  {
   "cell_type": "code",
   "execution_count": 5,
   "id": "defbb905",
   "metadata": {},
   "outputs": [
    {
     "name": "stdout",
     "output_type": "stream",
     "text": [
      "19\n"
     ]
    },
    {
     "data": {
      "text/plain": [
       "Index(['operation', 'property_type', 'place_name', 'state_name', 'lat-lon',\n",
       "       'lat', 'lon', 'price', 'currency', 'price_aprox_local_currency',\n",
       "       'price_aprox_usd', 'surface_total_in_m2', 'surface_covered_in_m2',\n",
       "       'price_usd_per_m2', 'price_per_m2', 'rooms', 'expenses', 'description',\n",
       "       'title'],\n",
       "      dtype='object')"
      ]
     },
     "execution_count": 5,
     "metadata": {},
     "output_type": "execute_result"
    }
   ],
   "source": [
    "print(len(df.columns))\n",
    "regiones = (len(df[\"state_name\"].unique()))\n",
    "df.columns"
   ]
  },
  {
   "cell_type": "code",
   "execution_count": 6,
   "id": "3998895b",
   "metadata": {},
   "outputs": [],
   "source": [
    "# Convertimos la columna Descripcion con unicode para evitar mayusculas y acentos.\n",
    "desc_unicode = df['description'].apply(lambda x: x if x is np.NaN else unidecode(x)).str.lower()"
   ]
  },
  {
   "cell_type": "code",
   "execution_count": 7,
   "id": "e629a4c3",
   "metadata": {},
   "outputs": [],
   "source": [
    "# Convertimos la columna titulo con unicode para evitar mayusculas y acentos.\n",
    "title_unicode = df['title'].apply(lambda x: x if x is np.NaN else unidecode(x)).str.lower()"
   ]
  },
  {
   "cell_type": "code",
   "execution_count": 8,
   "id": "65ef9e80",
   "metadata": {},
   "outputs": [],
   "source": [
    "df[\"description\"] = desc_unicode\n",
    "df['title'] = title_unicode"
   ]
  },
  {
   "cell_type": "code",
   "execution_count": 9,
   "id": "c744d66e",
   "metadata": {},
   "outputs": [
    {
     "name": "stdout",
     "output_type": "stream",
     "text": [
      "Hay una cantidad de : 5284 duplicados\n",
      "El tamaño del dataset original es: 2303180\n"
     ]
    }
   ],
   "source": [
    "# Buscamos filas completamente duplicadas para eliminar sobrecarga de datos\n",
    "cantidad_duplicados = df.duplicated().sum()\n",
    "dataset_size = df.size\n",
    "\n",
    "print(f\"Hay una cantidad de : {cantidad_duplicados} duplicados\")\n",
    "print(f\"El tamaño del dataset original es: {dataset_size}\")"
   ]
  },
  {
   "cell_type": "code",
   "execution_count": 10,
   "id": "5ecd4336",
   "metadata": {},
   "outputs": [
    {
     "name": "stdout",
     "output_type": "stream",
     "text": [
      "la cantidad de registros unicos : 2202784 registros\n"
     ]
    }
   ],
   "source": [
    "# Por lo tanto, la cantidad de registros no duplicados es dataset_size - cantidad_duplicados*(cantidad de columnas)\n",
    "q_dataset_sin_duplicados = dataset_size - cantidad_duplicados*len(df.columns)\n",
    "print(f\"la cantidad de registros unicos : {q_dataset_sin_duplicados} registros\")"
   ]
  },
  {
   "cell_type": "code",
   "execution_count": 11,
   "id": "2f69b3a1",
   "metadata": {},
   "outputs": [],
   "source": [
    "# df_disint es el DataFrame sin las columnas eliminadas al inicio, sin los duplicados y con descripcion transformado con unicode y lowercase\n",
    "df_distint = df.drop_duplicates().copy()\n",
    "df_distint[\"description\"] = desc_unicode"
   ]
  },
  {
   "cell_type": "code",
   "execution_count": 12,
   "id": "506d0dd9",
   "metadata": {},
   "outputs": [
    {
     "data": {
      "text/plain": [
       "0"
      ]
     },
     "execution_count": 12,
     "metadata": {},
     "output_type": "execute_result"
    }
   ],
   "source": [
    "df_distint.duplicated().sum()"
   ]
  },
  {
   "cell_type": "code",
   "execution_count": 13,
   "id": "aa4b3c96",
   "metadata": {},
   "outputs": [
    {
     "data": {
      "text/plain": [
       "True"
      ]
     },
     "execution_count": 13,
     "metadata": {},
     "output_type": "execute_result"
    }
   ],
   "source": [
    "# Check de quita de duplicados\n",
    "df_distint.size == q_dataset_sin_duplicados"
   ]
  },
  {
   "cell_type": "code",
   "execution_count": 14,
   "id": "892785c4",
   "metadata": {},
   "outputs": [],
   "source": [
    "cant_prop = df_distint[\"property_type\"].value_counts()"
   ]
  },
  {
   "cell_type": "code",
   "execution_count": 15,
   "id": "4f620f9e",
   "metadata": {},
   "outputs": [
    {
     "name": "stdout",
     "output_type": "stream",
     "text": [
      "Total de registros: 115936 propiedades\n",
      "---------------------------------------\n",
      "Desglose del Dataset:\n",
      "apartment    66490\n",
      "house        39756\n",
      "PH            5618\n",
      "store         4072\n",
      "Name: property_type, dtype: int64\n"
     ]
    }
   ],
   "source": [
    "# Desglose del Dataset | Valores y graficos con subplot\n",
    "print(f\"Total de registros: {cant_prop.sum()} propiedades\")\n",
    "print(\"---------------------------------------\")\n",
    "print(\"Desglose del Dataset:\")\n",
    "print(cant_prop)"
   ]
  },
  {
   "cell_type": "code",
   "execution_count": 16,
   "id": "15a00c7e",
   "metadata": {},
   "outputs": [
    {
     "data": {
      "text/plain": [
       "Text(0.5, 1.0, 'Grupo 4 | Properatti')"
      ]
     },
     "execution_count": 16,
     "metadata": {},
     "output_type": "execute_result"
    },
    {
     "data": {
      "image/png": "[encoded data removed]",
      "text/plain": [
       "<Figure size 1080x432 with 2 Axes>"
      ]
     },
     "metadata": {
      "needs_background": "light"
     },
     "output_type": "display_data"
    }
   ],
   "source": [
    "fig, ax = plt.subplots(1,2)\n",
    "fig.set_size_inches(15,6)\n",
    "\n",
    "plt.subplot(2,2,2)\n",
    "df_distint.groupby(\"state_name\")[\"state_name\"].count().sort_values(ascending = False).plot(kind=\"bar\")\n",
    "plt.xlabel(f\"Regiones: {regiones}\")\n",
    "plt.ylabel(\"Cantidad\")\n",
    "plt.title(\"Grupo 4 | Properatti\")\n",
    "\n",
    "plt.subplot(2,2,1)\n",
    "df_distint.groupby(\"property_type\")[\"property_type\"].count().sort_values(ascending = False).plot(kind=\"bar\")\n",
    "plt.xlabel(f\"Tipos de Propiedades : Total: {cant_prop.sum()}\")\n",
    "plt.ylabel(\"Cantidad\")\n",
    "plt.title(\"Grupo 4 | Properatti\")\n"
   ]
  },
  {
   "cell_type": "code",
   "execution_count": 17,
   "id": "acd14c17",
   "metadata": {},
   "outputs": [],
   "source": [
    "# Este cuando lo ordenas para que quede bien , te mueve los numeros, tendriamos q preguntar como hacerlo de otra manera.\n",
    "# eliminamos esto en el compilado\n",
    "\n",
    "# fig, ax = plt.subplots(1,2)\n",
    "# fig.set_size_inches(15,6)\n",
    "\n",
    "# plt.subplot(2,2,1)\n",
    "# x11 = df_distint[\"property_type\"].unique()\n",
    "# y11 = df_distint.groupby(\"property_type\")[\"property_type\"].count()\n",
    "# plt.xticks(rotation=90)\n",
    "# plt.bar(x11,y11,  0.8)\n",
    "# plt.ylim([0,max(y11)+25000])\n",
    "# # plt.xlabel(\"Tipos de propiedades\")\n",
    "# plt.ylabel(\"Cantidad\")\n",
    "# plt.title(f\"TP | Grupo 4 - Cantidad de propiedades: {cant_prop.sum()}\")\n",
    "\n",
    "\n",
    "# for i in range(len(x11)):    \n",
    "#     plt.text(i,y11[i],f\"  {y11[i]}\", ha=\"center\",va=\"bottom\", rotation = 90)\n",
    "\n",
    "\n",
    "# plt.subplot(2,2,2)\n",
    "# x1 = df_distint[\"state_name\"].unique()\n",
    "# y1 = df_distint.groupby(\"state_name\")[\"state_name\"].count()\n",
    "# plt.xticks(rotation=90)\n",
    "# plt.bar(x1,y1,0.8)\n",
    "# plt.ylim([0,max(y1)+15000])\n",
    "# # plt.xlabel(\"Regiones\")\n",
    "# plt.ylabel(\"Cantidad de Propiedades\")\n",
    "# plt.title(\"TP | Grupo 4 - Propiedades por Region\")\n",
    "\n",
    "# for i in range(len(x1)):    \n",
    "#     plt.text(i,y1[i],f\"  {y1[i]}\", ha=\"center\",va=\"bottom\" , rotation = 90)\n"
   ]
  },
  {
   "cell_type": "code",
   "execution_count": 18,
   "id": "50ec8f06",
   "metadata": {},
   "outputs": [
    {
     "data": {
      "text/plain": [
       "0"
      ]
     },
     "execution_count": 18,
     "metadata": {},
     "output_type": "execute_result"
    }
   ],
   "source": [
    "df_distint.duplicated().sum()"
   ]
  },
  {
   "cell_type": "code",
   "execution_count": 19,
   "id": "c019abc8",
   "metadata": {},
   "outputs": [],
   "source": [
    "data = df_distint.copy()"
   ]
  },
  {
   "cell_type": "code",
   "execution_count": 20,
   "id": "570c934c",
   "metadata": {},
   "outputs": [
    {
     "data": {
      "text/plain": [
       "0"
      ]
     },
     "execution_count": 20,
     "metadata": {},
     "output_type": "execute_result"
    }
   ],
   "source": [
    "# Chequeo de duplicados en el nuevo DataFrame\n",
    "data.duplicated().sum()"
   ]
  },
  {
   "cell_type": "code",
   "execution_count": 21,
   "id": "48343683",
   "metadata": {},
   "outputs": [
    {
     "data": {
      "text/plain": [
       "operation                     100.000000\n",
       "property_type                 100.000000\n",
       "place_name                     99.980161\n",
       "state_name                    100.000000\n",
       "lat-lon                        58.441726\n",
       "lat                            58.441726\n",
       "lon                            58.441726\n",
       "price                          84.973606\n",
       "currency                       84.972744\n",
       "price_aprox_local_currency     84.973606\n",
       "price_aprox_usd                84.973606\n",
       "surface_total_in_m2            66.909329\n",
       "surface_covered_in_m2          83.792782\n",
       "price_usd_per_m2               57.612821\n",
       "price_per_m2                   73.870929\n",
       "rooms                          39.742617\n",
       "expenses                       12.138594\n",
       "description                    99.998275\n",
       "title                         100.000000\n",
       "dtype: float64"
      ]
     },
     "execution_count": 21,
     "metadata": {},
     "output_type": "execute_result"
    }
   ],
   "source": [
    "# Porcentaje total de datos completos por campo.\n",
    "(data.notnull().mean())*100"
   ]
  },
  {
   "cell_type": "code",
   "execution_count": 22,
   "id": "5d5a7bac",
   "metadata": {},
   "outputs": [],
   "source": [
    "Proporcion = data[\"state_name\"].value_counts()"
   ]
  },
  {
   "cell_type": "code",
   "execution_count": 23,
   "id": "46b77c17",
   "metadata": {},
   "outputs": [
    {
     "name": "stdout",
     "output_type": "stream",
     "text": [
      "Capital Federal                 30731\n",
      "Bs.As. G.B.A. Zona Norte        24745\n",
      "Bs.As. G.B.A. Zona Sur          13550\n",
      "Córdoba                         11515\n",
      "Buenos Aires Costa Atlántica     9914\n",
      "Bs.As. G.B.A. Zona Oeste         9033\n",
      "Name: state_name, dtype: int64\n"
     ]
    }
   ],
   "source": [
    "Proporcion[0:6].sum()\n",
    "print(Proporcion[0:6])\n",
    "# print(\"-----------------------------------------------------------------------------------\")\n",
    "# print(f\"Estas regiones representan el {round(Proporcion[0:6].sum(),2)*100} % de los datos\")"
   ]
  },
  {
   "cell_type": "code",
   "execution_count": 24,
   "id": "f3b91a52",
   "metadata": {},
   "outputs": [
    {
     "data": {
      "text/html": [
       "<div>\n",
       "<style scoped>\n",
       "    .dataframe tbody tr th:only-of-type {\n",
       "        vertical-align: middle;\n",
       "    }\n",
       "\n",
       "    .dataframe tbody tr th {\n",
       "        vertical-align: top;\n",
       "    }\n",
       "\n",
       "    .dataframe thead tr th {\n",
       "        text-align: left;\n",
       "    }\n",
       "\n",
       "    .dataframe thead tr:last-of-type th {\n",
       "        text-align: right;\n",
       "    }\n",
       "</style>\n",
       "<table border=\"1\" class=\"dataframe\">\n",
       "  <thead>\n",
       "    <tr>\n",
       "      <th></th>\n",
       "      <th colspan=\"5\" halign=\"left\">operation</th>\n",
       "    </tr>\n",
       "    <tr>\n",
       "      <th>property_type</th>\n",
       "      <th>PH</th>\n",
       "      <th>apartment</th>\n",
       "      <th>house</th>\n",
       "      <th>store</th>\n",
       "      <th>All</th>\n",
       "    </tr>\n",
       "    <tr>\n",
       "      <th>state_name</th>\n",
       "      <th></th>\n",
       "      <th></th>\n",
       "      <th></th>\n",
       "      <th></th>\n",
       "      <th></th>\n",
       "    </tr>\n",
       "  </thead>\n",
       "  <tbody>\n",
       "    <tr>\n",
       "      <th>Bs.As. G.B.A. Zona Norte</th>\n",
       "      <td>979</td>\n",
       "      <td>10067</td>\n",
       "      <td>13113</td>\n",
       "      <td>586</td>\n",
       "      <td>24745</td>\n",
       "    </tr>\n",
       "    <tr>\n",
       "      <th>Bs.As. G.B.A. Zona Oeste</th>\n",
       "      <td>788</td>\n",
       "      <td>3348</td>\n",
       "      <td>4645</td>\n",
       "      <td>252</td>\n",
       "      <td>9033</td>\n",
       "    </tr>\n",
       "    <tr>\n",
       "      <th>Bs.As. G.B.A. Zona Sur</th>\n",
       "      <td>820</td>\n",
       "      <td>5139</td>\n",
       "      <td>6959</td>\n",
       "      <td>632</td>\n",
       "      <td>13550</td>\n",
       "    </tr>\n",
       "    <tr>\n",
       "      <th>Buenos Aires Costa Atlántica</th>\n",
       "      <td>574</td>\n",
       "      <td>6391</td>\n",
       "      <td>2665</td>\n",
       "      <td>284</td>\n",
       "      <td>9914</td>\n",
       "    </tr>\n",
       "    <tr>\n",
       "      <th>Buenos Aires Interior</th>\n",
       "      <td>47</td>\n",
       "      <td>815</td>\n",
       "      <td>1316</td>\n",
       "      <td>73</td>\n",
       "      <td>2251</td>\n",
       "    </tr>\n",
       "    <tr>\n",
       "      <th>Capital Federal</th>\n",
       "      <td>1807</td>\n",
       "      <td>25548</td>\n",
       "      <td>2057</td>\n",
       "      <td>1319</td>\n",
       "      <td>30731</td>\n",
       "    </tr>\n",
       "    <tr>\n",
       "      <th>Catamarca</th>\n",
       "      <td>0</td>\n",
       "      <td>12</td>\n",
       "      <td>15</td>\n",
       "      <td>0</td>\n",
       "      <td>27</td>\n",
       "    </tr>\n",
       "    <tr>\n",
       "      <th>Chaco</th>\n",
       "      <td>0</td>\n",
       "      <td>19</td>\n",
       "      <td>35</td>\n",
       "      <td>3</td>\n",
       "      <td>57</td>\n",
       "    </tr>\n",
       "    <tr>\n",
       "      <th>Chubut</th>\n",
       "      <td>6</td>\n",
       "      <td>39</td>\n",
       "      <td>173</td>\n",
       "      <td>41</td>\n",
       "      <td>259</td>\n",
       "    </tr>\n",
       "    <tr>\n",
       "      <th>Corrientes</th>\n",
       "      <td>57</td>\n",
       "      <td>139</td>\n",
       "      <td>357</td>\n",
       "      <td>21</td>\n",
       "      <td>574</td>\n",
       "    </tr>\n",
       "    <tr>\n",
       "      <th>Córdoba</th>\n",
       "      <td>324</td>\n",
       "      <td>6347</td>\n",
       "      <td>4381</td>\n",
       "      <td>463</td>\n",
       "      <td>11515</td>\n",
       "    </tr>\n",
       "    <tr>\n",
       "      <th>Entre Ríos</th>\n",
       "      <td>5</td>\n",
       "      <td>131</td>\n",
       "      <td>210</td>\n",
       "      <td>10</td>\n",
       "      <td>356</td>\n",
       "    </tr>\n",
       "    <tr>\n",
       "      <th>Formosa</th>\n",
       "      <td>0</td>\n",
       "      <td>21</td>\n",
       "      <td>11</td>\n",
       "      <td>0</td>\n",
       "      <td>32</td>\n",
       "    </tr>\n",
       "    <tr>\n",
       "      <th>Jujuy</th>\n",
       "      <td>0</td>\n",
       "      <td>10</td>\n",
       "      <td>15</td>\n",
       "      <td>1</td>\n",
       "      <td>26</td>\n",
       "    </tr>\n",
       "    <tr>\n",
       "      <th>La Pampa</th>\n",
       "      <td>0</td>\n",
       "      <td>45</td>\n",
       "      <td>98</td>\n",
       "      <td>10</td>\n",
       "      <td>153</td>\n",
       "    </tr>\n",
       "    <tr>\n",
       "      <th>La Rioja</th>\n",
       "      <td>0</td>\n",
       "      <td>2</td>\n",
       "      <td>2</td>\n",
       "      <td>0</td>\n",
       "      <td>4</td>\n",
       "    </tr>\n",
       "    <tr>\n",
       "      <th>Mendoza</th>\n",
       "      <td>6</td>\n",
       "      <td>304</td>\n",
       "      <td>321</td>\n",
       "      <td>25</td>\n",
       "      <td>656</td>\n",
       "    </tr>\n",
       "    <tr>\n",
       "      <th>Misiones</th>\n",
       "      <td>8</td>\n",
       "      <td>130</td>\n",
       "      <td>261</td>\n",
       "      <td>7</td>\n",
       "      <td>406</td>\n",
       "    </tr>\n",
       "    <tr>\n",
       "      <th>Neuquén</th>\n",
       "      <td>84</td>\n",
       "      <td>272</td>\n",
       "      <td>219</td>\n",
       "      <td>11</td>\n",
       "      <td>586</td>\n",
       "    </tr>\n",
       "    <tr>\n",
       "      <th>Río Negro</th>\n",
       "      <td>26</td>\n",
       "      <td>310</td>\n",
       "      <td>374</td>\n",
       "      <td>82</td>\n",
       "      <td>792</td>\n",
       "    </tr>\n",
       "    <tr>\n",
       "      <th>Salta</th>\n",
       "      <td>5</td>\n",
       "      <td>127</td>\n",
       "      <td>142</td>\n",
       "      <td>2</td>\n",
       "      <td>276</td>\n",
       "    </tr>\n",
       "    <tr>\n",
       "      <th>San Juan</th>\n",
       "      <td>0</td>\n",
       "      <td>16</td>\n",
       "      <td>23</td>\n",
       "      <td>1</td>\n",
       "      <td>40</td>\n",
       "    </tr>\n",
       "    <tr>\n",
       "      <th>San Luis</th>\n",
       "      <td>2</td>\n",
       "      <td>31</td>\n",
       "      <td>198</td>\n",
       "      <td>14</td>\n",
       "      <td>245</td>\n",
       "    </tr>\n",
       "    <tr>\n",
       "      <th>Santa Cruz</th>\n",
       "      <td>0</td>\n",
       "      <td>1</td>\n",
       "      <td>18</td>\n",
       "      <td>1</td>\n",
       "      <td>20</td>\n",
       "    </tr>\n",
       "    <tr>\n",
       "      <th>Santa Fe</th>\n",
       "      <td>76</td>\n",
       "      <td>6826</td>\n",
       "      <td>1917</td>\n",
       "      <td>200</td>\n",
       "      <td>9019</td>\n",
       "    </tr>\n",
       "    <tr>\n",
       "      <th>Santiago Del Estero</th>\n",
       "      <td>0</td>\n",
       "      <td>1</td>\n",
       "      <td>3</td>\n",
       "      <td>0</td>\n",
       "      <td>4</td>\n",
       "    </tr>\n",
       "    <tr>\n",
       "      <th>Tierra Del Fuego</th>\n",
       "      <td>0</td>\n",
       "      <td>12</td>\n",
       "      <td>16</td>\n",
       "      <td>3</td>\n",
       "      <td>31</td>\n",
       "    </tr>\n",
       "    <tr>\n",
       "      <th>Tucumán</th>\n",
       "      <td>4</td>\n",
       "      <td>387</td>\n",
       "      <td>212</td>\n",
       "      <td>31</td>\n",
       "      <td>634</td>\n",
       "    </tr>\n",
       "    <tr>\n",
       "      <th>All</th>\n",
       "      <td>5618</td>\n",
       "      <td>66490</td>\n",
       "      <td>39756</td>\n",
       "      <td>4072</td>\n",
       "      <td>115936</td>\n",
       "    </tr>\n",
       "  </tbody>\n",
       "</table>\n",
       "</div>"
      ],
      "text/plain": [
       "                             operation                               \n",
       "property_type                       PH apartment  house store     All\n",
       "state_name                                                           \n",
       "Bs.As. G.B.A. Zona Norte           979     10067  13113   586   24745\n",
       "Bs.As. G.B.A. Zona Oeste           788      3348   4645   252    9033\n",
       "Bs.As. G.B.A. Zona Sur             820      5139   6959   632   13550\n",
       "Buenos Aires Costa Atlántica       574      6391   2665   284    9914\n",
       "Buenos Aires Interior               47       815   1316    73    2251\n",
       "Capital Federal                   1807     25548   2057  1319   30731\n",
       "Catamarca                            0        12     15     0      27\n",
       "Chaco                                0        19     35     3      57\n",
       "Chubut                               6        39    173    41     259\n",
       "Corrientes                          57       139    357    21     574\n",
       "Córdoba                            324      6347   4381   463   11515\n",
       "Entre Ríos                           5       131    210    10     356\n",
       "Formosa                              0        21     11     0      32\n",
       "Jujuy                                0        10     15     1      26\n",
       "La Pampa                             0        45     98    10     153\n",
       "La Rioja                             0         2      2     0       4\n",
       "Mendoza                              6       304    321    25     656\n",
       "Misiones                             8       130    261     7     406\n",
       "Neuquén                             84       272    219    11     586\n",
       "Río Negro                           26       310    374    82     792\n",
       "Salta                                5       127    142     2     276\n",
       "San Juan                             0        16     23     1      40\n",
       "San Luis                             2        31    198    14     245\n",
       "Santa Cruz                           0         1     18     1      20\n",
       "Santa Fe                            76      6826   1917   200    9019\n",
       "Santiago Del Estero                  0         1      3     0       4\n",
       "Tierra Del Fuego                     0        12     16     3      31\n",
       "Tucumán                              4       387    212    31     634\n",
       "All                               5618     66490  39756  4072  115936"
      ]
     },
     "execution_count": 24,
     "metadata": {},
     "output_type": "execute_result"
    }
   ],
   "source": [
    "# Chequeo de la cantidad de propiedades por region con pivot table\n",
    "data.pivot_table(index = \"state_name\", columns = \"property_type\", values =[\"operation\"],aggfunc = np.size , margins = True,fill_value=0)"
   ]
  },
  {
   "cell_type": "code",
   "execution_count": 25,
   "id": "788aff1a",
   "metadata": {},
   "outputs": [],
   "source": [
    "data_pivot = data.pivot_table(index = \"state_name\", columns = \"property_type\", values =[\"operation\"],aggfunc = np.size , margins = True,fill_value=0)"
   ]
  },
  {
   "cell_type": "code",
   "execution_count": 26,
   "id": "65893515",
   "metadata": {},
   "outputs": [],
   "source": [
    "d_pivot = data_pivot[\"operation\"].copy()"
   ]
  },
  {
   "cell_type": "code",
   "execution_count": 27,
   "id": "747f4382",
   "metadata": {},
   "outputs": [],
   "source": [
    "# d_pivot.drop(\"All\",axis=0 , inplace = True)\n",
    "d_pivot.drop(\"All\",axis=1 , inplace = True)"
   ]
  },
  {
   "cell_type": "code",
   "execution_count": 28,
   "id": "41e4d930",
   "metadata": {},
   "outputs": [
    {
     "data": {
      "text/plain": [
       "<AxesSubplot:xlabel='state_name'>"
      ]
     },
     "execution_count": 28,
     "metadata": {},
     "output_type": "execute_result"
    },
    {
     "data": {
      "image/png": "[encoded data removed]",
      "text/plain": [
       "<Figure size 432x288 with 1 Axes>"
      ]
     },
     "metadata": {
      "needs_background": "light"
     },
     "output_type": "display_data"
    }
   ],
   "source": [
    "d_pivot.sort_values([\"apartment\",\"house\"], inplace = True , ascending = False)\n",
    "d_pivot.plot.bar(stacked = True)"
   ]
  },
  {
   "cell_type": "code",
   "execution_count": 29,
   "id": "23452198",
   "metadata": {},
   "outputs": [
    {
     "data": {
      "text/plain": [
       "array([ 5618, 66490, 39756,  4072])"
      ]
     },
     "execution_count": 29,
     "metadata": {},
     "output_type": "execute_result"
    }
   ],
   "source": [
    "d_pivot_columns = d_pivot.columns\n",
    "d_pivot_values = d_pivot.values\n",
    "# print(d_pivot_values,d_pivot_columns)\n",
    "d_pivot_values[0]"
   ]
  },
  {
   "cell_type": "code",
   "execution_count": 30,
   "id": "d1b3fc5f",
   "metadata": {},
   "outputs": [
    {
     "data": {
      "text/plain": [
       "array(['USD', nan, 'ARS', 'PEN', 'UYU'], dtype=object)"
      ]
     },
     "execution_count": 30,
     "metadata": {},
     "output_type": "execute_result"
    }
   ],
   "source": [
    "# Tipos de moneda\n",
    "data[\"currency\"].unique()"
   ]
  },
  {
   "cell_type": "code",
   "execution_count": 31,
   "id": "036f4866",
   "metadata": {},
   "outputs": [
    {
     "data": {
      "text/plain": [
       "USD    85871\n",
       "ARS    12640\n",
       "PEN        2\n",
       "UYU        1\n",
       "Name: currency, dtype: int64"
      ]
     },
     "execution_count": 31,
     "metadata": {},
     "output_type": "execute_result"
    }
   ],
   "source": [
    "data[\"currency\"].value_counts()"
   ]
  },
  {
   "cell_type": "code",
   "execution_count": 32,
   "id": "1270bbd8",
   "metadata": {},
   "outputs": [
    {
     "data": {
      "text/plain": [
       "107390    casa con calefaccion central, mendoza, san roq...\n",
       "Name: description, dtype: object"
      ]
     },
     "execution_count": 32,
     "metadata": {},
     "output_type": "execute_result"
    }
   ],
   "source": [
    "# Quizas estos primero los tenemos que convertir a pesos y luego a USD , la conversion a USD la esta haciendo al tipo de cambio\n",
    "# de Argentina.\n",
    "data.loc[data[\"currency\"]==\"UYU\",:][\"description\"]\n"
   ]
  },
  {
   "cell_type": "markdown",
   "id": "fb778645",
   "metadata": {},
   "source": [
    "# Limpieza y ordenamiento del data set"
   ]
  },
  {
   "cell_type": "markdown",
   "id": "b2f776ef",
   "metadata": {},
   "source": [
    "Completar datos faltantes"
   ]
  },
  {
   "cell_type": "code",
   "execution_count": 33,
   "id": "ef32a671",
   "metadata": {},
   "outputs": [
    {
     "data": {
      "text/plain": [
       "operation                     100.000000\n",
       "property_type                 100.000000\n",
       "place_name                     99.980161\n",
       "state_name                    100.000000\n",
       "lat-lon                        58.441726\n",
       "lat                            58.441726\n",
       "lon                            58.441726\n",
       "price                          84.973606\n",
       "currency                       84.972744\n",
       "price_aprox_local_currency     84.973606\n",
       "price_aprox_usd                84.973606\n",
       "surface_total_in_m2            66.909329\n",
       "surface_covered_in_m2          83.792782\n",
       "price_usd_per_m2               57.612821\n",
       "price_per_m2                   73.870929\n",
       "rooms                          39.742617\n",
       "expenses                       12.138594\n",
       "description                    99.998275\n",
       "title                         100.000000\n",
       "dtype: float64"
      ]
     },
     "execution_count": 33,
     "metadata": {},
     "output_type": "execute_result"
    }
   ],
   "source": [
    "# Estado inicial, datos completos por campo\n",
    "(data.notnull().mean())*100"
   ]
  },
  {
   "cell_type": "markdown",
   "id": "c0904b3b",
   "metadata": {},
   "source": [
    "Primera pasada para completar price_usd_m2"
   ]
  },
  {
   "cell_type": "code",
   "execution_count": 34,
   "id": "a072fa86",
   "metadata": {},
   "outputs": [
    {
     "data": {
      "text/html": [
       "<div>\n",
       "<style scoped>\n",
       "    .dataframe tbody tr th:only-of-type {\n",
       "        vertical-align: middle;\n",
       "    }\n",
       "\n",
       "    .dataframe tbody tr th {\n",
       "        vertical-align: top;\n",
       "    }\n",
       "\n",
       "    .dataframe thead th {\n",
       "        text-align: right;\n",
       "    }\n",
       "</style>\n",
       "<table border=\"1\" class=\"dataframe\">\n",
       "  <thead>\n",
       "    <tr style=\"text-align: right;\">\n",
       "      <th></th>\n",
       "      <th>operation</th>\n",
       "      <th>property_type</th>\n",
       "      <th>place_name</th>\n",
       "      <th>state_name</th>\n",
       "      <th>lat-lon</th>\n",
       "      <th>lat</th>\n",
       "      <th>lon</th>\n",
       "      <th>price</th>\n",
       "      <th>currency</th>\n",
       "      <th>price_aprox_local_currency</th>\n",
       "      <th>price_aprox_usd</th>\n",
       "      <th>surface_total_in_m2</th>\n",
       "      <th>surface_covered_in_m2</th>\n",
       "      <th>price_usd_per_m2</th>\n",
       "      <th>price_per_m2</th>\n",
       "      <th>rooms</th>\n",
       "      <th>expenses</th>\n",
       "      <th>description</th>\n",
       "      <th>title</th>\n",
       "    </tr>\n",
       "  </thead>\n",
       "  <tbody>\n",
       "    <tr>\n",
       "      <th>77306</th>\n",
       "      <td>sell</td>\n",
       "      <td>apartment</td>\n",
       "      <td>Almagro</td>\n",
       "      <td>Capital Federal</td>\n",
       "      <td>-34.6207541,-58.4174562</td>\n",
       "      <td>-34.620754</td>\n",
       "      <td>-58.417456</td>\n",
       "      <td>NaN</td>\n",
       "      <td>NaN</td>\n",
       "      <td>NaN</td>\n",
       "      <td>NaN</td>\n",
       "      <td>42.0</td>\n",
       "      <td>40.0</td>\n",
       "      <td>NaN</td>\n",
       "      <td>NaN</td>\n",
       "      <td>NaN</td>\n",
       "      <td>NaN</td>\n",
       "      <td>departamento en venta en boedo, monoambiente a...</td>\n",
       "      <td>departamento - almagro</td>\n",
       "    </tr>\n",
       "    <tr>\n",
       "      <th>25504</th>\n",
       "      <td>sell</td>\n",
       "      <td>apartment</td>\n",
       "      <td>Boedo</td>\n",
       "      <td>Capital Federal</td>\n",
       "      <td>NaN</td>\n",
       "      <td>NaN</td>\n",
       "      <td>NaN</td>\n",
       "      <td>NaN</td>\n",
       "      <td>NaN</td>\n",
       "      <td>NaN</td>\n",
       "      <td>NaN</td>\n",
       "      <td>40.0</td>\n",
       "      <td>40.0</td>\n",
       "      <td>NaN</td>\n",
       "      <td>NaN</td>\n",
       "      <td>2.0</td>\n",
       "      <td>NaN</td>\n",
       "      <td>sc541- departamento 2 amb - sin anticipo y en ...</td>\n",
       "      <td>sc541- departamento 2 amb - sin anticipo y en ...</td>\n",
       "    </tr>\n",
       "    <tr>\n",
       "      <th>71092</th>\n",
       "      <td>sell</td>\n",
       "      <td>apartment</td>\n",
       "      <td>Flores</td>\n",
       "      <td>Capital Federal</td>\n",
       "      <td>-34.6118361177,-58.4739116118</td>\n",
       "      <td>-34.611836</td>\n",
       "      <td>-58.473912</td>\n",
       "      <td>155000.0</td>\n",
       "      <td>USD</td>\n",
       "      <td>2734897.5</td>\n",
       "      <td>155000.0</td>\n",
       "      <td>NaN</td>\n",
       "      <td>80.0</td>\n",
       "      <td>NaN</td>\n",
       "      <td>1937.500000</td>\n",
       "      <td>NaN</td>\n",
       "      <td>1000.0</td>\n",
       "      <td>super comodo y luminoso departamento de 3amb, ...</td>\n",
       "      <td>excelente 3 amb y dep con balcon, super luminso</td>\n",
       "    </tr>\n",
       "    <tr>\n",
       "      <th>100354</th>\n",
       "      <td>sell</td>\n",
       "      <td>apartment</td>\n",
       "      <td>Villa Lugano</td>\n",
       "      <td>Capital Federal</td>\n",
       "      <td>NaN</td>\n",
       "      <td>NaN</td>\n",
       "      <td>NaN</td>\n",
       "      <td>149000.0</td>\n",
       "      <td>USD</td>\n",
       "      <td>2629030.5</td>\n",
       "      <td>149000.0</td>\n",
       "      <td>NaN</td>\n",
       "      <td>140.0</td>\n",
       "      <td>NaN</td>\n",
       "      <td>1064.285714</td>\n",
       "      <td>NaN</td>\n",
       "      <td>NaN</td>\n",
       "      <td>caracteristicas :* 3 dormitorios * 3 banos (1 ...</td>\n",
       "      <td>departamento - villa lugano</td>\n",
       "    </tr>\n",
       "    <tr>\n",
       "      <th>105897</th>\n",
       "      <td>sell</td>\n",
       "      <td>apartment</td>\n",
       "      <td>Punilla</td>\n",
       "      <td>Córdoba</td>\n",
       "      <td>NaN</td>\n",
       "      <td>NaN</td>\n",
       "      <td>NaN</td>\n",
       "      <td>287000.0</td>\n",
       "      <td>USD</td>\n",
       "      <td>5063971.5</td>\n",
       "      <td>287000.0</td>\n",
       "      <td>NaN</td>\n",
       "      <td>NaN</td>\n",
       "      <td>NaN</td>\n",
       "      <td>NaN</td>\n",
       "      <td>NaN</td>\n",
       "      <td>NaN</td>\n",
       "      <td>departamento con sala de juegos, cordoba, puni...</td>\n",
       "      <td>departamento - villa parque siquiman</td>\n",
       "    </tr>\n",
       "    <tr>\n",
       "      <th>64912</th>\n",
       "      <td>sell</td>\n",
       "      <td>house</td>\n",
       "      <td>Jose Leon Suarez</td>\n",
       "      <td>Bs.As. G.B.A. Zona Norte</td>\n",
       "      <td>NaN</td>\n",
       "      <td>NaN</td>\n",
       "      <td>NaN</td>\n",
       "      <td>95000.0</td>\n",
       "      <td>USD</td>\n",
       "      <td>1676227.5</td>\n",
       "      <td>95000.0</td>\n",
       "      <td>NaN</td>\n",
       "      <td>250.0</td>\n",
       "      <td>NaN</td>\n",
       "      <td>380.000000</td>\n",
       "      <td>NaN</td>\n",
       "      <td>NaN</td>\n",
       "      <td>casa multifamiliar. *en p. baja: 3 dormitorios...</td>\n",
       "      <td>venta casa 4 dormitorios</td>\n",
       "    </tr>\n",
       "    <tr>\n",
       "      <th>101796</th>\n",
       "      <td>sell</td>\n",
       "      <td>apartment</td>\n",
       "      <td>Rosario</td>\n",
       "      <td>Santa Fe</td>\n",
       "      <td>NaN</td>\n",
       "      <td>NaN</td>\n",
       "      <td>NaN</td>\n",
       "      <td>NaN</td>\n",
       "      <td>NaN</td>\n",
       "      <td>NaN</td>\n",
       "      <td>NaN</td>\n",
       "      <td>NaN</td>\n",
       "      <td>36.0</td>\n",
       "      <td>NaN</td>\n",
       "      <td>NaN</td>\n",
       "      <td>NaN</td>\n",
       "      <td>600.0</td>\n",
       "      <td>departamento al contrafrente con balcon. terce...</td>\n",
       "      <td>departamento en centro oeste</td>\n",
       "    </tr>\n",
       "    <tr>\n",
       "      <th>52074</th>\n",
       "      <td>sell</td>\n",
       "      <td>apartment</td>\n",
       "      <td>Parque Chacabuco</td>\n",
       "      <td>Capital Federal</td>\n",
       "      <td>-34.6304745667,-58.4413287688</td>\n",
       "      <td>-34.630475</td>\n",
       "      <td>-58.441329</td>\n",
       "      <td>NaN</td>\n",
       "      <td>NaN</td>\n",
       "      <td>NaN</td>\n",
       "      <td>NaN</td>\n",
       "      <td>36.0</td>\n",
       "      <td>33.0</td>\n",
       "      <td>NaN</td>\n",
       "      <td>NaN</td>\n",
       "      <td>1.0</td>\n",
       "      <td>NaN</td>\n",
       "      <td>excelente departamento a estrenardepartamento ...</td>\n",
       "      <td>venta monoambiente parque chacabuco</td>\n",
       "    </tr>\n",
       "    <tr>\n",
       "      <th>119937</th>\n",
       "      <td>sell</td>\n",
       "      <td>apartment</td>\n",
       "      <td>La Plata</td>\n",
       "      <td>Bs.As. G.B.A. Zona Sur</td>\n",
       "      <td>-34.918219,-57.942501</td>\n",
       "      <td>-34.918219</td>\n",
       "      <td>-57.942501</td>\n",
       "      <td>NaN</td>\n",
       "      <td>NaN</td>\n",
       "      <td>NaN</td>\n",
       "      <td>NaN</td>\n",
       "      <td>NaN</td>\n",
       "      <td>NaN</td>\n",
       "      <td>NaN</td>\n",
       "      <td>NaN</td>\n",
       "      <td>3.0</td>\n",
       "      <td>NaN</td>\n",
       "      <td>corredor responsable: marcelo di girolamo - c....</td>\n",
       "      <td>departamento semipiso 2 dormitorios venta la p...</td>\n",
       "    </tr>\n",
       "    <tr>\n",
       "      <th>45360</th>\n",
       "      <td>sell</td>\n",
       "      <td>house</td>\n",
       "      <td>Córdoba</td>\n",
       "      <td>Córdoba</td>\n",
       "      <td>NaN</td>\n",
       "      <td>NaN</td>\n",
       "      <td>NaN</td>\n",
       "      <td>NaN</td>\n",
       "      <td>NaN</td>\n",
       "      <td>NaN</td>\n",
       "      <td>NaN</td>\n",
       "      <td>9400.0</td>\n",
       "      <td>NaN</td>\n",
       "      <td>NaN</td>\n",
       "      <td>NaN</td>\n",
       "      <td>6.0</td>\n",
       "      <td>NaN</td>\n",
       "      <td>desarrollada sobre 9400 m2 de terreno con fron...</td>\n",
       "      <td>venta de casa excepcional categoria frente al ...</td>\n",
       "    </tr>\n",
       "  </tbody>\n",
       "</table>\n",
       "</div>"
      ],
      "text/plain": [
       "       operation property_type        place_name                state_name  \\\n",
       "77306       sell     apartment           Almagro           Capital Federal   \n",
       "25504       sell     apartment             Boedo           Capital Federal   \n",
       "71092       sell     apartment            Flores           Capital Federal   \n",
       "100354      sell     apartment      Villa Lugano           Capital Federal   \n",
       "105897      sell     apartment           Punilla                   Córdoba   \n",
       "64912       sell         house  Jose Leon Suarez  Bs.As. G.B.A. Zona Norte   \n",
       "101796      sell     apartment           Rosario                  Santa Fe   \n",
       "52074       sell     apartment  Parque Chacabuco           Capital Federal   \n",
       "119937      sell     apartment          La Plata    Bs.As. G.B.A. Zona Sur   \n",
       "45360       sell         house           Córdoba                   Córdoba   \n",
       "\n",
       "                              lat-lon        lat        lon     price  \\\n",
       "77306         -34.6207541,-58.4174562 -34.620754 -58.417456       NaN   \n",
       "25504                             NaN        NaN        NaN       NaN   \n",
       "71092   -34.6118361177,-58.4739116118 -34.611836 -58.473912  155000.0   \n",
       "100354                            NaN        NaN        NaN  149000.0   \n",
       "105897                            NaN        NaN        NaN  287000.0   \n",
       "64912                             NaN        NaN        NaN   95000.0   \n",
       "101796                            NaN        NaN        NaN       NaN   \n",
       "52074   -34.6304745667,-58.4413287688 -34.630475 -58.441329       NaN   \n",
       "119937          -34.918219,-57.942501 -34.918219 -57.942501       NaN   \n",
       "45360                             NaN        NaN        NaN       NaN   \n",
       "\n",
       "       currency  price_aprox_local_currency  price_aprox_usd  \\\n",
       "77306       NaN                         NaN              NaN   \n",
       "25504       NaN                         NaN              NaN   \n",
       "71092       USD                   2734897.5         155000.0   \n",
       "100354      USD                   2629030.5         149000.0   \n",
       "105897      USD                   5063971.5         287000.0   \n",
       "64912       USD                   1676227.5          95000.0   \n",
       "101796      NaN                         NaN              NaN   \n",
       "52074       NaN                         NaN              NaN   \n",
       "119937      NaN                         NaN              NaN   \n",
       "45360       NaN                         NaN              NaN   \n",
       "\n",
       "        surface_total_in_m2  surface_covered_in_m2  price_usd_per_m2  \\\n",
       "77306                  42.0                   40.0               NaN   \n",
       "25504                  40.0                   40.0               NaN   \n",
       "71092                   NaN                   80.0               NaN   \n",
       "100354                  NaN                  140.0               NaN   \n",
       "105897                  NaN                    NaN               NaN   \n",
       "64912                   NaN                  250.0               NaN   \n",
       "101796                  NaN                   36.0               NaN   \n",
       "52074                  36.0                   33.0               NaN   \n",
       "119937                  NaN                    NaN               NaN   \n",
       "45360                9400.0                    NaN               NaN   \n",
       "\n",
       "        price_per_m2  rooms  expenses  \\\n",
       "77306            NaN    NaN       NaN   \n",
       "25504            NaN    2.0       NaN   \n",
       "71092    1937.500000    NaN    1000.0   \n",
       "100354   1064.285714    NaN       NaN   \n",
       "105897           NaN    NaN       NaN   \n",
       "64912     380.000000    NaN       NaN   \n",
       "101796           NaN    NaN     600.0   \n",
       "52074            NaN    1.0       NaN   \n",
       "119937           NaN    3.0       NaN   \n",
       "45360            NaN    6.0       NaN   \n",
       "\n",
       "                                              description  \\\n",
       "77306   departamento en venta en boedo, monoambiente a...   \n",
       "25504   sc541- departamento 2 amb - sin anticipo y en ...   \n",
       "71092   super comodo y luminoso departamento de 3amb, ...   \n",
       "100354  caracteristicas :* 3 dormitorios * 3 banos (1 ...   \n",
       "105897  departamento con sala de juegos, cordoba, puni...   \n",
       "64912   casa multifamiliar. *en p. baja: 3 dormitorios...   \n",
       "101796  departamento al contrafrente con balcon. terce...   \n",
       "52074   excelente departamento a estrenardepartamento ...   \n",
       "119937  corredor responsable: marcelo di girolamo - c....   \n",
       "45360   desarrollada sobre 9400 m2 de terreno con fron...   \n",
       "\n",
       "                                                    title  \n",
       "77306                              departamento - almagro  \n",
       "25504   sc541- departamento 2 amb - sin anticipo y en ...  \n",
       "71092     excelente 3 amb y dep con balcon, super luminso  \n",
       "100354                        departamento - villa lugano  \n",
       "105897               departamento - villa parque siquiman  \n",
       "64912                            venta casa 4 dormitorios  \n",
       "101796                       departamento en centro oeste  \n",
       "52074                 venta monoambiente parque chacabuco  \n",
       "119937  departamento semipiso 2 dormitorios venta la p...  \n",
       "45360   venta de casa excepcional categoria frente al ...  "
      ]
     },
     "execution_count": 34,
     "metadata": {},
     "output_type": "execute_result"
    }
   ],
   "source": [
    "# Registros sin el precio/m2\n",
    "mask_price_usd_m2 = data['price_usd_per_m2'].isnull()\n",
    "data[mask_price_usd_m2].sample(10)"
   ]
  },
  {
   "cell_type": "code",
   "execution_count": 35,
   "id": "7fe09750",
   "metadata": {},
   "outputs": [
    {
     "name": "stdout",
     "output_type": "stream",
     "text": [
      "Dato price_usd_per_m2_clean cargado inicialmente:  57.61282086668507\n"
     ]
    }
   ],
   "source": [
    "#Crear copia para limpiar\n",
    "price_usd_per_m2_clean = data['price_usd_per_m2'].copy()\n",
    "(price_usd_per_m2_clean.isnull().sum()) / price_usd_per_m2_clean.shape[0] * 100\n",
    "print('Dato price_usd_per_m2_clean cargado inicialmente: ', 100 - ((price_usd_per_m2_clean.isnull().sum()) / price_usd_per_m2_clean.shape[0] * 100))"
   ]
  },
  {
   "cell_type": "code",
   "execution_count": 36,
   "id": "e09a6975",
   "metadata": {},
   "outputs": [],
   "source": [
    "# Funcion para primera completada de precio/m2\n",
    "def price_per_m2_clean (price_aprox_usd, surface_covered_in_m2, surface_total_in_m2, price_usd_per_m2):\n",
    "    #hago una lista para cargar superficies, si son todos null, queda solo 1\n",
    "    surfaces = [1, 1]\n",
    "    if math.isnan(price_usd_per_m2):  #Si precio/m 2 es nulo ver de calcularlo\n",
    "        #valido si las superficies y el precio estan cargadas, tomo la superficie máxima para calcular el precio\n",
    "        if not (math.isnan(surface_total_in_m2)):\n",
    "            surfaces[0] = surface_total_in_m2\n",
    "        if not (math.isnan(surface_covered_in_m2)):\n",
    "            surfaces[1] = surface_covered_in_m2\n",
    "        #Si tengo el precio y alguna de las superficies, calculo el nuevo precio/m2\n",
    "        if not (math.isnan(price_aprox_usd)) and (surfaces[0] > 1 or surfaces[1] > 1): \n",
    "            return price_aprox_usd / max(surfaces)\n",
    "    return price_usd_per_m2"
   ]
  },
  {
   "cell_type": "code",
   "execution_count": 37,
   "id": "be96bcfa",
   "metadata": {},
   "outputs": [],
   "source": [
    "price_usd_per_m2_clean = data.apply(lambda x: price_per_m2_clean(x['price_aprox_usd'], x['surface_covered_in_m2'], \n",
    "                                                                 x['surface_total_in_m2'], x['price_usd_per_m2']), axis = 1)"
   ]
  },
  {
   "cell_type": "code",
   "execution_count": 38,
   "id": "23b7a401",
   "metadata": {},
   "outputs": [
    {
     "name": "stdout",
     "output_type": "stream",
     "text": [
      "price_usd_per_m2_clean cargado:  78.11982473088601\n"
     ]
    }
   ],
   "source": [
    "print('price_usd_per_m2_clean cargado: ', 100 - ((price_usd_per_m2_clean.isnull().sum()) / price_usd_per_m2_clean.shape[0] * 100))"
   ]
  },
  {
   "cell_type": "markdown",
   "id": "fd92ff39",
   "metadata": {},
   "source": [
    "\n",
    "Segunda pasada, completando datos de superficie y de precio"
   ]
  },
  {
   "cell_type": "markdown",
   "id": "c49be6bb",
   "metadata": {},
   "source": [
    "Primero completar datos de superficie faltante, van a superficie total"
   ]
  },
  {
   "cell_type": "code",
   "execution_count": 39,
   "id": "868bb4e5",
   "metadata": {},
   "outputs": [
    {
     "data": {
      "text/plain": [
       "0              []\n",
       "1              []\n",
       "2              []\n",
       "3              []\n",
       "4              []\n",
       "           ...   \n",
       "121215         []\n",
       "121216      [572]\n",
       "121217    [43,00]\n",
       "121218         []\n",
       "121219       [77]\n",
       "Name: description, Length: 115936, dtype: object"
      ]
     },
     "execution_count": 39,
     "metadata": {},
     "output_type": "execute_result"
    }
   ],
   "source": [
    "# Buscar los registros con numeros de superficie\n",
    "\n",
    "patron_sup = '(?P<nsup>\\d+[\\,]?[\\.]?\\d*)\\s*(?:m2|metros|sup)'\n",
    "regex_sup = re.compile(patron_sup)\n",
    "\n",
    "superficies_reg = data['description'].apply(lambda x: x if x is np.NaN else regex_sup.findall(x))\n",
    "superficies_reg"
   ]
  },
  {
   "cell_type": "code",
   "execution_count": 40,
   "id": "dc8d64ed",
   "metadata": {},
   "outputs": [],
   "source": [
    "# Funcion para convertir las listas que da findall a numero, tomar solo el maximo\n",
    "\n",
    "def convert_float(x):\n",
    "    if len(x)>0:\n",
    "        x = [i.replace(',','.') for i in x]\n",
    "        x = [i.replace('..','.') for i in x]\n",
    "        return np.array(x, dtype=float).max()\n",
    "    else:\n",
    "        return np.NaN"
   ]
  },
  {
   "cell_type": "code",
   "execution_count": 41,
   "id": "03d14c98",
   "metadata": {},
   "outputs": [
    {
     "data": {
      "text/plain": [
       "array([nan, nan, nan, ..., 43., nan, 77.])"
      ]
     },
     "execution_count": 41,
     "metadata": {},
     "output_type": "execute_result"
    }
   ],
   "source": [
    "surface_regex = superficies_reg.apply(lambda x: x if x is np.NaN else convert_float(x))\n",
    "surface_regex.values"
   ]
  },
  {
   "cell_type": "code",
   "execution_count": 42,
   "id": "c045344e",
   "metadata": {},
   "outputs": [
    {
     "data": {
      "text/plain": [
       "True     82423\n",
       "False    33513\n",
       "Name: description, dtype: int64"
      ]
     },
     "execution_count": 42,
     "metadata": {},
     "output_type": "execute_result"
    }
   ],
   "source": [
    "surface_regex.isnull().value_counts()"
   ]
  },
  {
   "cell_type": "code",
   "execution_count": 43,
   "id": "ec1a0c28",
   "metadata": {},
   "outputs": [
    {
     "data": {
      "text/plain": [
       "False    111384\n",
       "True       4552\n",
       "dtype: int64"
      ]
     },
     "execution_count": 43,
     "metadata": {},
     "output_type": "execute_result"
    }
   ],
   "source": [
    "# Máscara para ver que valores estaría completando, que no tenian la superficie de antes\n",
    "\n",
    "np.logical_and(data['surface_covered_in_m2'].isnull(), surface_regex.notnull()).value_counts()"
   ]
  },
  {
   "cell_type": "code",
   "execution_count": 44,
   "id": "17114a7c",
   "metadata": {},
   "outputs": [],
   "source": [
    "# Combinar la superficie extraida del regex con la existente\n",
    "\n",
    "surface_covered_in_m2_clean_2 = data['surface_covered_in_m2'].copy()\n",
    "surface_covered_in_m2_clean_2.loc[np.logical_and(data['surface_covered_in_m2'].isnull(), surface_regex.notnull())] = surface_regex"
   ]
  },
  {
   "cell_type": "markdown",
   "id": "335ca24c",
   "metadata": {},
   "source": [
    "A continuación intentaremos completar la mayor cantidad posible de precios en USD faltantes"
   ]
  },
  {
   "cell_type": "code",
   "execution_count": 45,
   "id": "08e90550",
   "metadata": {},
   "outputs": [
    {
     "data": {
      "text/plain": [
       "17421"
      ]
     },
     "execution_count": 45,
     "metadata": {},
     "output_type": "execute_result"
    }
   ],
   "source": [
    "data['price_aprox_usd'].isnull().sum()"
   ]
  },
  {
   "cell_type": "code",
   "execution_count": 46,
   "id": "6317ce1c",
   "metadata": {},
   "outputs": [
    {
     "data": {
      "text/plain": [
       "84.97360612751864"
      ]
     },
     "execution_count": 46,
     "metadata": {},
     "output_type": "execute_result"
    }
   ],
   "source": [
    "#% de no nulos:\n",
    "perc_notnull_precios_inicial = data['price_aprox_usd'].notnull().sum()*100 / data.shape[0]\n",
    "perc_notnull_precios_inicial"
   ]
  },
  {
   "cell_type": "markdown",
   "id": "ac3aaa59",
   "metadata": {},
   "source": [
    "Busqueda de precios en Title para registros con precios nulos (luego se realizará sobre Description) Se comienza sobre Title ya que la información de precios es más accesible que en Description."
   ]
  },
  {
   "cell_type": "code",
   "execution_count": 47,
   "id": "b3e6c5c7",
   "metadata": {},
   "outputs": [],
   "source": [
    "title_serie = data['title']"
   ]
  },
  {
   "cell_type": "code",
   "execution_count": 48,
   "id": "39480fa2",
   "metadata": {},
   "outputs": [
    {
     "data": {
      "text/plain": [
       "85690                 a estrenar- 1 dormitorio con pileta.\n",
       "84925                         departamento - nueva cordoba\n",
       "67610                                   casa - yerba buena\n",
       "89654    departamento de 3 ambientes en venta con renta!!!\n",
       "39062         venta casa en estancias del pilar/champagnat\n",
       "22092        departamento 3 amb. sgo del estero y peatonal\n",
       "79488                                       monteagudo 135\n",
       "82575                                casa - tafi del valle\n",
       "99202                                departamento en venta\n",
       "65322                                 casa en luis guillon\n",
       "20615                                departamento en venta\n",
       "91926                                departamento en zaduh\n",
       "37318                                departamento en venta\n",
       "27629    casa 253m2 con 2 plantas en rodo, j. e. 1500, ...\n",
       "63015    ideal inversor c/renta torre palmeras 3 amb 12...\n",
       "Name: title, dtype: object"
      ]
     },
     "execution_count": 48,
     "metadata": {},
     "output_type": "execute_result"
    }
   ],
   "source": [
    "title_serie.sample(15)"
   ]
  },
  {
   "cell_type": "code",
   "execution_count": 49,
   "id": "4d07cd64",
   "metadata": {},
   "outputs": [],
   "source": [
    "usd_pattern_title = \"(?:usd|us\\$|u\\$s|us|u\\$d|dolares)(?:\\s)(?P<Price_usd>\\d+[\\.]?[\\,]?\\d*)\"\n",
    "usd_title_regex = re.compile(usd_pattern_title)"
   ]
  },
  {
   "cell_type": "code",
   "execution_count": 50,
   "id": "320e130c",
   "metadata": {},
   "outputs": [],
   "source": [
    "title_uni_lower_match = title_serie.apply(lambda x:  x if x is np.NaN else usd_title_regex.search(x))"
   ]
  },
  {
   "cell_type": "code",
   "execution_count": 51,
   "id": "5be4e7e4",
   "metadata": {},
   "outputs": [
    {
     "data": {
      "text/plain": [
       "0         None\n",
       "1         None\n",
       "2         None\n",
       "3         None\n",
       "4         None\n",
       "          ... \n",
       "121215    None\n",
       "121216    None\n",
       "121217    None\n",
       "121218    None\n",
       "121219    None\n",
       "Name: title, Length: 115936, dtype: object"
      ]
     },
     "execution_count": 51,
     "metadata": {},
     "output_type": "execute_result"
    }
   ],
   "source": [
    "title_uni_lower_match"
   ]
  },
  {
   "cell_type": "code",
   "execution_count": 52,
   "id": "5221ef2b",
   "metadata": {},
   "outputs": [],
   "source": [
    "mask_title_usd_match_notnull = title_uni_lower_match.notnull()"
   ]
  },
  {
   "cell_type": "code",
   "execution_count": 53,
   "id": "084d7c76",
   "metadata": {},
   "outputs": [],
   "source": [
    "mask_null_precios = data['price_aprox_usd'].isnull()"
   ]
  },
  {
   "cell_type": "code",
   "execution_count": 54,
   "id": "32236671",
   "metadata": {},
   "outputs": [],
   "source": [
    "mask_title_usd = np.logical_and(mask_title_usd_match_notnull, mask_null_precios)\n",
    "#Aplicamos ambas máscaras, ya que solo nos interesa completar los registros nulos de price_aprox_usd"
   ]
  },
  {
   "cell_type": "code",
   "execution_count": 55,
   "id": "b684db9d",
   "metadata": {},
   "outputs": [
    {
     "data": {
      "text/plain": [
       "1665      <re.Match object; span=(0, 11), match='u$d 260...\n",
       "1666      <re.Match object; span=(0, 11), match='u$d 115...\n",
       "1667      <re.Match object; span=(0, 11), match='u$d 740...\n",
       "1669      <re.Match object; span=(0, 11), match='u$d 740...\n",
       "1677      <re.Match object; span=(0, 11), match='u$d 115...\n",
       "                                ...                        \n",
       "50055     <re.Match object; span=(57, 67), match='u$s 10...\n",
       "50056     <re.Match object; span=(57, 67), match='u$s 23...\n",
       "50057     <re.Match object; span=(49, 59), match='u$s 18...\n",
       "79472     <re.Match object; span=(38, 49), match='u$s 30...\n",
       "103676    <re.Match object; span=(71, 81), match='u$s 55...\n",
       "Name: title, Length: 2167, dtype: object"
      ]
     },
     "execution_count": 55,
     "metadata": {},
     "output_type": "execute_result"
    }
   ],
   "source": [
    "title_uni_lower_match[mask_title_usd] "
   ]
  },
  {
   "cell_type": "code",
   "execution_count": 56,
   "id": "7016e620",
   "metadata": {},
   "outputs": [],
   "source": [
    "data.loc[mask_title_usd, \"PriceUSD_Clean\"] = title_uni_lower_match[mask_title_usd].apply(lambda x: x.group(\"Price_usd\"))"
   ]
  },
  {
   "cell_type": "code",
   "execution_count": 57,
   "id": "6c6c5507",
   "metadata": {},
   "outputs": [
    {
     "data": {
      "text/html": [
       "<div>\n",
       "<style scoped>\n",
       "    .dataframe tbody tr th:only-of-type {\n",
       "        vertical-align: middle;\n",
       "    }\n",
       "\n",
       "    .dataframe tbody tr th {\n",
       "        vertical-align: top;\n",
       "    }\n",
       "\n",
       "    .dataframe thead th {\n",
       "        text-align: right;\n",
       "    }\n",
       "</style>\n",
       "<table border=\"1\" class=\"dataframe\">\n",
       "  <thead>\n",
       "    <tr style=\"text-align: right;\">\n",
       "      <th></th>\n",
       "      <th>price_aprox_usd</th>\n",
       "      <th>PriceUSD_Clean</th>\n",
       "    </tr>\n",
       "  </thead>\n",
       "  <tbody>\n",
       "    <tr>\n",
       "      <th>1665</th>\n",
       "      <td>NaN</td>\n",
       "      <td>260.000</td>\n",
       "    </tr>\n",
       "    <tr>\n",
       "      <th>1666</th>\n",
       "      <td>NaN</td>\n",
       "      <td>115.000</td>\n",
       "    </tr>\n",
       "    <tr>\n",
       "      <th>1667</th>\n",
       "      <td>NaN</td>\n",
       "      <td>740.000</td>\n",
       "    </tr>\n",
       "    <tr>\n",
       "      <th>1669</th>\n",
       "      <td>NaN</td>\n",
       "      <td>740.000</td>\n",
       "    </tr>\n",
       "    <tr>\n",
       "      <th>1677</th>\n",
       "      <td>NaN</td>\n",
       "      <td>115.000</td>\n",
       "    </tr>\n",
       "    <tr>\n",
       "      <th>...</th>\n",
       "      <td>...</td>\n",
       "      <td>...</td>\n",
       "    </tr>\n",
       "    <tr>\n",
       "      <th>50055</th>\n",
       "      <td>NaN</td>\n",
       "      <td>101000</td>\n",
       "    </tr>\n",
       "    <tr>\n",
       "      <th>50056</th>\n",
       "      <td>NaN</td>\n",
       "      <td>235000</td>\n",
       "    </tr>\n",
       "    <tr>\n",
       "      <th>50057</th>\n",
       "      <td>NaN</td>\n",
       "      <td>180000</td>\n",
       "    </tr>\n",
       "    <tr>\n",
       "      <th>79472</th>\n",
       "      <td>NaN</td>\n",
       "      <td>300.000</td>\n",
       "    </tr>\n",
       "    <tr>\n",
       "      <th>103676</th>\n",
       "      <td>NaN</td>\n",
       "      <td>55.000</td>\n",
       "    </tr>\n",
       "  </tbody>\n",
       "</table>\n",
       "<p>2167 rows × 2 columns</p>\n",
       "</div>"
      ],
      "text/plain": [
       "        price_aprox_usd PriceUSD_Clean\n",
       "1665                NaN        260.000\n",
       "1666                NaN        115.000\n",
       "1667                NaN        740.000\n",
       "1669                NaN        740.000\n",
       "1677                NaN        115.000\n",
       "...                 ...            ...\n",
       "50055               NaN         101000\n",
       "50056               NaN         235000\n",
       "50057               NaN         180000\n",
       "79472               NaN        300.000\n",
       "103676              NaN         55.000\n",
       "\n",
       "[2167 rows x 2 columns]"
      ]
     },
     "execution_count": 57,
     "metadata": {},
     "output_type": "execute_result"
    }
   ],
   "source": [
    "data.loc[mask_title_usd, [\"price_aprox_usd\", \"PriceUSD_Clean\"]]"
   ]
  },
  {
   "cell_type": "code",
   "execution_count": 58,
   "id": "9ba1b460",
   "metadata": {},
   "outputs": [
    {
     "data": {
      "text/plain": [
       "PriceUSD_Clean    0\n",
       "dtype: int64"
      ]
     },
     "execution_count": 58,
     "metadata": {},
     "output_type": "execute_result"
    }
   ],
   "source": [
    "data.loc[mask_title_usd, [\"PriceUSD_Clean\"]].isnull().sum()"
   ]
  },
  {
   "cell_type": "markdown",
   "id": "d0e29635",
   "metadata": {},
   "source": [
    "Pasamos el tipo de dato a Float"
   ]
  },
  {
   "cell_type": "code",
   "execution_count": 59,
   "id": "e4fc8c3c",
   "metadata": {},
   "outputs": [
    {
     "data": {
      "text/html": [
       "<div>\n",
       "<style scoped>\n",
       "    .dataframe tbody tr th:only-of-type {\n",
       "        vertical-align: middle;\n",
       "    }\n",
       "\n",
       "    .dataframe tbody tr th {\n",
       "        vertical-align: top;\n",
       "    }\n",
       "\n",
       "    .dataframe thead th {\n",
       "        text-align: right;\n",
       "    }\n",
       "</style>\n",
       "<table border=\"1\" class=\"dataframe\">\n",
       "  <thead>\n",
       "    <tr style=\"text-align: right;\">\n",
       "      <th></th>\n",
       "      <th>PriceUSD_Clean</th>\n",
       "    </tr>\n",
       "  </thead>\n",
       "  <tbody>\n",
       "    <tr>\n",
       "      <th>1665</th>\n",
       "      <td>260.0</td>\n",
       "    </tr>\n",
       "    <tr>\n",
       "      <th>1666</th>\n",
       "      <td>115.0</td>\n",
       "    </tr>\n",
       "    <tr>\n",
       "      <th>1667</th>\n",
       "      <td>740.0</td>\n",
       "    </tr>\n",
       "    <tr>\n",
       "      <th>1669</th>\n",
       "      <td>740.0</td>\n",
       "    </tr>\n",
       "    <tr>\n",
       "      <th>1677</th>\n",
       "      <td>115.0</td>\n",
       "    </tr>\n",
       "    <tr>\n",
       "      <th>...</th>\n",
       "      <td>...</td>\n",
       "    </tr>\n",
       "    <tr>\n",
       "      <th>50055</th>\n",
       "      <td>101000.0</td>\n",
       "    </tr>\n",
       "    <tr>\n",
       "      <th>50056</th>\n",
       "      <td>235000.0</td>\n",
       "    </tr>\n",
       "    <tr>\n",
       "      <th>50057</th>\n",
       "      <td>180000.0</td>\n",
       "    </tr>\n",
       "    <tr>\n",
       "      <th>79472</th>\n",
       "      <td>300.0</td>\n",
       "    </tr>\n",
       "    <tr>\n",
       "      <th>103676</th>\n",
       "      <td>55.0</td>\n",
       "    </tr>\n",
       "  </tbody>\n",
       "</table>\n",
       "<p>2167 rows × 1 columns</p>\n",
       "</div>"
      ],
      "text/plain": [
       "        PriceUSD_Clean\n",
       "1665             260.0\n",
       "1666             115.0\n",
       "1667             740.0\n",
       "1669             740.0\n",
       "1677             115.0\n",
       "...                ...\n",
       "50055         101000.0\n",
       "50056         235000.0\n",
       "50057         180000.0\n",
       "79472            300.0\n",
       "103676            55.0\n",
       "\n",
       "[2167 rows x 1 columns]"
      ]
     },
     "execution_count": 59,
     "metadata": {},
     "output_type": "execute_result"
    }
   ],
   "source": [
    "PriceUSD_Clean_float = data.loc[mask_title_usd, [\"PriceUSD_Clean\"]].astype('float')\n",
    "PriceUSD_Clean_float"
   ]
  },
  {
   "cell_type": "markdown",
   "id": "0e319a96",
   "metadata": {},
   "source": [
    "Aplicamos máscara booleana para encontrar los registros que figuran con valores menor a mil usd"
   ]
  },
  {
   "cell_type": "code",
   "execution_count": 60,
   "id": "13498477",
   "metadata": {},
   "outputs": [
    {
     "data": {
      "text/html": [
       "<div>\n",
       "<style scoped>\n",
       "    .dataframe tbody tr th:only-of-type {\n",
       "        vertical-align: middle;\n",
       "    }\n",
       "\n",
       "    .dataframe tbody tr th {\n",
       "        vertical-align: top;\n",
       "    }\n",
       "\n",
       "    .dataframe thead th {\n",
       "        text-align: right;\n",
       "    }\n",
       "</style>\n",
       "<table border=\"1\" class=\"dataframe\">\n",
       "  <thead>\n",
       "    <tr style=\"text-align: right;\">\n",
       "      <th></th>\n",
       "      <th>PriceUSD_Clean</th>\n",
       "    </tr>\n",
       "  </thead>\n",
       "  <tbody>\n",
       "    <tr>\n",
       "      <th>1665</th>\n",
       "      <td>260.0</td>\n",
       "    </tr>\n",
       "    <tr>\n",
       "      <th>1666</th>\n",
       "      <td>115.0</td>\n",
       "    </tr>\n",
       "    <tr>\n",
       "      <th>1667</th>\n",
       "      <td>740.0</td>\n",
       "    </tr>\n",
       "    <tr>\n",
       "      <th>1669</th>\n",
       "      <td>740.0</td>\n",
       "    </tr>\n",
       "    <tr>\n",
       "      <th>1677</th>\n",
       "      <td>115.0</td>\n",
       "    </tr>\n",
       "    <tr>\n",
       "      <th>...</th>\n",
       "      <td>...</td>\n",
       "    </tr>\n",
       "    <tr>\n",
       "      <th>50055</th>\n",
       "      <td>NaN</td>\n",
       "    </tr>\n",
       "    <tr>\n",
       "      <th>50056</th>\n",
       "      <td>NaN</td>\n",
       "    </tr>\n",
       "    <tr>\n",
       "      <th>50057</th>\n",
       "      <td>NaN</td>\n",
       "    </tr>\n",
       "    <tr>\n",
       "      <th>79472</th>\n",
       "      <td>300.0</td>\n",
       "    </tr>\n",
       "    <tr>\n",
       "      <th>103676</th>\n",
       "      <td>55.0</td>\n",
       "    </tr>\n",
       "  </tbody>\n",
       "</table>\n",
       "<p>2167 rows × 1 columns</p>\n",
       "</div>"
      ],
      "text/plain": [
       "        PriceUSD_Clean\n",
       "1665             260.0\n",
       "1666             115.0\n",
       "1667             740.0\n",
       "1669             740.0\n",
       "1677             115.0\n",
       "...                ...\n",
       "50055              NaN\n",
       "50056              NaN\n",
       "50057              NaN\n",
       "79472            300.0\n",
       "103676            55.0\n",
       "\n",
       "[2167 rows x 1 columns]"
      ]
     },
     "execution_count": 60,
     "metadata": {},
     "output_type": "execute_result"
    }
   ],
   "source": [
    "mask_Price_float = (PriceUSD_Clean_float<1000)\n",
    "PriceUSD_Clean_float[mask_Price_float]"
   ]
  },
  {
   "cell_type": "markdown",
   "id": "afc9e3a6",
   "metadata": {},
   "source": [
    "Multiplicamos los valores por mil para que sean numeros coherentes"
   ]
  },
  {
   "cell_type": "code",
   "execution_count": 61,
   "id": "eef4ffa5",
   "metadata": {},
   "outputs": [
    {
     "data": {
      "text/html": [
       "<div>\n",
       "<style scoped>\n",
       "    .dataframe tbody tr th:only-of-type {\n",
       "        vertical-align: middle;\n",
       "    }\n",
       "\n",
       "    .dataframe tbody tr th {\n",
       "        vertical-align: top;\n",
       "    }\n",
       "\n",
       "    .dataframe thead th {\n",
       "        text-align: right;\n",
       "    }\n",
       "</style>\n",
       "<table border=\"1\" class=\"dataframe\">\n",
       "  <thead>\n",
       "    <tr style=\"text-align: right;\">\n",
       "      <th></th>\n",
       "      <th>PriceUSD_Clean</th>\n",
       "    </tr>\n",
       "  </thead>\n",
       "  <tbody>\n",
       "    <tr>\n",
       "      <th>1665</th>\n",
       "      <td>260000.0</td>\n",
       "    </tr>\n",
       "    <tr>\n",
       "      <th>1666</th>\n",
       "      <td>115000.0</td>\n",
       "    </tr>\n",
       "    <tr>\n",
       "      <th>1667</th>\n",
       "      <td>740000.0</td>\n",
       "    </tr>\n",
       "    <tr>\n",
       "      <th>1669</th>\n",
       "      <td>740000.0</td>\n",
       "    </tr>\n",
       "    <tr>\n",
       "      <th>1677</th>\n",
       "      <td>115000.0</td>\n",
       "    </tr>\n",
       "    <tr>\n",
       "      <th>...</th>\n",
       "      <td>...</td>\n",
       "    </tr>\n",
       "    <tr>\n",
       "      <th>50055</th>\n",
       "      <td>NaN</td>\n",
       "    </tr>\n",
       "    <tr>\n",
       "      <th>50056</th>\n",
       "      <td>NaN</td>\n",
       "    </tr>\n",
       "    <tr>\n",
       "      <th>50057</th>\n",
       "      <td>NaN</td>\n",
       "    </tr>\n",
       "    <tr>\n",
       "      <th>79472</th>\n",
       "      <td>300000.0</td>\n",
       "    </tr>\n",
       "    <tr>\n",
       "      <th>103676</th>\n",
       "      <td>55000.0</td>\n",
       "    </tr>\n",
       "  </tbody>\n",
       "</table>\n",
       "<p>2167 rows × 1 columns</p>\n",
       "</div>"
      ],
      "text/plain": [
       "        PriceUSD_Clean\n",
       "1665          260000.0\n",
       "1666          115000.0\n",
       "1667          740000.0\n",
       "1669          740000.0\n",
       "1677          115000.0\n",
       "...                ...\n",
       "50055              NaN\n",
       "50056              NaN\n",
       "50057              NaN\n",
       "79472         300000.0\n",
       "103676         55000.0\n",
       "\n",
       "[2167 rows x 1 columns]"
      ]
     },
     "execution_count": 61,
     "metadata": {},
     "output_type": "execute_result"
    }
   ],
   "source": [
    "PriceUSD_Clean_float_product = PriceUSD_Clean_float[mask_Price_float]* 1000\n",
    "PriceUSD_Clean_float_product"
   ]
  },
  {
   "cell_type": "markdown",
   "id": "c67ae15d",
   "metadata": {},
   "source": [
    "Eliminamos los NaN, ya que lo que buscamos es reescribir los valores de la columna con precios coherentes."
   ]
  },
  {
   "cell_type": "code",
   "execution_count": 62,
   "id": "60e969f5",
   "metadata": {},
   "outputs": [
    {
     "data": {
      "text/html": [
       "<div>\n",
       "<style scoped>\n",
       "    .dataframe tbody tr th:only-of-type {\n",
       "        vertical-align: middle;\n",
       "    }\n",
       "\n",
       "    .dataframe tbody tr th {\n",
       "        vertical-align: top;\n",
       "    }\n",
       "\n",
       "    .dataframe thead th {\n",
       "        text-align: right;\n",
       "    }\n",
       "</style>\n",
       "<table border=\"1\" class=\"dataframe\">\n",
       "  <thead>\n",
       "    <tr style=\"text-align: right;\">\n",
       "      <th></th>\n",
       "      <th>PriceUSD_Clean</th>\n",
       "    </tr>\n",
       "  </thead>\n",
       "  <tbody>\n",
       "    <tr>\n",
       "      <th>1665</th>\n",
       "      <td>260000.0</td>\n",
       "    </tr>\n",
       "    <tr>\n",
       "      <th>1666</th>\n",
       "      <td>115000.0</td>\n",
       "    </tr>\n",
       "    <tr>\n",
       "      <th>1667</th>\n",
       "      <td>740000.0</td>\n",
       "    </tr>\n",
       "    <tr>\n",
       "      <th>1669</th>\n",
       "      <td>740000.0</td>\n",
       "    </tr>\n",
       "    <tr>\n",
       "      <th>1677</th>\n",
       "      <td>115000.0</td>\n",
       "    </tr>\n",
       "    <tr>\n",
       "      <th>...</th>\n",
       "      <td>...</td>\n",
       "    </tr>\n",
       "    <tr>\n",
       "      <th>22370</th>\n",
       "      <td>125000.0</td>\n",
       "    </tr>\n",
       "    <tr>\n",
       "      <th>25757</th>\n",
       "      <td>35080.0</td>\n",
       "    </tr>\n",
       "    <tr>\n",
       "      <th>48651</th>\n",
       "      <td>68000.0</td>\n",
       "    </tr>\n",
       "    <tr>\n",
       "      <th>79472</th>\n",
       "      <td>300000.0</td>\n",
       "    </tr>\n",
       "    <tr>\n",
       "      <th>103676</th>\n",
       "      <td>55000.0</td>\n",
       "    </tr>\n",
       "  </tbody>\n",
       "</table>\n",
       "<p>2162 rows × 1 columns</p>\n",
       "</div>"
      ],
      "text/plain": [
       "        PriceUSD_Clean\n",
       "1665          260000.0\n",
       "1666          115000.0\n",
       "1667          740000.0\n",
       "1669          740000.0\n",
       "1677          115000.0\n",
       "...                ...\n",
       "22370         125000.0\n",
       "25757          35080.0\n",
       "48651          68000.0\n",
       "79472         300000.0\n",
       "103676         55000.0\n",
       "\n",
       "[2162 rows x 1 columns]"
      ]
     },
     "execution_count": 62,
     "metadata": {},
     "output_type": "execute_result"
    }
   ],
   "source": [
    "PriceUSD_Clean_float_product = PriceUSD_Clean_float_product.dropna()\n",
    "PriceUSD_Clean_float_product"
   ]
  },
  {
   "cell_type": "code",
   "execution_count": 63,
   "id": "04e4d499",
   "metadata": {},
   "outputs": [
    {
     "data": {
      "text/html": [
       "<div>\n",
       "<style scoped>\n",
       "    .dataframe tbody tr th:only-of-type {\n",
       "        vertical-align: middle;\n",
       "    }\n",
       "\n",
       "    .dataframe tbody tr th {\n",
       "        vertical-align: top;\n",
       "    }\n",
       "\n",
       "    .dataframe thead th {\n",
       "        text-align: right;\n",
       "    }\n",
       "</style>\n",
       "<table border=\"1\" class=\"dataframe\">\n",
       "  <thead>\n",
       "    <tr style=\"text-align: right;\">\n",
       "      <th></th>\n",
       "      <th>PriceUSD_Clean</th>\n",
       "    </tr>\n",
       "  </thead>\n",
       "  <tbody>\n",
       "    <tr>\n",
       "      <th>count</th>\n",
       "      <td>2162.000000</td>\n",
       "    </tr>\n",
       "    <tr>\n",
       "      <th>mean</th>\n",
       "      <td>191274.279833</td>\n",
       "    </tr>\n",
       "    <tr>\n",
       "      <th>std</th>\n",
       "      <td>153040.466345</td>\n",
       "    </tr>\n",
       "    <tr>\n",
       "      <th>min</th>\n",
       "      <td>1000.000000</td>\n",
       "    </tr>\n",
       "    <tr>\n",
       "      <th>25%</th>\n",
       "      <td>90000.000000</td>\n",
       "    </tr>\n",
       "    <tr>\n",
       "      <th>50%</th>\n",
       "      <td>140000.000000</td>\n",
       "    </tr>\n",
       "    <tr>\n",
       "      <th>75%</th>\n",
       "      <td>250000.000000</td>\n",
       "    </tr>\n",
       "    <tr>\n",
       "      <th>max</th>\n",
       "      <td>980000.000000</td>\n",
       "    </tr>\n",
       "  </tbody>\n",
       "</table>\n",
       "</div>"
      ],
      "text/plain": [
       "       PriceUSD_Clean\n",
       "count     2162.000000\n",
       "mean    191274.279833\n",
       "std     153040.466345\n",
       "min       1000.000000\n",
       "25%      90000.000000\n",
       "50%     140000.000000\n",
       "75%     250000.000000\n",
       "max     980000.000000"
      ]
     },
     "execution_count": 63,
     "metadata": {},
     "output_type": "execute_result"
    }
   ],
   "source": [
    "PriceUSD_Clean_float_product.describe() #Vemos que hay registros con valor 1000 usd (es decir que originalmente figuraban como 1 usd)"
   ]
  },
  {
   "cell_type": "code",
   "execution_count": 64,
   "id": "249d1e8a",
   "metadata": {},
   "outputs": [],
   "source": [
    "PriceUSD_Clean_float_product_copy=PriceUSD_Clean_float_product.copy()"
   ]
  },
  {
   "cell_type": "markdown",
   "id": "ac7d9652",
   "metadata": {},
   "source": [
    "Multiplicaremos los valores menores a usd 10000 por 100 para que sean numeros coherentes"
   ]
  },
  {
   "cell_type": "code",
   "execution_count": 65,
   "id": "2da282cc",
   "metadata": {},
   "outputs": [],
   "source": [
    "mask_under_10000_title = PriceUSD_Clean_float_product < 10000"
   ]
  },
  {
   "cell_type": "code",
   "execution_count": 66,
   "id": "a79ffd98",
   "metadata": {},
   "outputs": [
    {
     "data": {
      "text/html": [
       "<div>\n",
       "<style scoped>\n",
       "    .dataframe tbody tr th:only-of-type {\n",
       "        vertical-align: middle;\n",
       "    }\n",
       "\n",
       "    .dataframe tbody tr th {\n",
       "        vertical-align: top;\n",
       "    }\n",
       "\n",
       "    .dataframe thead th {\n",
       "        text-align: right;\n",
       "    }\n",
       "</style>\n",
       "<table border=\"1\" class=\"dataframe\">\n",
       "  <thead>\n",
       "    <tr style=\"text-align: right;\">\n",
       "      <th></th>\n",
       "      <th>PriceUSD_Clean</th>\n",
       "    </tr>\n",
       "  </thead>\n",
       "  <tbody>\n",
       "    <tr>\n",
       "      <th>4151</th>\n",
       "      <td>100000.0</td>\n",
       "    </tr>\n",
       "    <tr>\n",
       "      <th>2414</th>\n",
       "      <td>110000.0</td>\n",
       "    </tr>\n",
       "    <tr>\n",
       "      <th>2327</th>\n",
       "      <td>100000.0</td>\n",
       "    </tr>\n",
       "    <tr>\n",
       "      <th>2919</th>\n",
       "      <td>130000.0</td>\n",
       "    </tr>\n",
       "    <tr>\n",
       "      <th>2006</th>\n",
       "      <td>100000.0</td>\n",
       "    </tr>\n",
       "    <tr>\n",
       "      <th>2246</th>\n",
       "      <td>440000.0</td>\n",
       "    </tr>\n",
       "    <tr>\n",
       "      <th>2681</th>\n",
       "      <td>100000.0</td>\n",
       "    </tr>\n",
       "    <tr>\n",
       "      <th>1709</th>\n",
       "      <td>100000.0</td>\n",
       "    </tr>\n",
       "    <tr>\n",
       "      <th>1796</th>\n",
       "      <td>169000.0</td>\n",
       "    </tr>\n",
       "    <tr>\n",
       "      <th>1936</th>\n",
       "      <td>123400.0</td>\n",
       "    </tr>\n",
       "  </tbody>\n",
       "</table>\n",
       "</div>"
      ],
      "text/plain": [
       "      PriceUSD_Clean\n",
       "4151        100000.0\n",
       "2414        110000.0\n",
       "2327        100000.0\n",
       "2919        130000.0\n",
       "2006        100000.0\n",
       "2246        440000.0\n",
       "2681        100000.0\n",
       "1709        100000.0\n",
       "1796        169000.0\n",
       "1936        123400.0"
      ]
     },
     "execution_count": 66,
     "metadata": {},
     "output_type": "execute_result"
    }
   ],
   "source": [
    "corected_values = PriceUSD_Clean_float_product.loc[mask_under_10000_title.values] * 100\n",
    "corected_values.sample(10)"
   ]
  },
  {
   "cell_type": "code",
   "execution_count": 67,
   "id": "f32350e2",
   "metadata": {},
   "outputs": [
    {
     "data": {
      "text/html": [
       "<div>\n",
       "<style scoped>\n",
       "    .dataframe tbody tr th:only-of-type {\n",
       "        vertical-align: middle;\n",
       "    }\n",
       "\n",
       "    .dataframe tbody tr th {\n",
       "        vertical-align: top;\n",
       "    }\n",
       "\n",
       "    .dataframe thead th {\n",
       "        text-align: right;\n",
       "    }\n",
       "</style>\n",
       "<table border=\"1\" class=\"dataframe\">\n",
       "  <thead>\n",
       "    <tr style=\"text-align: right;\">\n",
       "      <th></th>\n",
       "      <th>PriceUSD_Clean</th>\n",
       "    </tr>\n",
       "  </thead>\n",
       "  <tbody>\n",
       "    <tr>\n",
       "      <th>1665</th>\n",
       "      <td>260000.0</td>\n",
       "    </tr>\n",
       "    <tr>\n",
       "      <th>1666</th>\n",
       "      <td>115000.0</td>\n",
       "    </tr>\n",
       "    <tr>\n",
       "      <th>1667</th>\n",
       "      <td>740000.0</td>\n",
       "    </tr>\n",
       "    <tr>\n",
       "      <th>1669</th>\n",
       "      <td>740000.0</td>\n",
       "    </tr>\n",
       "    <tr>\n",
       "      <th>1677</th>\n",
       "      <td>115000.0</td>\n",
       "    </tr>\n",
       "    <tr>\n",
       "      <th>...</th>\n",
       "      <td>...</td>\n",
       "    </tr>\n",
       "    <tr>\n",
       "      <th>22370</th>\n",
       "      <td>125000.0</td>\n",
       "    </tr>\n",
       "    <tr>\n",
       "      <th>25757</th>\n",
       "      <td>35080.0</td>\n",
       "    </tr>\n",
       "    <tr>\n",
       "      <th>48651</th>\n",
       "      <td>68000.0</td>\n",
       "    </tr>\n",
       "    <tr>\n",
       "      <th>79472</th>\n",
       "      <td>300000.0</td>\n",
       "    </tr>\n",
       "    <tr>\n",
       "      <th>103676</th>\n",
       "      <td>55000.0</td>\n",
       "    </tr>\n",
       "  </tbody>\n",
       "</table>\n",
       "<p>2162 rows × 1 columns</p>\n",
       "</div>"
      ],
      "text/plain": [
       "        PriceUSD_Clean\n",
       "1665          260000.0\n",
       "1666          115000.0\n",
       "1667          740000.0\n",
       "1669          740000.0\n",
       "1677          115000.0\n",
       "...                ...\n",
       "22370         125000.0\n",
       "25757          35080.0\n",
       "48651          68000.0\n",
       "79472         300000.0\n",
       "103676         55000.0\n",
       "\n",
       "[2162 rows x 1 columns]"
      ]
     },
     "execution_count": 67,
     "metadata": {},
     "output_type": "execute_result"
    }
   ],
   "source": [
    "mask_index_corected_values = corected_values.index\n",
    "PriceUSD_Clean_float_product_copy.loc[mask_index_corected_values] = corected_values\n",
    "PriceUSD_Clean_float_product_copy"
   ]
  },
  {
   "cell_type": "code",
   "execution_count": 68,
   "id": "219ec333",
   "metadata": {},
   "outputs": [
    {
     "data": {
      "text/html": [
       "<div>\n",
       "<style scoped>\n",
       "    .dataframe tbody tr th:only-of-type {\n",
       "        vertical-align: middle;\n",
       "    }\n",
       "\n",
       "    .dataframe tbody tr th {\n",
       "        vertical-align: top;\n",
       "    }\n",
       "\n",
       "    .dataframe thead th {\n",
       "        text-align: right;\n",
       "    }\n",
       "</style>\n",
       "<table border=\"1\" class=\"dataframe\">\n",
       "  <thead>\n",
       "    <tr style=\"text-align: right;\">\n",
       "      <th></th>\n",
       "      <th>PriceUSD_Clean</th>\n",
       "    </tr>\n",
       "  </thead>\n",
       "  <tbody>\n",
       "    <tr>\n",
       "      <th>count</th>\n",
       "      <td>2162.000000</td>\n",
       "    </tr>\n",
       "    <tr>\n",
       "      <th>mean</th>\n",
       "      <td>194034.923682</td>\n",
       "    </tr>\n",
       "    <tr>\n",
       "      <th>std</th>\n",
       "      <td>151123.847989</td>\n",
       "    </tr>\n",
       "    <tr>\n",
       "      <th>min</th>\n",
       "      <td>11800.000000</td>\n",
       "    </tr>\n",
       "    <tr>\n",
       "      <th>25%</th>\n",
       "      <td>95000.000000</td>\n",
       "    </tr>\n",
       "    <tr>\n",
       "      <th>50%</th>\n",
       "      <td>144000.000000</td>\n",
       "    </tr>\n",
       "    <tr>\n",
       "      <th>75%</th>\n",
       "      <td>250000.000000</td>\n",
       "    </tr>\n",
       "    <tr>\n",
       "      <th>max</th>\n",
       "      <td>980000.000000</td>\n",
       "    </tr>\n",
       "  </tbody>\n",
       "</table>\n",
       "</div>"
      ],
      "text/plain": [
       "       PriceUSD_Clean\n",
       "count     2162.000000\n",
       "mean    194034.923682\n",
       "std     151123.847989\n",
       "min      11800.000000\n",
       "25%      95000.000000\n",
       "50%     144000.000000\n",
       "75%     250000.000000\n",
       "max     980000.000000"
      ]
     },
     "execution_count": 68,
     "metadata": {},
     "output_type": "execute_result"
    }
   ],
   "source": [
    "PriceUSD_Clean_float_product_copy.describe()"
   ]
  },
  {
   "cell_type": "markdown",
   "id": "0e82677a",
   "metadata": {},
   "source": [
    "Reescribimos los valores en la columna PriceUSD_Clean"
   ]
  },
  {
   "cell_type": "code",
   "execution_count": 69,
   "id": "99f2c5d5",
   "metadata": {},
   "outputs": [
    {
     "data": {
      "text/html": [
       "<div>\n",
       "<style scoped>\n",
       "    .dataframe tbody tr th:only-of-type {\n",
       "        vertical-align: middle;\n",
       "    }\n",
       "\n",
       "    .dataframe tbody tr th {\n",
       "        vertical-align: top;\n",
       "    }\n",
       "\n",
       "    .dataframe thead th {\n",
       "        text-align: right;\n",
       "    }\n",
       "</style>\n",
       "<table border=\"1\" class=\"dataframe\">\n",
       "  <thead>\n",
       "    <tr style=\"text-align: right;\">\n",
       "      <th></th>\n",
       "      <th>PriceUSD_Clean</th>\n",
       "    </tr>\n",
       "  </thead>\n",
       "  <tbody>\n",
       "    <tr>\n",
       "      <th>1665</th>\n",
       "      <td>260000</td>\n",
       "    </tr>\n",
       "    <tr>\n",
       "      <th>1666</th>\n",
       "      <td>115000</td>\n",
       "    </tr>\n",
       "    <tr>\n",
       "      <th>1667</th>\n",
       "      <td>740000</td>\n",
       "    </tr>\n",
       "    <tr>\n",
       "      <th>1669</th>\n",
       "      <td>740000</td>\n",
       "    </tr>\n",
       "    <tr>\n",
       "      <th>1677</th>\n",
       "      <td>115000</td>\n",
       "    </tr>\n",
       "    <tr>\n",
       "      <th>...</th>\n",
       "      <td>...</td>\n",
       "    </tr>\n",
       "    <tr>\n",
       "      <th>50055</th>\n",
       "      <td>101000</td>\n",
       "    </tr>\n",
       "    <tr>\n",
       "      <th>50056</th>\n",
       "      <td>235000</td>\n",
       "    </tr>\n",
       "    <tr>\n",
       "      <th>50057</th>\n",
       "      <td>180000</td>\n",
       "    </tr>\n",
       "    <tr>\n",
       "      <th>79472</th>\n",
       "      <td>300000</td>\n",
       "    </tr>\n",
       "    <tr>\n",
       "      <th>103676</th>\n",
       "      <td>55000</td>\n",
       "    </tr>\n",
       "  </tbody>\n",
       "</table>\n",
       "<p>2167 rows × 1 columns</p>\n",
       "</div>"
      ],
      "text/plain": [
       "       PriceUSD_Clean\n",
       "1665           260000\n",
       "1666           115000\n",
       "1667           740000\n",
       "1669           740000\n",
       "1677           115000\n",
       "...               ...\n",
       "50055          101000\n",
       "50056          235000\n",
       "50057          180000\n",
       "79472          300000\n",
       "103676          55000\n",
       "\n",
       "[2167 rows x 1 columns]"
      ]
     },
     "execution_count": 69,
     "metadata": {},
     "output_type": "execute_result"
    }
   ],
   "source": [
    "data.loc[PriceUSD_Clean_float_product.index, [\"PriceUSD_Clean\"]] = PriceUSD_Clean_float_product_copy\n",
    "data.loc[mask_title_usd, [\"PriceUSD_Clean\"]]"
   ]
  },
  {
   "cell_type": "code",
   "execution_count": 70,
   "id": "fd3fa60c",
   "metadata": {},
   "outputs": [
    {
     "data": {
      "text/plain": [
       "113769"
      ]
     },
     "execution_count": 70,
     "metadata": {},
     "output_type": "execute_result"
    }
   ],
   "source": [
    "data[\"PriceUSD_Clean\"].isnull().sum()"
   ]
  },
  {
   "cell_type": "code",
   "execution_count": 71,
   "id": "a1a302cd",
   "metadata": {},
   "outputs": [
    {
     "data": {
      "text/plain": [
       "2167"
      ]
     },
     "execution_count": 71,
     "metadata": {},
     "output_type": "execute_result"
    }
   ],
   "source": [
    "data[\"PriceUSD_Clean\"].notnull().sum()"
   ]
  },
  {
   "cell_type": "markdown",
   "id": "13dd675b",
   "metadata": {},
   "source": [
    "Rellenamos PriceUSD_Clean con los valores no nulos originales que tenemos de la columna price_aprox_usd"
   ]
  },
  {
   "cell_type": "code",
   "execution_count": 72,
   "id": "7a917060",
   "metadata": {},
   "outputs": [
    {
     "data": {
      "text/plain": [
       "0          62000\n",
       "1         150000\n",
       "2          72000\n",
       "3          95000\n",
       "4          64000\n",
       "           ...  \n",
       "121215    870000\n",
       "121216    498000\n",
       "121217    131500\n",
       "121218     95900\n",
       "121219    129000\n",
       "Name: PriceUSD_Clean, Length: 115936, dtype: object"
      ]
     },
     "execution_count": 72,
     "metadata": {},
     "output_type": "execute_result"
    }
   ],
   "source": [
    "data.loc[data.loc[data[\"price_aprox_usd\"].notnull(), [\"price_aprox_usd\"]].index, [\"PriceUSD_Clean\"]]= \\\n",
    "        data.loc[data[\"price_aprox_usd\"].notnull(), [\"price_aprox_usd\"]].values\n",
    "data[\"PriceUSD_Clean\"]"
   ]
  },
  {
   "cell_type": "code",
   "execution_count": 73,
   "id": "63486ffb",
   "metadata": {},
   "outputs": [
    {
     "data": {
      "text/plain": [
       "15254"
      ]
     },
     "execution_count": 73,
     "metadata": {},
     "output_type": "execute_result"
    }
   ],
   "source": [
    "data[\"PriceUSD_Clean\"].isnull().sum()"
   ]
  },
  {
   "cell_type": "markdown",
   "id": "485999cc",
   "metadata": {},
   "source": [
    "Verificación de que la cantidad de nulos en PriceUSD_Clean es la cantidad de nulos en price_aprox_usd menos los registros rellenados:"
   ]
  },
  {
   "cell_type": "code",
   "execution_count": 74,
   "id": "bd1d6238",
   "metadata": {},
   "outputs": [
    {
     "data": {
      "text/plain": [
       "15254"
      ]
     },
     "execution_count": 74,
     "metadata": {},
     "output_type": "execute_result"
    }
   ],
   "source": [
    "data[\"price_aprox_usd\"].isnull().sum() - 2167"
   ]
  },
  {
   "cell_type": "code",
   "execution_count": 75,
   "id": "ea0cb6c7",
   "metadata": {},
   "outputs": [
    {
     "name": "stdout",
     "output_type": "stream",
     "text": [
      "Porcentaje de no nulos inicial: 84.97\n",
      "Nuevo porcentaje de no nulos: 86.84\n"
     ]
    }
   ],
   "source": [
    "print('Porcentaje de no nulos inicial:', round(perc_notnull_precios_inicial,2))\n",
    "print('Nuevo porcentaje de no nulos:', round(data[\"PriceUSD_Clean\"].notnull().sum()*100/data.shape[0],2))"
   ]
  },
  {
   "cell_type": "markdown",
   "id": "ec0dd88f",
   "metadata": {},
   "source": [
    "Ahora se intentará rellenar la mayor cantidad posibles de precios nulos con la columna Description."
   ]
  },
  {
   "cell_type": "code",
   "execution_count": 76,
   "id": "396ace87",
   "metadata": {},
   "outputs": [
    {
     "data": {
      "text/plain": [
       "0         2 ambientes tipo casa planta baja por pasillo,...\n",
       "1         venta de departamento en decimo piso al frente...\n",
       "2         2 ambientes 3er piso lateral living comedor am...\n",
       "3         ph 3 ambientes con patio. hay 3 deptos en lote...\n",
       "4         departamento con fantastica iluminacion natura...\n",
       "                                ...                        \n",
       "121215    torre forum alcorta - maxima categoria.impecab...\n",
       "121216    excelente e impecable casa en venta en las lom...\n",
       "121217    venta departamento ambiente divisible a estren...\n",
       "121218    2 amb al contrafrente,  luminoso. el departame...\n",
       "121219    departamento de 77 m2 apto profesional. edific...\n",
       "Name: description, Length: 115936, dtype: object"
      ]
     },
     "execution_count": 76,
     "metadata": {},
     "output_type": "execute_result"
    }
   ],
   "source": [
    "description_uni_lower = data['description']\n",
    "description_uni_lower"
   ]
  },
  {
   "cell_type": "code",
   "execution_count": 77,
   "id": "061d526d",
   "metadata": {},
   "outputs": [],
   "source": [
    "usd_pattern_description = \"(?:usd|us\\$|u\\$s|u\\$d|dolares)(?:\\s?\\s?)(?P<Price_usd>\\d+[\\.]?[\\,]?\\d*)\"\n",
    "usd_description_regex = re.compile(usd_pattern_description)"
   ]
  },
  {
   "cell_type": "code",
   "execution_count": 78,
   "id": "919f2904",
   "metadata": {},
   "outputs": [
    {
     "data": {
      "text/plain": [
       "0               []\n",
       "1         [20.000]\n",
       "2               []\n",
       "3               []\n",
       "4               []\n",
       "            ...   \n",
       "121215          []\n",
       "121216          []\n",
       "121217    [20.000]\n",
       "121218    [95.900]\n",
       "121219          []\n",
       "Name: description, Length: 115936, dtype: object"
      ]
     },
     "execution_count": 78,
     "metadata": {},
     "output_type": "execute_result"
    }
   ],
   "source": [
    "description_match = description_uni_lower.apply(lambda x: x if x is np.NaN else usd_description_regex.findall(x))\n",
    "description_match"
   ]
  },
  {
   "cell_type": "code",
   "execution_count": 79,
   "id": "1101d8d3",
   "metadata": {},
   "outputs": [
    {
     "data": {
      "text/plain": [
       "0          NaN\n",
       "1         20.0\n",
       "2          NaN\n",
       "3          NaN\n",
       "4          NaN\n",
       "          ... \n",
       "121215     NaN\n",
       "121216     NaN\n",
       "121217    20.0\n",
       "121218    95.9\n",
       "121219     NaN\n",
       "Name: description, Length: 115936, dtype: float64"
      ]
     },
     "execution_count": 79,
     "metadata": {},
     "output_type": "execute_result"
    }
   ],
   "source": [
    "description_match_float = description_match.apply(lambda x: x if x is np.NaN else convert_float(x))\n",
    "description_match_float"
   ]
  },
  {
   "cell_type": "code",
   "execution_count": 80,
   "id": "44657508",
   "metadata": {},
   "outputs": [
    {
     "data": {
      "text/plain": [
       "12319"
      ]
     },
     "execution_count": 80,
     "metadata": {},
     "output_type": "execute_result"
    }
   ],
   "source": [
    "description_match_float.notnull().sum()"
   ]
  },
  {
   "cell_type": "code",
   "execution_count": 81,
   "id": "840ed860",
   "metadata": {},
   "outputs": [],
   "source": [
    "mask_PriceUSD_Clean_null = data[\"PriceUSD_Clean\"].isnull()"
   ]
  },
  {
   "cell_type": "code",
   "execution_count": 82,
   "id": "bcf84321",
   "metadata": {},
   "outputs": [
    {
     "data": {
      "text/plain": [
       "5           NaN\n",
       "20          NaN\n",
       "41          NaN\n",
       "62          NaN\n",
       "67          NaN\n",
       "          ...  \n",
       "121210      NaN\n",
       "121211      NaN\n",
       "121212      NaN\n",
       "121213      NaN\n",
       "121214    1.619\n",
       "Name: description, Length: 15254, dtype: float64"
      ]
     },
     "execution_count": 82,
     "metadata": {},
     "output_type": "execute_result"
    }
   ],
   "source": [
    "description_match_float[mask_PriceUSD_Clean_null]"
   ]
  },
  {
   "cell_type": "code",
   "execution_count": 83,
   "id": "c15aa659",
   "metadata": {},
   "outputs": [],
   "source": [
    "mask_description_match_notnull = description_match_float.notnull()"
   ]
  },
  {
   "cell_type": "code",
   "execution_count": 84,
   "id": "afd8646b",
   "metadata": {},
   "outputs": [
    {
     "data": {
      "text/plain": [
       "1          20.000\n",
       "15        250.000\n",
       "24        380.940\n",
       "25        385.640\n",
       "28        390.700\n",
       "           ...   \n",
       "121139      2.589\n",
       "121143    305.000\n",
       "121214      1.619\n",
       "121217     20.000\n",
       "121218     95.900\n",
       "Name: description, Length: 12319, dtype: float64"
      ]
     },
     "execution_count": 84,
     "metadata": {},
     "output_type": "execute_result"
    }
   ],
   "source": [
    "description_match_float[mask_description_match_notnull]"
   ]
  },
  {
   "cell_type": "code",
   "execution_count": 85,
   "id": "fa62a996",
   "metadata": {},
   "outputs": [],
   "source": [
    "mask_PriceUSD_Clean_null = data[\"PriceUSD_Clean\"].isnull()"
   ]
  },
  {
   "cell_type": "code",
   "execution_count": 86,
   "id": "ba4687cc",
   "metadata": {},
   "outputs": [
    {
     "data": {
      "text/plain": [
       "126         1.000\n",
       "263       240.000\n",
       "264       220.000\n",
       "273         1.000\n",
       "275         1.000\n",
       "           ...   \n",
       "120895     20.000\n",
       "120897     20.000\n",
       "120908     20.000\n",
       "120912     20.000\n",
       "121214      1.619\n",
       "Name: description, Length: 656, dtype: float64"
      ]
     },
     "execution_count": 86,
     "metadata": {},
     "output_type": "execute_result"
    }
   ],
   "source": [
    "description_match_float[mask_description_match_notnull & mask_PriceUSD_Clean_null]"
   ]
  },
  {
   "cell_type": "code",
   "execution_count": 87,
   "id": "1577e69d",
   "metadata": {},
   "outputs": [
    {
     "data": {
      "text/plain": [
       "count       656.000000\n",
       "mean        708.372691\n",
       "std        7230.408848\n",
       "min           0.000000\n",
       "25%           1.000000\n",
       "50%           4.100000\n",
       "75%          57.000000\n",
       "max      150000.000000\n",
       "Name: description, dtype: float64"
      ]
     },
     "execution_count": 87,
     "metadata": {},
     "output_type": "execute_result"
    }
   ],
   "source": [
    "description_match_float[mask_description_match_notnull & mask_PriceUSD_Clean_null].describe()"
   ]
  },
  {
   "cell_type": "code",
   "execution_count": 88,
   "id": "79c118dc",
   "metadata": {},
   "outputs": [
    {
     "data": {
      "text/plain": [
       "656"
      ]
     },
     "execution_count": 88,
     "metadata": {},
     "output_type": "execute_result"
    }
   ],
   "source": [
    "description_match_float[mask_description_match_notnull & mask_PriceUSD_Clean_null].notnull().sum()"
   ]
  },
  {
   "cell_type": "code",
   "execution_count": 89,
   "id": "817c8bd5",
   "metadata": {},
   "outputs": [],
   "source": [
    "description_values_available=description_match_float[mask_description_match_notnull & mask_PriceUSD_Clean_null]"
   ]
  },
  {
   "cell_type": "markdown",
   "id": "da61d63a",
   "metadata": {},
   "source": [
    "Se realiza el mismo tratamiento que se efectuó en Title, con los valores menores a 1000 y 10000:"
   ]
  },
  {
   "cell_type": "code",
   "execution_count": 90,
   "id": "693b5acc",
   "metadata": {},
   "outputs": [],
   "source": [
    "mask_values_under_1000_description=description_values_available<1000"
   ]
  },
  {
   "cell_type": "code",
   "execution_count": 91,
   "id": "0c54cd3c",
   "metadata": {},
   "outputs": [
    {
     "data": {
      "text/plain": [
       "126         1.000\n",
       "263       240.000\n",
       "264       220.000\n",
       "273         1.000\n",
       "275         1.000\n",
       "           ...   \n",
       "120895     20.000\n",
       "120897     20.000\n",
       "120908     20.000\n",
       "120912     20.000\n",
       "121214      1.619\n",
       "Name: description, Length: 623, dtype: float64"
      ]
     },
     "execution_count": 91,
     "metadata": {},
     "output_type": "execute_result"
    }
   ],
   "source": [
    "description_values_available[mask_values_under_1000_description]"
   ]
  },
  {
   "cell_type": "code",
   "execution_count": 92,
   "id": "590e1cde",
   "metadata": {},
   "outputs": [
    {
     "data": {
      "text/plain": [
       "126         1000.0\n",
       "263       240000.0\n",
       "264       220000.0\n",
       "273         1000.0\n",
       "275         1000.0\n",
       "            ...   \n",
       "120895     20000.0\n",
       "120897     20000.0\n",
       "120908     20000.0\n",
       "120912     20000.0\n",
       "121214      1619.0\n",
       "Name: description, Length: 656, dtype: float64"
      ]
     },
     "execution_count": 92,
     "metadata": {},
     "output_type": "execute_result"
    }
   ],
   "source": [
    "descriptrion_product=description_values_available*1000\n",
    "descriptrion_product"
   ]
  },
  {
   "cell_type": "code",
   "execution_count": 93,
   "id": "b0f764e2",
   "metadata": {},
   "outputs": [
    {
     "data": {
      "text/plain": [
       "126         1000.0\n",
       "263       240000.0\n",
       "264       220000.0\n",
       "273         1000.0\n",
       "275         1000.0\n",
       "            ...   \n",
       "120895     20000.0\n",
       "120897     20000.0\n",
       "120908     20000.0\n",
       "120912     20000.0\n",
       "121214      1619.0\n",
       "Name: description, Length: 623, dtype: float64"
      ]
     },
     "execution_count": 93,
     "metadata": {},
     "output_type": "execute_result"
    }
   ],
   "source": [
    "description_values_available[mask_values_under_1000_description]=descriptrion_product\n",
    "description_values_available[mask_values_under_1000_description]"
   ]
  },
  {
   "cell_type": "code",
   "execution_count": 94,
   "id": "e6adbcc2",
   "metadata": {},
   "outputs": [],
   "source": [
    "mask_values_under_10000_description = description_values_available<10000"
   ]
  },
  {
   "cell_type": "code",
   "execution_count": 95,
   "id": "919ab6ad",
   "metadata": {},
   "outputs": [
    {
     "data": {
      "text/plain": [
       "126       1000.0\n",
       "273       1000.0\n",
       "275       1000.0\n",
       "661       1000.0\n",
       "1412      1000.0\n",
       "           ...  \n",
       "119840    1000.0\n",
       "120031    1000.0\n",
       "120042    1000.0\n",
       "120312    1990.0\n",
       "121214    1619.0\n",
       "Name: description, Length: 360, dtype: float64"
      ]
     },
     "execution_count": 95,
     "metadata": {},
     "output_type": "execute_result"
    }
   ],
   "source": [
    "description_values_available[mask_values_under_10000_description]"
   ]
  },
  {
   "cell_type": "code",
   "execution_count": 96,
   "id": "bdee8937",
   "metadata": {},
   "outputs": [
    {
     "data": {
      "text/plain": [
       "126       100000.0\n",
       "273       100000.0\n",
       "275       100000.0\n",
       "661       100000.0\n",
       "1412      100000.0\n",
       "            ...   \n",
       "119840    100000.0\n",
       "120031    100000.0\n",
       "120042    100000.0\n",
       "120312    199000.0\n",
       "121214    161900.0\n",
       "Name: description, Length: 360, dtype: float64"
      ]
     },
     "execution_count": 96,
     "metadata": {},
     "output_type": "execute_result"
    }
   ],
   "source": [
    "descriptrion_product2 = description_values_available[mask_values_under_10000_description]*100\n",
    "descriptrion_product2"
   ]
  },
  {
   "cell_type": "code",
   "execution_count": 97,
   "id": "df81b4ca",
   "metadata": {},
   "outputs": [
    {
     "data": {
      "text/plain": [
       "126       100000.0\n",
       "273       100000.0\n",
       "275       100000.0\n",
       "661       100000.0\n",
       "1412      100000.0\n",
       "            ...   \n",
       "119840    100000.0\n",
       "120031    100000.0\n",
       "120042    100000.0\n",
       "120312    199000.0\n",
       "121214    161900.0\n",
       "Name: description, Length: 360, dtype: float64"
      ]
     },
     "execution_count": 97,
     "metadata": {},
     "output_type": "execute_result"
    }
   ],
   "source": [
    "description_values_available[mask_values_under_10000_description] = descriptrion_product2\n",
    "description_values_available[mask_values_under_10000_description]"
   ]
  },
  {
   "cell_type": "code",
   "execution_count": 98,
   "id": "aacff79c",
   "metadata": {},
   "outputs": [
    {
     "data": {
      "text/plain": [
       "count       656.000000\n",
       "mean     115849.198476\n",
       "std      119712.606494\n",
       "min           0.000000\n",
       "25%       59250.000000\n",
       "50%      100000.000000\n",
       "75%      100000.000000\n",
       "max      900000.000000\n",
       "Name: description, dtype: float64"
      ]
     },
     "execution_count": 98,
     "metadata": {},
     "output_type": "execute_result"
    }
   ],
   "source": [
    "description_values_available.describe()"
   ]
  },
  {
   "cell_type": "code",
   "execution_count": 99,
   "id": "2173d445",
   "metadata": {},
   "outputs": [
    {
     "data": {
      "text/html": [
       "<div>\n",
       "<style scoped>\n",
       "    .dataframe tbody tr th:only-of-type {\n",
       "        vertical-align: middle;\n",
       "    }\n",
       "\n",
       "    .dataframe tbody tr th {\n",
       "        vertical-align: top;\n",
       "    }\n",
       "\n",
       "    .dataframe thead th {\n",
       "        text-align: right;\n",
       "    }\n",
       "</style>\n",
       "<table border=\"1\" class=\"dataframe\">\n",
       "  <thead>\n",
       "    <tr style=\"text-align: right;\">\n",
       "      <th></th>\n",
       "      <th>PriceUSD_Clean</th>\n",
       "    </tr>\n",
       "  </thead>\n",
       "  <tbody>\n",
       "    <tr>\n",
       "      <th>126</th>\n",
       "      <td>100000</td>\n",
       "    </tr>\n",
       "    <tr>\n",
       "      <th>263</th>\n",
       "      <td>240000</td>\n",
       "    </tr>\n",
       "    <tr>\n",
       "      <th>264</th>\n",
       "      <td>220000</td>\n",
       "    </tr>\n",
       "    <tr>\n",
       "      <th>273</th>\n",
       "      <td>100000</td>\n",
       "    </tr>\n",
       "    <tr>\n",
       "      <th>275</th>\n",
       "      <td>100000</td>\n",
       "    </tr>\n",
       "    <tr>\n",
       "      <th>...</th>\n",
       "      <td>...</td>\n",
       "    </tr>\n",
       "    <tr>\n",
       "      <th>120895</th>\n",
       "      <td>20000</td>\n",
       "    </tr>\n",
       "    <tr>\n",
       "      <th>120897</th>\n",
       "      <td>20000</td>\n",
       "    </tr>\n",
       "    <tr>\n",
       "      <th>120908</th>\n",
       "      <td>20000</td>\n",
       "    </tr>\n",
       "    <tr>\n",
       "      <th>120912</th>\n",
       "      <td>20000</td>\n",
       "    </tr>\n",
       "    <tr>\n",
       "      <th>121214</th>\n",
       "      <td>161900</td>\n",
       "    </tr>\n",
       "  </tbody>\n",
       "</table>\n",
       "<p>656 rows × 1 columns</p>\n",
       "</div>"
      ],
      "text/plain": [
       "       PriceUSD_Clean\n",
       "126            100000\n",
       "263            240000\n",
       "264            220000\n",
       "273            100000\n",
       "275            100000\n",
       "...               ...\n",
       "120895          20000\n",
       "120897          20000\n",
       "120908          20000\n",
       "120912          20000\n",
       "121214         161900\n",
       "\n",
       "[656 rows x 1 columns]"
      ]
     },
     "execution_count": 99,
     "metadata": {},
     "output_type": "execute_result"
    }
   ],
   "source": [
    "data.loc[description_values_available.index, [\"PriceUSD_Clean\"]] = description_values_available.values\n",
    "data.loc[description_values_available.index, [\"PriceUSD_Clean\"]]"
   ]
  },
  {
   "cell_type": "code",
   "execution_count": 100,
   "id": "724e2849",
   "metadata": {},
   "outputs": [
    {
     "data": {
      "text/plain": [
       "14598"
      ]
     },
     "execution_count": 100,
     "metadata": {},
     "output_type": "execute_result"
    }
   ],
   "source": [
    "data[\"PriceUSD_Clean\"].isnull().sum()"
   ]
  },
  {
   "cell_type": "code",
   "execution_count": 101,
   "id": "5a2f518d",
   "metadata": {},
   "outputs": [
    {
     "name": "stdout",
     "output_type": "stream",
     "text": [
      "Porcentaje de no nulos inicial: 84.97360612751864\n",
      "Nuevo porcentaje de no nulos: 87.40857024565277\n",
      "Cantidad de precios encontrados: 2823\n"
     ]
    }
   ],
   "source": [
    "print('Porcentaje de no nulos inicial:', perc_notnull_precios_inicial)\n",
    "print('Nuevo porcentaje de no nulos:', data[\"PriceUSD_Clean\"].notnull().sum()*100/data.shape[0])\n",
    "print('Cantidad de precios encontrados:', data['PriceUSD_Clean'].notnull().sum() - data['price_aprox_usd'].notnull().sum())"
   ]
  },
  {
   "cell_type": "code",
   "execution_count": 102,
   "id": "bf209dd8",
   "metadata": {},
   "outputs": [],
   "source": [
    "pd.options.display.max_colwidth = 1000000"
   ]
  },
  {
   "cell_type": "markdown",
   "id": "1ddce5b0",
   "metadata": {},
   "source": [
    "Se visualiza que en los campos donde no encontró ningun valor la regex, no se explicita un valor en dolares de la propiedad:"
   ]
  },
  {
   "cell_type": "code",
   "execution_count": 103,
   "id": "5c97777c",
   "metadata": {},
   "outputs": [
    {
     "data": {
      "text/html": [
       "<div>\n",
       "<style scoped>\n",
       "    .dataframe tbody tr th:only-of-type {\n",
       "        vertical-align: middle;\n",
       "    }\n",
       "\n",
       "    .dataframe tbody tr th {\n",
       "        vertical-align: top;\n",
       "    }\n",
       "\n",
       "    .dataframe thead th {\n",
       "        text-align: right;\n",
       "    }\n",
       "</style>\n",
       "<table border=\"1\" class=\"dataframe\">\n",
       "  <thead>\n",
       "    <tr style=\"text-align: right;\">\n",
       "      <th></th>\n",
       "      <th>description</th>\n",
       "    </tr>\n",
       "  </thead>\n",
       "  <tbody>\n",
       "    <tr>\n",
       "      <th>5</th>\n",
       "      <td>casa en el perimetro del barrio 338, ubicada en el extremo sur este del barrio, sobre calle 3 de caballeria casi nagera. vista libre a terreno en frente.consta de dos dormitorios, bano, living cocina comedor integrado de buen tamano, lavadero con despensero en aluminio.patio privado con churrasquera, tapiales y puerta de acceso de servicio. frente con rejas y pequeno patio con verde, porch de acceso.gas natural en la puerta. aire acondicionado frio/calor. baulera para guardado sobre pasillo. muy buen estado en general de pisos, revestimientos, pintura, etc.apto credito. aviso publicado por pixel inmobiliario (servicio de paginas web para inmobiliarias).</td>\n",
       "    </tr>\n",
       "    <tr>\n",
       "      <th>20</th>\n",
       "      <td>consta de: comedor-cocina, cuatro dormitorios (uno con bano en suite), un bano, otro bano para terminar, cuarto de herramientas y amplio parque.</td>\n",
       "    </tr>\n",
       "    <tr>\n",
       "      <th>41</th>\n",
       "      <td>\"arecas\" es un complejo de duplex y departamentos de primera calidad constructiva ubicado en el mejor barrio residencial de villa carlos paz. pensamos en brindarles una opcion acorde a cada necesidad: para la persona o familia que busca su vivienda, el ahorrista que elige una vivienda en construccion para capitalizarse y el inversionista que apuesta a la excelente renta que ofrece la villa en alquileres temporarios. * financiacion: financiacion propia | max. rentabilidad 100% pesos | cuotas convenidas * ubicacion privilegiada a metros de la costanera del lago san roque . * departamentos de 1, 2 y 3 dorm. * barrio con zona comercial propia * calidad constructiva * entrega pactada* desarrollo: mp innovacion &amp; desarrollo * comercializadora: mam inmobiliariabonificacion por pago de contado- consulte:- 351-7061857 (maria)- 86 (noelia)</td>\n",
       "    </tr>\n",
       "    <tr>\n",
       "      <th>62</th>\n",
       "      <td>casa moderna en dos plantas.pb : living con hogar, cocina-comedor diario,  toilette de recepcion, lavadero y estudio, todos los pisos de ceramicos, carpinteria exterior en aluminio blanco con doble vidrio.pa: hall de distribucion, con pequeno espacio para escritorio y placard. dos dormitorios, bano compartido y suite con vestidor. todos los pisos flotantes.</td>\n",
       "    </tr>\n",
       "    <tr>\n",
       "      <th>67</th>\n",
       "      <td>planta alta: dormitorio en suite - balconplanta baja: 2 dormitorios - bano - cocina - living/comedor - lavadero - patio- fondo libre- entrada de auto - local con banoconsulte valor</td>\n",
       "    </tr>\n",
       "    <tr>\n",
       "      <th>...</th>\n",
       "      <td>...</td>\n",
       "    </tr>\n",
       "    <tr>\n",
       "      <th>121207</th>\n",
       "      <td>puertos- barrio vistas - l. 88casa en venta sobre lote interno puertos, barrio vistas .planta baja , living comedor , cocina con isla movible , escritorio , cuarto de servicio , bano completo , lavadero con parrilla .planta alta , 3 dormitorios , 2 banos completos , cuarto principal con vestidor y salida a la terraza con vista al lago. toda la casa cuenta con doble vidrio ( dvh) y contramarcos , losa radiante , tratamiento plastico fino de tarquini tanto en exterior como interior , pisos de porcelanato, exterior 210 m2 de pisos en porfido , todas las mesadas de marmol , artefactos de iluminacion exterior e interior de led .</td>\n",
       "    </tr>\n",
       "    <tr>\n",
       "      <th>121210</th>\n",
       "      <td>dos viviendas en block en excelente ubicacion a 50 mts de dardo rocha y 2 cuadras de av. fleming apto vivienda, oficina, comercio, profesional, una al fte en 1 planta living comedor, cocina 2 dormitorios, bano. cochera, lavadero, jdin al fdo, atras otra vivienda en 2 plantas liv com coc bano y en la pa (no esta en plano) 2 dorm c/vestidor bano.</td>\n",
       "    </tr>\n",
       "    <tr>\n",
       "      <th>121211</th>\n",
       "      <td>excelente departamento de categoria con vistas parciales al rio en exclusivo barrio cerrado \"barrancas al rio\". pallier privado, hall, toilette y guarda ropa. living y comedor con salida a balcon terraza. amplia cocina con comedor diario, dependencia de servicio, lavadero, 3 dormitorios, 2 banos, 1 en suite,gran baulera, doble cochera fija cubierta, splits frio-calor en todos los ambientes, calefaccion por piso electrico. el condominio cuenta con pileta climatizada, jardines, cocheras de cortesia, sum y seguridad 24 hs.</td>\n",
       "    </tr>\n",
       "    <tr>\n",
       "      <th>121212</th>\n",
       "      <td>espectacular casa estilo racionalista en calle cortada!!! tiene una renta activa hasta octubre de 2017p.b: espectacular hall de entrada con triple altura - toilette - gran living apaisado con chimenea - comedor separado (5 x 4) - escritorio - (todo con pisos de pinotea) - buena cocina con comedor diario - 1 dormitorio con bano completo - dependencias de servicio con bano p.a.: espectacular family - 4 dormitorios (todos con pisos de madera grapia misionera): ppal en suite (7 x 4) con vestidor y bano completo balcon terraza con vista al jardin + otra suite + otro bano.excelente jardin con pileta - parrilla - galeria - calefaccion central por radiadores</td>\n",
       "    </tr>\n",
       "    <tr>\n",
       "      <th>121213</th>\n",
       "      <td>excelente casa en martinez. inmejorable ubicaicon!! de av. libertador al rio.excelente calidad!!!pb: hall de entrada, toilette compartimentado, gran living con salida al jardin, comedor por separado, escritorio, cocina comedor diario, family. galeria y jardin con pileta climatizada. pa: amplio hall de distribucion. 3 dormitorios en suite. gran suite principal con doble vestidor, jacuzzi, sauna y gym con salida a balcon terraza. 2da planta: muy buen playroom, posibilidad de 4to dormitorio o cuarto de huespedes. un bano completo.subsuelo: garaje para dos autos, departamento de caseros con bano y cocina, amplio lavadero y bano de pileta. caracteristicas sobresalientes: calefaccion central por radiadores, aire acondicionado central frio/calor, pisos de marmol en hall de entrada, pileta climatizada, excelentes terminaciones y detalles de categoria, playroom todo acustizado, etc.</td>\n",
       "    </tr>\n",
       "  </tbody>\n",
       "</table>\n",
       "<p>14598 rows × 1 columns</p>\n",
       "</div>"
      ],
      "text/plain": [
       "                                                                                                                                                                                                                                                                                                                                                                                                                                                                                                                                                                                                                                                                                                                                                                                                                                                                                                                   description\n",
       "5                                                                                                                                                                                                                                        casa en el perimetro del barrio 338, ubicada en el extremo sur este del barrio, sobre calle 3 de caballeria casi nagera. vista libre a terreno en frente.consta de dos dormitorios, bano, living cocina comedor integrado de buen tamano, lavadero con despensero en aluminio.patio privado con churrasquera, tapiales y puerta de acceso de servicio. frente con rejas y pequeno patio con verde, porch de acceso.gas natural en la puerta. aire acondicionado frio/calor. baulera para guardado sobre pasillo. muy buen estado en general de pisos, revestimientos, pintura, etc.apto credito. aviso publicado por pixel inmobiliario (servicio de paginas web para inmobiliarias).\n",
       "20                                                                                                                                                                                                                                                                                                                                                                                                                                                                                                                                                                                                                                                                                                                                                                            consta de: comedor-cocina, cuatro dormitorios (uno con bano en suite), un bano, otro bano para terminar, cuarto de herramientas y amplio parque.\n",
       "41                                                   \"arecas\" es un complejo de duplex y departamentos de primera calidad constructiva ubicado en el mejor barrio residencial de villa carlos paz. pensamos en brindarles una opcion acorde a cada necesidad: para la persona o familia que busca su vivienda, el ahorrista que elige una vivienda en construccion para capitalizarse y el inversionista que apuesta a la excelente renta que ofrece la villa en alquileres temporarios. * financiacion: financiacion propia | max. rentabilidad 100% pesos | cuotas convenidas * ubicacion privilegiada a metros de la costanera del lago san roque . * departamentos de 1, 2 y 3 dorm. * barrio con zona comercial propia * calidad constructiva * entrega pactada* desarrollo: mp innovacion & desarrollo * comercializadora: mam inmobiliariabonificacion por pago de contado- consulte:- 351-7061857 (maria)- 86 (noelia)\n",
       "62                                                                                                                                                                                                                                                                                                                                                                                                                                                                                                                                                     casa moderna en dos plantas.pb : living con hogar, cocina-comedor diario,  toilette de recepcion, lavadero y estudio, todos los pisos de ceramicos, carpinteria exterior en aluminio blanco con doble vidrio.pa: hall de distribucion, con pequeno espacio para escritorio y placard. dos dormitorios, bano compartido y suite con vestidor. todos los pisos flotantes.\n",
       "67                                                                                                                                                                                                                                                                                                                                                                                                                                                                                                                                                                                                                                                                                                                                        planta alta: dormitorio en suite - balconplanta baja: 2 dormitorios - bano - cocina - living/comedor - lavadero - patio- fondo libre- entrada de auto - local con banoconsulte valor\n",
       "...                                                                                                                                                                                                                                                                                                                                                                                                                                                                                                                                                                                                                                                                                                                                                                                                                                                                                                                        ...\n",
       "121207                                                                                                                                                                                                                                                                puertos- barrio vistas - l. 88casa en venta sobre lote interno puertos, barrio vistas .planta baja , living comedor , cocina con isla movible , escritorio , cuarto de servicio , bano completo , lavadero con parrilla .planta alta , 3 dormitorios , 2 banos completos , cuarto principal con vestidor y salida a la terraza con vista al lago. toda la casa cuenta con doble vidrio ( dvh) y contramarcos , losa radiante , tratamiento plastico fino de tarquini tanto en exterior como interior , pisos de porcelanato, exterior 210 m2 de pisos en porfido , todas las mesadas de marmol , artefactos de iluminacion exterior e interior de led . \n",
       "121210                                                                                                                                                                                                                                                                                                                                                                                                                                                                                                                                                              dos viviendas en block en excelente ubicacion a 50 mts de dardo rocha y 2 cuadras de av. fleming apto vivienda, oficina, comercio, profesional, una al fte en 1 planta living comedor, cocina 2 dormitorios, bano. cochera, lavadero, jdin al fdo, atras otra vivienda en 2 plantas liv com coc bano y en la pa (no esta en plano) 2 dorm c/vestidor bano.\n",
       "121211                                                                                                                                                                                                                                                                                                                                                                           excelente departamento de categoria con vistas parciales al rio en exclusivo barrio cerrado \"barrancas al rio\". pallier privado, hall, toilette y guarda ropa. living y comedor con salida a balcon terraza. amplia cocina con comedor diario, dependencia de servicio, lavadero, 3 dormitorios, 2 banos, 1 en suite,gran baulera, doble cochera fija cubierta, splits frio-calor en todos los ambientes, calefaccion por piso electrico. el condominio cuenta con pileta climatizada, jardines, cocheras de cortesia, sum y seguridad 24 hs.\n",
       "121212                                                                                                                                                                                                                                      espectacular casa estilo racionalista en calle cortada!!! tiene una renta activa hasta octubre de 2017p.b: espectacular hall de entrada con triple altura - toilette - gran living apaisado con chimenea - comedor separado (5 x 4) - escritorio - (todo con pisos de pinotea) - buena cocina con comedor diario - 1 dormitorio con bano completo - dependencias de servicio con bano p.a.: espectacular family - 4 dormitorios (todos con pisos de madera grapia misionera): ppal en suite (7 x 4) con vestidor y bano completo balcon terraza con vista al jardin + otra suite + otro bano.excelente jardin con pileta - parrilla - galeria - calefaccion central por radiadores\n",
       "121213  excelente casa en martinez. inmejorable ubicaicon!! de av. libertador al rio.excelente calidad!!!pb: hall de entrada, toilette compartimentado, gran living con salida al jardin, comedor por separado, escritorio, cocina comedor diario, family. galeria y jardin con pileta climatizada. pa: amplio hall de distribucion. 3 dormitorios en suite. gran suite principal con doble vestidor, jacuzzi, sauna y gym con salida a balcon terraza. 2da planta: muy buen playroom, posibilidad de 4to dormitorio o cuarto de huespedes. un bano completo.subsuelo: garaje para dos autos, departamento de caseros con bano y cocina, amplio lavadero y bano de pileta. caracteristicas sobresalientes: calefaccion central por radiadores, aire acondicionado central frio/calor, pisos de marmol en hall de entrada, pileta climatizada, excelentes terminaciones y detalles de categoria, playroom todo acustizado, etc.\n",
       "\n",
       "[14598 rows x 1 columns]"
      ]
     },
     "execution_count": 103,
     "metadata": {},
     "output_type": "execute_result"
    }
   ],
   "source": [
    "data.loc[data[\"PriceUSD_Clean\"].isnull(),  ['description']]"
   ]
  },
  {
   "cell_type": "code",
   "execution_count": 104,
   "id": "eb84a970",
   "metadata": {},
   "outputs": [],
   "source": [
    "data['PriceUSD_Clean'] = data['PriceUSD_Clean'].astype('float')"
   ]
  },
  {
   "cell_type": "code",
   "execution_count": 105,
   "id": "1407cea5",
   "metadata": {},
   "outputs": [],
   "source": [
    "#Fin de relleno de valores nulos de precios."
   ]
  },
  {
   "cell_type": "code",
   "execution_count": null,
   "id": "f8ca3469",
   "metadata": {},
   "outputs": [],
   "source": []
  },
  {
   "cell_type": "code",
   "execution_count": 106,
   "id": "2b9e0f24",
   "metadata": {},
   "outputs": [
    {
     "data": {
      "text/plain": [
       "Index(['operation', 'property_type', 'place_name', 'state_name', 'lat-lon',\n",
       "       'lat', 'lon', 'price', 'currency', 'price_aprox_local_currency',\n",
       "       'price_aprox_usd', 'surface_total_in_m2', 'surface_covered_in_m2',\n",
       "       'price_usd_per_m2', 'price_per_m2', 'rooms', 'expenses', 'description',\n",
       "       'title', 'PriceUSD_Clean'],\n",
       "      dtype='object')"
      ]
     },
     "execution_count": 106,
     "metadata": {},
     "output_type": "execute_result"
    }
   ],
   "source": [
    "data.columns"
   ]
  },
  {
   "cell_type": "code",
   "execution_count": 107,
   "id": "25ee097c",
   "metadata": {},
   "outputs": [],
   "source": [
    "# Funcion para segunda completada de precio/m2\n",
    "def price_per_m2_clean_2 (price_aprox_usd, PriceUSD_Clean, surface_covered_in_m2_clean, price_usd_per_m2):\n",
    "    if math.isnan(price_usd_per_m2):  #Si precio/m 2 es nulo ver de calcularlo\n",
    "        #valido si las superficies y el precio estan cargadas, tomo la superficie máxima para calcular el precio\n",
    "        #Si tengo el precio y la superficie via regex calculo el nuevo precio/m2\n",
    "        if not (math.isnan(price_aprox_usd)) and not (math.isnan(surface_covered_in_m2_clean)): \n",
    "            return (price_aprox_usd / surface_covered_in_m2_clean)\n",
    "        elif not (math.isnan(PriceUSD_Clean)) and not (math.isnan(surface_covered_in_m2_clean)):\n",
    "            return (PriceUSD_Clean / surface_covered_in_m2_clean)    \n",
    "    return price_usd_per_m2"
   ]
  },
  {
   "cell_type": "code",
   "execution_count": 108,
   "id": "35fb790f",
   "metadata": {},
   "outputs": [],
   "source": [
    "# Cargar las nuevas columnas a data para correr la segunda pasada de la funcion\n",
    "\n",
    "data['surface_covered_in_m2_clean'] = surface_covered_in_m2_clean_2\n",
    "data['price_usd_per_m2_clean'] = price_usd_per_m2_clean\n",
    "price_usd_per_m2_clean_2 = data.apply(lambda x: price_per_m2_clean_2( x['price_aprox_usd'], x['PriceUSD_Clean'],\n",
    "                                                                     x['surface_covered_in_m2_clean'], x['price_usd_per_m2_clean']), axis = 1)"
   ]
  },
  {
   "cell_type": "code",
   "execution_count": 109,
   "id": "a218b617",
   "metadata": {},
   "outputs": [
    {
     "name": "stdout",
     "output_type": "stream",
     "text": [
      "price_usd_per_m2_clean cargado:  81.59933066519459\n"
     ]
    }
   ],
   "source": [
    "# Ver cuando mejoró con la segunda pasada\n",
    "\n",
    "print('price_usd_per_m2_clean cargado: ', 100 - ((price_usd_per_m2_clean_2.isnull().sum()) / price_usd_per_m2_clean_2.shape[0] * 100))"
   ]
  },
  {
   "cell_type": "code",
   "execution_count": 110,
   "id": "a6f9872e",
   "metadata": {},
   "outputs": [
    {
     "data": {
      "text/plain": [
       "115936"
      ]
     },
     "execution_count": 110,
     "metadata": {},
     "output_type": "execute_result"
    }
   ],
   "source": [
    "price_usd_per_m2_clean_2.shape[0]"
   ]
  },
  {
   "cell_type": "code",
   "execution_count": 111,
   "id": "4a69a9a3",
   "metadata": {},
   "outputs": [
    {
     "data": {
      "text/plain": [
       "21333"
      ]
     },
     "execution_count": 111,
     "metadata": {},
     "output_type": "execute_result"
    }
   ],
   "source": [
    "price_usd_per_m2_clean_2.isnull().sum()"
   ]
  },
  {
   "cell_type": "code",
   "execution_count": 112,
   "id": "55388b85",
   "metadata": {},
   "outputs": [
    {
     "data": {
      "text/plain": [
       "26325     25886.060606\n",
       "74312      1800.000000\n",
       "56615              NaN\n",
       "36676       475.000000\n",
       "5630       2627.450980\n",
       "119413     3333.333333\n",
       "90739              NaN\n",
       "118786     1616.529412\n",
       "60040              NaN\n",
       "45931      2692.307692\n",
       "dtype: float64"
      ]
     },
     "execution_count": 112,
     "metadata": {},
     "output_type": "execute_result"
    }
   ],
   "source": [
    "price_usd_per_m2_clean_2.sample(10)"
   ]
  },
  {
   "cell_type": "code",
   "execution_count": 113,
   "id": "3670d9ed",
   "metadata": {},
   "outputs": [
    {
     "data": {
      "text/plain": [
       "count    9.460300e+04\n",
       "mean     2.885165e+03\n",
       "std      1.845555e+04\n",
       "min      0.000000e+00\n",
       "25%      1.205810e+03\n",
       "50%      1.780000e+03\n",
       "75%      2.460000e+03\n",
       "max      2.600000e+06\n",
       "dtype: float64"
      ]
     },
     "execution_count": 113,
     "metadata": {},
     "output_type": "execute_result"
    }
   ],
   "source": [
    "price_usd_per_m2_clean_2.describe()"
   ]
  },
  {
   "cell_type": "code",
   "execution_count": null,
   "id": "ebad3887",
   "metadata": {},
   "outputs": [],
   "source": []
  },
  {
   "cell_type": "code",
   "execution_count": 114,
   "id": "fe646e66",
   "metadata": {},
   "outputs": [
    {
     "data": {
      "text/plain": [
       "120716                                                                                                                                                                                                                                                                                                                                                                                                                                                                                                                                                                                                                                                                                                                                                                         ambiente amplio divisible con balcon terraza al frente - super luminoso - or. este - apto profesional - placard con puertas espejadas - cocina y bano con ventana - anafe y horno domec - split frio calor - amenities: laundry, terraza con solarium con ducha y parrilla - agua caliente central - excelente ubicacion - subte linea d, a 100 mts. -  - consultenos:  -             \n",
       "73595     te invitamos a conocer:torre damar, ubicado en el corazon de nueva cordoba. caracteristicas destacables:*15 pisos* unidades de uno y dos dormitorios*amplios balcones y terrazas*locales en planta baja especificaciones tecnicas - piso porcelanato - carpinteria de aluminio en grandes ventanales - prevision de instalacion para tv , cable , telefono y aire acondicionado split - ascensores con puertas automaticas y cabina de acero inoxidable - placard corredizo con interiores incluidos - amoblamiento de cocina completo con bajo mesada y alacenas - artefactos cocina y calefon instalados - artefactos de iluminacion instalados - cortinas roller blackout en dormitoriospor busqueda de propiedades apto credito,  por favor, ingrese a nuestra seccion en el siguiente link: https://goo.gl/8ht9ddla informacion detallada es exclusiva de taiana propiedades y es susceptible a modificacion sin previo aviso.  las fotos y graficos son ilustrativos, para obtener mas informacion, fotos y planos, no dude en contactarnos. taiana propiedadesestudio juridico inmobiliario srl san lorenzo 426 1 of atel: +54 351 4600 703/ 4607513\n",
       "89930                                                                                                                                                                                                                                                                                                                                                                                                                                          sergio villella inmobiliaria presenta departamentos en venta, ubicados en el edificio pilar suites sobre calle colon al 1800, esquina pasco.este nuevo emprendimiento esta ubicado en una zona ideal por sus espacios verdes, ya que se encuentra cerca del parque urquiza, de las facultades de la unr y a minutos del microcentro de la ciudad.el edificio cuenta con seis pisos de unidades monoambientes, uno y dos dormitorios. desde el segundo piso hasta el sexto todos son con balcon al frente.financiacion: 30% anticipo y 70% financiado en 24 cuotas ajustadas por indice cacfecha de entrega: diciembre 2017unidad de dos dormitorios. cocina. living-comedor. tres banos. doble balcon . frente- norte.\n",
       "3771                                                                                                                                                                                                                                                                                                                                                                                                                                                                                                                                                                                                                                                                                                                                                                                                                                                                                                                                                                                         sensacional dpto. ubicado en calle echeverria al 200, este inmueble cuenta con 2 habitaciones, living cocina comedor, 1 bano, patio grande propio con asador y cochera.-\n",
       "34673                                                                                                                                                                                                                                                                                                                                                                                                                                                                                                                                                                                                                                                                                                                                                                                                                           contacto: diego fernandez rios - mls id # 420871010-3casa ubicada a pocas cuadras del complejo educativo jose hernandez. 2 habitaciones (proyectado para agregar una tercera). living comedor cocina. bano. parrilla. garage. venta en pozo. financiacion            casa+losperales+enpozo+quincho+asador+josehernandez+financiacion\n",
       "Name: description, dtype: object"
      ]
     },
     "execution_count": 114,
     "metadata": {},
     "output_type": "execute_result"
    }
   ],
   "source": [
    "#mascara para ver los precios/m2 que quedan por calcular\n",
    "mask_price_usd_m2_2 = price_usd_per_m2_clean_2.isnull()\n",
    "data.loc[mask_price_usd_m2_2]['description'].sample(5)"
   ]
  },
  {
   "cell_type": "code",
   "execution_count": null,
   "id": "a683a4fc",
   "metadata": {},
   "outputs": [],
   "source": []
  },
  {
   "cell_type": "code",
   "execution_count": null,
   "id": "26d51cf7",
   "metadata": {},
   "outputs": [],
   "source": []
  },
  {
   "cell_type": "code",
   "execution_count": 115,
   "id": "57d825f4",
   "metadata": {},
   "outputs": [],
   "source": [
    "data['price_usd_per_m2_clean_2'] = (price_usd_per_m2_clean_2)"
   ]
  },
  {
   "cell_type": "code",
   "execution_count": 116,
   "id": "d17b0e6d",
   "metadata": {},
   "outputs": [],
   "source": [
    "description_unidecode_lower = data['description']\n",
    "title_unidecode_lower = data['title']"
   ]
  },
  {
   "cell_type": "code",
   "execution_count": 117,
   "id": "1d802220",
   "metadata": {},
   "outputs": [],
   "source": [
    "#BUSQUEDA DE CANTIDAD DE AMBIENTES"
   ]
  },
  {
   "cell_type": "code",
   "execution_count": 118,
   "id": "9fcf652e",
   "metadata": {},
   "outputs": [
    {
     "data": {
      "text/plain": [
       "0             []\n",
       "1             []\n",
       "2             []\n",
       "3             []\n",
       "4             []\n",
       "           ...  \n",
       "121215        []\n",
       "121216        []\n",
       "121217    [mono]\n",
       "121218        []\n",
       "121219        []\n",
       "Name: description, Length: 115936, dtype: object"
      ]
     },
     "execution_count": 118,
     "metadata": {},
     "output_type": "execute_result"
    }
   ],
   "source": [
    "#busqueda de ambientes por numeros escritos en descripcion\n",
    "pattern_ambientes_escritos = \"(?P<cant_escrito>mono|un|uno|dos|tres|cuatro|cinco|seis|siete|ocho|nueve|diez)\\s*(?:amb)\"\n",
    "regex_ambientes_escritos = re.compile(pattern_ambientes_escritos)\n",
    "resultado_descripcion_escritos = description_unidecode_lower.apply(lambda x: x if x is np.NaN else regex_ambientes_escritos.findall(x))\n",
    "resultado_descripcion_escritos"
   ]
  },
  {
   "cell_type": "code",
   "execution_count": 119,
   "id": "bb1137f4",
   "metadata": {},
   "outputs": [
    {
     "data": {
      "text/plain": [
       "0         NaN\n",
       "1         NaN\n",
       "2         NaN\n",
       "3         NaN\n",
       "4         NaN\n",
       "         ... \n",
       "121215    NaN\n",
       "121216    NaN\n",
       "121217    1.0\n",
       "121218    NaN\n",
       "121219    NaN\n",
       "Name: description, Length: 115936, dtype: float64"
      ]
     },
     "execution_count": 119,
     "metadata": {},
     "output_type": "execute_result"
    }
   ],
   "source": [
    "#pasaje de numeros escritos a no escritos\n",
    "dic_num_escrito = {1:1,2:2,3:3,4:4,5:5,6:6,7:7,9:9,10:10,'mono':1, 'un': 1, 'uno': 1, 'dos': 2, 'tres': 3, 'cuatro': 4, 'cinco': 5, 'seis': 6, 'siete': 7, 'ocho': 8, 'nueve': 9, 'diez': 10}    \n",
    "def convert_numero_escrito(x):\n",
    "    if len(x)>0:\n",
    "        for i in x:\n",
    "            x[x.index(i)] = dic_num_escrito[i]\n",
    "        resultado = max(x) \n",
    "    else:\n",
    "        resultado = np.NaN\n",
    "    return resultado    \n",
    "\n",
    "ambientes_reemplazo_numeros_descripcion = resultado_descripcion_escritos.apply(lambda x: x if x is np.NaN else convert_numero_escrito(x))\n",
    "ambientes_reemplazo_numeros_descripcion"
   ]
  },
  {
   "cell_type": "code",
   "execution_count": 120,
   "id": "96ba9d34",
   "metadata": {},
   "outputs": [
    {
     "data": {
      "text/plain": [
       "0         [2]\n",
       "1          []\n",
       "2         [2]\n",
       "3         [3]\n",
       "4          []\n",
       "         ... \n",
       "121215     []\n",
       "121216     []\n",
       "121217     []\n",
       "121218    [2]\n",
       "121219     []\n",
       "Name: description, Length: 115936, dtype: object"
      ]
     },
     "execution_count": 120,
     "metadata": {},
     "output_type": "execute_result"
    }
   ],
   "source": [
    "#busqueda de ambientes por numeros no escritos en descripcion\n",
    "pattern_ambientes_num = \"(?P<cant_num>\\d+)\\s*(?:amb|monoamb)\"\n",
    "regex_ambientes_num = re.compile(pattern_ambientes_num)\n",
    "resultado_descripcion_num = description_unidecode_lower.apply(lambda x: x if x is np.NaN else regex_ambientes_num.findall(x))\n",
    "resultado_descripcion_num"
   ]
  },
  {
   "cell_type": "code",
   "execution_count": 121,
   "id": "a28068b6",
   "metadata": {},
   "outputs": [
    {
     "data": {
      "text/plain": [
       "0         2.0\n",
       "1         NaN\n",
       "2         2.0\n",
       "3         3.0\n",
       "4         NaN\n",
       "         ... \n",
       "121215    NaN\n",
       "121216    NaN\n",
       "121217    NaN\n",
       "121218    2.0\n",
       "121219    NaN\n",
       "Name: description, Length: 115936, dtype: float64"
      ]
     },
     "execution_count": 121,
     "metadata": {},
     "output_type": "execute_result"
    }
   ],
   "source": [
    "# pasaje a int  \n",
    "def convert_numero_no_escrito(x):\n",
    "    if len(x)>0:\n",
    "        for i in x:\n",
    "            x[x.index(i)] = int(i)\n",
    "        resultado = max(x) \n",
    "    else:\n",
    "        resultado = np.NaN\n",
    "    return resultado    \n",
    "\n",
    "cantidad_ambientes_descripcion_num = resultado_descripcion_num.apply(lambda x: x if x is np.NaN else convert_numero_no_escrito(x))\n",
    "cantidad_ambientes_descripcion_num"
   ]
  },
  {
   "cell_type": "code",
   "execution_count": 122,
   "id": "f1cc7a20",
   "metadata": {},
   "outputs": [
    {
     "data": {
      "text/plain": [
       "50586"
      ]
     },
     "execution_count": 122,
     "metadata": {},
     "output_type": "execute_result"
    }
   ],
   "source": [
    "#Cantidad total de matches\n",
    "ambientes_reemplazo_numeros_descripcion.notnull().sum()+cantidad_ambientes_descripcion_num.notnull().sum()"
   ]
  },
  {
   "cell_type": "code",
   "execution_count": 123,
   "id": "a3f563cd",
   "metadata": {},
   "outputs": [
    {
     "data": {
      "text/plain": [
       "0         []\n",
       "1         []\n",
       "2         []\n",
       "3         []\n",
       "4         []\n",
       "          ..\n",
       "121215    []\n",
       "121216    []\n",
       "121217    []\n",
       "121218    []\n",
       "121219    []\n",
       "Name: title, Length: 115936, dtype: object"
      ]
     },
     "execution_count": 123,
     "metadata": {},
     "output_type": "execute_result"
    }
   ],
   "source": [
    "#busqueda de ambientes por numeros escritos en title\n",
    "pattern_ambientes_escritos = \"(?P<cant>mono|un|uno|dos|tres|cuatro|cinco|seis|siete|ocho|nueve|diez)\\s*(?:amb)\"\n",
    "regex_ambientes_escritos = re.compile(pattern_ambientes_escritos)\n",
    "resultado_title_escritos = title_unidecode_lower.apply(lambda x: x if x is np.NaN else regex_ambientes_escritos.findall(x))\n",
    "#datos_de_ambientes_en_title_escritos = resultado_title_escritos[resultado_title_escritos.notnull()]\n",
    "#cantidad_ambientes_title_escritos\n",
    "resultado_title_escritos"
   ]
  },
  {
   "cell_type": "code",
   "execution_count": 124,
   "id": "4111d309",
   "metadata": {},
   "outputs": [
    {
     "data": {
      "text/plain": [
       "0        NaN\n",
       "1        NaN\n",
       "2        NaN\n",
       "3        NaN\n",
       "4        NaN\n",
       "          ..\n",
       "121215   NaN\n",
       "121216   NaN\n",
       "121217   NaN\n",
       "121218   NaN\n",
       "121219   NaN\n",
       "Name: title, Length: 115936, dtype: float64"
      ]
     },
     "execution_count": 124,
     "metadata": {},
     "output_type": "execute_result"
    }
   ],
   "source": [
    "#pasaje de numeros escritos a no escritos\n",
    "dic_num_escrito = {1:1,2:2,3:3,4:4,5:5,8:8,6:6,7:7,'mono':1, 'un': 1, 'uno': 1, 'dos': 2, 'tres': 3, 'cuatro': 4, 'cinco': 5, 'seis': 6, 'siete': 7, 'ocho': 8, 'nueve': 9, 'diez': 10}    \n",
    "def convert_numero_escrito(x):\n",
    "    if len(x)>0:\n",
    "        for i in x:\n",
    "            x[x.index(i)] = dic_num_escrito[i]\n",
    "        resultado = max(x) \n",
    "    else:\n",
    "        resultado = np.NaN\n",
    "    return resultado    \n",
    "\n",
    "ambientes_reemplazo_numeros_title = resultado_title_escritos.apply(lambda x: x if x is np.NaN else convert_numero_escrito(x))\n",
    "ambientes_reemplazo_numeros_title"
   ]
  },
  {
   "cell_type": "code",
   "execution_count": 125,
   "id": "7192cadc",
   "metadata": {},
   "outputs": [
    {
     "data": {
      "text/plain": [
       "0         [2]\n",
       "1          []\n",
       "2         [2]\n",
       "3         [3]\n",
       "4         [2]\n",
       "         ... \n",
       "121215    [3]\n",
       "121216     []\n",
       "121217     []\n",
       "121218    [2]\n",
       "121219     []\n",
       "Name: title, Length: 115936, dtype: object"
      ]
     },
     "execution_count": 125,
     "metadata": {},
     "output_type": "execute_result"
    }
   ],
   "source": [
    "#busqueda de ambientes por numeros no escritos en title\n",
    "pattern_ambientes_num = \"(?P<cant_num>\\d+)\\s*(?:amb|monoamb)\"\n",
    "regex_ambientes_num = re.compile(pattern_ambientes_num)\n",
    "resultado_title_num = title_unidecode_lower.apply(lambda x: x if x is np.NaN else regex_ambientes_num.findall(x))\n",
    "#datos_de_ambientes_en_descripcion_num = resultado_descripcion_num[resultado_descripcion_num.notnull()]\n",
    "#cantidad_ambientes_descripcion_num\n",
    "resultado_title_num"
   ]
  },
  {
   "cell_type": "code",
   "execution_count": 126,
   "id": "ee844b74",
   "metadata": {},
   "outputs": [
    {
     "data": {
      "text/plain": [
       "0         2.0\n",
       "1         NaN\n",
       "2         2.0\n",
       "3         3.0\n",
       "4         2.0\n",
       "         ... \n",
       "121215    3.0\n",
       "121216    NaN\n",
       "121217    NaN\n",
       "121218    2.0\n",
       "121219    NaN\n",
       "Name: title, Length: 115936, dtype: float64"
      ]
     },
     "execution_count": 126,
     "metadata": {},
     "output_type": "execute_result"
    }
   ],
   "source": [
    "# pasaje a int  \n",
    "def convert_numero_no_escrito(x):\n",
    "    if len(x)>0:\n",
    "        for i in x:\n",
    "            x[x.index(i)] = int(i)\n",
    "        resultado = max(x) \n",
    "    else:\n",
    "        resultado = np.NaN\n",
    "    return resultado    \n",
    "\n",
    "cantidad_ambientes_title_num = resultado_title_num.apply(lambda x: x if x is np.NaN else convert_numero_no_escrito(x))\n",
    "cantidad_ambientes_title_num"
   ]
  },
  {
   "cell_type": "code",
   "execution_count": 127,
   "id": "2628d0b3",
   "metadata": {},
   "outputs": [
    {
     "data": {
      "text/plain": [
       "26856"
      ]
     },
     "execution_count": 127,
     "metadata": {},
     "output_type": "execute_result"
    }
   ],
   "source": [
    "#Cantidad total de matches\n",
    "ambientes_reemplazo_numeros_title.notnull().sum()+cantidad_ambientes_title_num.notnull().sum()"
   ]
  },
  {
   "cell_type": "code",
   "execution_count": 128,
   "id": "b1fece9c",
   "metadata": {},
   "outputs": [],
   "source": [
    "data.loc[:,'amb_clean_descr_escritos'] = ambientes_reemplazo_numeros_descripcion\n",
    "data.loc[:,'amb_clean_descr_no_escritos'] = cantidad_ambientes_descripcion_num\n",
    "data.loc[:,'amb_clean_title_escritos'] = ambientes_reemplazo_numeros_title\n",
    "data.loc[:,'amb_clean_title_no_escritos'] = cantidad_ambientes_title_num"
   ]
  },
  {
   "cell_type": "code",
   "execution_count": 129,
   "id": "3433d8da",
   "metadata": {},
   "outputs": [],
   "source": [
    "def elegir_cant_amb (rooms, escr_descr, no_escr_descr, escr_title, no_escr_title):\n",
    "    if math.isnan(rooms):  \n",
    "        if not (math.isnan(no_escr_title)):\n",
    "            rooms = no_escr_title\n",
    "            return rooms\n",
    "        if not (math.isnan(escr_title)):\n",
    "            rooms = escr_title\n",
    "            return rooms\n",
    "        if not (math.isnan(no_escr_descr)):\n",
    "            rooms = no_escr_descr\n",
    "            return rooms\n",
    "        if not (math.isnan(escr_descr)):\n",
    "            rooms = escr_descr\n",
    "            return rooms\n",
    "    return rooms\n",
    "\n",
    "\n",
    "\n",
    "ambientes_clean = data.apply(lambda x: elegir_cant_amb(x['rooms'], x['amb_clean_descr_escritos'], \n",
    "                                                                 x['amb_clean_descr_no_escritos'], x['amb_clean_title_escritos'], x['amb_clean_title_no_escritos']), axis = 1)"
   ]
  },
  {
   "cell_type": "code",
   "execution_count": 130,
   "id": "21440e41",
   "metadata": {},
   "outputs": [],
   "source": [
    "data.loc[:,'cant_ambientes_clean'] = ambientes_clean"
   ]
  },
  {
   "cell_type": "code",
   "execution_count": 131,
   "id": "5708a5b0",
   "metadata": {},
   "outputs": [
    {
     "data": {
      "text/html": [
       "<div>\n",
       "<style scoped>\n",
       "    .dataframe tbody tr th:only-of-type {\n",
       "        vertical-align: middle;\n",
       "    }\n",
       "\n",
       "    .dataframe tbody tr th {\n",
       "        vertical-align: top;\n",
       "    }\n",
       "\n",
       "    .dataframe thead th {\n",
       "        text-align: right;\n",
       "    }\n",
       "</style>\n",
       "<table border=\"1\" class=\"dataframe\">\n",
       "  <thead>\n",
       "    <tr style=\"text-align: right;\">\n",
       "      <th></th>\n",
       "      <th>operation</th>\n",
       "      <th>property_type</th>\n",
       "      <th>place_name</th>\n",
       "      <th>state_name</th>\n",
       "      <th>lat-lon</th>\n",
       "      <th>lat</th>\n",
       "      <th>lon</th>\n",
       "      <th>price</th>\n",
       "      <th>currency</th>\n",
       "      <th>price_aprox_local_currency</th>\n",
       "      <th>...</th>\n",
       "      <th>title</th>\n",
       "      <th>PriceUSD_Clean</th>\n",
       "      <th>surface_covered_in_m2_clean</th>\n",
       "      <th>price_usd_per_m2_clean</th>\n",
       "      <th>price_usd_per_m2_clean_2</th>\n",
       "      <th>amb_clean_descr_escritos</th>\n",
       "      <th>amb_clean_descr_no_escritos</th>\n",
       "      <th>amb_clean_title_escritos</th>\n",
       "      <th>amb_clean_title_no_escritos</th>\n",
       "      <th>cant_ambientes_clean</th>\n",
       "    </tr>\n",
       "  </thead>\n",
       "  <tbody>\n",
       "    <tr>\n",
       "      <th>0</th>\n",
       "      <td>sell</td>\n",
       "      <td>PH</td>\n",
       "      <td>Mataderos</td>\n",
       "      <td>Capital Federal</td>\n",
       "      <td>-34.6618237,-58.5088387</td>\n",
       "      <td>-34.661824</td>\n",
       "      <td>-58.508839</td>\n",
       "      <td>62000.0</td>\n",
       "      <td>USD</td>\n",
       "      <td>1093959.0</td>\n",
       "      <td>...</td>\n",
       "      <td>2 amb tipo casa sin expensas en pb</td>\n",
       "      <td>62000.0</td>\n",
       "      <td>40.0</td>\n",
       "      <td>1127.272727</td>\n",
       "      <td>1127.272727</td>\n",
       "      <td>NaN</td>\n",
       "      <td>2.0</td>\n",
       "      <td>NaN</td>\n",
       "      <td>2.0</td>\n",
       "      <td>2.0</td>\n",
       "    </tr>\n",
       "    <tr>\n",
       "      <th>1</th>\n",
       "      <td>sell</td>\n",
       "      <td>apartment</td>\n",
       "      <td>La Plata</td>\n",
       "      <td>Bs.As. G.B.A. Zona Sur</td>\n",
       "      <td>-34.9038831,-57.9643295</td>\n",
       "      <td>-34.903883</td>\n",
       "      <td>-57.964330</td>\n",
       "      <td>150000.0</td>\n",
       "      <td>USD</td>\n",
       "      <td>2646675.0</td>\n",
       "      <td>...</td>\n",
       "      <td>venta depto 2 dorm. a estrenar 7 e/ 36 y 37</td>\n",
       "      <td>150000.0</td>\n",
       "      <td>NaN</td>\n",
       "      <td>NaN</td>\n",
       "      <td>NaN</td>\n",
       "      <td>NaN</td>\n",
       "      <td>NaN</td>\n",
       "      <td>NaN</td>\n",
       "      <td>NaN</td>\n",
       "      <td>NaN</td>\n",
       "    </tr>\n",
       "    <tr>\n",
       "      <th>2</th>\n",
       "      <td>sell</td>\n",
       "      <td>apartment</td>\n",
       "      <td>Mataderos</td>\n",
       "      <td>Capital Federal</td>\n",
       "      <td>-34.6522615,-58.5229825</td>\n",
       "      <td>-34.652262</td>\n",
       "      <td>-58.522982</td>\n",
       "      <td>72000.0</td>\n",
       "      <td>USD</td>\n",
       "      <td>1270404.0</td>\n",
       "      <td>...</td>\n",
       "      <td>2 amb 3er piso con ascensor apto credito</td>\n",
       "      <td>72000.0</td>\n",
       "      <td>55.0</td>\n",
       "      <td>1309.090909</td>\n",
       "      <td>1309.090909</td>\n",
       "      <td>NaN</td>\n",
       "      <td>2.0</td>\n",
       "      <td>NaN</td>\n",
       "      <td>2.0</td>\n",
       "      <td>2.0</td>\n",
       "    </tr>\n",
       "    <tr>\n",
       "      <th>3</th>\n",
       "      <td>sell</td>\n",
       "      <td>PH</td>\n",
       "      <td>Liniers</td>\n",
       "      <td>Capital Federal</td>\n",
       "      <td>-34.6477969,-58.5164244</td>\n",
       "      <td>-34.647797</td>\n",
       "      <td>-58.516424</td>\n",
       "      <td>95000.0</td>\n",
       "      <td>USD</td>\n",
       "      <td>1676227.5</td>\n",
       "      <td>...</td>\n",
       "      <td>ph 3 amb. cfte. reciclado</td>\n",
       "      <td>95000.0</td>\n",
       "      <td>NaN</td>\n",
       "      <td>NaN</td>\n",
       "      <td>NaN</td>\n",
       "      <td>NaN</td>\n",
       "      <td>3.0</td>\n",
       "      <td>NaN</td>\n",
       "      <td>3.0</td>\n",
       "      <td>3.0</td>\n",
       "    </tr>\n",
       "    <tr>\n",
       "      <th>4</th>\n",
       "      <td>sell</td>\n",
       "      <td>apartment</td>\n",
       "      <td>Centro</td>\n",
       "      <td>Buenos Aires Costa Atlántica</td>\n",
       "      <td>-38.0026256,-57.5494468</td>\n",
       "      <td>-38.002626</td>\n",
       "      <td>-57.549447</td>\n",
       "      <td>64000.0</td>\n",
       "      <td>USD</td>\n",
       "      <td>1129248.0</td>\n",
       "      <td>...</td>\n",
       "      <td>depto 2 amb al contrafrente zona centro/plaza mitre</td>\n",
       "      <td>64000.0</td>\n",
       "      <td>35.0</td>\n",
       "      <td>1828.571429</td>\n",
       "      <td>1828.571429</td>\n",
       "      <td>NaN</td>\n",
       "      <td>NaN</td>\n",
       "      <td>NaN</td>\n",
       "      <td>2.0</td>\n",
       "      <td>2.0</td>\n",
       "    </tr>\n",
       "  </tbody>\n",
       "</table>\n",
       "<p>5 rows × 28 columns</p>\n",
       "</div>"
      ],
      "text/plain": [
       "  operation property_type place_name                    state_name  \\\n",
       "0      sell            PH  Mataderos               Capital Federal   \n",
       "1      sell     apartment   La Plata        Bs.As. G.B.A. Zona Sur   \n",
       "2      sell     apartment  Mataderos               Capital Federal   \n",
       "3      sell            PH    Liniers               Capital Federal   \n",
       "4      sell     apartment     Centro  Buenos Aires Costa Atlántica   \n",
       "\n",
       "                   lat-lon        lat        lon     price currency  \\\n",
       "0  -34.6618237,-58.5088387 -34.661824 -58.508839   62000.0      USD   \n",
       "1  -34.9038831,-57.9643295 -34.903883 -57.964330  150000.0      USD   \n",
       "2  -34.6522615,-58.5229825 -34.652262 -58.522982   72000.0      USD   \n",
       "3  -34.6477969,-58.5164244 -34.647797 -58.516424   95000.0      USD   \n",
       "4  -38.0026256,-57.5494468 -38.002626 -57.549447   64000.0      USD   \n",
       "\n",
       "   price_aprox_local_currency  ...  \\\n",
       "0                   1093959.0  ...   \n",
       "1                   2646675.0  ...   \n",
       "2                   1270404.0  ...   \n",
       "3                   1676227.5  ...   \n",
       "4                   1129248.0  ...   \n",
       "\n",
       "                                                        title  PriceUSD_Clean  \\\n",
       "0                          2 amb tipo casa sin expensas en pb         62000.0   \n",
       "1  venta depto 2 dorm. a estrenar 7 e/ 36 y 37                       150000.0   \n",
       "2                    2 amb 3er piso con ascensor apto credito         72000.0   \n",
       "3                                ph 3 amb. cfte. reciclado            95000.0   \n",
       "4         depto 2 amb al contrafrente zona centro/plaza mitre         64000.0   \n",
       "\n",
       "   surface_covered_in_m2_clean  price_usd_per_m2_clean  \\\n",
       "0                         40.0             1127.272727   \n",
       "1                          NaN                     NaN   \n",
       "2                         55.0             1309.090909   \n",
       "3                          NaN                     NaN   \n",
       "4                         35.0             1828.571429   \n",
       "\n",
       "   price_usd_per_m2_clean_2  amb_clean_descr_escritos  \\\n",
       "0               1127.272727                       NaN   \n",
       "1                       NaN                       NaN   \n",
       "2               1309.090909                       NaN   \n",
       "3                       NaN                       NaN   \n",
       "4               1828.571429                       NaN   \n",
       "\n",
       "   amb_clean_descr_no_escritos amb_clean_title_escritos  \\\n",
       "0                          2.0                      NaN   \n",
       "1                          NaN                      NaN   \n",
       "2                          2.0                      NaN   \n",
       "3                          3.0                      NaN   \n",
       "4                          NaN                      NaN   \n",
       "\n",
       "  amb_clean_title_no_escritos  cant_ambientes_clean  \n",
       "0                         2.0                   2.0  \n",
       "1                         NaN                   NaN  \n",
       "2                         2.0                   2.0  \n",
       "3                         3.0                   3.0  \n",
       "4                         2.0                   2.0  \n",
       "\n",
       "[5 rows x 28 columns]"
      ]
     },
     "execution_count": 131,
     "metadata": {},
     "output_type": "execute_result"
    }
   ],
   "source": [
    "data.head()"
   ]
  },
  {
   "cell_type": "code",
   "execution_count": 132,
   "id": "9d99ec77",
   "metadata": {},
   "outputs": [
    {
     "data": {
      "text/plain": [
       "0.39742616616064036"
      ]
     },
     "execution_count": 132,
     "metadata": {},
     "output_type": "execute_result"
    }
   ],
   "source": [
    "data['rooms'].notnull().sum()/data.shape[0]"
   ]
  },
  {
   "cell_type": "code",
   "execution_count": 133,
   "id": "3c5443e4",
   "metadata": {},
   "outputs": [
    {
     "data": {
      "text/plain": [
       "0.6313138283190726"
      ]
     },
     "execution_count": 133,
     "metadata": {},
     "output_type": "execute_result"
    }
   ],
   "source": [
    "data['cant_ambientes_clean'].notnull().sum()/data.shape[0]"
   ]
  },
  {
   "cell_type": "code",
   "execution_count": 134,
   "id": "3f5ef745",
   "metadata": {},
   "outputs": [],
   "source": [
    "#Fin de busqueda de cant de ambientes "
   ]
  },
  {
   "cell_type": "code",
   "execution_count": 135,
   "id": "bb32bf65",
   "metadata": {},
   "outputs": [
    {
     "data": {
      "text/plain": [
       "operation                      100.000000\n",
       "property_type                  100.000000\n",
       "place_name                      99.980161\n",
       "state_name                     100.000000\n",
       "rooms                           39.742617\n",
       "description                     99.998275\n",
       "title                          100.000000\n",
       "PriceUSD_Clean                  87.408570\n",
       "surface_covered_in_m2_clean     87.719086\n",
       "price_usd_per_m2_clean_2        81.599331\n",
       "cant_ambientes_clean            63.131383\n",
       "dtype: float64"
      ]
     },
     "execution_count": 135,
     "metadata": {},
     "output_type": "execute_result"
    }
   ],
   "source": [
    "data_clean = data.copy()\n",
    "data_clean = data_clean.drop(columns = ['lat-lon', 'lon', 'lat', 'price', 'price_aprox_local_currency', 'price_per_m2', 'price_aprox_usd',\n",
    "                                        'surface_total_in_m2', 'surface_covered_in_m2', 'expenses', 'currency', 'price_usd_per_m2', \n",
    "                                        'price_usd_per_m2_clean','amb_clean_descr_escritos','amb_clean_descr_no_escritos', 'amb_clean_title_escritos',\n",
    "                                        'amb_clean_title_no_escritos'])\n",
    "(data_clean.notnull().sum()/data_clean.shape[0])*100"
   ]
  },
  {
   "cell_type": "code",
   "execution_count": 136,
   "id": "14afe2eb",
   "metadata": {},
   "outputs": [],
   "source": [
    "data_clean = data_clean.rename(columns = {'PriceUSD_Clean' : 'price_usd_clean', 'surface_covered_in_m2_clean' : 'surface_in_m2_clean',\n",
    "                                         'price_usd_per_m2_clean_2' : 'price_usd_per_m2_clean'})"
   ]
  },
  {
   "cell_type": "code",
   "execution_count": 137,
   "id": "33e2f1b0",
   "metadata": {},
   "outputs": [
    {
     "data": {
      "text/plain": [
       "operation                 100.000000\n",
       "property_type             100.000000\n",
       "place_name                 99.980161\n",
       "state_name                100.000000\n",
       "rooms                      39.742617\n",
       "description                99.998275\n",
       "title                     100.000000\n",
       "price_usd_clean            87.408570\n",
       "surface_in_m2_clean        87.719086\n",
       "price_usd_per_m2_clean     81.599331\n",
       "cant_ambientes_clean       63.131383\n",
       "dtype: float64"
      ]
     },
     "execution_count": 137,
     "metadata": {},
     "output_type": "execute_result"
    }
   ],
   "source": [
    "(data_clean.notnull().sum()/data_clean.shape[0])*100"
   ]
  },
  {
   "cell_type": "code",
   "execution_count": 138,
   "id": "57690f7d",
   "metadata": {},
   "outputs": [
    {
     "data": {
      "text/plain": [
       "(115936, 11)"
      ]
     },
     "execution_count": 138,
     "metadata": {},
     "output_type": "execute_result"
    }
   ],
   "source": [
    "data_clean.shape"
   ]
  },
  {
   "cell_type": "markdown",
   "id": "25c5dc3d",
   "metadata": {},
   "source": [
    "# Limpieza de outliers"
   ]
  },
  {
   "cell_type": "code",
   "execution_count": 139,
   "id": "f5deba6d",
   "metadata": {},
   "outputs": [
    {
     "data": {
      "image/png": "[encoded data removed]",
      "text/plain": [
       "<Figure size 432x288 with 1 Axes>"
      ]
     },
     "metadata": {
      "needs_background": "light"
     },
     "output_type": "display_data"
    }
   ],
   "source": [
    "# Ver primero distribución de valores\n",
    "\n",
    "sns.boxplot(data = data_clean, x = 'property_type', y = 'price_usd_per_m2_clean');"
   ]
  },
  {
   "cell_type": "code",
   "execution_count": 140,
   "id": "0ca6d3b5",
   "metadata": {},
   "outputs": [],
   "source": [
    "# Calcular los cuartiles de cada valor\n",
    "price_per_m2_quantile_ph = data_clean.loc[data_clean['property_type'] == 'PH']['price_usd_per_m2_clean'].quantile([.25, .5, .75])\n",
    "price_per_m2_quantile_apartment = data_clean.loc[data_clean['property_type'] == 'apartment']['price_usd_per_m2_clean'].quantile([.25, .5, .75])\n",
    "price_per_m2_quantile_house = data_clean.loc[data_clean['property_type'] == 'house']['price_usd_per_m2_clean'].quantile([.25, .5, .75])\n",
    "price_per_m2_quantile_store = data_clean.loc[data_clean['property_type'] == 'store']['price_usd_per_m2_clean'].quantile([.25, .5, .75])\n",
    "\n",
    "# Armar los valores máximos para cada propiedad, tomando 1,5 por arriba del IQR\n",
    "price_per_m2_max_ph = 1.5 * (price_per_m2_quantile_ph[.75] - price_per_m2_quantile_ph[.25]) + price_per_m2_quantile_ph[.75]\n",
    "price_per_m2_max_apartment = 1.5 * (price_per_m2_quantile_apartment[.75] - price_per_m2_quantile_apartment[.25]) + price_per_m2_quantile_apartment[.75]\n",
    "price_per_m2_max_house = 1.5 * (price_per_m2_quantile_house[.75] - price_per_m2_quantile_house[.25]) + price_per_m2_quantile_house[.75]\n",
    "price_per_m2_max_store = 1.5 * (price_per_m2_quantile_store[.75] - price_per_m2_quantile_store[.25]) + price_per_m2_quantile_store[.75]\n",
    "\n",
    "# Armar los valores minimos para cada propiedad, tomando 1,5 por abajo del IQR\n",
    "price_per_m2_min_ph = price_per_m2_quantile_ph[.25] - 1.5 * (price_per_m2_quantile_ph[.75] - price_per_m2_quantile_ph[.25])\n",
    "price_per_m2_min_apartment = price_per_m2_quantile_apartment[.25] - 1.5 * (price_per_m2_quantile_apartment[.75] - price_per_m2_quantile_apartment[.25])\n",
    "price_per_m2_min_house = price_per_m2_quantile_house[.25] - 1.5 * (price_per_m2_quantile_house[.75] - price_per_m2_quantile_house[.25])\n",
    "price_per_m2_min_store = price_per_m2_quantile_store[.25] - 1.5 * (price_per_m2_quantile_store[.75] - price_per_m2_quantile_store[.25])\n"
   ]
  },
  {
   "cell_type": "code",
   "execution_count": 141,
   "id": "87eef8c1",
   "metadata": {},
   "outputs": [],
   "source": [
    "#Filtro altos\n",
    "# Armar máscaras por tipo de propiedad\n",
    "mask_price_ph_alto = np.logical_and( (data_clean['price_usd_per_m2_clean'] > price_per_m2_max_ph), data_clean['property_type'] == 'PH' )\n",
    "mask_price_apartment_alto = np.logical_and( (data_clean['price_usd_per_m2_clean'] > price_per_m2_max_apartment), data_clean['property_type'] == 'apartment' )\n",
    "mask_price_house_alto = np.logical_and( (data_clean['price_usd_per_m2_clean'] > price_per_m2_max_house), data_clean['property_type'] == 'house' )\n",
    "mask_price_store_alto = np.logical_and( (data_clean['price_usd_per_m2_clean'] > price_per_m2_max_store), data_clean['property_type'] == 'store' )\n",
    "\n",
    "# Combinar todo en una gran mascara y ver el resultado\n",
    "mask_price_alto1 = np.logical_or(mask_price_ph_alto, mask_price_apartment_alto)\n",
    "mask_price_alto2 = np.logical_or(mask_price_house_alto, mask_price_store_alto)\n",
    "mask_price_alto = np.logical_or(mask_price_alto2, mask_price_alto1)"
   ]
  },
  {
   "cell_type": "code",
   "execution_count": 142,
   "id": "f6a7ebf0",
   "metadata": {},
   "outputs": [
    {
     "name": "stdout",
     "output_type": "stream",
     "text": [
      "Datos filtrados por filtro alto: 5305\n"
     ]
    }
   ],
   "source": [
    "print('Datos filtrados por filtro alto:', data_clean.loc[mask_price_alto].shape[0])"
   ]
  },
  {
   "cell_type": "code",
   "execution_count": 143,
   "id": "e8885153",
   "metadata": {},
   "outputs": [],
   "source": [
    "#Filtro bajos\n",
    "# Armar máscaras por tipo de propiedad\n",
    "mask_price_ph_bajo = np.logical_and( (data_clean['price_usd_per_m2_clean'] < price_per_m2_min_ph), data_clean['property_type'] == 'PH' )\n",
    "mask_price_apartment_bajo = np.logical_and( (data_clean['price_usd_per_m2_clean'] < price_per_m2_min_apartment), data_clean['property_type'] == 'apartment' )\n",
    "mask_price_house_bajo = np.logical_and( (data_clean['price_usd_per_m2_clean'] < price_per_m2_min_house), data_clean['property_type'] == 'house' )\n",
    "mask_price_store_bajo = np.logical_and( (data_clean['price_usd_per_m2_clean'] < price_per_m2_min_store), data_clean['property_type'] == 'store' )\n",
    "\n",
    "# Combinar todo en una gran mascara y ver el resultado\n",
    "mask_price_bajo1 = np.logical_or(mask_price_ph_bajo, mask_price_apartment_bajo)\n",
    "mask_price_bajo2 = np.logical_or(mask_price_house_bajo, mask_price_store_bajo)\n",
    "mask_price_bajo = np.logical_or(mask_price_bajo1, mask_price_bajo2)"
   ]
  },
  {
   "cell_type": "code",
   "execution_count": 144,
   "id": "d961d182",
   "metadata": {},
   "outputs": [
    {
     "name": "stdout",
     "output_type": "stream",
     "text": [
      "Datos filtrados por filtro bajo: 60\n"
     ]
    }
   ],
   "source": [
    "print('Datos filtrados por filtro bajo:', data_clean.loc[mask_price_bajo].shape[0])"
   ]
  },
  {
   "cell_type": "code",
   "execution_count": 145,
   "id": "11a56cd2",
   "metadata": {},
   "outputs": [
    {
     "data": {
      "text/plain": [
       "(110571, 11)"
      ]
     },
     "execution_count": 145,
     "metadata": {},
     "output_type": "execute_result"
    }
   ],
   "source": [
    "# Filtro para quedarse solo con los indices de las filas verdaderas\n",
    "filtro_precio_alto = mask_price_alto.drop(mask_price_alto.loc[mask_price_alto == False].index, inplace = False)\n",
    "data_clean = data_clean.drop(index = filtro_precio_alto.index)\n",
    "\n",
    "filtro_precio_bajo = mask_price_bajo.drop(mask_price_alto.loc[mask_price_bajo == False].index, inplace = False)\n",
    "data_clean = data_clean.drop(index = filtro_precio_bajo.index)\n",
    "\n",
    "data_clean.shape"
   ]
  },
  {
   "cell_type": "code",
   "execution_count": 146,
   "id": "66b1d178",
   "metadata": {},
   "outputs": [
    {
     "data": {
      "text/plain": [
       "operation                 100.000000\n",
       "property_type             100.000000\n",
       "place_name                 99.975515\n",
       "state_name                100.000000\n",
       "rooms                      40.644311\n",
       "description                99.998834\n",
       "title                     100.000000\n",
       "price_usd_clean           100.000000\n",
       "surface_in_m2_clean       100.000000\n",
       "price_usd_per_m2_clean    100.000000\n",
       "cant_ambientes_clean       65.955040\n",
       "dtype: float64"
      ]
     },
     "execution_count": 146,
     "metadata": {},
     "output_type": "execute_result"
    }
   ],
   "source": [
    "#Tirar los registros que no se pudieron completar ni con precio ni con superficie\n",
    "#Armar un df auxiliar para hacer la copia y la pisada\n",
    "data_clean_2 = data_clean.copy()\n",
    "data_clean_2 = data_clean_2.loc[data_clean['surface_in_m2_clean'].notnull() & data_clean_2['price_usd_per_m2_clean'].notnull()]\n",
    "data_clean = data_clean_2.copy()\n",
    "data_clean.notnull().mean()*100"
   ]
  },
  {
   "cell_type": "code",
   "execution_count": 147,
   "id": "b1020bac",
   "metadata": {},
   "outputs": [
    {
     "data": {
      "text/plain": [
       "(85766, 11)"
      ]
     },
     "execution_count": 147,
     "metadata": {},
     "output_type": "execute_result"
    }
   ],
   "source": [
    "data_clean.shape"
   ]
  },
  {
   "cell_type": "code",
   "execution_count": 148,
   "id": "e9df3e4f",
   "metadata": {},
   "outputs": [],
   "source": [
    "# Armar nuevo indice\n",
    "nuevo_indice = range(0, data_clean.shape[0])\n",
    "data_clean.index = nuevo_indice"
   ]
  },
  {
   "cell_type": "code",
   "execution_count": 149,
   "id": "9d172a8d",
   "metadata": {},
   "outputs": [
    {
     "data": {
      "image/png": "[encoded data removed]",
      "text/plain": [
       "<Figure size 432x288 with 1 Axes>"
      ]
     },
     "metadata": {
      "needs_background": "light"
     },
     "output_type": "display_data"
    }
   ],
   "source": [
    "sns.boxplot(data = data_clean, x = 'property_type', y = 'price_usd_per_m2_clean');"
   ]
  },
  {
   "cell_type": "markdown",
   "id": "31367f72",
   "metadata": {},
   "source": [
    "# Conclusion de limpieza"
   ]
  },
  {
   "cell_type": "code",
   "execution_count": 150,
   "id": "904b22e7",
   "metadata": {},
   "outputs": [
    {
     "data": {
      "text/plain": [
       "operation                 100.000000\n",
       "property_type             100.000000\n",
       "place_name                 99.975515\n",
       "state_name                100.000000\n",
       "rooms                      40.644311\n",
       "description                99.998834\n",
       "title                     100.000000\n",
       "price_usd_clean           100.000000\n",
       "surface_in_m2_clean       100.000000\n",
       "price_usd_per_m2_clean    100.000000\n",
       "cant_ambientes_clean       65.955040\n",
       "dtype: float64"
      ]
     },
     "execution_count": 150,
     "metadata": {},
     "output_type": "execute_result"
    }
   ],
   "source": [
    "# Estado final, datos completos por campo\n",
    "(data_clean.notnull().mean())*100"
   ]
  },
  {
   "cell_type": "code",
   "execution_count": 151,
   "id": "0aeb3561",
   "metadata": {},
   "outputs": [
    {
     "data": {
      "text/plain": [
       "(85766, 11)"
      ]
     },
     "execution_count": 151,
     "metadata": {},
     "output_type": "execute_result"
    }
   ],
   "source": [
    "# Numero de datos\n",
    "data_clean.shape"
   ]
  },
  {
   "cell_type": "code",
   "execution_count": 152,
   "id": "071dda19",
   "metadata": {},
   "outputs": [
    {
     "name": "stdout",
     "output_type": "stream",
     "text": [
      "Datos iniciales: 121220\n",
      "Datos finales: 85766\n",
      "Datos depurados: 70.75 %\n"
     ]
    }
   ],
   "source": [
    "print('Datos iniciales:', df_raw.shape[0])\n",
    "print('Datos finales:', data_clean.shape[0])\n",
    "print('Datos depurados:', round(data_clean.shape[0] / df_raw.shape[0], 4)*100, '%')"
   ]
  },
  {
   "cell_type": "code",
   "execution_count": 153,
   "id": "d5b18486",
   "metadata": {},
   "outputs": [
    {
     "data": {
      "text/plain": [
       "operation                  object\n",
       "property_type              object\n",
       "place_name                 object\n",
       "state_name                 object\n",
       "rooms                     float64\n",
       "description                object\n",
       "title                      object\n",
       "price_usd_clean           float64\n",
       "surface_in_m2_clean       float64\n",
       "price_usd_per_m2_clean    float64\n",
       "cant_ambientes_clean      float64\n",
       "dtype: object"
      ]
     },
     "execution_count": 153,
     "metadata": {},
     "output_type": "execute_result"
    }
   ],
   "source": [
    "data_clean.dtypes"
   ]
  },
  {
   "cell_type": "code",
   "execution_count": null,
   "id": "124be3b7",
   "metadata": {},
   "outputs": [],
   "source": []
  },
  {
   "cell_type": "code",
   "execution_count": null,
   "id": "a586c98f",
   "metadata": {},
   "outputs": [],
   "source": []
  },
  {
   "cell_type": "code",
   "execution_count": null,
   "id": "4fc07276",
   "metadata": {},
   "outputs": [],
   "source": []
  },
  {
   "cell_type": "markdown",
   "id": "fccd0405",
   "metadata": {},
   "source": [
    "# Nuevas variables predictivas"
   ]
  },
  {
   "cell_type": "code",
   "execution_count": 154,
   "id": "742ecf04",
   "metadata": {},
   "outputs": [],
   "source": [
    "# Mascaras de regex"
   ]
  },
  {
   "cell_type": "code",
   "execution_count": 155,
   "id": "a3aa11e9",
   "metadata": {},
   "outputs": [],
   "source": [
    "# Buscar todas las menciones de pileta\n",
    "patron1 = 'pileta|piscina|pisina|picina'\n",
    "regex1 = re.compile(patron1, flags = re.IGNORECASE )\n",
    "\n",
    "amenities1 = data_clean['description'].apply(lambda x: x if x is np.NaN else regex1.search(x))\n",
    "# Mascara para tener los registros que saco regex\n",
    "mask_pileta = amenities1.notnull()\n",
    "\n",
    "# Sacar los store con pileta, solo considerar casas\n",
    "mask_not_store = data_clean['property_type'] != 'store'\n",
    "mask_amenities1 = np.logical_and(mask_pileta, mask_not_store)\n"
   ]
  },
  {
   "cell_type": "code",
   "execution_count": 156,
   "id": "c7d25beb",
   "metadata": {},
   "outputs": [
    {
     "data": {
      "text/plain": [
       "house        12102\n",
       "apartment    11537\n",
       "PH             210\n",
       "Name: property_type, dtype: int64"
      ]
     },
     "execution_count": 156,
     "metadata": {},
     "output_type": "execute_result"
    }
   ],
   "source": [
    "# para verificar que no hay negocios con pileta\n",
    "data_clean.loc[mask_amenities1]['property_type'].value_counts()"
   ]
  },
  {
   "cell_type": "code",
   "execution_count": 157,
   "id": "87e67fab",
   "metadata": {},
   "outputs": [
    {
     "data": {
      "text/plain": [
       "house        12102\n",
       "apartment    11537\n",
       "PH             210\n",
       "store           73\n",
       "Name: property_type, dtype: int64"
      ]
     },
     "execution_count": 157,
     "metadata": {},
     "output_type": "execute_result"
    }
   ],
   "source": [
    "# versus lo que saco la regex\n",
    "data_clean.loc[mask_pileta]['property_type'].value_counts()"
   ]
  },
  {
   "cell_type": "code",
   "execution_count": 158,
   "id": "c33dbe0f",
   "metadata": {},
   "outputs": [],
   "source": [
    "# Cargar la nueva columna al dataset\n",
    "data_clean['amenities_pileta'] = mask_amenities1"
   ]
  },
  {
   "cell_type": "code",
   "execution_count": 159,
   "id": "00835604",
   "metadata": {},
   "outputs": [
    {
     "data": {
      "text/plain": [
       "(3285, 12)"
      ]
     },
     "execution_count": 159,
     "metadata": {},
     "output_type": "execute_result"
    }
   ],
   "source": [
    "# Buscar todas las menciones de SUM\n",
    "patron2= '\\sSUM\\s'\n",
    "regex2 = re.compile(patron2, flags = re.IGNORECASE )\n",
    "\n",
    "amenities2 = data_clean['description'].apply(lambda x: x if x is np.NaN else regex2.search(x))\n",
    "\n",
    "mask_amenities2 = amenities2.notnull()\n",
    "data_clean.loc[mask_amenities2].shape"
   ]
  },
  {
   "cell_type": "code",
   "execution_count": 160,
   "id": "f6d017f1",
   "metadata": {},
   "outputs": [],
   "source": [
    "# Cargar la nueva columna al dataset\n",
    "data_clean['amenities_SUM'] = mask_amenities2"
   ]
  },
  {
   "cell_type": "code",
   "execution_count": 161,
   "id": "ad5a9600",
   "metadata": {},
   "outputs": [
    {
     "data": {
      "text/plain": [
       "(27948, 13)"
      ]
     },
     "execution_count": 161,
     "metadata": {},
     "output_type": "execute_result"
    }
   ],
   "source": [
    "# Buscar todas las menciones de parrilla\n",
    "patron3 = 'parrill'\n",
    "regex3 = re.compile(patron3, flags = re.IGNORECASE )\n",
    "\n",
    "amenities3 = data_clean['description'].apply(lambda x: x if x is np.NaN else regex3.search(x))\n",
    "\n",
    "mask_amenities3 = amenities3.notnull()\n",
    "data_clean.loc[mask_amenities3].shape\n"
   ]
  },
  {
   "cell_type": "code",
   "execution_count": 162,
   "id": "8e2130ac",
   "metadata": {},
   "outputs": [],
   "source": [
    "# Cargar la nueva columna al dataset\n",
    "data_clean['amenities_parrilla'] = mask_amenities3"
   ]
  },
  {
   "cell_type": "code",
   "execution_count": null,
   "id": "a9711371",
   "metadata": {},
   "outputs": [],
   "source": []
  },
  {
   "cell_type": "code",
   "execution_count": 163,
   "id": "e9dc9295",
   "metadata": {},
   "outputs": [
    {
     "data": {
      "text/plain": [
       "(37237, 14)"
      ]
     },
     "execution_count": 163,
     "metadata": {},
     "output_type": "execute_result"
    }
   ],
   "source": [
    "# Buscar todas las menciones de garage/estacionamiento\n",
    "patron4 = 'garage|estacionamiento|cochera'\n",
    "regex4 = re.compile(patron4, flags = re.IGNORECASE )\n",
    "\n",
    "amenities4 = data_clean['description'].apply(lambda x: x if x is np.NaN else regex4.search(x))\n",
    "\n",
    "mask_amenities4 = amenities4.notnull()\n",
    "data_clean.loc[mask_amenities4].shape"
   ]
  },
  {
   "cell_type": "code",
   "execution_count": 164,
   "id": "bc378051",
   "metadata": {},
   "outputs": [],
   "source": [
    "# Cargar la nueva columna al dataset\n",
    "data_clean['amenities_garage'] = mask_amenities4"
   ]
  },
  {
   "cell_type": "markdown",
   "id": "fa53c95a",
   "metadata": {},
   "source": [
    "# Cierre"
   ]
  },
  {
   "cell_type": "code",
   "execution_count": 165,
   "id": "caddabb3",
   "metadata": {},
   "outputs": [],
   "source": [
    "# Data set inicial"
   ]
  },
  {
   "cell_type": "code",
   "execution_count": 166,
   "id": "16739e0e",
   "metadata": {},
   "outputs": [
    {
     "data": {
      "text/plain": [
       "(121220, 26)"
      ]
     },
     "execution_count": 166,
     "metadata": {},
     "output_type": "execute_result"
    }
   ],
   "source": [
    "df_raw.shape"
   ]
  },
  {
   "cell_type": "code",
   "execution_count": 167,
   "id": "05feb3ac",
   "metadata": {},
   "outputs": [
    {
     "data": {
      "text/plain": [
       "Unnamed: 0                    100.000000\n",
       "operation                     100.000000\n",
       "property_type                 100.000000\n",
       "place_name                     99.981026\n",
       "place_with_parent_names       100.000000\n",
       "country_name                  100.000000\n",
       "state_name                    100.000000\n",
       "geonames_id                    84.559479\n",
       "lat-lon                        57.474014\n",
       "lat                            57.474014\n",
       "lon                            57.474014\n",
       "price                          83.162844\n",
       "currency                       83.162019\n",
       "price_aprox_local_currency     83.162844\n",
       "price_aprox_usd                83.162844\n",
       "surface_total_in_m2            67.556509\n",
       "surface_covered_in_m2          83.577792\n",
       "price_usd_per_m2               56.605346\n",
       "price_per_m2                   72.313150\n",
       "floor                           6.516251\n",
       "rooms                          39.094209\n",
       "expenses                       11.765385\n",
       "properati_url                 100.000000\n",
       "description                    99.998350\n",
       "title                         100.000000\n",
       "image_thumbnail                97.432767\n",
       "dtype: float64"
      ]
     },
     "execution_count": 167,
     "metadata": {},
     "output_type": "execute_result"
    }
   ],
   "source": [
    "# Datos completos\n",
    "(df_raw.notnull().mean())*100"
   ]
  },
  {
   "cell_type": "code",
   "execution_count": 168,
   "id": "3c3568a6",
   "metadata": {},
   "outputs": [],
   "source": [
    "# Data set final"
   ]
  },
  {
   "cell_type": "code",
   "execution_count": 169,
   "id": "0246fc9d",
   "metadata": {},
   "outputs": [
    {
     "data": {
      "text/plain": [
       "(85766, 15)"
      ]
     },
     "execution_count": 169,
     "metadata": {},
     "output_type": "execute_result"
    }
   ],
   "source": [
    "data_clean.shape"
   ]
  },
  {
   "cell_type": "code",
   "execution_count": 170,
   "id": "bcdf2b64",
   "metadata": {},
   "outputs": [
    {
     "data": {
      "text/plain": [
       "operation                 100.000000\n",
       "property_type             100.000000\n",
       "place_name                 99.975515\n",
       "state_name                100.000000\n",
       "rooms                      40.644311\n",
       "description                99.998834\n",
       "title                     100.000000\n",
       "price_usd_clean           100.000000\n",
       "surface_in_m2_clean       100.000000\n",
       "price_usd_per_m2_clean    100.000000\n",
       "cant_ambientes_clean       65.955040\n",
       "amenities_pileta          100.000000\n",
       "amenities_SUM             100.000000\n",
       "amenities_parrilla        100.000000\n",
       "amenities_garage          100.000000\n",
       "dtype: float64"
      ]
     },
     "execution_count": 170,
     "metadata": {},
     "output_type": "execute_result"
    }
   ],
   "source": [
    "# Datos completos\n",
    "(data_clean.notnull().mean())*100"
   ]
  },
  {
   "cell_type": "code",
   "execution_count": null,
   "id": "544e0ae3",
   "metadata": {},
   "outputs": [],
   "source": []
  },
  {
   "cell_type": "code",
   "execution_count": 171,
   "id": "1f87f812",
   "metadata": {},
   "outputs": [
    {
     "data": {
      "text/plain": [
       "apartment    49502\n",
       "house        29335\n",
       "PH            4329\n",
       "store         2600\n",
       "Name: property_type, dtype: int64"
      ]
     },
     "execution_count": 171,
     "metadata": {},
     "output_type": "execute_result"
    }
   ],
   "source": [
    "data_clean['property_type'].value_counts()"
   ]
  },
  {
   "cell_type": "code",
   "execution_count": 172,
   "id": "3854a2c2",
   "metadata": {},
   "outputs": [],
   "source": [
    "mask_house = data_clean['property_type'] == 'house'\n",
    "mask_apartment = data_clean['property_type'] == 'apartment'\n",
    "mask_ph = data_clean['property_type'] == 'PH'\n",
    "mask_store = data_clean['property_type'] == 'store'\n"
   ]
  },
  {
   "cell_type": "code",
   "execution_count": 173,
   "id": "7ebc58ac",
   "metadata": {},
   "outputs": [],
   "source": [
    "surface_house = data_clean.loc[mask_house, ['surface_in_m2_clean']]\n",
    "price_house = data_clean.loc[mask_house, ['price_usd_clean']]\n",
    "surface_apartment = data_clean.loc[mask_apartment, ['surface_in_m2_clean']]\n",
    "price_apartment = data_clean.loc[mask_apartment, ['price_usd_clean']]\n",
    "surface_ph = data_clean.loc[mask_ph, ['surface_in_m2_clean']]\n",
    "price_ph = data_clean.loc[mask_ph, ['price_usd_clean']]\n",
    "surface_store = data_clean.loc[mask_store, ['surface_in_m2_clean']]\n",
    "price_store = data_clean.loc[mask_store, ['price_usd_clean']]"
   ]
  },
  {
   "cell_type": "code",
   "execution_count": 174,
   "id": "72b2ec91",
   "metadata": {},
   "outputs": [
    {
     "data": {
      "image/png": "[encoded data removed]",
      "text/plain": [
       "<Figure size 1152x432 with 4 Axes>"
      ]
     },
     "metadata": {
      "needs_background": "light"
     },
     "output_type": "display_data"
    }
   ],
   "source": [
    "fig, ax = plt.subplots(2,2)\n",
    "fig.set_size_inches(16,6)\n",
    "\n",
    "ax[0, 0].scatter(surface_house, price_house, marker = 'o', color = \"green\", label='House', alpha = 0.4)\n",
    "ax[0, 0].set_xlim(0, 2000)\n",
    "ax[0, 0].set_ylim(0, 1800000)\n",
    "\n",
    "ax[0, 1].scatter(surface_apartment, price_apartment, label='Apartment', alpha = 0.7);\n",
    "ax[0, 1].set_xlim(0, 2000)\n",
    "ax[0, 1].set_ylim(0, 1800000)\n",
    "\n",
    "ax[1, 0].scatter(surface_ph, price_ph, label='PH', alpha = 1, color = \"yellow\")\n",
    "ax[1, 0].set_xlim(0, 2000)\n",
    "\n",
    "ax[1, 1].scatter(surface_store, price_store, marker = '+', color = (1.0, 0.2, 0.3), label='Store', alpha = 0.7)\n",
    "ax[1, 1].set_xlim(0, 3000)\n",
    "ax[1, 1].set_ylim(0, 750000)\n",
    "\n",
    "ax[0,0].legend();\n",
    "ax[0,1].legend();\n",
    "ax[1,0].legend();\n",
    "ax[1,1].legend();"
   ]
  },
  {
   "cell_type": "code",
   "execution_count": 175,
   "id": "4f40befb",
   "metadata": {},
   "outputs": [
    {
     "data": {
      "text/plain": [
       "place_name     \n",
       "Belgrano           2201\n",
       "Palermo            2031\n",
       "Caballito          1956\n",
       "Villa Urquiza      1312\n",
       "Recoleta           1226\n",
       "                   ... \n",
       "Agronomía            36\n",
       "Velez Sarsfield      35\n",
       "Villa Soldati        14\n",
       "Villa Riachuelo       4\n",
       "Catalinas             3\n",
       "Length: 62, dtype: int64"
      ]
     },
     "execution_count": 175,
     "metadata": {},
     "output_type": "execute_result"
    }
   ],
   "source": [
    "mask_CABA = data_clean['state_name'] == \"Capital Federal\"\n",
    "data_clean.loc[mask_CABA, ['place_name']].value_counts()"
   ]
  },
  {
   "cell_type": "code",
   "execution_count": 176,
   "id": "d2cfe0b4",
   "metadata": {},
   "outputs": [],
   "source": [
    "mask_belgrano = data_clean['place_name'] == 'Belgrano'\n",
    "mask_palermo = data_clean['place_name'] == 'Palermo'\n",
    "mask_caballito = data_clean['place_name'] == 'Caballito'\n",
    "mask_villa_urquiza = data_clean['place_name'] == 'Villa Urquiza'"
   ]
  },
  {
   "cell_type": "code",
   "execution_count": 177,
   "id": "8782d3df",
   "metadata": {},
   "outputs": [],
   "source": [
    "surface_belgrano = data_clean.loc[mask_belgrano, ['surface_in_m2_clean']]\n",
    "price_belgrano = data_clean.loc[mask_belgrano, ['price_usd_clean']]\n",
    "surface_palermo = data_clean.loc[mask_palermo, ['surface_in_m2_clean']]\n",
    "price_palermo = data_clean.loc[mask_palermo, ['price_usd_clean']]\n",
    "surface_caballito = data_clean.loc[mask_caballito, ['surface_in_m2_clean']]\n",
    "price_caballito = data_clean.loc[mask_caballito, ['price_usd_clean']]\n",
    "surface_villa_urquiza = data_clean.loc[mask_villa_urquiza, ['surface_in_m2_clean']]\n",
    "price_villa_urquiza = data_clean.loc[mask_villa_urquiza, ['price_usd_clean']]"
   ]
  },
  {
   "cell_type": "code",
   "execution_count": 178,
   "id": "812f2551",
   "metadata": {},
   "outputs": [
    {
     "data": {
      "image/png": "[encoded data removed]",
      "text/plain": [
       "<Figure size 1152x432 with 4 Axes>"
      ]
     },
     "metadata": {
      "needs_background": "light"
     },
     "output_type": "display_data"
    }
   ],
   "source": [
    "fig, ax = plt.subplots(2,2)\n",
    "fig.set_size_inches(16,6)\n",
    "\n",
    "ax[0, 0].scatter(surface_belgrano, price_belgrano, marker = 'o', color = \"green\", label='Belgrano', alpha = 0.4)\n",
    "ax[0, 0].set_xlim(0, 1000)\n",
    "ax[0, 0].set_ylim(0, 1800000)\n",
    "\n",
    "ax[0, 1].scatter(surface_palermo, price_palermo, label='Palermo', alpha = 0.7);\n",
    "ax[0, 1].set_xlim(0, 1000)\n",
    "ax[0, 1].set_ylim(0, 1800000)\n",
    "\n",
    "ax[1, 0].scatter(surface_caballito, price_caballito, label='Caballito', alpha = 1, color = \"yellow\")\n",
    "ax[1, 0].set_xlim(0, 1000)\n",
    "ax[1, 1].set_ylim(0, 1800000)\n",
    "\n",
    "ax[1, 1].scatter(surface_villa_urquiza, price_villa_urquiza, marker = '+', color = (1.0, 0.2, 0.3), label='Villa Urquiza', alpha = 0.7)\n",
    "ax[1, 1].set_xlim(0, 1000)\n",
    "ax[1, 1].set_ylim(0, 1800000)\n",
    "\n",
    "ax[0,0].legend();\n",
    "ax[0,1].legend();\n",
    "ax[1,0].legend();\n",
    "ax[1,1].legend();"
   ]
  },
  {
   "cell_type": "code",
   "execution_count": null,
   "id": "f7b2b294",
   "metadata": {},
   "outputs": [],
   "source": []
  },
  {
   "cell_type": "code",
   "execution_count": null,
   "id": "076a1c59",
   "metadata": {},
   "outputs": [],
   "source": []
  },
  {
   "cell_type": "code",
   "execution_count": null,
   "id": "d33999b8",
   "metadata": {},
   "outputs": [],
   "source": []
  },
  {
   "cell_type": "code",
   "execution_count": null,
   "id": "234b69d9",
   "metadata": {},
   "outputs": [],
   "source": []
  }
 ],
 "metadata": {
  "kernelspec": {
   "display_name": "Python 3",
   "language": "python",
   "name": "python3"
  },
  "language_info": {
   "codemirror_mode": {
    "name": "ipython",
    "version": 3
   },
   "file_extension": ".py",
   "mimetype": "text/x-python",
   "name": "python",
   "nbconvert_exporter": "python",
   "pygments_lexer": "ipython3",
   "version": "3.8.8"
  }
 },
 "nbformat": 4,
 "nbformat_minor": 5
}
